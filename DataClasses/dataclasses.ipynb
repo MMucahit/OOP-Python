{
 "cells": [
  {
   "attachments": {},
   "cell_type": "markdown",
   "metadata": {},
   "source": [
    "## Data Class"
   ]
  },
  {
   "cell_type": "code",
   "execution_count": 1,
   "metadata": {},
   "outputs": [],
   "source": [
    "from dataclasses import dataclass\n",
    "\n",
    "## We don't need define __init__, __repr__ and __eq__, dataclass provides us\n",
    "## If we want to define attribute with default value, \n",
    "    ## we have to define attributes which has default value lastly\n",
    "@dataclass()\n",
    "class Vechicle():\n",
    "    price: int\n",
    "    _range: int\n",
    "    manufacturer: str = 'tesla'"
   ]
  },
  {
   "cell_type": "code",
   "execution_count": 2,
   "metadata": {},
   "outputs": [
    {
     "data": {
      "text/plain": [
       "(Vechicle(price=10000000, _range=1000, manufacturer='mustang'),\n",
       " Vechicle(price=5000000, _range=500, manufacturer='ford'))"
      ]
     },
     "execution_count": 2,
     "metadata": {},
     "output_type": "execute_result"
    }
   ],
   "source": [
    "v1 = Vechicle(10_000_000, 1000, 'mustang')\n",
    "v2 = Vechicle(5_000_000, 500, 'ford')\n",
    "    \n",
    "v1, v2,"
   ]
  },
  {
   "cell_type": "code",
   "execution_count": 3,
   "metadata": {},
   "outputs": [
    {
     "data": {
      "text/plain": [
       "False"
      ]
     },
     "execution_count": 3,
     "metadata": {},
     "output_type": "execute_result"
    }
   ],
   "source": [
    "v1 == v2"
   ]
  },
  {
   "attachments": {},
   "cell_type": "markdown",
   "metadata": {},
   "source": [
    "## Field"
   ]
  },
  {
   "cell_type": "code",
   "execution_count": 40,
   "metadata": {},
   "outputs": [],
   "source": [
    "from dataclasses import field, dataclass\n",
    "\n",
    "## We can adjust attributes which were displayed in __repr__,\n",
    "    ## We can adjust comparison\n",
    "\n",
    "@dataclass(order=True)\n",
    "class Vechicle():\n",
    "    LUXURY_BRANDS = ['BMW', 'Mercedes', 'Tesla']\n",
    "\n",
    "    price: int = field(compare=True)\n",
    "    _range: int = field(compare=False, repr=False)\n",
    "    manufacturer: str = field(default='Tesla', compare=False)\n",
    "    luxury: bool = field(default=None)\n",
    "\n",
    "    ## We can set luxury attribute with property\n",
    "    # @property\n",
    "    # def luxury(self):\n",
    "    #     return self._luxury\n",
    "\n",
    "    # @luxury.setter\n",
    "    # def luxury(self, _value):\n",
    "    #     self._luxury = self.manufacturer in self.LUXURY_BRANDS and self.price > 80_000\n",
    "\n",
    "## The __post_init__ method is called just after initialization.\n",
    "    def __post_init__(self):\n",
    "\n",
    "        if self.luxury is None:\n",
    "            self.luxury = self.manufacturer in self.LUXURY_BRANDS and self.price > 80_000"
   ]
  },
  {
   "cell_type": "code",
   "execution_count": 41,
   "metadata": {},
   "outputs": [
    {
     "data": {
      "text/plain": [
       "(Vechicle(price=10000000, manufacturer='mustang', luxury=False),\n",
       " Vechicle(price=15000000, manufacturer='Tesla', luxury=True),\n",
       " Vechicle(price=12000000, manufacturer='Tesla', luxury=False))"
      ]
     },
     "execution_count": 41,
     "metadata": {},
     "output_type": "execute_result"
    }
   ],
   "source": [
    "v1 = Vechicle(10_000_000, 1000, 'mustang')\n",
    "v2 = Vechicle(15_000_000, 5000)\n",
    "## If we can set luxury, __post_init__ can't set luxury attr\n",
    "v3 = Vechicle(12_000_000, 2000, luxury=False)\n",
    "\n",
    "v1, v2, v3"
   ]
  },
  {
   "cell_type": "code",
   "execution_count": 44,
   "metadata": {},
   "outputs": [
    {
     "data": {
      "text/plain": [
       "({'price': 10000000,\n",
       "  '_range': 1000,\n",
       "  'manufacturer': 'mustang',\n",
       "  'luxury': False},\n",
       " {'price': 15000000, '_range': 5000, 'manufacturer': 'Tesla', 'luxury': True},\n",
       " {'price': 12000000, '_range': 2000, 'manufacturer': 'Tesla', 'luxury': False})"
      ]
     },
     "execution_count": 44,
     "metadata": {},
     "output_type": "execute_result"
    }
   ],
   "source": [
    "v1.__dict__, v2.__dict__, v3.__dict__"
   ]
  },
  {
   "attachments": {},
   "cell_type": "markdown",
   "metadata": {},
   "source": [
    "## Immutability"
   ]
  },
  {
   "cell_type": "code",
   "execution_count": 50,
   "metadata": {},
   "outputs": [],
   "source": [
    "from dataclasses import dataclass\n",
    "\n",
    "## frozen=True ==> read-only property\n",
    "## frozen=True ==> immutable and hashable\n",
    "@dataclass(frozen=True)\n",
    "class Vechicle():\n",
    "    price: int\n",
    "    _range: int \n",
    "    manufacturer: str = 'Tesla'"
   ]
  },
  {
   "cell_type": "code",
   "execution_count": 51,
   "metadata": {},
   "outputs": [],
   "source": [
    "v1 = Vechicle(15_000_000, 1000)"
   ]
  },
  {
   "cell_type": "code",
   "execution_count": 52,
   "metadata": {},
   "outputs": [
    {
     "ename": "FrozenInstanceError",
     "evalue": "cannot assign to field 'manufacturer'",
     "output_type": "error",
     "traceback": [
      "\u001b[1;31m---------------------------------------------------------------------------\u001b[0m",
      "\u001b[1;31mFrozenInstanceError\u001b[0m                       Traceback (most recent call last)",
      "\u001b[1;32m<ipython-input-52-b31aac173ada>\u001b[0m in \u001b[0;36m<module>\u001b[1;34m\u001b[0m\n\u001b[0;32m      1\u001b[0m \u001b[1;31m## We can't set attributes due to frozen = True\u001b[0m\u001b[1;33m\u001b[0m\u001b[1;33m\u001b[0m\u001b[1;33m\u001b[0m\u001b[0m\n\u001b[1;32m----> 2\u001b[1;33m \u001b[0mv1\u001b[0m\u001b[1;33m.\u001b[0m\u001b[0mmanufacturer\u001b[0m \u001b[1;33m=\u001b[0m \u001b[1;34m'Ford'\u001b[0m\u001b[1;33m\u001b[0m\u001b[1;33m\u001b[0m\u001b[0m\n\u001b[0m",
      "\u001b[1;32m<string>\u001b[0m in \u001b[0;36m__setattr__\u001b[1;34m(self, name, value)\u001b[0m\n",
      "\u001b[1;31mFrozenInstanceError\u001b[0m: cannot assign to field 'manufacturer'"
     ]
    }
   ],
   "source": [
    "## We can't set attributes due to frozen = True \n",
    "v1.manufacturer = 'Ford'"
   ]
  },
  {
   "cell_type": "code",
   "execution_count": null,
   "metadata": {},
   "outputs": [],
   "source": []
  }
 ],
 "metadata": {
  "kernelspec": {
   "display_name": "Python 3",
   "language": "python",
   "name": "python3"
  },
  "language_info": {
   "codemirror_mode": {
    "name": "ipython",
    "version": 3
   },
   "file_extension": ".py",
   "mimetype": "text/x-python",
   "name": "python",
   "nbconvert_exporter": "python",
   "pygments_lexer": "ipython3",
   "version": "3.6.8"
  },
  "orig_nbformat": 4
 },
 "nbformat": 4,
 "nbformat_minor": 2
}
