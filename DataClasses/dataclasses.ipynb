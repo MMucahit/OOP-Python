{
 "cells": [
  {
   "attachments": {},
   "cell_type": "markdown",
   "metadata": {},
   "source": [
    "## Data Class"
   ]
  },
  {
   "cell_type": "code",
   "execution_count": 154,
   "metadata": {},
   "outputs": [],
   "source": [
    "from dataclasses import dataclass\n",
    "\n",
    "## We don't need define __init__, __repr__ and __eq__, dataclass provides us\n",
    "## If we want to define attribute with default value, \n",
    "    ## we have to define attributes which has default value lastly\n",
    "@dataclass()\n",
    "class Vechicle():\n",
    "    price: int\n",
    "    _range: int\n",
    "    manufacturer: str = 'tesla'"
   ]
  },
  {
   "cell_type": "code",
   "execution_count": 155,
   "metadata": {},
   "outputs": [
    {
     "data": {
      "text/plain": [
       "(Vechicle(price=10000000, _range=1000, manufacturer='mustang'),\n",
       " Vechicle(price=5000000, _range=500, manufacturer='ford'))"
      ]
     },
     "execution_count": 155,
     "metadata": {},
     "output_type": "execute_result"
    }
   ],
   "source": [
    "v1 = Vechicle(10_000_000, 1000, 'mustang')\n",
    "v2 = Vechicle(5_000_000, 500, 'ford')\n",
    "    \n",
    "v1, v2,"
   ]
  },
  {
   "cell_type": "code",
   "execution_count": 156,
   "metadata": {},
   "outputs": [
    {
     "data": {
      "text/plain": [
       "False"
      ]
     },
     "execution_count": 156,
     "metadata": {},
     "output_type": "execute_result"
    }
   ],
   "source": [
    "v1 == v2"
   ]
  },
  {
   "attachments": {},
   "cell_type": "markdown",
   "metadata": {},
   "source": [
    "## Field"
   ]
  },
  {
   "cell_type": "code",
   "execution_count": 12,
   "metadata": {},
   "outputs": [],
   "source": [
    "from dataclasses import field, dataclass\n",
    "\n",
    "## We can adjust attributes which were displayed in __repr__,\n",
    "    ## We can adjust comparison\n",
    "\n",
    "@dataclass(order=True)\n",
    "class Vechicle():\n",
    "    price: int = field(compare=True)\n",
    "    _range: int = field(compare=False, repr=False)\n",
    "    manufacturer: str = field(default='tesla', compare=False)\n",
    "    # luxury: bool = field(init=False, repr=False)\n",
    "\n",
    "    @property\n",
    "    def luxury(self):\n",
    "        return True if self.manufacturer == 'tesla' else False\n"
   ]
  },
  {
   "cell_type": "code",
   "execution_count": 13,
   "metadata": {},
   "outputs": [
    {
     "data": {
      "text/plain": [
       "(Vechicle(price=10000000, manufacturer='mustang'),\n",
       " Vechicle(price=15000000, manufacturer='tesla'))"
      ]
     },
     "execution_count": 13,
     "metadata": {},
     "output_type": "execute_result"
    }
   ],
   "source": [
    "v1 = Vechicle(10_000_000, 1000, 'mustang')\n",
    "v2 = Vechicle(15_000_000, 5000)\n",
    "\n",
    "v1, v2"
   ]
  },
  {
   "cell_type": "code",
   "execution_count": 14,
   "metadata": {},
   "outputs": [
    {
     "data": {
      "text/plain": [
       "(False, True)"
      ]
     },
     "execution_count": 14,
     "metadata": {},
     "output_type": "execute_result"
    }
   ],
   "source": [
    "v1 > v2, v2 > v1"
   ]
  },
  {
   "cell_type": "code",
   "execution_count": 15,
   "metadata": {},
   "outputs": [
    {
     "data": {
      "text/plain": [
       "(False, True)"
      ]
     },
     "execution_count": 15,
     "metadata": {},
     "output_type": "execute_result"
    }
   ],
   "source": [
    "v1.luxury, v2.luxury"
   ]
  },
  {
   "cell_type": "code",
   "execution_count": null,
   "metadata": {},
   "outputs": [],
   "source": []
  }
 ],
 "metadata": {
  "kernelspec": {
   "display_name": "Python 3",
   "language": "python",
   "name": "python3"
  },
  "language_info": {
   "codemirror_mode": {
    "name": "ipython",
    "version": 3
   },
   "file_extension": ".py",
   "mimetype": "text/x-python",
   "name": "python",
   "nbconvert_exporter": "python",
   "pygments_lexer": "ipython3",
   "version": "3.9.5"
  },
  "orig_nbformat": 4
 },
 "nbformat": 4,
 "nbformat_minor": 2
}
