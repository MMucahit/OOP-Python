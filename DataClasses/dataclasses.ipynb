{
 "cells": [
  {
   "cell_type": "code",
   "execution_count": 154,
   "metadata": {},
   "outputs": [],
   "source": [
    "from dataclasses import dataclass\n",
    "\n",
    "## We don't need define __init__, __repr__ and __eq__, dataclass provides us\n",
    "## If we want to define attribute with default value, \n",
    "    ## we have to define attributes which has default value lastly\n",
    "@dataclass()\n",
    "class Vechicle():\n",
    "    price: int\n",
    "    _range: int\n",
    "    manufacturer: str = 'tesla'"
   ]
  },
  {
   "cell_type": "code",
   "execution_count": 155,
   "metadata": {},
   "outputs": [
    {
     "data": {
      "text/plain": [
       "(Vechicle(price=10000000, _range=1000, manufacturer='mustang'),\n",
       " Vechicle(price=5000000, _range=500, manufacturer='ford'))"
      ]
     },
     "execution_count": 155,
     "metadata": {},
     "output_type": "execute_result"
    }
   ],
   "source": [
    "v1 = Vechicle(10_000_000, 1000, 'mustang')\n",
    "v2 = Vechicle(5_000_000, 500, 'ford')\n",
    "    \n",
    "v1, v2,"
   ]
  },
  {
   "cell_type": "code",
   "execution_count": 156,
   "metadata": {},
   "outputs": [
    {
     "data": {
      "text/plain": [
       "False"
      ]
     },
     "execution_count": 156,
     "metadata": {},
     "output_type": "execute_result"
    }
   ],
   "source": [
    "v1 == v2"
   ]
  },
  {
   "cell_type": "code",
   "execution_count": null,
   "metadata": {},
   "outputs": [],
   "source": []
  }
 ],
 "metadata": {
  "kernelspec": {
   "display_name": "Python 3",
   "language": "python",
   "name": "python3"
  },
  "language_info": {
   "codemirror_mode": {
    "name": "ipython",
    "version": 3
   },
   "file_extension": ".py",
   "mimetype": "text/x-python",
   "name": "python",
   "nbconvert_exporter": "python",
   "pygments_lexer": "ipython3",
   "version": "3.6.8"
  },
  "orig_nbformat": 4
 },
 "nbformat": 4,
 "nbformat_minor": 2
}
