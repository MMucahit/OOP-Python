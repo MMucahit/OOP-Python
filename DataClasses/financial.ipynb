{
 "cells": [
  {
   "cell_type": "code",
   "execution_count": 30,
   "metadata": {},
   "outputs": [],
   "source": [
    "from dataclasses import dataclass, field\n",
    "\n",
    "@dataclass(frozen=True)\n",
    "class Stock:\n",
    "    ticker: str\n",
    "    price: int\n",
    "    dividend: float = field(default=0)\n",
    "    dividend_frequency: int = field(default=4)\n",
    "\n",
    "    @property\n",
    "    def annual_dividend(self):\n",
    "        return self.dividend * self.dividend_frequency"
   ]
  },
  {
   "cell_type": "code",
   "execution_count": 31,
   "metadata": {},
   "outputs": [],
   "source": [
    "@dataclass(order=True)\n",
    "class Position:\n",
    "    stock: Stock = field(compare=False)\n",
    "    shares: int = field(compare=True)\n",
    "\n",
    "    def __eq__(self, __value: object) -> bool:\n",
    "        if not isinstance(__value, Position):\n",
    "            return False\n",
    "        \n",
    "        return self.stock.price * self.shares == __value.stock.price * __value.shares"
   ]
  },
  {
   "cell_type": "code",
   "execution_count": 97,
   "metadata": {},
   "outputs": [],
   "source": [
    "from typing import List\n",
    "\n",
    "@dataclass\n",
    "class Portfolio:\n",
    "    holdings: List[Position]\n",
    "\n",
    "    @property\n",
    "    def value(self):\n",
    "        result = sum([position.stock.price * position.shares for position in self.holdings])\n",
    "        return result\n",
    "    \n",
    "    @property\n",
    "    def portfolio_yield(self):\n",
    "        result = sum([position.stock.annual_dividend * position.shares for position in self.holdings]) / self.value\n",
    "        return round(result, 6)"
   ]
  },
  {
   "cell_type": "code",
   "execution_count": 98,
   "metadata": {},
   "outputs": [
    {
     "data": {
      "text/plain": [
       "(2.48, 12.8, 0)"
      ]
     },
     "execution_count": 98,
     "metadata": {},
     "output_type": "execute_result"
    }
   ],
   "source": [
    "MSFT = Stock('MSFT', 320, 0.62, 4)\n",
    "LMT = Stock('LMT', 320, 3.2, 4)\n",
    "GOOGLE = Stock('GOOGLE', 2800, 0, 0)\n",
    "\n",
    "MSFT.annual_dividend, LMT.annual_dividend, GOOGLE.annual_dividend"
   ]
  },
  {
   "cell_type": "code",
   "execution_count": 99,
   "metadata": {},
   "outputs": [
    {
     "data": {
      "text/plain": [
       "(Position(stock=Stock(ticker='MSFT', price=320, dividend=0.62, dividend_frequency=4), shares=100),\n",
       " Position(stock=Stock(ticker='LMT', price=320, dividend=3.2, dividend_frequency=4), shares=100),\n",
       " Position(stock=Stock(ticker='GOOGLE', price=2800, dividend=0, dividend_frequency=0), shares=10),\n",
       " True)"
      ]
     },
     "execution_count": 99,
     "metadata": {},
     "output_type": "execute_result"
    }
   ],
   "source": [
    "p1 = Position(MSFT, 100)\n",
    "p2 = Position(LMT, 100)\n",
    "p3 = Position(GOOGLE, 10)\n",
    "\n",
    "p1, p2, p3, p1 == p2"
   ]
  },
  {
   "cell_type": "code",
   "execution_count": 111,
   "metadata": {},
   "outputs": [
    {
     "data": {
      "text/plain": [
       "(92000, 0.016609)"
      ]
     },
     "execution_count": 111,
     "metadata": {},
     "output_type": "execute_result"
    }
   ],
   "source": [
    "portfolio = Portfolio(holdings=[p1, p2, p3])\n",
    "    \n",
    "portfolio.value, portfolio.portfolio_yield"
   ]
  },
  {
   "cell_type": "code",
   "execution_count": null,
   "metadata": {},
   "outputs": [],
   "source": []
  }
 ],
 "metadata": {
  "kernelspec": {
   "display_name": "Python 3",
   "language": "python",
   "name": "python3"
  },
  "language_info": {
   "codemirror_mode": {
    "name": "ipython",
    "version": 3
   },
   "file_extension": ".py",
   "mimetype": "text/x-python",
   "name": "python",
   "nbconvert_exporter": "python",
   "pygments_lexer": "ipython3",
   "version": "3.6.8"
  },
  "orig_nbformat": 4
 },
 "nbformat": 4,
 "nbformat_minor": 2
}
