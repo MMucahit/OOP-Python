{
 "cells": [
  {
   "cell_type": "code",
   "execution_count": null,
   "metadata": {},
   "outputs": [],
   "source": [
    "## Attribute Lookup Chain Review\n",
    "    ## 0- Call the __get__ of the descriptor having the same name as the attribute\n",
    "    ## 1- Look in the instance (object) __dict__ for a key with attribute's name\n",
    "    ## 2- Look in the instance's type (class) __dict__ for a key with attribute's name\n",
    "    ## 3- Look in the instance's parent type(parent class) __dict__ for a key with attribute's name\n",
    "        ## if not, repeat for each parent type\n",
    "    ## 4- If not found, raise AttributeError"
   ]
  },
  {
   "attachments": {},
   "cell_type": "markdown",
   "metadata": {},
   "source": [
    "## Descriptors"
   ]
  },
  {
   "cell_type": "code",
   "execution_count": 38,
   "metadata": {},
   "outputs": [],
   "source": [
    "## The descriptor protocol consists of dunder get-set-delete\n",
    "## Any object that implements a combination of these methods is a descriptors\n",
    "## Descriptor are only instantiated at the class level; never put them in __init__ or other methods"
   ]
  },
  {
   "cell_type": "code",
   "execution_count": 218,
   "metadata": {},
   "outputs": [],
   "source": [
    "class TextField:\n",
    "    ## __set_name__ is defined in the descriptor class and called each time\n",
    "        ## the descriptor is instantiated\n",
    "    ## Second parameter (name) captures the name of the class attribute\n",
    "        ## the instance of the descriptor is assigned\n",
    "    def __set_name__(self, owner, name):\n",
    "        self.public_name = name\n",
    "        self.private_name = '_' + name\n",
    "    \n",
    "    def __get__(self, obj, objtype=None):\n",
    "        return getattr(obj, self.private_name)\n",
    "\n",
    "    def __set__(self, obj, value):\n",
    "        if not type(value) == str:\n",
    "            raise TypeError('Value should be string!')\n",
    "\n",
    "        if len(value) > obj.length:\n",
    "            raise ValueError(f'Length of value must be less than {obj.length}!')\n",
    "        \n",
    "        setattr(obj, self.private_name, value)\n",
    "\n",
    "    def __delete__(self, obj):\n",
    "        delattr(obj, self.private_name)"
   ]
  },
  {
   "cell_type": "code",
   "execution_count": 219,
   "metadata": {},
   "outputs": [],
   "source": [
    "class PersonTable:\n",
    "    first_name = TextField()\n",
    "    last_name = TextField()\n",
    "    profession = TextField()\n",
    "\n",
    "    def __init__(self, length) -> None:\n",
    "        self.length = length"
   ]
  },
  {
   "cell_type": "code",
   "execution_count": 220,
   "metadata": {},
   "outputs": [],
   "source": [
    "p1 = PersonTable(100)\n",
    "p2 = PersonTable(200)\n",
    "\n",
    "p1.first_name = 'Mucahit'\n",
    "p1.last_name = 'Nas'\n",
    "p1.profession = 'Data Engineer'\n",
    "\n",
    "p2.first_name = 'Yusa'\n",
    "p2.last_name = 'Akcan'\n",
    "p2.profession = 'Data Analyst'"
   ]
  },
  {
   "cell_type": "code",
   "execution_count": 221,
   "metadata": {},
   "outputs": [
    {
     "data": {
      "text/plain": [
       "('Mucahit', 'Yusa', 'Nas', 'Akcan', 'Data Engineer', 'Data Analyst')"
      ]
     },
     "execution_count": 221,
     "metadata": {},
     "output_type": "execute_result"
    }
   ],
   "source": [
    "p1.first_name, p2.first_name, \\\n",
    "    p1.last_name, p2.last_name, \\\n",
    "        p1.profession, p2.profession"
   ]
  },
  {
   "cell_type": "code",
   "execution_count": 222,
   "metadata": {},
   "outputs": [
    {
     "data": {
      "text/plain": [
       "({'public_name': 'first_name', 'private_name': '_first_name'},\n",
       " {'public_name': 'last_name', 'private_name': '_last_name'},\n",
       " {'public_name': 'profession', 'private_name': '_profession'})"
      ]
     },
     "execution_count": 222,
     "metadata": {},
     "output_type": "execute_result"
    }
   ],
   "source": [
    "vars(vars(PersonTable)['first_name']), \\\n",
    "    vars(vars(PersonTable)['last_name']), \\\n",
    "        vars(vars(PersonTable)['profession'])"
   ]
  },
  {
   "cell_type": "code",
   "execution_count": 223,
   "metadata": {},
   "outputs": [
    {
     "data": {
      "text/plain": [
       "({'length': 100,\n",
       "  '_first_name': 'Mucahit',\n",
       "  '_last_name': 'Nas',\n",
       "  '_profession': 'Data Engineer'},\n",
       " {'length': 200,\n",
       "  '_first_name': 'Yusa',\n",
       "  '_last_name': 'Akcan',\n",
       "  '_profession': 'Data Analyst'})"
      ]
     },
     "execution_count": 223,
     "metadata": {},
     "output_type": "execute_result"
    }
   ],
   "source": [
    "vars(p1), vars(p2)"
   ]
  },
  {
   "cell_type": "code",
   "execution_count": null,
   "metadata": {},
   "outputs": [],
   "source": []
  }
 ],
 "metadata": {
  "kernelspec": {
   "display_name": "Python 3",
   "language": "python",
   "name": "python3"
  },
  "language_info": {
   "codemirror_mode": {
    "name": "ipython",
    "version": 3
   },
   "file_extension": ".py",
   "mimetype": "text/x-python",
   "name": "python",
   "nbconvert_exporter": "python",
   "pygments_lexer": "ipython3",
   "version": "3.9.5"
  },
  "orig_nbformat": 4
 },
 "nbformat": 4,
 "nbformat_minor": 2
}
