{
 "cells": [
  {
   "cell_type": "code",
   "execution_count": 72,
   "metadata": {},
   "outputs": [],
   "source": [
    "## Attribute Lookup Chain Review\n",
    "    ## 0- Call the __get__ of the descriptor having the same name as the attribute\n",
    "    ## 1- Look in the instance (object) __dict__ for a key with attribute's name\n",
    "    ## 2- Look in the instance's type (class) __dict__ for a key with attribute's name\n",
    "    ## 3- Look in the instance's parent type(parent class) __dict__ for a key with attribute's name\n",
    "        ## if not, repeat for each parent type\n",
    "    ## 4- If not found, raise AttributeError"
   ]
  },
  {
   "attachments": {},
   "cell_type": "markdown",
   "metadata": {},
   "source": [
    "## Descriptors"
   ]
  },
  {
   "cell_type": "code",
   "execution_count": 78,
   "metadata": {},
   "outputs": [],
   "source": [
    "## The descriptor protocol consists of dunder get-set-delete\n",
    "## Any object that implements a combination of these methods is a descriptors\n",
    "## Descriptor are only instantiated at the class level; never put them in __init__ or other methods"
   ]
  },
  {
   "cell_type": "code",
   "execution_count": 83,
   "metadata": {},
   "outputs": [],
   "source": [
    "class TextField:\n",
    "    def __get__(self, obj, objtype=None):\n",
    "        return obj.firstName\n",
    "\n",
    "    def __set__(self, obj, value):\n",
    "        if not type(value) == str:\n",
    "            raise TypeError('Value should be string!')\n",
    "\n",
    "        if len(value) > obj.length:\n",
    "            raise ValueError(f'Length of value must be less than {obj.length}!')\n",
    "        \n",
    "        obj.firstName = value\n",
    "\n",
    "    def __delete__(self, obj):\n",
    "        pass"
   ]
  },
  {
   "cell_type": "code",
   "execution_count": 85,
   "metadata": {},
   "outputs": [],
   "source": [
    "class PersonTable:\n",
    "    first_name = TextField()\n",
    "\n",
    "    def __init__(self, length, firstName) -> None:\n",
    "        self.length = length\n",
    "        self.firstName = firstName"
   ]
  },
  {
   "cell_type": "code",
   "execution_count": 86,
   "metadata": {},
   "outputs": [],
   "source": [
    "p1 = PersonTable(100, 'TextField')"
   ]
  },
  {
   "cell_type": "code",
   "execution_count": 88,
   "metadata": {},
   "outputs": [],
   "source": [
    "p1.firstName = 'Mucahit'"
   ]
  },
  {
   "cell_type": "code",
   "execution_count": 89,
   "metadata": {},
   "outputs": [
    {
     "data": {
      "text/plain": [
       "{'length': 100, 'firstName': 'Mucahit'}"
      ]
     },
     "execution_count": 89,
     "metadata": {},
     "output_type": "execute_result"
    }
   ],
   "source": [
    "p1.__dict__"
   ]
  },
  {
   "cell_type": "code",
   "execution_count": null,
   "metadata": {},
   "outputs": [],
   "source": []
  }
 ],
 "metadata": {
  "kernelspec": {
   "display_name": "Python 3",
   "language": "python",
   "name": "python3"
  },
  "language_info": {
   "codemirror_mode": {
    "name": "ipython",
    "version": 3
   },
   "file_extension": ".py",
   "mimetype": "text/x-python",
   "name": "python",
   "nbconvert_exporter": "python",
   "pygments_lexer": "ipython3",
   "version": "3.9.10"
  },
  "orig_nbformat": 4
 },
 "nbformat": 4,
 "nbformat_minor": 2
}
