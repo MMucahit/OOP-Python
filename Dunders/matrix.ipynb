{
 "cells": [
  {
   "cell_type": "code",
   "execution_count": 140,
   "metadata": {},
   "outputs": [],
   "source": [
    "from functools import total_ordering\n",
    "from math import sqrt, pow\n",
    "\n",
    "@total_ordering\n",
    "class Matrix:\n",
    "    def __init__(self, x, y, z) -> None:\n",
    "        self.x = x\n",
    "        self.y = y\n",
    "        self.z = z\n",
    "    \n",
    "    def __abs__(self) -> float:\n",
    "        return sqrt(sum([pow(self.x, 2), pow(self.y, 2), pow(self.z, 2)]))\n",
    "\n",
    "    def __eq__(self, __value) -> bool:\n",
    "        if isinstance(__value, Matrix):\n",
    "            if (self.x == __value.x) and (self.y == __value.y) and (self.z == __value.z):\n",
    "                return True\n",
    "            \n",
    "        return False\n",
    "\n",
    "    def __gt__(self, __value) -> bool:\n",
    "        if abs(self) > abs(__value):\n",
    "            return True\n",
    "    \n",
    "        return False\n",
    "\n",
    "    def __mul__(self, __value):\n",
    "        if isinstance(__value, int) or isinstance(__value, float):\n",
    "            x = self.x * __value\n",
    "            y = self.y * __value\n",
    "            z = self.z * __value\n",
    "            \n",
    "            return Matrix(x, y, z)\n",
    "\n",
    "    def __rmul__(self, __value):\n",
    "        return self * __value\n",
    "\n",
    "    def __add__(self, __value):\n",
    "        if isinstance(__value, Matrix):\n",
    "            x = self.x + __value.x\n",
    "            y = self.y + __value.y\n",
    "            z = self.z + __value.z\n",
    "            \n",
    "            return Matrix(x, y, z)\n",
    "        \n",
    "        return TypeError(\"Only Matrix object could be accepted\")\n",
    "    \n",
    "    def __getitem__(self, __value):\n",
    "        if isinstance(__value, str) and __value.lower() in ['x', 'y', 'z']:\n",
    "            return eval(f'self.{__value.lower()}')\n",
    "        \n",
    "        return NotImplemented\n",
    "\n",
    "    def __repr__(self) -> str:\n",
    "        return f'Matrix({self.x!r}, {self.y!r}, {self.z!r})'\n",
    "    \n",
    "    def __len__(self) -> float:\n",
    "        return self.x + self.y + self.z\n",
    "    \n",
    "    def __bool__(self) -> bool:\n",
    "        return bool(abs(self))\n",
    "    \n",
    "    def __hash__(self) -> int:\n",
    "        return hash((self.x, self.y, self.z))"
   ]
  },
  {
   "cell_type": "code",
   "execution_count": 141,
   "metadata": {},
   "outputs": [],
   "source": [
    "v1 = Matrix(3, 4, 5)\n",
    "v2 = Matrix(6, 8, 10)\n",
    "v3 = Matrix(3, 4, 5)\n",
    "v4 = Matrix(6, 8, 10)"
   ]
  },
  {
   "cell_type": "code",
   "execution_count": 142,
   "metadata": {},
   "outputs": [
    {
     "data": {
      "text/plain": [
       "(False, True, True, True)"
      ]
     },
     "execution_count": 142,
     "metadata": {},
     "output_type": "execute_result"
    }
   ],
   "source": [
    "v1 == v2, v1 == v3, v1 != v2, v3 != v4"
   ]
  },
  {
   "cell_type": "code",
   "execution_count": 143,
   "metadata": {},
   "outputs": [
    {
     "data": {
      "text/plain": [
       "(False, True)"
      ]
     },
     "execution_count": 143,
     "metadata": {},
     "output_type": "execute_result"
    }
   ],
   "source": [
    "v1 > v2, v1 < v2"
   ]
  },
  {
   "cell_type": "code",
   "execution_count": 144,
   "metadata": {},
   "outputs": [
    {
     "data": {
      "text/plain": [
       "Matrix(9, 12, 15)"
      ]
     },
     "execution_count": 144,
     "metadata": {},
     "output_type": "execute_result"
    }
   ],
   "source": [
    "v1 + v2"
   ]
  },
  {
   "cell_type": "code",
   "execution_count": 145,
   "metadata": {},
   "outputs": [
    {
     "data": {
      "text/plain": [
       "((Matrix(6, 8, 10), Matrix(6, 8, 10)),\n",
       " (Matrix(15.0, 20.0, 25.0), Matrix(15.0, 20.0, 25.0)))"
      ]
     },
     "execution_count": 145,
     "metadata": {},
     "output_type": "execute_result"
    }
   ],
   "source": [
    "((v1 * 2), (2 * v1)), ((v2 * 2.5), (2.5 * v2))"
   ]
  },
  {
   "cell_type": "code",
   "execution_count": 146,
   "metadata": {},
   "outputs": [
    {
     "data": {
      "text/plain": [
       "(7.0710678118654755, 12)"
      ]
     },
     "execution_count": 146,
     "metadata": {},
     "output_type": "execute_result"
    }
   ],
   "source": [
    "abs(v1), len(v1)"
   ]
  },
  {
   "cell_type": "code",
   "execution_count": 147,
   "metadata": {},
   "outputs": [
    {
     "data": {
      "text/plain": [
       "(4003026094496801395, -2893234438663672053)"
      ]
     },
     "execution_count": 147,
     "metadata": {},
     "output_type": "execute_result"
    }
   ],
   "source": [
    "hash(v1), hash(v2)"
   ]
  },
  {
   "cell_type": "code",
   "execution_count": 148,
   "metadata": {},
   "outputs": [
    {
     "data": {
      "text/plain": [
       "((3, 3), (4, 4), (5, 5))"
      ]
     },
     "execution_count": 148,
     "metadata": {},
     "output_type": "execute_result"
    }
   ],
   "source": [
    "(v1['x'], v1['X']), (v1['y'], v1['Y']), (v1['z'], v1['Z'] )"
   ]
  },
  {
   "cell_type": "code",
   "execution_count": 149,
   "metadata": {},
   "outputs": [
    {
     "data": {
      "text/plain": [
       "(False, True)"
      ]
     },
     "execution_count": 149,
     "metadata": {},
     "output_type": "execute_result"
    }
   ],
   "source": [
    "v_not_zero = Matrix(1, 2, 3)\n",
    "v_zero = Matrix(0, 0, 0)\n",
    "\n",
    "bool(v_zero), bool(v_not_zero)"
   ]
  },
  {
   "cell_type": "code",
   "execution_count": null,
   "metadata": {},
   "outputs": [],
   "source": []
  }
 ],
 "metadata": {
  "kernelspec": {
   "display_name": "Python 3",
   "language": "python",
   "name": "python3"
  },
  "language_info": {
   "codemirror_mode": {
    "name": "ipython",
    "version": 3
   },
   "file_extension": ".py",
   "mimetype": "text/x-python",
   "name": "python",
   "nbconvert_exporter": "python",
   "pygments_lexer": "ipython3",
   "version": "3.9.5"
  },
  "orig_nbformat": 4
 },
 "nbformat": 4,
 "nbformat_minor": 2
}
