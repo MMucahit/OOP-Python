{
 "cells": [
  {
   "cell_type": "code",
   "execution_count": 87,
   "metadata": {},
   "outputs": [],
   "source": [
    "class BankAccount:\n",
    "    \"\"\"A Regular bank account\"\"\"\n",
    "    def __init__(self, initial_balance=0) -> None:\n",
    "        self._balance = initial_balance\n",
    "    \n",
    "    def __repr__(self) -> str:\n",
    "        ## __mro__ -> (tuple of class names in the full inheritance chain leading up to object)\n",
    "        instance_name = \"\".join([i.__name__ for i in type(self).__mro__[:-1]])\n",
    "        return f'A {instance_name} with ${self._balance} in it.'\n",
    "\n",
    "    @property\n",
    "    def balance(self):\n",
    "        return self._balance\n",
    "    \n",
    "    def isPositive(self, value):\n",
    "        if not value > 0:\n",
    "            raise ValueError('Only positive value is available!')\n",
    "\n",
    "        return value\n",
    "\n",
    "    ## Only support transactions in positive amounts.\n",
    "    def deposit(self, value):\n",
    "        if self.isPositive(value):\n",
    "            self._balance += value\n",
    "\n",
    "            print(f'Deposited ${value:.2f}.')\n",
    "            \n",
    "    ## Only support transactions in positive amounts.\n",
    "    def withdraw(self, value):\n",
    "        if self.isPositive(value):\n",
    "            self._balance -= value\n",
    "\n",
    "            print(f'Withdrew ${value}.')"
   ]
  },
  {
   "cell_type": "code",
   "execution_count": 88,
   "metadata": {},
   "outputs": [],
   "source": [
    "class Savings(BankAccount):\n",
    "    \"\"\"Like a bank account but interest-earning\"\"\"\n",
    "    interest = .0035\n",
    "    \n",
    "    # def __repr__(self) -> str:\n",
    "    #     return f'A SavingAccount with ${self.balance:.2f} in it.'\n",
    "    \n",
    "    def pay_interest(self):\n",
    "        interest_earned = self.balance * self.interest\n",
    "\n",
    "        self.deposit(interest_earned)"
   ]
  },
  {
   "cell_type": "code",
   "execution_count": 89,
   "metadata": {},
   "outputs": [],
   "source": [
    "class HighInterest(Savings):\n",
    "    \"\"\"Like a Saving account but earning higher interest, in exchange for withdrawal fee\"\"\"\n",
    "\n",
    "    interest = .007\n",
    "    \n",
    "    ## it is taken from the account's balance on every withdrawal.\n",
    "    def __init__(self, withdrawal_fee=5, initial_balance=0) -> None:\n",
    "        super().__init__(initial_balance)\n",
    "        self.withdrawal_fee = withdrawal_fee\n",
    "    \n",
    "    # def __repr__(self) -> str:\n",
    "    #     return f'A HighInterest with ${self.balance:.2f} in it.'\n",
    "    \n",
    "    def withdraw(self, value):\n",
    "        total = self.withdrawal_fee + value\n",
    "        super().withdraw(total)"
   ]
  },
  {
   "cell_type": "code",
   "execution_count": 90,
   "metadata": {},
   "outputs": [],
   "source": [
    "class LockedIn(HighInterest):\n",
    "    \"\"\"Like a HighInterest sacing account but earning higher interest, without abilty to withdraw demand\"\"\"\n",
    "\n",
    "    interest_rate = .009\n",
    "    \n",
    "    def withdraw(self, value):\n",
    "        return f\"Can't make early withdrawal from a Locked-in Saving account.\""
   ]
  },
  {
   "cell_type": "code",
   "execution_count": 91,
   "metadata": {},
   "outputs": [],
   "source": [
    "b1 = BankAccount()\n",
    "s1 = Savings()\n",
    "h1 = HighInterest()\n",
    "l1 = LockedIn()"
   ]
  },
  {
   "cell_type": "code",
   "execution_count": 92,
   "metadata": {},
   "outputs": [
    {
     "data": {
      "text/plain": [
       "(A BankAccount with $0 in it.,\n",
       " A SavingsBankAccount with $0 in it.,\n",
       " A HighInterestSavingsBankAccount with $0 in it.,\n",
       " A LockedInHighInterestSavingsBankAccount with $0 in it.)"
      ]
     },
     "execution_count": 92,
     "metadata": {},
     "output_type": "execute_result"
    }
   ],
   "source": [
    "b1, s1, h1, l1"
   ]
  },
  {
   "cell_type": "code",
   "execution_count": 93,
   "metadata": {},
   "outputs": [
    {
     "name": "stdout",
     "output_type": "stream",
     "text": [
      "Deposited $430.00.\n",
      "Deposited $1.51.\n",
      "Withdrew $20.\n"
     ]
    },
    {
     "data": {
      "text/plain": [
       "A SavingsBankAccount with $411.505 in it."
      ]
     },
     "execution_count": 93,
     "metadata": {},
     "output_type": "execute_result"
    }
   ],
   "source": [
    "s1.deposit(430)\n",
    "s1.pay_interest()\n",
    "s1.withdraw(20)\n",
    "\n",
    "s1"
   ]
  },
  {
   "cell_type": "code",
   "execution_count": 94,
   "metadata": {},
   "outputs": [
    {
     "name": "stdout",
     "output_type": "stream",
     "text": [
      "Deposited $220.00.\n",
      "Deposited $1.54.\n",
      "Withdrew $6.54.\n"
     ]
    },
    {
     "data": {
      "text/plain": [
       "A HighInterestSavingsBankAccount with $215.0 in it."
      ]
     },
     "execution_count": 94,
     "metadata": {},
     "output_type": "execute_result"
    }
   ],
   "source": [
    "h1.deposit(220)\n",
    "h1.pay_interest()\n",
    "h1.withdraw(1.54)\n",
    "\n",
    "h1"
   ]
  },
  {
   "cell_type": "code",
   "execution_count": null,
   "metadata": {},
   "outputs": [],
   "source": []
  }
 ],
 "metadata": {
  "kernelspec": {
   "display_name": "Python 3",
   "language": "python",
   "name": "python3"
  },
  "language_info": {
   "codemirror_mode": {
    "name": "ipython",
    "version": 3
   },
   "file_extension": ".py",
   "mimetype": "text/x-python",
   "name": "python",
   "nbconvert_exporter": "python",
   "pygments_lexer": "ipython3",
   "version": "3.9.5"
  },
  "orig_nbformat": 4
 },
 "nbformat": 4,
 "nbformat_minor": 2
}
