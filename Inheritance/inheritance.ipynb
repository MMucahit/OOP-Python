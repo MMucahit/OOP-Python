{
 "cells": [
  {
   "attachments": {},
   "cell_type": "markdown",
   "metadata": {},
   "source": [
    "Inheritance"
   ]
  },
  {
   "cell_type": "code",
   "execution_count": 33,
   "metadata": {},
   "outputs": [
    {
     "data": {
      "text/plain": [
       "True"
      ]
     },
     "execution_count": 33,
     "metadata": {},
     "output_type": "execute_result"
    }
   ],
   "source": [
    "## Super class or base class or parent class\n",
    "class Virus:\n",
    "    pass\n",
    "\n",
    "## Derived class, child class, subclass, subtype\n",
    "class RNAVirus(Virus):\n",
    "    pass\n",
    "\n",
    "issubclass(RNAVirus, Virus)"
   ]
  },
  {
   "cell_type": "code",
   "execution_count": 34,
   "metadata": {},
   "outputs": [],
   "source": [
    "class Virus:\n",
    "    def __init__(self, name, reproduction_rate, resistance) -> None:\n",
    "        self.name = name\n",
    "        self.reproduction_rate = reproduction_rate\n",
    "        self.resistance = resistance\n",
    "        self.load = 1\n",
    "        self.host = None\n",
    "    \n",
    "    def infect(self, host):\n",
    "        self.host = host\n",
    "    \n",
    "    def reproduce(self):\n",
    "        if self.host is not None:\n",
    "            self.load *= (1 + self.reproduction_rate)\n",
    "\n",
    "            return True, f'Virus reproduced in {self.host}. Viral load: {int(self.load)}'\n",
    "    \n",
    "        raise AttributeError('Virus needs to infect a host before being able to reproduce')"
   ]
  },
  {
   "cell_type": "code",
   "execution_count": 35,
   "metadata": {},
   "outputs": [],
   "source": [
    "class RNAVirus(Virus):\n",
    "    genom = 'ribonucleic'\n",
    "\n",
    "    def reproduce(self):\n",
    "        success, status =  super().reproduce()\n",
    "\n",
    "        if success:\n",
    "            print(f'{self.name} just replicated in the cytoplasm of {self.host} cells')\n",
    "\n",
    "        return status\n",
    "\n",
    "class DNAVirus(Virus):\n",
    "    genom = 'deoxyribonucleic'\n",
    "\n",
    "    def reproduce(self):\n",
    "        success, status = Virus.reproduce(self) ## super().reproduce()\n",
    "\n",
    "        if success:\n",
    "            print(f'{self.name} just replicated in the nucleus of {self.host} cells')\n",
    "        \n",
    "        return status"
   ]
  },
  {
   "cell_type": "code",
   "execution_count": 36,
   "metadata": {},
   "outputs": [
    {
     "name": "stdout",
     "output_type": "stream",
     "text": [
      "HIV just replicated in the cytoplasm of Human cells\n",
      "SARS just replicated in the nucleus of Animal cells\n"
     ]
    },
    {
     "data": {
      "text/plain": [
       "('Virus reproduced in Human. Viral load: 2',\n",
       " 'Virus reproduced in Animal. Viral load: 2')"
      ]
     },
     "execution_count": 36,
     "metadata": {},
     "output_type": "execute_result"
    }
   ],
   "source": [
    "r1 = RNAVirus('HIV', 1.2, 1.1)\n",
    "d1 = DNAVirus('SARS', 1.5, 1.1)\n",
    "\n",
    "r1.infect('Human')\n",
    "d1.infect('Animal')\n",
    "\n",
    "(r1.reproduce(), d1.reproduce())"
   ]
  },
  {
   "cell_type": "code",
   "execution_count": 37,
   "metadata": {},
   "outputs": [
    {
     "data": {
      "text/plain": [
       "({'name': 'HIV',\n",
       "  'reproduction_rate': 1.2,\n",
       "  'resistance': 1.1,\n",
       "  'load': 2.2,\n",
       "  'host': 'Human'},\n",
       " {'name': 'SARS',\n",
       "  'reproduction_rate': 1.5,\n",
       "  'resistance': 1.1,\n",
       "  'load': 2.5,\n",
       "  'host': 'Animal'})"
      ]
     },
     "execution_count": 37,
     "metadata": {},
     "output_type": "execute_result"
    }
   ],
   "source": [
    "r1.__dict__, d1.__dict__"
   ]
  },
  {
   "attachments": {},
   "cell_type": "markdown",
   "metadata": {},
   "source": [
    "Method Resolution Order (MRO)"
   ]
  },
  {
   "cell_type": "code",
   "execution_count": 38,
   "metadata": {},
   "outputs": [],
   "source": [
    "## instance -> class -> superclass -> object, else AttributeError\n",
    "## The lookup stops on first match\n",
    "## The lookup could be easily sourced from read-only __mro__ attribute"
   ]
  },
  {
   "cell_type": "code",
   "execution_count": 39,
   "metadata": {},
   "outputs": [
    {
     "data": {
      "text/plain": [
       "(__main__.RNAVirus, __main__.Virus, object)"
      ]
     },
     "execution_count": 39,
     "metadata": {},
     "output_type": "execute_result"
    }
   ],
   "source": [
    "RNAVirus.__mro__"
   ]
  },
  {
   "attachments": {},
   "cell_type": "markdown",
   "metadata": {},
   "source": [
    "## Subclass Properties"
   ]
  },
  {
   "cell_type": "code",
   "execution_count": null,
   "metadata": {},
   "outputs": [],
   "source": [
    "## Properties defined in parent could be extended/modified int he subclass\n",
    "    ## Because property live in the namespace of the class in which they are defined\n",
    "    ## referring to them from the subclass requires the use of a fully qualified name in the subclass,\n",
    "    "
   ]
  },
  {
   "cell_type": "code",
   "execution_count": 9,
   "metadata": {},
   "outputs": [],
   "source": [
    "class Number:\n",
    "    def __init__(self, number) -> None:\n",
    "        self.number = number\n",
    "    \n",
    "    @property\n",
    "    def number(self):\n",
    "        return self._number\n",
    "\n",
    "    @number.setter\n",
    "    def number(self, value):\n",
    "        if not value >= 0:\n",
    "            raise ValueError('Number must be greater than or equal zero!')\n",
    "        \n",
    "        self._number = value\n",
    "    \n",
    "    def __repr__(self) -> str:\n",
    "        return f'Number is {self._number}.'"
   ]
  },
  {
   "cell_type": "code",
   "execution_count": 10,
   "metadata": {},
   "outputs": [],
   "source": [
    "class OddNumber(Number):\n",
    "    @property\n",
    "    def number(self):\n",
    "        return self._number\n",
    "\n",
    "    @number.setter\n",
    "    def number(self, value):\n",
    "        if not (value % 2 != 0 and value >= 0):\n",
    "            raise ValueError('Number must be greater than or equal zero and odd number!')\n",
    "        \n",
    "        self._number = value\n",
    "    \n",
    "    def __repr__(self) -> str:\n",
    "        return f'OddNumber is {self._number}.'"
   ]
  },
  {
   "cell_type": "code",
   "execution_count": 11,
   "metadata": {},
   "outputs": [],
   "source": [
    "class EvenNumber(Number):\n",
    "    @Number.number.setter\n",
    "    def number(self, value):\n",
    "        if not (value % 2 == 0 and value >= 0):\n",
    "            raise ValueError('Number must be greater than or equal zero and even number!')\n",
    "        \n",
    "        self._number = value\n",
    "    \n",
    "    def __repr__(self) -> str:\n",
    "        return f'EvenNumber is {self._number}.'"
   ]
  },
  {
   "cell_type": "code",
   "execution_count": 14,
   "metadata": {},
   "outputs": [
    {
     "data": {
      "text/plain": [
       "(Number is 15., EvenNumber is 16., OddNumber is 15.)"
      ]
     },
     "execution_count": 14,
     "metadata": {},
     "output_type": "execute_result"
    }
   ],
   "source": [
    "n1 = Number(15)\n",
    "e1 = EvenNumber(16)\n",
    "o1 = OddNumber(15)\n",
    "\n",
    "n1, e1, o1"
   ]
  },
  {
   "cell_type": "code",
   "execution_count": 15,
   "metadata": {},
   "outputs": [
    {
     "data": {
      "text/plain": [
       "({'_number': 15}, {'_number': 16}, {'_number': 15})"
      ]
     },
     "execution_count": 15,
     "metadata": {},
     "output_type": "execute_result"
    }
   ],
   "source": [
    "n1.__dict__, e1.__dict__, o1.__dict__"
   ]
  },
  {
   "attachments": {},
   "cell_type": "markdown",
   "metadata": {},
   "source": [
    "## Extends Built-ins"
   ]
  },
  {
   "cell_type": "code",
   "execution_count": 8,
   "metadata": {},
   "outputs": [],
   "source": [
    "## Extending built-ins directly in python could be tricky because, \n",
    "    ## the interpreter makes no guarantees that our overrides will take precedence\n",
    "    ## over the high-efficiency parts of the code implemented in low-level-C\n",
    "    ## some common side effects of this are inert overrides (they are ignored)\n",
    "    ## and inconsistent interface\n",
    "## To step all of this, python makes available some special wrapper under the collections\n",
    "    ## module that are easily extensible"
   ]
  },
  {
   "cell_type": "code",
   "execution_count": 9,
   "metadata": {},
   "outputs": [],
   "source": [
    "from collections import UserDict\n",
    "\n",
    "class CustomDict(UserDict):\n",
    "    def __getitem__(self, __key):\n",
    "        if not __key in self:\n",
    "            return f'Wait, What!'\n",
    "        return super().__getitem__(__key)    "
   ]
  },
  {
   "cell_type": "code",
   "execution_count": 10,
   "metadata": {},
   "outputs": [
    {
     "data": {
      "text/plain": [
       "(1000, 'Wait, What!', 700)"
      ]
     },
     "execution_count": 10,
     "metadata": {},
     "output_type": "execute_result"
    }
   ],
   "source": [
    "population = {\n",
    "    'Turkey': 1000,\n",
    "    'Greek': 500,\n",
    "    'Iraq': 700\n",
    "}\n",
    "\n",
    "c1 = CustomDict(population)\n",
    "\n",
    "c1['Turkey'], c1['Greeki'], c1['Iraq']"
   ]
  },
  {
   "cell_type": "code",
   "execution_count": null,
   "metadata": {},
   "outputs": [],
   "source": []
  }
 ],
 "metadata": {
  "kernelspec": {
   "display_name": "Python 3",
   "language": "python",
   "name": "python3"
  },
  "language_info": {
   "codemirror_mode": {
    "name": "ipython",
    "version": 3
   },
   "file_extension": ".py",
   "mimetype": "text/x-python",
   "name": "python",
   "nbconvert_exporter": "python",
   "pygments_lexer": "ipython3",
   "version": "3.9.5"
  },
  "orig_nbformat": 4
 },
 "nbformat": 4,
 "nbformat_minor": 2
}
