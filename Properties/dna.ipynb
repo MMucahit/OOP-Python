{
 "cells": [
  {
   "cell_type": "code",
   "execution_count": 1,
   "metadata": {},
   "outputs": [],
   "source": [
    "class DNABase:\n",
    "    def __init__(self, nucleotide) -> None:\n",
    "        self.base = nucleotide\n",
    "    \n",
    "    def __repr__(self) -> str:\n",
    "        class_name = type(self).__name__\n",
    "        return f'{class_name}(nucleotide={self.base!r})'\n",
    "\n",
    "    @staticmethod\n",
    "    def _validate_and_standarize(base):\n",
    "        allowed = [('a', 'adenine'), ('c', 'cytosine'), ('g', 'guanine'), ('t', 'thymine')]\n",
    "\n",
    "        for b in allowed:\n",
    "            if base.lower().strip() in b:\n",
    "                return b[1]\n",
    "        \n",
    "        return False\n",
    "    \n",
    "    @property\n",
    "    def base(self):\n",
    "        return self._base\n",
    "    \n",
    "    @base.setter\n",
    "    def base(self, base):\n",
    "        valid_base = self._validate_and_standarize(base)\n",
    "\n",
    "        if valid_base:\n",
    "            self._base = valid_base\n",
    "\n",
    "        else:\n",
    "            raise ValueError(f'{base} is not a recognized DNA nucleotide')            "
   ]
  },
  {
   "cell_type": "code",
   "execution_count": 4,
   "metadata": {},
   "outputs": [
    {
     "data": {
      "text/plain": [
       "'adenine'"
      ]
     },
     "execution_count": 4,
     "metadata": {},
     "output_type": "execute_result"
    }
   ],
   "source": [
    "d1 = DNABase('adenine')\n",
    "\n",
    "d1.base"
   ]
  },
  {
   "cell_type": "code",
   "execution_count": 5,
   "metadata": {},
   "outputs": [
    {
     "data": {
      "text/plain": [
       "'guanine'"
      ]
     },
     "execution_count": 5,
     "metadata": {},
     "output_type": "execute_result"
    }
   ],
   "source": [
    "d1.base = 'guanine'\n",
    "d1.base"
   ]
  },
  {
   "cell_type": "code",
   "execution_count": null,
   "metadata": {},
   "outputs": [],
   "source": []
  }
 ],
 "metadata": {
  "kernelspec": {
   "display_name": "Python 3",
   "language": "python",
   "name": "python3"
  },
  "language_info": {
   "codemirror_mode": {
    "name": "ipython",
    "version": 3
   },
   "file_extension": ".py",
   "mimetype": "text/x-python",
   "name": "python",
   "nbconvert_exporter": "python",
   "pygments_lexer": "ipython3",
   "version": "3.9.5"
  },
  "orig_nbformat": 4
 },
 "nbformat": 4,
 "nbformat_minor": 2
}
