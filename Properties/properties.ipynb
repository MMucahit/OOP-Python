{
 "cells": [
  {
   "attachments": {},
   "cell_type": "markdown",
   "metadata": {},
   "source": [
    "## Property"
   ]
  },
  {
   "cell_type": "code",
   "execution_count": 1,
   "metadata": {},
   "outputs": [],
   "source": [
    "## Attributes and methods defined on a python class are public\n",
    "## There are no private or protected attributes (per se(kendiğilinden))\n",
    "\n",
    "## (_) Attributes beginning with a single leading underscore are considered private\n",
    "## (__) Attributes beginnig with two leading underscore are name mangled with the class name"
   ]
  },
  {
   "cell_type": "code",
   "execution_count": 2,
   "metadata": {},
   "outputs": [],
   "source": [
    "## Properties are attributes with special behavior\n",
    "## All the properties we define live in the class mappingproxy, not the instance dictionary\n"
   ]
  },
  {
   "cell_type": "code",
   "execution_count": 3,
   "metadata": {},
   "outputs": [],
   "source": [
    "class Customer:\n",
    "    loyalty_level = {'bronze', 'gold', 'platinum'}\n",
    "    def __init__(self, loyalty, membership=0) -> None:\n",
    "        self.loyalty = loyalty\n",
    "        self.membership = membership\n",
    "\n",
    "    def get_membership(self):\n",
    "        return self._membership\n",
    "\n",
    "    def set_membership(self, value):\n",
    "        if value < 0 or value > 100:\n",
    "            raise ValueError(f'Invalid loyalty {value} specified.')\n",
    "\n",
    "        self._membership = value\n",
    "    \n",
    "    def get_loyalty(self):\n",
    "        return self._loyalty\n",
    "    \n",
    "    def set_loyalty(self, value):\n",
    "        if value not in self.loyalty_level:\n",
    "            raise ValueError(f'Invalid loyalty {value} specified.')\n",
    "    \n",
    "        self._loyalty = value\n",
    "\n",
    "    ## When attribute is set, property will trigger set_loyalty function\n",
    "    membership = property(fget=get_membership, fset=set_membership)\n",
    "    loyalty = property(fget=get_loyalty, fset=set_loyalty)"
   ]
  },
  {
   "cell_type": "code",
   "execution_count": 4,
   "metadata": {},
   "outputs": [
    {
     "ename": "ValueError",
     "evalue": "Invalid loyalty Something specified.",
     "output_type": "error",
     "traceback": [
      "\u001b[1;31m---------------------------------------------------------------------------\u001b[0m",
      "\u001b[1;31mValueError\u001b[0m                                Traceback (most recent call last)",
      "Cell \u001b[1;32mIn[4], line 1\u001b[0m\n\u001b[1;32m----> 1\u001b[0m c1 \u001b[39m=\u001b[39m Customer(\u001b[39m'\u001b[39;49m\u001b[39mSomething\u001b[39;49m\u001b[39m'\u001b[39;49m)\n\u001b[0;32m      3\u001b[0m c1\u001b[39m.\u001b[39mget_loyalty()\n",
      "Cell \u001b[1;32mIn[3], line 4\u001b[0m, in \u001b[0;36mCustomer.__init__\u001b[1;34m(self, loyalty, membership)\u001b[0m\n\u001b[0;32m      3\u001b[0m \u001b[39mdef\u001b[39;00m \u001b[39m__init__\u001b[39m(\u001b[39mself\u001b[39m, loyalty, membership\u001b[39m=\u001b[39m\u001b[39m0\u001b[39m) \u001b[39m-\u001b[39m\u001b[39m>\u001b[39m \u001b[39mNone\u001b[39;00m:\n\u001b[1;32m----> 4\u001b[0m     \u001b[39mself\u001b[39;49m\u001b[39m.\u001b[39;49mloyalty \u001b[39m=\u001b[39m loyalty\n\u001b[0;32m      5\u001b[0m     \u001b[39mself\u001b[39m\u001b[39m.\u001b[39mmembership \u001b[39m=\u001b[39m membership\n",
      "Cell \u001b[1;32mIn[3], line 21\u001b[0m, in \u001b[0;36mCustomer.set_loyalty\u001b[1;34m(self, value)\u001b[0m\n\u001b[0;32m     19\u001b[0m \u001b[39mdef\u001b[39;00m \u001b[39mset_loyalty\u001b[39m(\u001b[39mself\u001b[39m, value):\n\u001b[0;32m     20\u001b[0m     \u001b[39mif\u001b[39;00m value \u001b[39mnot\u001b[39;00m \u001b[39min\u001b[39;00m \u001b[39mself\u001b[39m\u001b[39m.\u001b[39mloyalty_level:\n\u001b[1;32m---> 21\u001b[0m         \u001b[39mraise\u001b[39;00m \u001b[39mValueError\u001b[39;00m(\u001b[39mf\u001b[39m\u001b[39m'\u001b[39m\u001b[39mInvalid loyalty \u001b[39m\u001b[39m{\u001b[39;00mvalue\u001b[39m}\u001b[39;00m\u001b[39m specified.\u001b[39m\u001b[39m'\u001b[39m)\n\u001b[0;32m     23\u001b[0m     \u001b[39mself\u001b[39m\u001b[39m.\u001b[39m_loyalty \u001b[39m=\u001b[39m value\n",
      "\u001b[1;31mValueError\u001b[0m: Invalid loyalty Something specified."
     ]
    }
   ],
   "source": [
    "c1 = Customer('Something')\n",
    "\n",
    "c1.get_loyalty()"
   ]
  },
  {
   "cell_type": "code",
   "execution_count": 5,
   "metadata": {},
   "outputs": [
    {
     "ename": "ValueError",
     "evalue": "Invalid loyalty -10 specified.",
     "output_type": "error",
     "traceback": [
      "\u001b[1;31m---------------------------------------------------------------------------\u001b[0m",
      "\u001b[1;31mValueError\u001b[0m                                Traceback (most recent call last)",
      "Cell \u001b[1;32mIn[5], line 1\u001b[0m\n\u001b[1;32m----> 1\u001b[0m c2 \u001b[39m=\u001b[39m Customer(\u001b[39m'\u001b[39;49m\u001b[39mplatinum\u001b[39;49m\u001b[39m'\u001b[39;49m, \u001b[39m-\u001b[39;49m\u001b[39m10\u001b[39;49m)\n\u001b[0;32m      3\u001b[0m c2\u001b[39m.\u001b[39mget_membership()\n",
      "Cell \u001b[1;32mIn[3], line 5\u001b[0m, in \u001b[0;36mCustomer.__init__\u001b[1;34m(self, loyalty, membership)\u001b[0m\n\u001b[0;32m      3\u001b[0m \u001b[39mdef\u001b[39;00m \u001b[39m__init__\u001b[39m(\u001b[39mself\u001b[39m, loyalty, membership\u001b[39m=\u001b[39m\u001b[39m0\u001b[39m) \u001b[39m-\u001b[39m\u001b[39m>\u001b[39m \u001b[39mNone\u001b[39;00m:\n\u001b[0;32m      4\u001b[0m     \u001b[39mself\u001b[39m\u001b[39m.\u001b[39mloyalty \u001b[39m=\u001b[39m loyalty\n\u001b[1;32m----> 5\u001b[0m     \u001b[39mself\u001b[39;49m\u001b[39m.\u001b[39;49mmembership \u001b[39m=\u001b[39m membership\n",
      "Cell \u001b[1;32mIn[3], line 12\u001b[0m, in \u001b[0;36mCustomer.set_membership\u001b[1;34m(self, value)\u001b[0m\n\u001b[0;32m     10\u001b[0m \u001b[39mdef\u001b[39;00m \u001b[39mset_membership\u001b[39m(\u001b[39mself\u001b[39m, value):\n\u001b[0;32m     11\u001b[0m     \u001b[39mif\u001b[39;00m value \u001b[39m<\u001b[39m \u001b[39m0\u001b[39m \u001b[39mor\u001b[39;00m value \u001b[39m>\u001b[39m \u001b[39m100\u001b[39m:\n\u001b[1;32m---> 12\u001b[0m         \u001b[39mraise\u001b[39;00m \u001b[39mValueError\u001b[39;00m(\u001b[39mf\u001b[39m\u001b[39m'\u001b[39m\u001b[39mInvalid loyalty \u001b[39m\u001b[39m{\u001b[39;00mvalue\u001b[39m}\u001b[39;00m\u001b[39m specified.\u001b[39m\u001b[39m'\u001b[39m)\n\u001b[0;32m     14\u001b[0m     \u001b[39mself\u001b[39m\u001b[39m.\u001b[39m_membership \u001b[39m=\u001b[39m value\n",
      "\u001b[1;31mValueError\u001b[0m: Invalid loyalty -10 specified."
     ]
    }
   ],
   "source": [
    "c2 = Customer('platinum', -10)\n",
    "\n",
    "c2.get_membership()"
   ]
  },
  {
   "attachments": {},
   "cell_type": "markdown",
   "metadata": {},
   "source": [
    "## Decorator Syntax"
   ]
  },
  {
   "cell_type": "code",
   "execution_count": 7,
   "metadata": {},
   "outputs": [],
   "source": [
    "## The getter is decorated with @property\n",
    "## The setter with @property_name.setter\n",
    "## All methods carry the name of the property"
   ]
  },
  {
   "cell_type": "code",
   "execution_count": 89,
   "metadata": {},
   "outputs": [],
   "source": [
    "class Customer:\n",
    "    loyalty_level = {'bronze', 'gold', 'platinum'}\n",
    "    def __init__(self, loyalty, membership=0) -> None:\n",
    "        self.loyalty = loyalty\n",
    "        self.membership = membership\n",
    "\n",
    "    @property\n",
    "    def membership(self):\n",
    "        return self._membership\n",
    "\n",
    "    @membership.setter\n",
    "    def membership(self, value):\n",
    "        if value < 0 or value > 100:\n",
    "            raise ValueError(f'Invalid loyalty {value} specified.')\n",
    "\n",
    "        self._membership = value\n",
    "    \n",
    "    @property\n",
    "    def loyalty(self):\n",
    "        return self._loyalty\n",
    "    \n",
    "    @loyalty.setter\n",
    "    def loyalty(self, value):\n",
    "        if value not in self.loyalty_level:\n",
    "            raise ValueError(f'Invalid loyalty {value} specified.')\n",
    "    \n",
    "        self._loyalty = value"
   ]
  },
  {
   "cell_type": "code",
   "execution_count": 90,
   "metadata": {},
   "outputs": [],
   "source": [
    "c1 = Customer('bronze')\n",
    "\n",
    "c1.loyalty = 'gold'"
   ]
  },
  {
   "cell_type": "code",
   "execution_count": 91,
   "metadata": {},
   "outputs": [
    {
     "data": {
      "text/plain": [
       "'gold'"
      ]
     },
     "execution_count": 91,
     "metadata": {},
     "output_type": "execute_result"
    }
   ],
   "source": [
    "c1.loyalty"
   ]
  },
  {
   "attachments": {},
   "cell_type": "markdown",
   "metadata": {},
   "source": [
    "## Read or Write Only Properties"
   ]
  },
  {
   "cell_type": "code",
   "execution_count": 92,
   "metadata": {},
   "outputs": [],
   "source": [
    "## Read Only Property\n",
    "class Customer:\n",
    "    loyalty_level = {'bronze', 'gold', 'platinum'}\n",
    "    def __init__(self, loyalty) -> None:\n",
    "        self.loyalty = loyalty\n",
    "    \n",
    "    loyalty = property()\n",
    "\n",
    "    @property\n",
    "    def loyalty(self):\n",
    "        return self._loyalty"
   ]
  },
  {
   "cell_type": "code",
   "execution_count": 93,
   "metadata": {},
   "outputs": [
    {
     "ename": "AttributeError",
     "evalue": "can't set attribute",
     "output_type": "error",
     "traceback": [
      "\u001b[1;31m---------------------------------------------------------------------------\u001b[0m",
      "\u001b[1;31mAttributeError\u001b[0m                            Traceback (most recent call last)",
      "Cell \u001b[1;32mIn[93], line 1\u001b[0m\n\u001b[1;32m----> 1\u001b[0m c1 \u001b[39m=\u001b[39m Customer(\u001b[39m'\u001b[39;49m\u001b[39mbronze\u001b[39;49m\u001b[39m'\u001b[39;49m)\n\u001b[0;32m      2\u001b[0m c1\u001b[39m.\u001b[39mloyalty \u001b[39m=\u001b[39m \u001b[39m'\u001b[39m\u001b[39mgold\u001b[39m\u001b[39m'\u001b[39m\n",
      "Cell \u001b[1;32mIn[92], line 5\u001b[0m, in \u001b[0;36mCustomer.__init__\u001b[1;34m(self, loyalty)\u001b[0m\n\u001b[0;32m      4\u001b[0m \u001b[39mdef\u001b[39;00m \u001b[39m__init__\u001b[39m(\u001b[39mself\u001b[39m, loyalty) \u001b[39m-\u001b[39m\u001b[39m>\u001b[39m \u001b[39mNone\u001b[39;00m:\n\u001b[1;32m----> 5\u001b[0m     \u001b[39mself\u001b[39;49m\u001b[39m.\u001b[39;49mloyalty \u001b[39m=\u001b[39m loyalty\n",
      "\u001b[1;31mAttributeError\u001b[0m: can't set attribute"
     ]
    }
   ],
   "source": [
    "c1 = Customer('bronze')\n",
    "c1.loyalty = 'gold'"
   ]
  },
  {
   "cell_type": "code",
   "execution_count": 33,
   "metadata": {},
   "outputs": [],
   "source": [
    "## Write Only Property\n",
    "class Customer:\n",
    "    loyalty_level = {'bronze', 'gold', 'platinum'}\n",
    "    def __init__(self, loyalty) -> None:\n",
    "        self.loyalty = loyalty\n",
    "    \n",
    "    loyalty = property()\n",
    "\n",
    "    @loyalty.setter\n",
    "    def loyalty(self, value):\n",
    "        if value not in self.loyalty_level:\n",
    "            raise ValueError(f'Invalid loyalty {value} specified.')\n",
    "    \n",
    "        self._loyalty = value"
   ]
  },
  {
   "cell_type": "code",
   "execution_count": 34,
   "metadata": {},
   "outputs": [
    {
     "ename": "AttributeError",
     "evalue": "unreadable attribute",
     "output_type": "error",
     "traceback": [
      "\u001b[1;31m---------------------------------------------------------------------------\u001b[0m",
      "\u001b[1;31mAttributeError\u001b[0m                            Traceback (most recent call last)",
      "Cell \u001b[1;32mIn[34], line 2\u001b[0m\n\u001b[0;32m      1\u001b[0m c1 \u001b[39m=\u001b[39m Customer(\u001b[39m'\u001b[39m\u001b[39mplatinum\u001b[39m\u001b[39m'\u001b[39m)\n\u001b[1;32m----> 2\u001b[0m c1\u001b[39m.\u001b[39;49mloyalty\n",
      "\u001b[1;31mAttributeError\u001b[0m: unreadable attribute"
     ]
    }
   ],
   "source": [
    "c1 = Customer('platinum')\n",
    "c1.loyalty"
   ]
  },
  {
   "attachments": {},
   "cell_type": "markdown",
   "metadata": {},
   "source": [
    "## Managed Attributes"
   ]
  },
  {
   "cell_type": "code",
   "execution_count": 35,
   "metadata": {},
   "outputs": [],
   "source": [
    "## These are attributes that don't have a variable supporting them\n",
    "    ## but are instead calculated dynamicaly\n",
    "## Practically, to associate a function with what looks like a plain attribute,\n",
    "    ## we simply define a read only property"
   ]
  },
  {
   "cell_type": "code",
   "execution_count": 36,
   "metadata": {},
   "outputs": [],
   "source": [
    "class Customer:\n",
    "    loyalty_level = {'bronze', 'gold', 'platinum'}\n",
    "    def __init__(self, loyalty) -> None:\n",
    "        self._loyalty = loyalty\n",
    "        self._reviews = []\n",
    "    \n",
    "    @property\n",
    "    def loyalty(self):\n",
    "        return self._loyalty\n",
    "\n",
    "    @loyalty.setter\n",
    "    def loyalty(self, value):\n",
    "        if value not in self.loyalty_level:\n",
    "            raise ValueError(f'Invalid loyalty {value} specified.')\n",
    "    \n",
    "        self._loyalty = value\n",
    "    \n",
    "    def add_review(self, review):\n",
    "        if not (type(review) == int or 0 <= review <= 10):\n",
    "            raise ValueError('The review must be an int between 0 and 10!')\n",
    "    \n",
    "        self._reviews.append(review)\n",
    "    \n",
    "    @property\n",
    "    def average_review(self):\n",
    "        return sum(self._reviews) / len(self._reviews)"
   ]
  },
  {
   "cell_type": "code",
   "execution_count": 37,
   "metadata": {},
   "outputs": [
    {
     "data": {
      "text/plain": [
       "'gold'"
      ]
     },
     "execution_count": 37,
     "metadata": {},
     "output_type": "execute_result"
    }
   ],
   "source": [
    "c1 = Customer('bronze')\n",
    "c1.loyalty = 'gold'\n",
    "\n",
    "c1.loyalty"
   ]
  },
  {
   "cell_type": "code",
   "execution_count": 38,
   "metadata": {},
   "outputs": [
    {
     "data": {
      "text/plain": [
       "7.5"
      ]
     },
     "execution_count": 38,
     "metadata": {},
     "output_type": "execute_result"
    }
   ],
   "source": [
    "c1.add_review(10)\n",
    "c1.add_review(5)\n",
    "c1.add_review(5)\n",
    "c1.add_review(10)\n",
    "\n",
    "c1.average_review"
   ]
  },
  {
   "attachments": {},
   "cell_type": "markdown",
   "metadata": {},
   "source": [
    "Cache Average Review"
   ]
  },
  {
   "cell_type": "code",
   "execution_count": 39,
   "metadata": {},
   "outputs": [],
   "source": [
    "class Customer:\n",
    "    loyalty_level = {'bronze', 'gold', 'platinum'}\n",
    "    def __init__(self, loyalty) -> None:\n",
    "        self._loyalty = loyalty\n",
    "        self._reviews = []\n",
    "        self._avg_review = None\n",
    "    \n",
    "    @property\n",
    "    def loyalty(self):\n",
    "        return self._loyalty\n",
    "\n",
    "    @loyalty.setter\n",
    "    def loyalty(self, value):\n",
    "        if value not in self.loyalty_level:\n",
    "            raise ValueError(f'Invalid loyalty {value} specified.')\n",
    "    \n",
    "        self._loyalty = value\n",
    "    \n",
    "    def add_review(self, review):\n",
    "        if not (type(review) == int or 0 <= review <= 10):\n",
    "            raise ValueError('The review must be an int between 0 and 10!')\n",
    "    \n",
    "        self._reviews.append(review)\n",
    "\n",
    "        self._avg_review = None if review  != self._avg_review else review\n",
    "    \n",
    "    @property\n",
    "    def average_review(self):\n",
    "        if self._avg_review is None:\n",
    "            print('Calculating...')\n",
    "            self._avg_review = sum(self._reviews) / len(self._reviews)\n",
    "        \n",
    "        return self._avg_review"
   ]
  },
  {
   "cell_type": "code",
   "execution_count": 40,
   "metadata": {},
   "outputs": [
    {
     "name": "stdout",
     "output_type": "stream",
     "text": [
      "Calculating...\n"
     ]
    },
    {
     "data": {
      "text/plain": [
       "10.0"
      ]
     },
     "execution_count": 40,
     "metadata": {},
     "output_type": "execute_result"
    }
   ],
   "source": [
    "c1 = Customer('platinum')\n",
    "\n",
    "c1.add_review(10)\n",
    "c1.add_review(10)\n",
    "c1.add_review(10)\n",
    "c1.add_review(10)\n",
    "\n",
    "c1.average_review"
   ]
  },
  {
   "cell_type": "code",
   "execution_count": 41,
   "metadata": {},
   "outputs": [
    {
     "data": {
      "text/plain": [
       "10.0"
      ]
     },
     "execution_count": 41,
     "metadata": {},
     "output_type": "execute_result"
    }
   ],
   "source": [
    "c1.average_review"
   ]
  },
  {
   "attachments": {},
   "cell_type": "markdown",
   "metadata": {},
   "source": [
    "## Deleting Property"
   ]
  },
  {
   "cell_type": "code",
   "execution_count": 2,
   "metadata": {},
   "outputs": [],
   "source": [
    "class Customer:\n",
    "    loyalty_level = {'bronze', 'gold', 'platinum'}\n",
    "    def __init__(self, loyalty) -> None:\n",
    "        self._loyalty = loyalty\n",
    "    \n",
    "    @property\n",
    "    def loyalty(self):\n",
    "        return self._loyalty\n",
    "\n",
    "    @loyalty.setter\n",
    "    def loyalty(self, value):\n",
    "        if value not in self.loyalty_level:\n",
    "            raise ValueError(f'Invalid loyalty {value} specified.')\n",
    "    \n",
    "        self._loyalty = value\n",
    "\n",
    "    @loyalty.deleter\n",
    "    def loyalty(self):\n",
    "        del self._loyalty"
   ]
  },
  {
   "cell_type": "code",
   "execution_count": 3,
   "metadata": {},
   "outputs": [
    {
     "data": {
      "text/plain": [
       "'bronze'"
      ]
     },
     "execution_count": 3,
     "metadata": {},
     "output_type": "execute_result"
    }
   ],
   "source": [
    "c1 = Customer('bronze')\n",
    "c1.loyalty"
   ]
  },
  {
   "cell_type": "code",
   "execution_count": 4,
   "metadata": {},
   "outputs": [],
   "source": [
    "del c1.loyalty"
   ]
  },
  {
   "cell_type": "code",
   "execution_count": 5,
   "metadata": {},
   "outputs": [
    {
     "ename": "AttributeError",
     "evalue": "'Customer' object has no attribute '_loyalty'",
     "output_type": "error",
     "traceback": [
      "\u001b[1;31m---------------------------------------------------------------------------\u001b[0m",
      "\u001b[1;31mAttributeError\u001b[0m                            Traceback (most recent call last)",
      "Cell \u001b[1;32mIn[5], line 1\u001b[0m\n\u001b[1;32m----> 1\u001b[0m c1\u001b[39m.\u001b[39;49mloyalty\n",
      "Cell \u001b[1;32mIn[2], line 8\u001b[0m, in \u001b[0;36mCustomer.loyalty\u001b[1;34m(self)\u001b[0m\n\u001b[0;32m      6\u001b[0m \u001b[39m@property\u001b[39m\n\u001b[0;32m      7\u001b[0m \u001b[39mdef\u001b[39;00m \u001b[39mloyalty\u001b[39m(\u001b[39mself\u001b[39m):\n\u001b[1;32m----> 8\u001b[0m     \u001b[39mreturn\u001b[39;00m \u001b[39mself\u001b[39;49m\u001b[39m.\u001b[39;49m_loyalty\n",
      "\u001b[1;31mAttributeError\u001b[0m: 'Customer' object has no attribute '_loyalty'"
     ]
    }
   ],
   "source": [
    "c1.loyalty"
   ]
  },
  {
   "cell_type": "code",
   "execution_count": 6,
   "metadata": {},
   "outputs": [
    {
     "data": {
      "text/plain": [
       "{}"
      ]
     },
     "execution_count": 6,
     "metadata": {},
     "output_type": "execute_result"
    }
   ],
   "source": [
    "c1.__dict__"
   ]
  },
  {
   "cell_type": "code",
   "execution_count": null,
   "metadata": {},
   "outputs": [],
   "source": []
  }
 ],
 "metadata": {
  "kernelspec": {
   "display_name": "Python 3",
   "language": "python",
   "name": "python3"
  },
  "language_info": {
   "codemirror_mode": {
    "name": "ipython",
    "version": 3
   },
   "file_extension": ".py",
   "mimetype": "text/x-python",
   "name": "python",
   "nbconvert_exporter": "python",
   "pygments_lexer": "ipython3",
   "version": "3.9.5"
  },
  "orig_nbformat": 4
 },
 "nbformat": 4,
 "nbformat_minor": 2
}
