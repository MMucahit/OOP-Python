{
 "cells": [
  {
   "cell_type": "code",
   "execution_count": 69,
   "metadata": {},
   "outputs": [],
   "source": [
    "class Tablet:\n",
    "    MAX_MEMORY = 1024\n",
    "\n",
    "    MODEL = {\n",
    "        'lite':{\n",
    "            'base_storage': 32,\n",
    "            'memory': 2\n",
    "        },\n",
    "        \n",
    "        'pro':{\n",
    "            'base_storage': 64,\n",
    "            'memory': 3\n",
    "        },\n",
    "        \n",
    "        'max':{\n",
    "            'base_storage': 128,\n",
    "            'memory': 4\n",
    "        }\n",
    "    }\n",
    "\n",
    "    def __init__(self, model) -> None:\n",
    "        self.model = model\n",
    "        self._base_storage = __class__.MODEL[model]['base_storage'] ## self.MODEL\n",
    "        self._memory = __class__.MODEL[model]['memory'] ## self.MODEL\n",
    "        self._added_storage = 0\n",
    "\n",
    "    def __repr__(self) -> str:\n",
    "        class_name = type(self).__name__\n",
    "        return f'{class_name}({self.model!r}, {self._base_storage!r}, {self._memory!r}, {self._added_storage!r})'\n",
    "\n",
    "    def added_storage(self, value):\n",
    "        if (self._base_storage + value > self.MAX_MEMORY):\n",
    "            raise ValueError('Total storage should not greater than 1024!')\n",
    "        \n",
    "        self._added_storage += value\n",
    "    \n",
    "    @property\n",
    "    def memory(self):\n",
    "        return self._memory\n",
    "    \n",
    "    @property\n",
    "    def base_storage(self):\n",
    "        return self._base_storage\n",
    "    \n",
    "    @property\n",
    "    def storage(self):\n",
    "        return self._base_storage + self._added_storage\n",
    "\n",
    "    @storage.setter\n",
    "    def storage(self, memory):\n",
    "        additional = memory - self._base_storage\n",
    "\n",
    "        if additional < 0:\n",
    "            raise ValueError(f'Device memory cannot be lower than the base memory of {self._base_storage}')\n",
    "\n",
    "        else:\n",
    "            if memory > self.MAX_MEMORY:\n",
    "                raise ValueError('Total storage should not greater than 1024!')\n",
    "\n",
    "            self._added_storage = additional"
   ]
  },
  {
   "cell_type": "code",
   "execution_count": 91,
   "metadata": {},
   "outputs": [
    {
     "data": {
      "text/plain": [
       "(Tablet('max', 128, 4, 128), 256)"
      ]
     },
     "execution_count": 91,
     "metadata": {},
     "output_type": "execute_result"
    }
   ],
   "source": [
    "t1 = Tablet('max')\n",
    "t1.added_storage(128)\n",
    "\n",
    "t1, t1.storage"
   ]
  },
  {
   "cell_type": "code",
   "execution_count": 92,
   "metadata": {},
   "outputs": [
    {
     "data": {
      "text/plain": [
       "(Tablet('max', 128, 4, 384), 512)"
      ]
     },
     "execution_count": 92,
     "metadata": {},
     "output_type": "execute_result"
    }
   ],
   "source": [
    "t1.storage = 512\n",
    "\n",
    "t1, t1.storage"
   ]
  }
 ],
 "metadata": {
  "kernelspec": {
   "display_name": "Python 3",
   "language": "python",
   "name": "python3"
  },
  "language_info": {
   "codemirror_mode": {
    "name": "ipython",
    "version": 3
   },
   "file_extension": ".py",
   "mimetype": "text/x-python",
   "name": "python",
   "nbconvert_exporter": "python",
   "pygments_lexer": "ipython3",
   "version": "3.9.5"
  },
  "orig_nbformat": 4
 },
 "nbformat": 4,
 "nbformat_minor": 2
}
