{
 "cells": [
  {
   "cell_type": "code",
   "execution_count": 126,
   "metadata": {},
   "outputs": [],
   "source": [
    "class Point3D:\n",
    "    __slots__ = ('x', 'y', 'z')\n",
    "\n",
    "    def __init__(self, x, y, z) -> None:\n",
    "        self.x = x\n",
    "        self.y = y\n",
    "        self.z = z\n",
    "\n",
    "    def __repr__(self) -> str:\n",
    "        class_name = type(self).__name__\n",
    "\n",
    "        if class_name != 'Point3D':\n",
    "            attr = self.__slots__\n",
    "            value = getattr(self, self.__slots__)\n",
    "\n",
    "            return f'{class_name}(x={self.x!r}, y={self.y!r}, z={self.z!r}, {attr}={value!r})'\n",
    "    \n",
    "        return f'{class_name}(x={self.x!r}, y={self.y!r}, z={self.z!r})'"
   ]
  },
  {
   "cell_type": "code",
   "execution_count": 127,
   "metadata": {},
   "outputs": [],
   "source": [
    "class ColoredPoint(Point3D):\n",
    "    __slots__ = ('color')\n",
    "\n",
    "    def __init__(self, x, y, z, color = 'black') -> None:\n",
    "        super().__init__(x, y, z)\n",
    "        self.color = color"
   ]
  },
  {
   "cell_type": "code",
   "execution_count": 128,
   "metadata": {},
   "outputs": [],
   "source": [
    "class ShapedPoint(Point3D):\n",
    "    __slots__ = ('shape')\n",
    "\n",
    "    def __init__(self, x, y, z, shape = 'sphere') -> None:\n",
    "        super().__init__(x, y, z)\n",
    "        self.shape = shape"
   ]
  },
  {
   "cell_type": "code",
   "execution_count": 132,
   "metadata": {},
   "outputs": [],
   "source": [
    "p1 = Point3D(3, 4, 5)\n",
    "c1 = ColoredPoint(6, 8, 10, color='blue')\n",
    "s1 = ShapedPoint(5, 12, 13, shape='square')"
   ]
  },
  {
   "cell_type": "code",
   "execution_count": 133,
   "metadata": {},
   "outputs": [
    {
     "data": {
      "text/plain": [
       "(False, False, False)"
      ]
     },
     "execution_count": 133,
     "metadata": {},
     "output_type": "execute_result"
    }
   ],
   "source": [
    "hasattr(p1, '__dict__'), hasattr(c1, '__dict__'), hasattr(s1, '__dict__')"
   ]
  },
  {
   "cell_type": "code",
   "execution_count": 134,
   "metadata": {},
   "outputs": [
    {
     "data": {
      "text/plain": [
       "(Point3D(x=3, y=4, z=5),\n",
       " ColoredPoint(x=6, y=8, z=10, color='blue'),\n",
       " ShapedPoint(x=5, y=12, z=13, shape='square'))"
      ]
     },
     "execution_count": 134,
     "metadata": {},
     "output_type": "execute_result"
    }
   ],
   "source": [
    "p1, c1, s1"
   ]
  },
  {
   "cell_type": "code",
   "execution_count": null,
   "metadata": {},
   "outputs": [],
   "source": []
  }
 ],
 "metadata": {
  "kernelspec": {
   "display_name": "Python 3",
   "language": "python",
   "name": "python3"
  },
  "language_info": {
   "codemirror_mode": {
    "name": "ipython",
    "version": 3
   },
   "file_extension": ".py",
   "mimetype": "text/x-python",
   "name": "python",
   "nbconvert_exporter": "python",
   "pygments_lexer": "ipython3",
   "version": "3.6.8"
  },
  "orig_nbformat": 4
 },
 "nbformat": 4,
 "nbformat_minor": 2
}
