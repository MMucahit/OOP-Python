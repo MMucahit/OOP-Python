{
 "cells": [
  {
   "attachments": {},
   "cell_type": "markdown",
   "metadata": {},
   "source": [
    "## Slots"
   ]
  },
  {
   "cell_type": "code",
   "execution_count": 24,
   "metadata": {},
   "outputs": [],
   "source": [
    "## It’s clear that __slots__ highly improves the performance of your Python programs, \n",
    "    ## both in terms of speed and memory usage. \n",
    "    ## You should always use slotted classes whenever you don’t have to add or remove instance attributes, \n",
    "    ## which I don’t see why you would anyway."
   ]
  },
  {
   "cell_type": "code",
   "execution_count": 25,
   "metadata": {},
   "outputs": [],
   "source": [
    "class Employee:\n",
    "    def __init__(self, name, surname, age, status, salary) -> None:\n",
    "        self.name = name\n",
    "        self.surname = surname\n",
    "        self.age = age\n",
    "        self.statatus = status\n",
    "        self.salary = salary\n",
    "    \n",
    "    def __repr__(self) -> str:\n",
    "        class_name = type(self).__name__\n",
    "        return f'{class_name}({self.name!r}, {self.surname!r}, {self.age!r}, {self.statatus!r}, {self.salary!r})'"
   ]
  },
  {
   "cell_type": "code",
   "execution_count": 26,
   "metadata": {},
   "outputs": [
    {
     "data": {
      "text/plain": [
       "Employee('Muhammed Mucahit', 'Nas', 27, 'FT', 50000)"
      ]
     },
     "execution_count": 26,
     "metadata": {},
     "output_type": "execute_result"
    }
   ],
   "source": [
    "e1 = Employee('Muhammed Mucahit', 'Nas', 27, 'FT', 50000)\n",
    "\n",
    "e1"
   ]
  },
  {
   "cell_type": "code",
   "execution_count": 27,
   "metadata": {},
   "outputs": [],
   "source": [
    "from math import sqrt, pow\n",
    "\n",
    "class Point2D:\n",
    "    __slots__ = ('x', 'y')\n",
    "\n",
    "    def __init__(self, x, y) -> None:\n",
    "        self.x = x\n",
    "        self.y = y\n",
    "    \n",
    "    def __repr__(self) -> str:\n",
    "        return f'Point({self.x!r}, {self.y!r})'\n",
    "    \n",
    "    @property\n",
    "    def area(self):\n",
    "        return sqrt(pow(self.x, 2) + pow(self.y, 2))"
   ]
  },
  {
   "cell_type": "code",
   "execution_count": 28,
   "metadata": {},
   "outputs": [
    {
     "data": {
      "text/plain": [
       "Point(3, 4)"
      ]
     },
     "execution_count": 28,
     "metadata": {},
     "output_type": "execute_result"
    }
   ],
   "source": [
    "p1 = Point2D(3, 4)\n",
    "p1"
   ]
  },
  {
   "cell_type": "code",
   "execution_count": 30,
   "metadata": {},
   "outputs": [
    {
     "data": {
      "text/plain": [
       "False"
      ]
     },
     "execution_count": 30,
     "metadata": {},
     "output_type": "execute_result"
    }
   ],
   "source": [
    "hasattr(p1, '__dict__') ## don't have __dict__"
   ]
  },
  {
   "cell_type": "code",
   "execution_count": 31,
   "metadata": {},
   "outputs": [
    {
     "data": {
      "text/plain": [
       "('x', 'y')"
      ]
     },
     "execution_count": 31,
     "metadata": {},
     "output_type": "execute_result"
    }
   ],
   "source": [
    "p1.__slots__"
   ]
  },
  {
   "cell_type": "code",
   "execution_count": 32,
   "metadata": {},
   "outputs": [],
   "source": [
    "## __slots__ creates a descriptor for each mapped attribute, thereby overriding the default\n",
    "    ## __getattribute__ beahvior\n",
    "##  Just like properties, slotted attributes reside(ikamet etmek) in the class mappingproxy\n",
    "    ## rather than with the instance"
   ]
  },
  {
   "cell_type": "code",
   "execution_count": 33,
   "metadata": {},
   "outputs": [
    {
     "data": {
      "text/plain": [
       "5.0"
      ]
     },
     "execution_count": 33,
     "metadata": {},
     "output_type": "execute_result"
    }
   ],
   "source": [
    "## Property\n",
    "p1.area"
   ]
  },
  {
   "cell_type": "code",
   "execution_count": 34,
   "metadata": {},
   "outputs": [
    {
     "data": {
      "text/plain": [
       "mappingproxy({'__module__': '__main__',\n",
       "              '__slots__': ('x', 'y'),\n",
       "              '__init__': <function __main__.Point2D.__init__(self, x, y) -> None>,\n",
       "              '__repr__': <function __main__.Point2D.__repr__(self) -> str>,\n",
       "              'area': <property at 0x1cff58e1b88>,\n",
       "              'x': <member 'x' of 'Point2D' objects>,\n",
       "              'y': <member 'y' of 'Point2D' objects>,\n",
       "              '__doc__': None})"
      ]
     },
     "execution_count": 34,
     "metadata": {},
     "output_type": "execute_result"
    }
   ],
   "source": [
    "Point2D.__dict__"
   ]
  },
  {
   "attachments": {},
   "cell_type": "markdown",
   "metadata": {},
   "source": [
    "## Inheriting Slots"
   ]
  },
  {
   "cell_type": "code",
   "execution_count": 35,
   "metadata": {},
   "outputs": [],
   "source": [
    "class Employee:\n",
    "    __slots__ = ('name', 'surname', 'age', 'status', 'salary')\n",
    "\n",
    "    def __init__(self, name, surname, age, status, salary) -> None:\n",
    "        self.name = name\n",
    "        self.surname = surname\n",
    "        self.age = age\n",
    "        self.status = status\n",
    "        self.salary = salary"
   ]
  },
  {
   "cell_type": "code",
   "execution_count": 36,
   "metadata": {},
   "outputs": [],
   "source": [
    "## We can define new attributes, and reach __dict__ methods\n",
    "## Sub class can use parent's class slots attributes\n",
    "class Developer(Employee):\n",
    "    pass\n",
    "\n",
    "d1 = Developer('Mucahit', 'Nas', 27, 'FT', 120000)"
   ]
  },
  {
   "cell_type": "code",
   "execution_count": 37,
   "metadata": {},
   "outputs": [],
   "source": [
    "d1.profession = 'Data Scientist'"
   ]
  },
  {
   "cell_type": "code",
   "execution_count": 38,
   "metadata": {},
   "outputs": [
    {
     "data": {
      "text/plain": [
       "({'profession': 'Data Scientist'},\n",
       " ('name', 'surname', 'age', 'status', 'salary'))"
      ]
     },
     "execution_count": 38,
     "metadata": {},
     "output_type": "execute_result"
    }
   ],
   "source": [
    "d1.__dict__, d1.__slots__"
   ]
  },
  {
   "cell_type": "code",
   "execution_count": 39,
   "metadata": {},
   "outputs": [],
   "source": [
    "## We can't define new attribute because, Sub class have __slots__\n",
    "## Sub class can use parent's class slots attributes\n",
    "class Analyst(Employee):\n",
    "    __slots__ = 'experience'\n",
    "    def __init__(self, name, surname, age, status, salary, experience) -> None:\n",
    "        super().__init__(name, surname, age, status, salary)\n",
    "        self.experience = experience\n",
    "\n",
    "a1 = Analyst('Yusa', 'Akcan', 26, 'FT', 100000, 5)"
   ]
  },
  {
   "cell_type": "code",
   "execution_count": 41,
   "metadata": {},
   "outputs": [
    {
     "data": {
      "text/plain": [
       "False"
      ]
     },
     "execution_count": 41,
     "metadata": {},
     "output_type": "execute_result"
    }
   ],
   "source": [
    "hasattr(a1, '__dict__') ## don't have __dict__"
   ]
  },
  {
   "cell_type": "code",
   "execution_count": 42,
   "metadata": {},
   "outputs": [],
   "source": [
    "## Subclass which have __slots__ but parent class don't have __slots__\n",
    "## Slots in the parent class will be used for the child's attribute lookup, they are available\n",
    "    ## the child class by default alsa retains(tutar) __dict__\n",
    "## If both the parent and child classes are slotted, the child loses its __dict__\n",
    "    ## If the parent class is not slotted, but the child is, the child retains its instance __dict__"
   ]
  },
  {
   "cell_type": "code",
   "execution_count": 43,
   "metadata": {},
   "outputs": [],
   "source": [
    "class Employee:\n",
    "    # __slots__ = ('name', 'surname', 'age', 'status', 'salary')\n",
    "\n",
    "    def __init__(self, name, surname, age, status, salary) -> None:\n",
    "        self.name = name\n",
    "        self.surname = surname  \n",
    "        self.age = age\n",
    "        self.status = status\n",
    "        self.salary = salary"
   ]
  },
  {
   "cell_type": "code",
   "execution_count": 44,
   "metadata": {},
   "outputs": [],
   "source": [
    "## Analyst class has __dict__ method even though has __slots__\n",
    "class Analyst(Employee):\n",
    "    __slots__ = ('name', 'surname', 'age', 'status', 'salary')\n",
    "\n",
    "a1 = Analyst('Yusa', 'Akcan', 26, 'FT', 100000)"
   ]
  },
  {
   "cell_type": "code",
   "execution_count": 45,
   "metadata": {},
   "outputs": [
    {
     "data": {
      "text/plain": [
       "({}, ('name', 'surname', 'age', 'status', 'salary'))"
      ]
     },
     "execution_count": 45,
     "metadata": {},
     "output_type": "execute_result"
    }
   ],
   "source": [
    "a1.__dict__, a1.__slots__"
   ]
  },
  {
   "cell_type": "code",
   "execution_count": 46,
   "metadata": {},
   "outputs": [
    {
     "data": {
      "text/plain": [
       "({'experience': '5'}, ('name', 'surname', 'age', 'status', 'salary'))"
      ]
     },
     "execution_count": 46,
     "metadata": {},
     "output_type": "execute_result"
    }
   ],
   "source": [
    "a1.experience = '5'\n",
    "\n",
    "a1.__dict__, a1.__slots__"
   ]
  }
 ],
 "metadata": {
  "kernelspec": {
   "display_name": "Python 3",
   "language": "python",
   "name": "python3"
  },
  "language_info": {
   "codemirror_mode": {
    "name": "ipython",
    "version": 3
   },
   "file_extension": ".py",
   "mimetype": "text/x-python",
   "name": "python",
   "nbconvert_exporter": "python",
   "pygments_lexer": "ipython3",
   "version": "3.9.5"
  },
  "orig_nbformat": 4
 },
 "nbformat": 4,
 "nbformat_minor": 2
}
