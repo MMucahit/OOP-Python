{
 "cells": [
  {
   "attachments": {},
   "cell_type": "markdown",
   "metadata": {},
   "source": [
    "## OOP"
   ]
  },
  {
   "attachments": {},
   "cell_type": "markdown",
   "metadata": {},
   "source": [
    "Create Simplest Class"
   ]
  },
  {
   "cell_type": "code",
   "execution_count": 4,
   "metadata": {},
   "outputs": [],
   "source": [
    "## Even the simplest class has state and behaviour\n",
    "## Calling the class creates instances (or objects) of that class"
   ]
  },
  {
   "cell_type": "code",
   "execution_count": 1,
   "metadata": {},
   "outputs": [],
   "source": [
    "class MercedezBenz: ## CapWords or CamelCase for naming convention\n",
    "    pass"
   ]
  },
  {
   "attachments": {},
   "cell_type": "markdown",
   "metadata": {},
   "source": [
    "Class States or Attributes"
   ]
  },
  {
   "cell_type": "code",
   "execution_count": null,
   "metadata": {},
   "outputs": [],
   "source": [
    "## We traditionally define class state or attributes in the class body. But we could also redefine outside\n",
    "## Class state or attributes is stored in a mappingproxy object and retrieved using __dict__\n",
    "## Class state is shared and accessible by all instances of that class"
   ]
  },
  {
   "cell_type": "code",
   "execution_count": 6,
   "metadata": {},
   "outputs": [
    {
     "data": {
      "text/plain": [
       "mappingproxy({'__module__': '__main__',\n",
       "              'doors': 2,\n",
       "              'wheels': 4,\n",
       "              '__dict__': <attribute '__dict__' of 'Mustang' objects>,\n",
       "              '__weakref__': <attribute '__weakref__' of 'Mustang' objects>,\n",
       "              '__doc__': None})"
      ]
     },
     "execution_count": 6,
     "metadata": {},
     "output_type": "execute_result"
    }
   ],
   "source": [
    "class Mustang:\n",
    "    ## Class states or attributes\n",
    "    doors = 2 \n",
    "    wheels = 4\n",
    "\n",
    "## We can reach those attributes used __dict__ special method\n",
    "\n",
    "Mustang.__dict__"
   ]
  },
  {
   "cell_type": "code",
   "execution_count": 7,
   "metadata": {},
   "outputs": [
    {
     "data": {
      "text/plain": [
       "mappingproxy({'__module__': '__main__',\n",
       "              'doors': 4,\n",
       "              'wheels': 4,\n",
       "              '__dict__': <attribute '__dict__' of 'Mustang' objects>,\n",
       "              '__weakref__': <attribute '__weakref__' of 'Mustang' objects>,\n",
       "              '__doc__': None,\n",
       "              'model': 'Sports'})"
      ]
     },
     "execution_count": 7,
     "metadata": {},
     "output_type": "execute_result"
    }
   ],
   "source": [
    "## We can also update those attributes, even add a new attributes\n",
    "Mustang.doors = 4\n",
    "Mustang.model = \"Sports\"\n",
    "\n",
    "Mustang.__dict__"
   ]
  },
  {
   "cell_type": "code",
   "execution_count": 10,
   "metadata": {},
   "outputs": [
    {
     "data": {
      "text/plain": [
       "('Number of doors: 4', 'Model: Sports')"
      ]
     },
     "execution_count": 10,
     "metadata": {},
     "output_type": "execute_result"
    }
   ],
   "source": [
    "## Those attributes are shared and accessible from new objects which is created from our Mustang class\n",
    "\n",
    "m1 = Mustang()\n",
    "m2 = Mustang()\n",
    "\n",
    "(f\"Number of doors: {m1.doors}\", f\"Model: {m2.model}\")"
   ]
  },
  {
   "attachments": {},
   "cell_type": "markdown",
   "metadata": {},
   "source": [
    "Methods and Behaviour"
   ]
  },
  {
   "cell_type": "code",
   "execution_count": null,
   "metadata": {},
   "outputs": [],
   "source": [
    "## We add behaviour to our classes by defining functions\n",
    "## These functions are special in that they always have at least one parameter, that parameter is self\n",
    "## Self paratmeters calls Class instances\n",
    "## When function are defined within the body of a class, When that function called with instences and then are called methods"
   ]
  },
  {
   "cell_type": "code",
   "execution_count": 19,
   "metadata": {},
   "outputs": [],
   "source": [
    "class Ford:\n",
    "    doors = 4\n",
    "    wheels = 4\n",
    "    model = \"Regular\"\n",
    "\n",
    "    def drive(self):\n",
    "        return f\"A Ford is driving. And it is {self}\\n\"\n",
    "    \n",
    "    ## Self returns instance of class\n",
    "    def return_self(self):\n",
    "        return self"
   ]
  },
  {
   "cell_type": "code",
   "execution_count": 32,
   "metadata": {},
   "outputs": [
    {
     "data": {
      "text/plain": [
       "(<__main__.Ford at 0x22bdd60ec70>, <__main__.Ford at 0x22bdd60ec70>, True)"
      ]
     },
     "execution_count": 32,
     "metadata": {},
     "output_type": "execute_result"
    }
   ],
   "source": [
    "## Check are ford instance and self equls ?\n",
    "f1 = Ford()\n",
    "\n",
    "f1, f1.return_self(), f1 == f1.return_self()"
   ]
  },
  {
   "cell_type": "code",
   "execution_count": 36,
   "metadata": {},
   "outputs": [
    {
     "data": {
      "text/plain": [
       "(function, method)"
      ]
     },
     "execution_count": 36,
     "metadata": {},
     "output_type": "execute_result"
    }
   ],
   "source": [
    "## Difference between function and method ?\n",
    "f2 = Ford()\n",
    "\n",
    "type(Ford.drive), type(f2.drive)"
   ]
  },
  {
   "attachments": {},
   "cell_type": "markdown",
   "metadata": {},
   "source": [
    "Instance Attributes"
   ]
  },
  {
   "cell_type": "code",
   "execution_count": 49,
   "metadata": {},
   "outputs": [],
   "source": [
    "## We create attributes class level before, But when we want define different attributes for different instance we can use __init__ special method\n",
    "class Opel:\n",
    "    doors = 4\n",
    "    wheels = 4\n",
    "    def __init__(self, model, color): ## Called when after instance creation, but before it is returned\n",
    "        self.model = model\n",
    "        self.color = color"
   ]
  },
  {
   "cell_type": "code",
   "execution_count": 52,
   "metadata": {},
   "outputs": [],
   "source": [
    "o1 = Opel(\"Vectra\", \"grey\")\n",
    "o2 = Opel(\"Astra\", \"black\")"
   ]
  },
  {
   "cell_type": "code",
   "execution_count": 54,
   "metadata": {},
   "outputs": [
    {
     "data": {
      "text/plain": [
       "(('grey', 'black'), ('Vectra', 'Astra'))"
      ]
     },
     "execution_count": 54,
     "metadata": {},
     "output_type": "execute_result"
    }
   ],
   "source": [
    "(o1.color, o2.color),(o1.model, o2.model)"
   ]
  },
  {
   "attachments": {},
   "cell_type": "markdown",
   "metadata": {},
   "source": [
    "``getattr()`` and ``setattr()``"
   ]
  },
  {
   "cell_type": "code",
   "execution_count": null,
   "metadata": {},
   "outputs": [],
   "source": [
    "## These methods are most useful if we are manupilating abjects programmaticaly and especialy if we are doing so at scale"
   ]
  },
  {
   "cell_type": "code",
   "execution_count": 58,
   "metadata": {},
   "outputs": [
    {
     "data": {
      "text/plain": [
       "('reddish', 'Corsa')"
      ]
     },
     "execution_count": 58,
     "metadata": {},
     "output_type": "execute_result"
    }
   ],
   "source": [
    "## We can get or set object with getattr() and setattr() built in functions\n",
    "## We can set or get with less line of code to set and get attributes in many cases.\n",
    "\n",
    "getattr(o1, \"color\"), getattr(o1, \"model\")\n",
    "setattr(o1, \"color\", \"reddish\"), setattr(o1, \"model\", \"Corsa\")\n",
    "getattr(o1, \"color\"), getattr(o1, \"model\")"
   ]
  },
  {
   "cell_type": "code",
   "execution_count": 59,
   "metadata": {},
   "outputs": [
    {
     "data": {
      "text/plain": [
       "(('black', 'Vectra'), ('black', 'Vectra'))"
      ]
     },
     "execution_count": 59,
     "metadata": {},
     "output_type": "execute_result"
    }
   ],
   "source": [
    "## We can easly set attributes\n",
    "objs = [o1, o2]\n",
    "\n",
    "attribs = [\"color\", \"model\"]\n",
    "values = [\"black\", \"Vectra\"]\n",
    "\n",
    "for obj in objs:\n",
    "    for attrib, val in zip(attribs, values):\n",
    "        setattr(obj, attrib, val)\n",
    "\n",
    "(getattr(o1, \"color\"), getattr(o1, \"model\")), (getattr(o2, \"color\"), getattr(o2, \"model\")) "
   ]
  },
  {
   "attachments": {},
   "cell_type": "markdown",
   "metadata": {},
   "source": [
    "``@staticmethod``"
   ]
  },
  {
   "cell_type": "code",
   "execution_count": null,
   "metadata": {},
   "outputs": [],
   "source": [
    "## Static methods can't access the class attributes or instance attributes\n",
    "## When we need a utilty function that doesn't access any properties of a class, but makes sense that it belongs to the class, we use static functions. "
   ]
  },
  {
   "cell_type": "code",
   "execution_count": 2,
   "metadata": {},
   "outputs": [],
   "source": [
    "class Supermarket:\n",
    "    product = \"Milk\"  # class attribute\n",
    "    \n",
    "    def __init__(self, product, best_before):\n",
    "        self.best_before = best_before  # instance attribute\n",
    "        self.product = product\n",
    "        \n",
    "    @staticmethod    \n",
    "    def normalize_product_name(product):\n",
    "        product = product.capitalize().strip()        \n",
    "        return product"
   ]
  },
  {
   "cell_type": "code",
   "execution_count": 3,
   "metadata": {},
   "outputs": [
    {
     "data": {
      "text/plain": [
       "'Milk'"
      ]
     },
     "execution_count": 3,
     "metadata": {},
     "output_type": "execute_result"
    }
   ],
   "source": [
    "s1 = Supermarket(\"Bread\", \"2022-05-29\")\n",
    "s1.normalize_product_name(\"milk\")"
   ]
  },
  {
   "attachments": {},
   "cell_type": "markdown",
   "metadata": {},
   "source": [
    "``@classmethod``"
   ]
  },
  {
   "cell_type": "code",
   "execution_count": 1,
   "metadata": {},
   "outputs": [],
   "source": [
    "## The class method can only access the class attributes, but not the instance attributes.\n",
    "## It can return an object of the class."
   ]
  },
  {
   "cell_type": "code",
   "execution_count": 20,
   "metadata": {},
   "outputs": [],
   "source": [
    "class Supermarket:\n",
    "    product = \"Milk\"  # class attribute\n",
    "    \n",
    "    def __init__(self, product, best_before):\n",
    "        self.best_before = best_before  # instance attribute\n",
    "        self.product = product\n",
    "        \n",
    "    @classmethod    \n",
    "    def get_product(cls):\n",
    "        print(\"product=\" + cls.product)"
   ]
  },
  {
   "cell_type": "code",
   "execution_count": 21,
   "metadata": {},
   "outputs": [
    {
     "name": "stdout",
     "output_type": "stream",
     "text": [
      "product=Milk\n",
      "product=Milk\n"
     ]
    },
    {
     "data": {
      "text/plain": [
       "(None, None)"
      ]
     },
     "execution_count": 21,
     "metadata": {},
     "output_type": "execute_result"
    }
   ],
   "source": [
    "s1 = Supermarket(\"product\", \"best_before\")\n",
    "s1.get_product(), Supermarket.get_product()"
   ]
  },
  {
   "cell_type": "code",
   "execution_count": 34,
   "metadata": {},
   "outputs": [],
   "source": [
    "## We often use class methods for methods that create an instance of the class.\n",
    "class Supermarket:\n",
    "    tax = 1.25    \n",
    "    def __init__(self, product, best_before):\n",
    "        print(f\"{self.__class__} method has been called!\")\n",
    "        self.product = product\n",
    "        self.best_before = best_before\n",
    "    \n",
    "    @classmethod    \n",
    "    def add_product(cls, product, best_before):\n",
    "        return cls(product, best_before)"
   ]
  },
  {
   "cell_type": "code",
   "execution_count": 35,
   "metadata": {},
   "outputs": [
    {
     "name": "stdout",
     "output_type": "stream",
     "text": [
      "<class '__main__.Supermarket'> method has been called!\n"
     ]
    },
    {
     "data": {
      "text/plain": [
       "('Bread', '2202-05-15')"
      ]
     },
     "execution_count": 35,
     "metadata": {},
     "output_type": "execute_result"
    }
   ],
   "source": [
    "s1 = Supermarket.add_product(\"Bread\", \"2202-05-15\")\n",
    "s1.product, s1.best_before"
   ]
  },
  {
   "attachments": {},
   "cell_type": "markdown",
   "metadata": {},
   "source": [
    "Dunder Dict `__dict__` (Instance)"
   ]
  },
  {
   "cell_type": "code",
   "execution_count": 36,
   "metadata": {},
   "outputs": [],
   "source": [
    "## All isntance attributes are stored in an instance-specific mapping object "
   ]
  },
  {
   "cell_type": "code",
   "execution_count": 37,
   "metadata": {},
   "outputs": [
    {
     "name": "stdout",
     "output_type": "stream",
     "text": [
      "<class '__main__.Supermarket'> method has been called!\n"
     ]
    },
    {
     "data": {
      "text/plain": [
       "(dict, {'product': 'Bread', 'best_before': '2202-05-15'})"
      ]
     },
     "execution_count": 37,
     "metadata": {},
     "output_type": "execute_result"
    }
   ],
   "source": [
    "s1 = Supermarket.add_product(\"Bread\", \"2202-05-15\")\n",
    "s1.product, s1.best_before\n",
    "\n",
    "type(s1.__dict__), s1.__dict__"
   ]
  },
  {
   "cell_type": "code",
   "execution_count": 38,
   "metadata": {},
   "outputs": [
    {
     "name": "stdout",
     "output_type": "stream",
     "text": [
      "<class '__main__.Supermarket'> method has been called!\n"
     ]
    },
    {
     "data": {
      "text/plain": [
       "(dict, {'product': 'Opel', 'best_before': '2023-01-01', 'Price': 250000})"
      ]
     },
     "execution_count": 38,
     "metadata": {},
     "output_type": "execute_result"
    }
   ],
   "source": [
    "## We can als add new instances with __dict__ method\n",
    "s2 = Supermarket.add_product(\"Opel\", \"2023-01-01\")\n",
    "s2.add_product, s2.best_before\n",
    "\n",
    "s2.__dict__[\"Price\"] = 250000\n",
    "\n",
    "type(s2.__dict__), s2.__dict__"
   ]
  },
  {
   "attachments": {},
   "cell_type": "markdown",
   "metadata": {},
   "source": [
    "Careful with Mutables"
   ]
  },
  {
   "cell_type": "code",
   "execution_count": null,
   "metadata": {},
   "outputs": [],
   "source": [
    "## Mutables: List, Dict, Sets ...\n",
    "## Immutables: Numbers, String, Tuple, Frozen Set"
   ]
  },
  {
   "cell_type": "code",
   "execution_count": null,
   "metadata": {},
   "outputs": [],
   "source": [
    "## If we want to use Mutable object in our class for class object, We have to aware of side affect.\n",
    "## Mutable object are stored certain pointer. If we add or remove object with those objects, all class will be affected.\n",
    "## But Immutable object not like Mutable object. Every each object which are created that class will be different object."
   ]
  },
  {
   "cell_type": "code",
   "execution_count": 55,
   "metadata": {},
   "outputs": [],
   "source": [
    "class Player:\n",
    "    def __init__(self, name, price) -> None:\n",
    "        self.name = name\n",
    "        self.price = price\n",
    "\n",
    "class AnkaraGucu:\n",
    "    worth = 1-000-000-000\n",
    "    players = [Player(\"Yusa\", 1-000-000) for x in range(5)]\n",
    "    def __init__(self, isAvailable):\n",
    "        self.isAvailable = isAvailable"
   ]
  },
  {
   "cell_type": "code",
   "execution_count": 56,
   "metadata": {},
   "outputs": [
    {
     "data": {
      "text/plain": [
       "(([<__main__.Player at 0x2140af7c0a0>,\n",
       "   <__main__.Player at 0x2140c017550>,\n",
       "   <__main__.Player at 0x2140c017940>,\n",
       "   <__main__.Player at 0x2140af84610>,\n",
       "   <__main__.Player at 0x2140af84be0>],\n",
       "  [<__main__.Player at 0x2140af7c0a0>,\n",
       "   <__main__.Player at 0x2140c017550>,\n",
       "   <__main__.Player at 0x2140c017940>,\n",
       "   <__main__.Player at 0x2140af84610>,\n",
       "   <__main__.Player at 0x2140af84be0>]),\n",
       " True)"
      ]
     },
     "execution_count": 56,
     "metadata": {},
     "output_type": "execute_result"
    }
   ],
   "source": [
    "a1 = AnkaraGucu(\"True\")\n",
    "a2 = AnkaraGucu(\"False\")\n",
    "\n",
    "(a1.players, a2.players), (a1.players == a2.players)"
   ]
  },
  {
   "attachments": {},
   "cell_type": "markdown",
   "metadata": {},
   "source": [
    "Docstrings"
   ]
  },
  {
   "cell_type": "code",
   "execution_count": 57,
   "metadata": {},
   "outputs": [],
   "source": [
    "class Player:\n",
    "    \"\"\"Defines an player which plays in a football club.\n",
    "    \n",
    "    :param name: player's name\n",
    "    :param price: player's worth\n",
    "    \"\"\"\n",
    "    \n",
    "    def __init__(self, name, price) -> None:\n",
    "        self.name = name\n",
    "        self.price = price"
   ]
  },
  {
   "cell_type": "code",
   "execution_count": null,
   "metadata": {},
   "outputs": [],
   "source": []
  }
 ],
 "metadata": {
  "kernelspec": {
   "display_name": "Python 3",
   "language": "python",
   "name": "python3"
  },
  "language_info": {
   "codemirror_mode": {
    "name": "ipython",
    "version": 3
   },
   "file_extension": ".py",
   "mimetype": "text/x-python",
   "name": "python",
   "nbconvert_exporter": "python",
   "pygments_lexer": "ipython3",
   "version": "3.9.5"
  },
  "orig_nbformat": 4
 },
 "nbformat": 4,
 "nbformat_minor": 2
}
