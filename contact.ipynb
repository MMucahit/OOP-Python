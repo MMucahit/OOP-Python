{
 "cells": [
  {
   "cell_type": "code",
   "execution_count": 127,
   "metadata": {},
   "outputs": [],
   "source": [
    "class Contact:\n",
    "    def __init__(self, name, lastName, phone='', email='', display_mode = 'masked') -> None:\n",
    "        self.name = name\n",
    "        self.lastName = lastName\n",
    "        self.phone = phone\n",
    "        self.email = email\n",
    "        self.display_mode = display_mode\n",
    "    \n",
    "    def __repr__(self) -> str:\n",
    "        class_name = type(self).__name__\n",
    "        if self.display_mode == 'masked':\n",
    "            return f'{class_name}({self._obfuscate(self.name)!r}, {self._obfuscate(self.lastName)!r}, {self._obfuscate(self.phone)!r}, {self._obfuscate(self.email)!r}, {self.display_mode!r})'\n",
    "    \n",
    "        return f'{class_name}({self.name!r}, {self.lastName!r}, {self.phone!r}, {self.email!r}, {self.display_mode!r})'\n",
    "    \"\"\"If name and lastName are same those objects same. \n",
    "       Or Email and phone are not empty and same those objects are same.\n",
    "    \"\"\"\n",
    "\n",
    "    def __str__(self) -> str:\n",
    "        return f'{self.lastName[0]}{self.name[0]}'\n",
    "\n",
    "    def __eq__(self, __value: object) -> bool:\n",
    "        if not isinstance(__value, Contact):\n",
    "            return False\n",
    "\n",
    "        if self.name == __value.name and self.lastName == __value.lastName:\n",
    "            return True\n",
    "        else:\n",
    "            if self.email != '' and self.phone != '' and __value.email != '' and __value.phone != '':\n",
    "                if self.email == __value.email and self.phone == __value.phone:\n",
    "                    return True\n",
    "            return False\n",
    "    \n",
    "    def __hash__(self) -> int:\n",
    "        return hash((self.name, self.lastName, self.phone, self.email))\n",
    "\n",
    "    def __format__(self, __format_spec: str) -> str:\n",
    "        class_name = type(self).__name__\n",
    "        if __format_spec != 'masked':\n",
    "            return f'{class_name}({self.name!r}, {self.lastName!r}, {self.phone!r}, {self.email!r}, {self.display_mode!r})'\n",
    "        else:\n",
    "            return repr(self)\n",
    "\n",
    "    @staticmethod\n",
    "    def _obfuscate(text):\n",
    "        half_lenght = len(text) // 2\n",
    "        return text[:half_lenght] + '*' *(half_lenght + 1)"
   ]
  },
  {
   "cell_type": "code",
   "execution_count": 128,
   "metadata": {},
   "outputs": [
    {
     "data": {
      "text/plain": [
       "True"
      ]
     },
     "execution_count": 128,
     "metadata": {},
     "output_type": "execute_result"
    }
   ],
   "source": [
    "c1 = Contact('Mucahit', 'NAS')\n",
    "c2 = Contact('Mucahit', 'NAS')\n",
    "\n",
    "c1 == c2"
   ]
  },
  {
   "cell_type": "code",
   "execution_count": 129,
   "metadata": {},
   "outputs": [
    {
     "data": {
      "text/plain": [
       "True"
      ]
     },
     "execution_count": 129,
     "metadata": {},
     "output_type": "execute_result"
    }
   ],
   "source": [
    "c1 = Contact('Mucahit', 'NAS', '05554443322', 'mmucahit@gmail.com')\n",
    "c2 = Contact('Yusa', 'AKCAN', '05554443322', 'mmucahit@gmail.com')\n",
    "\n",
    "c1 == c2"
   ]
  },
  {
   "cell_type": "code",
   "execution_count": 130,
   "metadata": {},
   "outputs": [
    {
     "data": {
      "text/plain": [
       "False"
      ]
     },
     "execution_count": 130,
     "metadata": {},
     "output_type": "execute_result"
    }
   ],
   "source": [
    "c1 = Contact('Mucahit', 'NAS', '', 'mmucahit@gmail.com')\n",
    "c2 = Contact('Yusa', 'AKCAN', '', 'mmucahit@gmail.com')\n",
    "\n",
    "c1 == c2"
   ]
  },
  {
   "cell_type": "code",
   "execution_count": 137,
   "metadata": {},
   "outputs": [
    {
     "data": {
      "text/plain": [
       "(\"Contact('Muc****', 'N**', '*', 'mmucahit@**********', 'masked')\",\n",
       " \"Contact('Muc****', 'N**', '*', 'mmucahit@**********', 'masked')\",\n",
       " \"Contact('Muc****', 'N**', '*', 'mmucahit@**********', 'masked')\",\n",
       " \"Contact('Muc****', 'N**', '*', 'mmucahit@**********', 'masked')\")"
      ]
     },
     "execution_count": 137,
     "metadata": {},
     "output_type": "execute_result"
    }
   ],
   "source": [
    "f'{c1:masked}', format(c1, 'masked'), '{:masked}'.format(c1), c1.__format__('masked')"
   ]
  },
  {
   "cell_type": "code",
   "execution_count": 138,
   "metadata": {},
   "outputs": [
    {
     "data": {
      "text/plain": [
       "(\"Contact('Mucahit', 'NAS', '', 'mmucahit@gmail.com', 'masked')\",\n",
       " \"Contact('Mucahit', 'NAS', '', 'mmucahit@gmail.com', 'masked')\",\n",
       " \"Contact('Mucahit', 'NAS', '', 'mmucahit@gmail.com', 'masked')\",\n",
       " \"Contact('Mucahit', 'NAS', '', 'mmucahit@gmail.com', 'masked')\")"
      ]
     },
     "execution_count": 138,
     "metadata": {},
     "output_type": "execute_result"
    }
   ],
   "source": [
    "f'{c1:unmasked}', format(c1, 'unmasked'), '{:unmasked}'.format(c1), c1.__format__('unmasked')"
   ]
  },
  {
   "cell_type": "code",
   "execution_count": null,
   "metadata": {},
   "outputs": [],
   "source": []
  }
 ],
 "metadata": {
  "kernelspec": {
   "display_name": "Python 3",
   "language": "python",
   "name": "python3"
  },
  "language_info": {
   "codemirror_mode": {
    "name": "ipython",
    "version": 3
   },
   "file_extension": ".py",
   "mimetype": "text/x-python",
   "name": "python",
   "nbconvert_exporter": "python",
   "pygments_lexer": "ipython3",
   "version": "3.9.5"
  },
  "orig_nbformat": 4
 },
 "nbformat": 4,
 "nbformat_minor": 2
}
