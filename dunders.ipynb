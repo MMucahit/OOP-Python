{
 "cells": [
  {
   "attachments": {},
   "cell_type": "markdown",
   "metadata": {},
   "source": [
    "## Dunders"
   ]
  },
  {
   "attachments": {},
   "cell_type": "markdown",
   "metadata": {},
   "source": [
    "### ``__repr__`` and ``__str__``"
   ]
  },
  {
   "cell_type": "code",
   "execution_count": null,
   "metadata": {},
   "outputs": [],
   "source": [
    "## We could customize our objects representation by implementing ``__repr__`` in the objects class definiton"
   ]
  },
  {
   "cell_type": "code",
   "execution_count": null,
   "metadata": {},
   "outputs": [],
   "source": [
    "## __repr__() provides the offical string representation of an object, aimed at the programmer.\n",
    "## __str__() provides the informal string representation of an object, aimed at the user.\n",
    "class Book:\n",
    "    def __init__(self, title, author, book_type, pages):\n",
    "        self.title = title\n",
    "        self.author = author\n",
    "        self.book_type = book_type\n",
    "        self.pages = pages\n",
    "\n",
    "    def __repr__(self) -> str:\n",
    "        class_name = type(self).__name__\n",
    "        return f\"{class_name}({self.title!r}, {self.author!r}, {self.book_type!r}, {self.pages})\"\n",
    "\n",
    "    def __str__(self) -> str:\n",
    "        return f'{self.title} - {self.book_type}'"
   ]
  },
  {
   "cell_type": "code",
   "execution_count": null,
   "metadata": {},
   "outputs": [],
   "source": [
    "b1 = Book(\"The Tatar Steppe\", \"Dino Buzzati\", \"Novel\", 125)\n",
    "b2 = Book(\"Anna Karenina\", \"Lev Tolstoy\", \"Novel\", 1024)"
   ]
  },
  {
   "cell_type": "code",
   "execution_count": null,
   "metadata": {},
   "outputs": [],
   "source": [
    "## __repr__() idealy should return valid python code which, if evaluated, rebuilds the instance. \n",
    "## We can create instance with repr's return\n",
    "b1 = eval(repr(b1))\n",
    "b2 = eval(repr(b2))\n",
    "\n",
    "type(b1), type(b2)"
   ]
  },
  {
   "attachments": {},
   "cell_type": "markdown",
   "metadata": {},
   "source": [
    "### ``__format__``"
   ]
  },
  {
   "cell_type": "code",
   "execution_count": null,
   "metadata": {},
   "outputs": [],
   "source": [
    "class Book:\n",
    "    def __init__(self, title, author, book_type, pages):\n",
    "        self.title = title\n",
    "        self.author = author\n",
    "        self.book_type = book_type\n",
    "        self.pages = pages\n",
    "\n",
    "    def __repr__(self) -> str:\n",
    "        class_name = type(self).__name__\n",
    "        return f\"{class_name}({self.title!r}, {self.author!r}, {self.book_type!r}, {self.pages})\"\n",
    "\n",
    "    def __format__(self, __format_spec: str) -> str:\n",
    "        if __format_spec == 'ta':\n",
    "            return f'{self.title} - {self.author}'\n",
    "\n",
    "        elif __format_spec == 'bp':\n",
    "            return f'{self.book_type} - {self.pages}'\n",
    "        \n",
    "        return repr(self)"
   ]
  },
  {
   "cell_type": "code",
   "execution_count": null,
   "metadata": {},
   "outputs": [],
   "source": [
    "## f-string, the format() built-in and str.format() all call the same dunder.\n",
    "b1 = Book(\"The Tatar Steppe\", \"Dino Buzzati\", \"Novel\", 125)\n",
    "\n",
    "print(format(b1, 'ta'), f'{b1:ta}', '{:ta}'.format(b1), b1.__format__('ta'))\n",
    "print(format(b1, 'bp'), f'{b1:bp}', '{:bp}'.format(b1), b1.__format__('bp'))"
   ]
  },
  {
   "attachments": {},
   "cell_type": "markdown",
   "metadata": {},
   "source": [
    "### ``__eq__``"
   ]
  },
  {
   "cell_type": "code",
   "execution_count": null,
   "metadata": {},
   "outputs": [],
   "source": [
    "## By default, instances of the same class in python are not equal because those are stored different memory\n",
    "class Book:\n",
    "    def __init__(self, title, author, book_type, pages):\n",
    "        self.title = title\n",
    "        self.author = author\n",
    "        self.book_type = book_type\n",
    "        self.pages = pages\n",
    "\n",
    "    def __eq__(self, __value: object) -> bool:\n",
    "        if not isinstance(__value, Book):\n",
    "            return False\n",
    "    \n",
    "    def __repr__(self) -> str:\n",
    "        class_name = type(self).__name__\n",
    "        return f\"{class_name}({self.title!r}, {self.author!r}, {self.book_type!r}, {self.pages})\"\n",
    "    \n",
    "        return self.title == __value.title and self.author == __value.author"
   ]
  },
  {
   "cell_type": "code",
   "execution_count": null,
   "metadata": {},
   "outputs": [],
   "source": [
    "b1 = Book(\"The Tatar Steppe\", \"Dino Buzzati\", \"Novel\", 125)\n",
    "b2 = Book(\"The Tatar Steppe\", \"Dino Buzzati\", \"Novel\", 125)"
   ]
  },
  {
   "cell_type": "code",
   "execution_count": null,
   "metadata": {},
   "outputs": [],
   "source": [
    "b1 == b2"
   ]
  },
  {
   "cell_type": "code",
   "execution_count": null,
   "metadata": {},
   "outputs": [],
   "source": [
    "from collections import namedtuple\n",
    "\n",
    "## If we didn't check other object type in __eq__, __eq__ return True\n",
    "custom_tuple = namedtuple('Book', ['title', 'author'])\n",
    "c1 = custom_tuple(\"The Tatar Steppe\", \"Dino Buzzati\")\n",
    "\n",
    "(c1.title, c1.author), b1 == c1"
   ]
  },
  {
   "attachments": {},
   "cell_type": "markdown",
   "metadata": {},
   "source": [
    "#### namedtuple"
   ]
  },
  {
   "cell_type": "code",
   "execution_count": null,
   "metadata": {},
   "outputs": [],
   "source": [
    "## Kind of tuple but we can access their values using field names and the dot notation.\n",
    "custom_tuple = namedtuple('Book', ['title', 'author'])\n",
    "c1 = custom_tuple(\"The Tatar Steppe\", \"Dino Buzzati\")\n",
    "\n",
    "(c1.title, c1.author)"
   ]
  },
  {
   "cell_type": "code",
   "execution_count": null,
   "metadata": {},
   "outputs": [],
   "source": [
    "## We can create class with nametuple\n",
    "BasePerson = namedtuple(\"BasePerson\", ['name', 'birthday', 'country'])\n",
    "\n",
    "class Person(BasePerson):\n",
    "    __slots__ = ()\n",
    "\n",
    "    def __repr__(self) -> str:\n",
    "        return f'Name: {self.name}, Birthday: {self.birthday}, Country: {self.country}'\n",
    "\n",
    "p1 = Person('Madao', '01-01-1990', 'Japan')    "
   ]
  },
  {
   "cell_type": "code",
   "execution_count": null,
   "metadata": {},
   "outputs": [],
   "source": [
    "p1.birthday"
   ]
  },
  {
   "attachments": {},
   "cell_type": "markdown",
   "metadata": {},
   "source": [
    "### ``__hash__``"
   ]
  },
  {
   "cell_type": "code",
   "execution_count": null,
   "metadata": {},
   "outputs": [],
   "source": [
    "## By default, user-defined classes are hashable\n",
    "## When we define __eq__, makes them unhashable mostly protect us unpleasant side effects\n",
    "## We can make a class hashable again by defining __hash__\n",
    "## It's a good idea for __hash__ to consider the same attributes that __eq__ uses in determinig equality "
   ]
  },
  {
   "cell_type": "code",
   "execution_count": null,
   "metadata": {},
   "outputs": [],
   "source": [
    "class Book:\n",
    "    def __init__(self, title, author, book_type, pages):\n",
    "        self.title = title\n",
    "        self.author = author\n",
    "        self.book_type = book_type\n",
    "        self.pages = pages\n",
    "\n",
    "    def __eq__(self, __value: object) -> bool:\n",
    "        if not isinstance(__value, Book):\n",
    "            return False\n",
    "    \n",
    "        return self.title == __value.title and self.author == __value.author\n",
    "\n",
    "    def __repr__(self) -> str:\n",
    "        class_name = type(self).__name__\n",
    "        return f\"{class_name}({self.title!r}, {self.author!r}, {self.book_type!r}, {self.pages})\"\n",
    "\n",
    "    def __hash__(self) -> int:\n",
    "        return hash((self.title, self.author))"
   ]
  },
  {
   "cell_type": "code",
   "execution_count": null,
   "metadata": {},
   "outputs": [],
   "source": [
    "b1 = Book(\"The Tatar Steppe\", \"Dino Buzzati\", \"Novel\", 125)\n",
    "b2 = Book(\"Anna Karenina\", \"Lev Tolstoy\", \"Novel\", 1024)\n",
    "b3 = Book(\"The Tatar Steppe\", \"Dino Buzzati\", \"Novel\", 125)"
   ]
  },
  {
   "cell_type": "code",
   "execution_count": null,
   "metadata": {},
   "outputs": [],
   "source": [
    "hash(b1) == hash(b3), hash(b1) == hash(b2)"
   ]
  },
  {
   "attachments": {},
   "cell_type": "markdown",
   "metadata": {},
   "source": [
    "## Rich Comparisons"
   ]
  },
  {
   "cell_type": "code",
   "execution_count": null,
   "metadata": {},
   "outputs": [],
   "source": [
    "## The class must define one of __lt__(), __le__(), __gt__(), or __ge__().\n",
    "## In addition, the class should supply an __eq__() method."
   ]
  },
  {
   "cell_type": "code",
   "execution_count": 1,
   "metadata": {},
   "outputs": [],
   "source": [
    "from functools import total_ordering\n",
    "\n",
    "@total_ordering\n",
    "class Book:\n",
    "    def __init__(self, title, author, book_type, pages):\n",
    "        self.title = title\n",
    "        self.author = author\n",
    "        self.book_type = book_type\n",
    "        self.pages = pages\n",
    "\n",
    "    def __eq__(self, __value: object) -> bool:\n",
    "        if not isinstance(__value, Book):\n",
    "            return False\n",
    "    \n",
    "        return self.title == __value.title and self.author == __value.author\n",
    "\n",
    "    def __gt__(self, __value: object) -> bool:\n",
    "        if not isinstance(__value, Book):\n",
    "            return NotImplemented\n",
    "\n",
    "        else:\n",
    "            if self.pages > __value.pages:\n",
    "                return True\n",
    "        \n",
    "            return False\n",
    "    \n",
    "    def __repr__(self) -> str:\n",
    "        class_name = type(self).__name__\n",
    "        return f\"{class_name}({self.title!r}, {self.author!r}, {self.book_type!r}, {self.pages})\""
   ]
  },
  {
   "cell_type": "code",
   "execution_count": 2,
   "metadata": {},
   "outputs": [],
   "source": [
    "b1 = Book(\"The Tatar Steppe\", \"Dino Buzzati\", \"Novel\", 125)\n",
    "b2 = Book(\"Anna Karenina\", \"Lev Tolstoy\", \"Novel\", 1024)"
   ]
  },
  {
   "cell_type": "code",
   "execution_count": 3,
   "metadata": {},
   "outputs": [
    {
     "name": "stdout",
     "output_type": "stream",
     "text": [
      "False\n",
      "True\n",
      "True\n",
      "True\n",
      "False\n",
      "False\n"
     ]
    }
   ],
   "source": [
    "print(b1 == b2)\n",
    "print(b1 != b2)\n",
    "print(b1 < b2)\n",
    "print(b1 <= b2)\n",
    "print(b1 > b2)\n",
    "print(b1 >= b2)"
   ]
  },
  {
   "attachments": {},
   "cell_type": "markdown",
   "metadata": {},
   "source": [
    "## ``__bool__``"
   ]
  },
  {
   "cell_type": "code",
   "execution_count": 4,
   "metadata": {},
   "outputs": [],
   "source": [
    "from functools import total_ordering\n",
    "\n",
    "@total_ordering\n",
    "class Book:\n",
    "    def __init__(self, title, author, book_type, pages):\n",
    "        self.title = title\n",
    "        self.author = author\n",
    "        self.book_type = book_type\n",
    "        self.pages = pages\n",
    "\n",
    "    def __eq__(self, __value: object) -> bool:\n",
    "        if not isinstance(__value, Book):\n",
    "            return False\n",
    "    \n",
    "        return self.title == __value.title and self.author == __value.author\n",
    "\n",
    "    def __gt__(self, __value: object) -> bool:\n",
    "        if not isinstance(__value, Book):\n",
    "            return NotImplemented\n",
    "\n",
    "        else:\n",
    "            if self.pages > __value.pages:\n",
    "                return True\n",
    "        \n",
    "            return False\n",
    "        \n",
    "    def __repr__(self) -> str:\n",
    "        class_name = type(self).__name__\n",
    "        return f\"{class_name}({self.title!r}, {self.author!r}, {self.book_type!r}, {self.pages})\"\n",
    "    \n",
    "    def __bool__(self):\n",
    "        return bool(self.pages) and not (self.pages < 1)"
   ]
  },
  {
   "cell_type": "code",
   "execution_count": 5,
   "metadata": {},
   "outputs": [],
   "source": [
    "b_pos = Book(\"The Tatar Steppe\", \"Dino Buzzati\", \"Novel\", 125)\n",
    "b_zero = Book(\"Anna Karenina\", \"Lev Tolstoy\", \"Novel\", 0)\n",
    "b_neg = Book(\"Anna Karenina\", \"Lev Tolstoy\", \"Novel\", -1024)"
   ]
  },
  {
   "cell_type": "code",
   "execution_count": 6,
   "metadata": {},
   "outputs": [
    {
     "data": {
      "text/plain": [
       "(True, False, False)"
      ]
     },
     "execution_count": 6,
     "metadata": {},
     "output_type": "execute_result"
    }
   ],
   "source": [
    "bool(b_pos), bool(b_zero), bool(b_neg)"
   ]
  },
  {
   "attachments": {},
   "cell_type": "markdown",
   "metadata": {},
   "source": [
    "## ``__len__``"
   ]
  },
  {
   "cell_type": "code",
   "execution_count": 7,
   "metadata": {},
   "outputs": [],
   "source": [
    "from functools import total_ordering\n",
    "\n",
    "@total_ordering\n",
    "class Book:\n",
    "    def __init__(self, title, author, book_type, pages):\n",
    "        self.title = title\n",
    "        self.author = author\n",
    "        self.book_type = book_type\n",
    "        self.pages = pages\n",
    "\n",
    "    def __eq__(self, __value: object) -> bool:\n",
    "        if not isinstance(__value, Book):\n",
    "            return False\n",
    "    \n",
    "        return self.title == __value.title and self.author == __value.author\n",
    "\n",
    "    def __gt__(self, __value: object) -> bool:\n",
    "        if not isinstance(__value, Book):\n",
    "            return NotImplemented\n",
    "\n",
    "        else:\n",
    "            if self.pages > __value.pages:\n",
    "                return True\n",
    "        \n",
    "            return False\n",
    "    \n",
    "    def __repr__(self) -> str:\n",
    "            class_name = type(self).__name__\n",
    "            return f\"{class_name}({self.title!r}, {self.author!r}, {self.book_type!r}, {self.pages})\"\n",
    "\n",
    "    def __bool__(self):\n",
    "        return bool(self.pages) and not (self.pages < 1)\n",
    "    \n",
    "    def __len__(self):\n",
    "        return self.pages if self.pages > 0 else 0"
   ]
  },
  {
   "cell_type": "code",
   "execution_count": 8,
   "metadata": {},
   "outputs": [],
   "source": [
    "b_pos = Book(\"The Tatar Steppe\", \"Dino Buzzati\", \"Novel\", 125)\n",
    "b_zero = Book(\"Anna Karenina\", \"Lev Tolstoy\", \"Novel\", 0)\n",
    "b_neg = Book(\"Anna Karenina\", \"Lev Tolstoy\", \"Novel\", -1024)"
   ]
  },
  {
   "cell_type": "code",
   "execution_count": 9,
   "metadata": {},
   "outputs": [
    {
     "data": {
      "text/plain": [
       "(125, 0, 0)"
      ]
     },
     "execution_count": 9,
     "metadata": {},
     "output_type": "execute_result"
    }
   ],
   "source": [
    "len(b_pos), len(b_zero), len(b_neg)"
   ]
  },
  {
   "attachments": {},
   "cell_type": "markdown",
   "metadata": {},
   "source": [
    "## Container Class"
   ]
  },
  {
   "cell_type": "code",
   "execution_count": 97,
   "metadata": {},
   "outputs": [],
   "source": [
    "class BookShelf:\n",
    "    def __init__(self, capacity) -> None:\n",
    "        self.books = []\n",
    "        self.capacity = capacity\n",
    "    \n",
    "    def add_book(self, book):\n",
    "        if not isinstance(book, Book):\n",
    "            raise TypeError(\"Only Book instances could be added!\")\n",
    "        \n",
    "        if not self.capacity > len(self.books):\n",
    "            raise OverflowError(\"BookShelf is full!\")\n",
    "\n",
    "        self.books.append(book)\n",
    "\n",
    "    def __add__(self, __value):\n",
    "        if not isinstance(__value, Book):\n",
    "            raise TypeError(\"Only Book instances could be added!\")\n",
    "        \n",
    "        new_shelf = BookShelf(self.capacity)\n",
    "\n",
    "        for book in self.books:\n",
    "            new_shelf.add_book(book)\n",
    "        \n",
    "        new_shelf.add_book(__value)\n",
    "  \n",
    "        return new_shelf\n",
    "\n",
    "    def __radd__(self, __value):\n",
    "        if not isinstance(__value, Book):\n",
    "            raise TypeError(\"Only Book instances could be added!\")\n",
    "        \n",
    "        return self + __value\n",
    "\n",
    "    def __repr__(self) -> str:\n",
    "        return str(self.books)\n",
    "\n",
    "    def __len__(self) -> int:\n",
    "        return len(self.books)"
   ]
  },
  {
   "cell_type": "code",
   "execution_count": 69,
   "metadata": {},
   "outputs": [],
   "source": [
    "shelf = BookShelf(capacity=10)"
   ]
  },
  {
   "cell_type": "code",
   "execution_count": 70,
   "metadata": {},
   "outputs": [],
   "source": [
    "b1 = Book(\"The Tatar Steppe\", \"Dino Buzzati\", \"Novel\", 125)\n",
    "b2 = Book(\"The Alchemist\", \"Paulo Coelho\", \"Novel\", 100)\n",
    "b3 = Book(\"Anna Karenina\", \"Lev Tolstoy\", \"Novel\", 1024)"
   ]
  },
  {
   "cell_type": "code",
   "execution_count": 71,
   "metadata": {},
   "outputs": [],
   "source": [
    "shelf.add_book(b1)\n",
    "shelf.add_book(b2)"
   ]
  },
  {
   "cell_type": "code",
   "execution_count": 72,
   "metadata": {},
   "outputs": [
    {
     "data": {
      "text/plain": [
       "[Book('The Tatar Steppe', 'Dino Buzzati', 'Novel', 125), Book('The Alchemist', 'Paulo Coelho', 'Novel', 100), Book('Anna Karenina', 'Lev Tolstoy', 'Novel', 1024)]"
      ]
     },
     "execution_count": 72,
     "metadata": {},
     "output_type": "execute_result"
    }
   ],
   "source": [
    "## __add__() implement\n",
    "shelf + b3"
   ]
  },
  {
   "cell_type": "code",
   "execution_count": 73,
   "metadata": {},
   "outputs": [
    {
     "data": {
      "text/plain": [
       "[Book('The Tatar Steppe', 'Dino Buzzati', 'Novel', 125), Book('The Alchemist', 'Paulo Coelho', 'Novel', 100), Book('The Alchemist', 'Paulo Coelho', 'Novel', 100)]"
      ]
     },
     "execution_count": 73,
     "metadata": {},
     "output_type": "execute_result"
    }
   ],
   "source": [
    "## __radd__() implement\n",
    "b2 + shelf"
   ]
  },
  {
   "cell_type": "code",
   "execution_count": 76,
   "metadata": {},
   "outputs": [],
   "source": [
    "## If class have __add__ and __radd__, class have inplace add opertation skilss without implementation\n",
    "shelf += b3\n",
    "shelf += b1\n",
    "shelf += b2"
   ]
  },
  {
   "attachments": {},
   "cell_type": "markdown",
   "metadata": {},
   "source": [
    "## ``__getitem__``"
   ]
  },
  {
   "cell_type": "code",
   "execution_count": 116,
   "metadata": {},
   "outputs": [],
   "source": [
    "class BookShelf:\n",
    "    def __init__(self, capacity) -> None:\n",
    "        self.books = []\n",
    "        self.capacity = capacity\n",
    "    \n",
    "    def add_book(self, book) -> None:\n",
    "        if not isinstance(book, Book):\n",
    "            raise TypeError(\"Only Book instances could be added!\")\n",
    "        \n",
    "        if not self.capacity > len(self.books):\n",
    "            raise OverflowError(\"BookShelf is full!\")\n",
    "\n",
    "        self.books.append(book)\n",
    "\n",
    "    def __add__(self, __value):\n",
    "        if not isinstance(__value, Book):\n",
    "            raise TypeError(\"Only Book instances could be added!\")\n",
    "        \n",
    "        new_shelf = BookShelf(self.capacity)\n",
    "\n",
    "        for book in self.books:\n",
    "            new_shelf.add_book(book)\n",
    "        \n",
    "        new_shelf.add_book(__value)\n",
    "  \n",
    "        return new_shelf\n",
    "\n",
    "    def __radd__(self, __value):\n",
    "        if not isinstance(__value, Book):\n",
    "            raise TypeError(\"Only Book instances could be added!\")\n",
    "        \n",
    "        return self + __value\n",
    "\n",
    "    def __getitem__(self, __value) -> list:\n",
    "        if isinstance(__value, str):\n",
    "            return [book for book in self.books if __value.lower() in book.title.lower()]\n",
    "        return self.books[__value]\n",
    "\n",
    "    def __repr__(self) -> str:\n",
    "        return str(self.books)\n",
    "\n",
    "    def __len__(self) -> int:\n",
    "        return len(self.books)"
   ]
  },
  {
   "cell_type": "code",
   "execution_count": 117,
   "metadata": {},
   "outputs": [
    {
     "data": {
      "text/plain": [
       "[Book('The Tatar Steppe', 'Dino Buzzati', 'Novel', 125), Book('The Alchemist', 'Paulo Coelho', 'Novel', 100), Book('Anna Karenina', 'Lev Tolstoy', 'Novel', 1024)]"
      ]
     },
     "execution_count": 117,
     "metadata": {},
     "output_type": "execute_result"
    }
   ],
   "source": [
    "b1 = Book(\"The Tatar Steppe\", \"Dino Buzzati\", \"Novel\", 125)\n",
    "b2 = Book(\"The Alchemist\", \"Paulo Coelho\", \"Novel\", 100)\n",
    "b3 = Book(\"Anna Karenina\", \"Lev Tolstoy\", \"Novel\", 1024)\n",
    "\n",
    "shelf = BookShelf(capacity=10)\n",
    "\n",
    "for b in [b1, b2, b3]:\n",
    "    shelf += b\n",
    "\n",
    "shelf"
   ]
  },
  {
   "cell_type": "code",
   "execution_count": 126,
   "metadata": {},
   "outputs": [
    {
     "data": {
      "text/plain": [
       "(\"Access with index: Book('The Alchemist', 'Paulo Coelho', 'Novel', 100)\",\n",
       " \"Search with str: [Book('Anna Karenina', 'Lev Tolstoy', 'Novel', 1024)]\",\n",
       " \"Slice: [Book('The Tatar Steppe', 'Dino Buzzati', 'Novel', 125), Book('The Alchemist', 'Paulo Coelho', 'Novel', 100)]\")"
      ]
     },
     "execution_count": 126,
     "metadata": {},
     "output_type": "execute_result"
    }
   ],
   "source": [
    "## __getitem__ dunder provide us slicing functionalty\n",
    "f'Access with index: {shelf[1]}', f'Search with str: {shelf[\"Anna\"]}', f'Slice: {shelf[:2]}'"
   ]
  },
  {
   "cell_type": "code",
   "execution_count": 123,
   "metadata": {},
   "outputs": [
    {
     "name": "stdout",
     "output_type": "stream",
     "text": [
      "Book('The Tatar Steppe', 'Dino Buzzati', 'Novel', 125)\n",
      "Book('The Alchemist', 'Paulo Coelho', 'Novel', 100)\n",
      "Book('Anna Karenina', 'Lev Tolstoy', 'Novel', 1024)\n"
     ]
    }
   ],
   "source": [
    "## We can access items with for loop because we defined __getitem__ dunder\n",
    "for book in shelf:\n",
    "    print(book)"
   ]
  },
  {
   "cell_type": "code",
   "execution_count": null,
   "metadata": {},
   "outputs": [],
   "source": []
  }
 ],
 "metadata": {
  "kernelspec": {
   "display_name": "Python 3",
   "language": "python",
   "name": "python3"
  },
  "language_info": {
   "codemirror_mode": {
    "name": "ipython",
    "version": 3
   },
   "file_extension": ".py",
   "mimetype": "text/x-python",
   "name": "python",
   "nbconvert_exporter": "python",
   "pygments_lexer": "ipython3",
   "version": "3.9.5"
  },
  "orig_nbformat": 4
 },
 "nbformat": 4,
 "nbformat_minor": 2
}
