{
  "cells":[
    {
      "cell_type":"markdown",
      "source":[
        "## `The Exception Object`"
      ],
      "attachments":{
        
      },
      "metadata":{
        
      }
    },
    {
      "cell_type":"code",
      "source":[
        "1 + \"andy\""
      ],
      "execution_count":1,
      "outputs":[
        {
          "ename":"TypeError",
          "evalue":"TypeError: unsupported operand type(s) for +: 'int' and 'str'",
          "traceback":[
            "\u001b[0;31m---------------------------------------------------------------------------",
            "Traceback (most recent call last)",
            "    at line 1 in <module>",
            "TypeError: unsupported operand type(s) for +: 'int' and 'str'"
          ],
          "output_type":"error"
        }
      ],
      "metadata":{
        
      }
    },
    {
      "cell_type":"code",
      "source":[
        "1 + andy"
      ],
      "execution_count":2,
      "outputs":[
        {
          "ename":"NameError",
          "evalue":"NameError: name 'andy' is not defined",
          "traceback":[
            "\u001b[0;31m---------------------------------------------------------------------------",
            "Traceback (most recent call last)",
            "    at line 1 in <module>",
            "NameError: name 'andy' is not defined"
          ],
          "output_type":"error"
        }
      ],
      "metadata":{
        
      }
    },
    {
      "cell_type":"code",
      "source":[
        "# control flow"
      ],
      "execution_count":3,
      "outputs":[
        
      ],
      "metadata":{
        
      }
    },
    {
      "cell_type":"code",
      "source":[
        "BaseException()"
      ],
      "execution_count":4,
      "outputs":[
        {
          "data":{
            "text\/plain":[
              "BaseException()"
            ]
          },
          "metadata":{
            
          },
          "output_type":"display_data"
        }
      ],
      "metadata":{
        
      }
    },
    {
      "cell_type":"code",
      "source":[
        "issubclass(NameError, BaseException), issubclass(TypeError, BaseException)"
      ],
      "execution_count":7,
      "outputs":[
        {
          "data":{
            "text\/plain":[
              "(True, True)"
            ]
          },
          "metadata":{
            
          },
          "output_type":"display_data"
        }
      ],
      "metadata":{
        
      }
    },
    {
      "cell_type":"code",
      "source":[
        "TypeError.__mro__"
      ],
      "execution_count":8,
      "outputs":[
        {
          "data":{
            "text\/plain":[
              "(TypeError, Exception, BaseException, object)"
            ]
          },
          "metadata":{
            
          },
          "output_type":"display_data"
        }
      ],
      "metadata":{
        
      }
    },
    {
      "cell_type":"code",
      "source":[
        "1 \/ 0\n",
        "\n",
        "2 + 2"
      ],
      "execution_count":9,
      "outputs":[
        {
          "ename":"ZeroDivisionError",
          "evalue":"ZeroDivisionError: division by zero",
          "traceback":[
            "\u001b[0;31m---------------------------------------------------------------------------",
            "Traceback (most recent call last)",
            "    at line 1 in <module>",
            "ZeroDivisionError: division by zero"
          ],
          "output_type":"error"
        }
      ],
      "metadata":{
        
      }
    },
    {
      "cell_type":"code",
      "source":[
        "give_me_ints = iter(list(range(10)))"
      ],
      "execution_count":10,
      "outputs":[
        
      ],
      "metadata":{
        
      }
    },
    {
      "cell_type":"code",
      "source":[
        "next(give_me_ints)"
      ],
      "execution_count":13,
      "outputs":[
        {
          "data":{
            "text\/plain":[
              "2"
            ]
          },
          "metadata":{
            
          },
          "output_type":"display_data"
        }
      ],
      "metadata":{
        
      }
    },
    {
      "cell_type":"code",
      "source":[
        "for i in range(10):\n",
        "    print(next(give_me_ints))"
      ],
      "execution_count":14,
      "outputs":[
        {
          "name":"stdout",
          "text":[
            "3\n",
            "4\n",
            "5\n",
            "6\n",
            "7\n",
            "8\n",
            "9\n"
          ],
          "output_type":"stream"
        },
        {
          "ename":"StopIteration",
          "evalue":"StopIteration: ",
          "traceback":[
            "\u001b[0;31m---------------------------------------------------------------------------",
            "Traceback (most recent call last)",
            "    at line 2 in <module>",
            "StopIteration: "
          ],
          "output_type":"error"
        }
      ],
      "metadata":{
        
      }
    },
    {
      "cell_type":"code",
      "source":[
        "# SyntaxError"
      ],
      "execution_count":15,
      "outputs":[
        
      ],
      "metadata":{
        
      }
    },
    {
      "cell_type":"code",
      "source":[
        "if True\n",
        "    print(\"hello\")"
      ],
      "execution_count":16,
      "outputs":[
        {
          "ename":"SyntaxError",
          "evalue":"SyntaxError: invalid syntax",
          "traceback":[
            "\u001b[0;31m---------------------------------------------------------------------------",
            "Traceback (most recent call last)",
            "    at line 1 in <module>",
            "SyntaxError: invalid syntax"
          ],
          "output_type":"error"
        }
      ],
      "metadata":{
        
      }
    },
    {
      "cell_type":"markdown",
      "source":[
        "## `Handling`"
      ],
      "attachments":{
        
      },
      "metadata":{
        
      }
    },
    {
      "cell_type":"code",
      "source":[
        "1 \/ 0"
      ],
      "execution_count":17,
      "outputs":[
        {
          "ename":"ZeroDivisionError",
          "evalue":"ZeroDivisionError: division by zero",
          "traceback":[
            "\u001b[0;31m---------------------------------------------------------------------------",
            "Traceback (most recent call last)",
            "    at line 1 in <module>",
            "ZeroDivisionError: division by zero"
          ],
          "output_type":"error"
        }
      ],
      "metadata":{
        
      }
    },
    {
      "cell_type":"code",
      "source":[
        "# exception propagation flow -> exception handlers"
      ],
      "execution_count":18,
      "outputs":[
        
      ],
      "metadata":{
        
      }
    },
    {
      "cell_type":"code",
      "source":[
        "try:\n",
        "    1 \/ 0\n",
        "except ZeroDivisionError:\n",
        "    print(\"It's undefined, I know\")"
      ],
      "execution_count":21,
      "outputs":[
        {
          "name":"stdout",
          "text":[
            "It's undefined, I know\n"
          ],
          "output_type":"stream"
        }
      ],
      "metadata":{
        
      }
    },
    {
      "cell_type":"code",
      "source":[
        "1 \/ 0\n",
        "\n",
        "print(\"Did you get here though?\")"
      ],
      "execution_count":22,
      "outputs":[
        {
          "ename":"ZeroDivisionError",
          "evalue":"ZeroDivisionError: division by zero",
          "traceback":[
            "\u001b[0;31m---------------------------------------------------------------------------",
            "Traceback (most recent call last)",
            "    at line 1 in <module>",
            "ZeroDivisionError: division by zero"
          ],
          "output_type":"error"
        }
      ],
      "metadata":{
        
      }
    },
    {
      "cell_type":"code",
      "source":[
        "try:\n",
        "    1 \/ 0\n",
        "except ZeroDivisionError:\n",
        "    print(\"It's undefined, I know\")\n",
        "\n",
        "\n",
        "print(\"Did you get here though?\")"
      ],
      "execution_count":23,
      "outputs":[
        {
          "name":"stdout",
          "text":[
            "It's undefined, I know\n",
            "Did you get here though?\n"
          ],
          "output_type":"stream"
        }
      ],
      "metadata":{
        
      }
    },
    {
      "cell_type":"code",
      "source":[
        "try:\n",
        "    andy \/ 0 # NamedError\n",
        "except ZeroDivisionError:\n",
        "    print(\"It's undefined, I know\")\n",
        "\n",
        "\n",
        "print(\"Did you get here though?\")"
      ],
      "execution_count":24,
      "outputs":[
        {
          "ename":"NameError",
          "evalue":"NameError: name 'andy' is not defined",
          "traceback":[
            "\u001b[0;31m---------------------------------------------------------------------------",
            "Traceback (most recent call last)",
            "    at line 2 in <module>",
            "NameError: name 'andy' is not defined"
          ],
          "output_type":"error"
        }
      ],
      "metadata":{
        
      }
    },
    {
      "cell_type":"code",
      "source":[
        "try:\n",
        "    andy \/ 0 # NamedError\n",
        "except:\n",
        "    print(\"It's undefined, I know\")\n",
        "\n",
        "\n",
        "print(\"Did you get here though?\")"
      ],
      "execution_count":25,
      "outputs":[
        {
          "name":"stdout",
          "text":[
            "It's undefined, I know\n",
            "Did you get here though?\n"
          ],
          "output_type":"stream"
        }
      ],
      "metadata":{
        
      }
    },
    {
      "cell_type":"markdown",
      "source":[
        "## `Raising`"
      ],
      "attachments":{
        
      },
      "metadata":{
        
      }
    },
    {
      "cell_type":"code",
      "source":[
        "raise ValueError"
      ],
      "execution_count":26,
      "outputs":[
        {
          "ename":"ValueError",
          "evalue":"ValueError: ",
          "traceback":[
            "\u001b[0;31m---------------------------------------------------------------------------",
            "Traceback (most recent call last)",
            "    at line 1 in <module>",
            "ValueError: "
          ],
          "output_type":"error"
        }
      ],
      "metadata":{
        
      }
    },
    {
      "cell_type":"code",
      "source":[
        "raise ValueError(\"That made no sense\")"
      ],
      "execution_count":27,
      "outputs":[
        {
          "ename":"ValueError",
          "evalue":"ValueError: That made no sense",
          "traceback":[
            "\u001b[0;31m---------------------------------------------------------------------------",
            "Traceback (most recent call last)",
            "    at line 1 in <module>",
            "ValueError: That made no sense"
          ],
          "output_type":"error"
        }
      ],
      "metadata":{
        
      }
    },
    {
      "cell_type":"code",
      "source":[
        "try:\n",
        "    raise ValueError(\"That made no sense\")\n",
        "except ValueError:\n",
        "    print(\"Got here...\")"
      ],
      "execution_count":28,
      "outputs":[
        {
          "name":"stdout",
          "text":[
            "Got here...\n"
          ],
          "output_type":"stream"
        }
      ],
      "metadata":{
        
      }
    },
    {
      "cell_type":"code",
      "source":[
        "portfolio = [\n",
        "    {\"ticker\": \"GOOGL\", \"quantity\": 10},\n",
        "    {\"ticker\": \"LMT\", \"quantity\": 10},\n",
        "    {\"ticker\": \"DOCN\", \"quantity\": 100},\n",
        "]"
      ],
      "execution_count":32,
      "outputs":[
        
      ],
      "metadata":{
        
      }
    },
    {
      "cell_type":"code",
      "source":[
        "try:\n",
        "    if any([True for position in portfolio if position['quantity'] == 0]):\n",
        "        raise ValueError(\"Portfolio position with zero shares detected\")\n",
        "\n",
        "    print(f\"The portfolio has {len(portfolio)}.\")\n",
        "except ValueError as exp:\n",
        "    print(exp)"
      ],
      "execution_count":33,
      "outputs":[
        {
          "name":"stdout",
          "text":[
            "The portfolio has 3.\n"
          ],
          "output_type":"stream"
        }
      ],
      "metadata":{
        
      }
    },
    {
      "cell_type":"code",
      "source":[
        "raise \"Andy\""
      ],
      "execution_count":34,
      "outputs":[
        {
          "ename":"TypeError",
          "evalue":"TypeError: exceptions must derive from BaseException",
          "traceback":[
            "\u001b[0;31m---------------------------------------------------------------------------",
            "Traceback (most recent call last)",
            "    at line 1 in <module>",
            "TypeError: exceptions must derive from BaseException"
          ],
          "output_type":"error"
        }
      ],
      "metadata":{
        
      }
    },
    {
      "cell_type":"code",
      "source":[
        "class Andy(BaseException):\n",
        "    pass"
      ],
      "execution_count":35,
      "outputs":[
        
      ],
      "metadata":{
        
      }
    },
    {
      "cell_type":"code",
      "source":[
        "raise Andy(\"meaninggless\")"
      ],
      "execution_count":37,
      "outputs":[
        {
          "ename":"Andy",
          "evalue":"Andy: meaninggless",
          "traceback":[
            "\u001b[0;31m---------------------------------------------------------------------------",
            "Traceback (most recent call last)",
            "    at line 1 in <module>",
            "Andy: meaninggless"
          ],
          "output_type":"error"
        }
      ],
      "metadata":{
        
      }
    },
    {
      "cell_type":"markdown",
      "source":[
        "## `EAFP`"
      ],
      "attachments":{
        
      },
      "metadata":{
        
      }
    },
    {
      "cell_type":"code",
      "source":[
        "# \"Easier to Ask for Forgiveness than Permission\""
      ],
      "execution_count":38,
      "outputs":[
        
      ],
      "metadata":{
        
      }
    },
    {
      "cell_type":"code",
      "source":[
        "!touch greeting.txt"
      ],
      "execution_count":39,
      "outputs":[
        
      ],
      "metadata":{
        
      }
    },
    {
      "cell_type":"code",
      "source":[
        "!echo \"Hey there\" > greeting.txt"
      ],
      "execution_count":41,
      "outputs":[
        
      ],
      "metadata":{
        
      }
    },
    {
      "cell_type":"code",
      "source":[
        "!cat greeting.txt"
      ],
      "execution_count":42,
      "outputs":[
        {
          "name":"stdout",
          "text":[
            "Hey there\r\n"
          ],
          "output_type":"stream"
        }
      ],
      "metadata":{
        
      }
    },
    {
      "cell_type":"code",
      "source":[
        "greeting_file = open(file=\"greeting.txt\", mode=\"r\")"
      ],
      "execution_count":44,
      "outputs":[
        
      ],
      "metadata":{
        
      }
    },
    {
      "cell_type":"code",
      "source":[
        "greeting_file.read()"
      ],
      "execution_count":45,
      "outputs":[
        {
          "data":{
            "text\/plain":[
              "'Hey there\\n'"
            ]
          },
          "metadata":{
            
          },
          "output_type":"display_data"
        }
      ],
      "metadata":{
        
      }
    },
    {
      "cell_type":"code",
      "source":[
        "import os\n",
        "\n",
        "filename = \"greeting.txt\"\n",
        "\n",
        "if not os.path.isfile(filename):\n",
        "    print(\"File could not be found\")\n",
        "elif not os.access(filename, mode=os.R_OK):\n",
        "    print(\"User does not have permission to read the file\")\n",
        "# ...\n",
        "else:\n",
        "    greeting_file = open(filename, \"r\")\n",
        "    text = greeting_file.read()\n",
        "    greeting_file.close()\n",
        "    print(text)\n",
        "\n"
      ],
      "execution_count":54,
      "outputs":[
        {
          "name":"stdout",
          "text":[
            "User does not have permission to read the file\n"
          ],
          "output_type":"stream"
        }
      ],
      "metadata":{
        
      }
    },
    {
      "cell_type":"code",
      "source":[
        "# LBYL -> Look Before You Leap"
      ],
      "execution_count":48,
      "outputs":[
        
      ],
      "metadata":{
        
      }
    },
    {
      "cell_type":"code",
      "source":[
        "# EAFP"
      ],
      "execution_count":49,
      "outputs":[
        
      ],
      "metadata":{
        
      }
    },
    {
      "cell_type":"code",
      "source":[
        "try:\n",
        "    greeting_file = open(\"greeting.txt\", \"r\")\n",
        "    text = greeting_file.read()\n",
        "    greeting_file.close()\n",
        "    \n",
        "    print(text)\n",
        "except:\n",
        "    print(\"File could not be read\")"
      ],
      "execution_count":52,
      "outputs":[
        {
          "name":"stdout",
          "text":[
            "File could not be read\n"
          ],
          "output_type":"stream"
        }
      ],
      "metadata":{
        
      }
    },
    {
      "cell_type":"code",
      "source":[
        "!sudo chmod u-r greeting.txt"
      ],
      "execution_count":51,
      "outputs":[
        
      ],
      "metadata":{
        
      }
    },
    {
      "cell_type":"markdown",
      "source":[
        "## `What's Up With SyntaxError?`"
      ],
      "attachments":{
        
      },
      "metadata":{
        
      }
    },
    {
      "cell_type":"code",
      "source":[
        "# different how?"
      ],
      "execution_count":65,
      "outputs":[
        
      ],
      "metadata":{
        
      }
    },
    {
      "cell_type":"code",
      "source":[
        "try: \n",
        "    nike \/\\ adidas\n",
        "except SyntaxError:\n",
        "    print(\"Handled!\")"
      ],
      "execution_count":66,
      "outputs":[
        {
          "ename":"SyntaxError",
          "evalue":"SyntaxError: unexpected character after line continuation character",
          "traceback":[
            "\u001b[0;31m---------------------------------------------------------------------------",
            "Traceback (most recent call last)",
            "    at line 2 in <module>",
            "SyntaxError: unexpected character after line continuation character"
          ],
          "output_type":"error"
        }
      ],
      "metadata":{
        
      }
    },
    {
      "cell_type":"code",
      "source":[
        "try: \n",
        "    nike * 2\n",
        "except NameError:\n",
        "    print(\"Handled!\")"
      ],
      "execution_count":67,
      "outputs":[
        {
          "name":"stdout",
          "text":[
            "Handled!\n"
          ],
          "output_type":"stream"
        }
      ],
      "metadata":{
        
      }
    },
    {
      "cell_type":"code",
      "source":[
        "SyntaxError.__mro__"
      ],
      "execution_count":68,
      "outputs":[
        {
          "data":{
            "text\/plain":[
              "(SyntaxError, Exception, BaseException, object)"
            ]
          },
          "metadata":{
            
          },
          "output_type":"display_data"
        }
      ],
      "metadata":{
        
      }
    },
    {
      "cell_type":"code",
      "source":[
        "NameError.__mro__"
      ],
      "execution_count":69,
      "outputs":[
        {
          "data":{
            "text\/plain":[
              "(NameError, Exception, BaseException, object)"
            ]
          },
          "metadata":{
            
          },
          "output_type":"display_data"
        }
      ],
      "metadata":{
        
      }
    },
    {
      "cell_type":"code",
      "source":[
        "# eval()"
      ],
      "execution_count":70,
      "outputs":[
        
      ],
      "metadata":{
        
      }
    },
    {
      "cell_type":"code",
      "source":[
        "2 + 2"
      ],
      "execution_count":71,
      "outputs":[
        {
          "data":{
            "text\/plain":[
              "4"
            ]
          },
          "metadata":{
            
          },
          "output_type":"display_data"
        }
      ],
      "metadata":{
        
      }
    },
    {
      "cell_type":"code",
      "source":[
        "eval(\"2 + 2\")"
      ],
      "execution_count":72,
      "outputs":[
        {
          "data":{
            "text\/plain":[
              "4"
            ]
          },
          "metadata":{
            
          },
          "output_type":"display_data"
        }
      ],
      "metadata":{
        
      }
    },
    {
      "cell_type":"code",
      "source":[
        "try: \n",
        "    eval(\"nike \/\\ adidas\")\n",
        "except SyntaxError:\n",
        "    print(\"Handled!\")"
      ],
      "execution_count":73,
      "outputs":[
        {
          "name":"stdout",
          "text":[
            "Handled!\n"
          ],
          "output_type":"stream"
        }
      ],
      "metadata":{
        
      }
    },
    {
      "cell_type":"markdown",
      "source":[
        "## `Exception Hierarchy`"
      ],
      "attachments":{
        
      },
      "metadata":{
        
      }
    },
    {
      "cell_type":"code",
      "source":[
        "SyntaxError.__mro__"
      ],
      "execution_count":2,
      "outputs":[
        {
          "data":{
            "text\/plain":[
              "(SyntaxError, Exception, BaseException, object)"
            ]
          },
          "metadata":{
            
          },
          "output_type":"display_data"
        }
      ],
      "metadata":{
        
      }
    },
    {
      "cell_type":"code",
      "source":[
        "NameError.__mro__"
      ],
      "execution_count":3,
      "outputs":[
        {
          "data":{
            "text\/plain":[
              "(NameError, Exception, BaseException, object)"
            ]
          },
          "metadata":{
            
          },
          "output_type":"display_data"
        }
      ],
      "metadata":{
        
      }
    },
    {
      "cell_type":"code",
      "source":[
        "ZeroDivisionError.__mro__"
      ],
      "execution_count":11,
      "outputs":[
        {
          "data":{
            "text\/plain":[
              "(ZeroDivisionError, ArithmeticError, Exception, BaseException, object)"
            ]
          },
          "metadata":{
            
          },
          "output_type":"display_data"
        }
      ],
      "metadata":{
        
      }
    },
    {
      "cell_type":"code",
      "source":[
        "try: \n",
        "    1\/0\n",
        "except ZeroDivisionError:\n",
        "    print(\"Trapped!\")"
      ],
      "execution_count":12,
      "outputs":[
        {
          "name":"stdout",
          "text":[
            "Trapped!\n"
          ],
          "output_type":"stream"
        }
      ],
      "metadata":{
        
      }
    },
    {
      "cell_type":"code",
      "source":[
        "try: \n",
        "    1\/0\n",
        "except ArithmeticError:\n",
        "    print(\"Trapped!\")"
      ],
      "execution_count":13,
      "outputs":[
        {
          "name":"stdout",
          "text":[
            "Trapped!\n"
          ],
          "output_type":"stream"
        }
      ],
      "metadata":{
        
      }
    },
    {
      "cell_type":"code",
      "source":[
        "issubclass(ZeroDivisionError, ArithmeticError)"
      ],
      "execution_count":14,
      "outputs":[
        {
          "data":{
            "text\/plain":[
              "True"
            ]
          },
          "metadata":{
            
          },
          "output_type":"display_data"
        }
      ],
      "metadata":{
        
      }
    },
    {
      "cell_type":"code",
      "source":[
        "import math"
      ],
      "execution_count":15,
      "outputs":[
        
      ],
      "metadata":{
        
      }
    },
    {
      "cell_type":"code",
      "source":[
        "try:\n",
        "    # math.exp(1000)\n",
        "    # 1\/0\n",
        "    raise ValueError\n",
        "except OverflowError:\n",
        "    print(\"Oops, overflowed!\")\n",
        "except ZeroDivisionError:\n",
        "    print(\"isnt division by 0 undefined?\")\n",
        "except ArithmeticError:\n",
        "    print(\"Trapped!\")\n",
        "except Exception:\n",
        "    print(\"some other exception...\")"
      ],
      "execution_count":24,
      "outputs":[
        {
          "name":"stdout",
          "text":[
            "some other exception...\n"
          ],
          "output_type":"stream"
        }
      ],
      "metadata":{
        
      }
    },
    {
      "cell_type":"markdown",
      "source":[
        "## `The Else Clause`"
      ],
      "attachments":{
        
      },
      "metadata":{
        
      }
    },
    {
      "cell_type":"code",
      "source":[
        "import json\n",
        "\n",
        "payload = '{\"name\": \"Andromeda\"}'\n",
        "\n",
        "decoded_data = json.loads(payload)"
      ],
      "execution_count":32,
      "outputs":[
        
      ],
      "metadata":{
        
      }
    },
    {
      "cell_type":"code",
      "source":[
        "type(decoded_data)"
      ],
      "execution_count":30,
      "outputs":[
        {
          "data":{
            "text\/plain":[
              "dict"
            ]
          },
          "metadata":{
            
          },
          "output_type":"display_data"
        }
      ],
      "metadata":{
        
      }
    },
    {
      "cell_type":"code",
      "source":[
        "json.JSONDecodeError"
      ],
      "execution_count":33,
      "outputs":[
        {
          "data":{
            "text\/plain":[
              "json.decoder.JSONDecodeError"
            ]
          },
          "metadata":{
            
          },
          "output_type":"display_data"
        }
      ],
      "metadata":{
        
      }
    },
    {
      "cell_type":"code",
      "source":[
        "json.JSONDecodeError.__mro__"
      ],
      "execution_count":34,
      "outputs":[
        {
          "data":{
            "text\/plain":[
              "(json.decoder.JSONDecodeError, ValueError, Exception, BaseException, object)"
            ]
          },
          "metadata":{
            
          },
          "output_type":"display_data"
        }
      ],
      "metadata":{
        
      }
    },
    {
      "cell_type":"code",
      "source":[
        
      ],
      "execution_count":24,
      "outputs":[
        
      ],
      "metadata":{
        
      }
    },
    {
      "cell_type":"code",
      "source":[
        "# payload = '[\"Andre\"]'\n",
        "# payload = '{\"name\": \"Andromeda\"}'\n",
        "payload = 'Andromeda'\n",
        "\n",
        "try:\n",
        "    decoded = json.loads(payload)\n",
        "except json.JSONDecodeError:\n",
        "    print(\"THe payload is invalid\")\n",
        "else:\n",
        "    print(f\"The payload was decoded successfully. It is of type {type(decoded)}\")"
      ],
      "execution_count":41,
      "outputs":[
        {
          "name":"stdout",
          "text":[
            "THe payload is invalid\n"
          ],
          "output_type":"stream"
        }
      ],
      "metadata":{
        
      }
    },
    {
      "cell_type":"code",
      "source":[
        "# payload = '[\"Andre\"]'\n",
        "# payload = '{\"name\": \"Andromeda\"}'\n",
        "payload = 'Andromeda'\n",
        "\n",
        "try:\n",
        "    decoded = json.loads(payload)\n",
        "except json.JSONDecodeError:\n",
        "    print(\"THe payload is invalid\")\n",
        "\n",
        "\n",
        "print(f\"The payload was decoded successfully. It is of type {type(decoded)}\")"
      ],
      "execution_count":42,
      "outputs":[
        {
          "name":"stdout",
          "text":[
            "THe payload is invalid\n",
            "The payload was decoded successfully. It is of type <class 'dict'>\n"
          ],
          "output_type":"stream"
        }
      ],
      "metadata":{
        
      }
    },
    {
      "cell_type":"code",
      "source":[
        "try:\n",
        "    decoded = json.loads(payload)\n",
        "\n",
        "except json.JSONDecodeError:\n",
        "    print(\"THe payload is invalid\")\n",
        "else:\n",
        "    print(f\"The payload was decoded successfully. It is of type {type(decoded)}\")"
      ],
      "execution_count":45,
      "outputs":[
        {
          "name":"stdout",
          "text":[
            "THe payload is invalid\n"
          ],
          "output_type":"stream"
        }
      ],
      "metadata":{
        
      }
    },
    {
      "cell_type":"markdown",
      "source":[
        "## `Finally`"
      ],
      "attachments":{
        
      },
      "metadata":{
        
      }
    },
    {
      "cell_type":"code",
      "source":[
        "import json \n",
        "\n",
        "def json_decode(payload):\n",
        "    decoded = None\n",
        "\n",
        "    try:\n",
        "        decoded = json.loads(payload)\n",
        "    except json.JSONDecodeError:\n",
        "        print(\"The payload is invalid\")\n",
        "        return \n",
        "    finally:\n",
        "        print(\"Deocding attempt complete.\")\n",
        "\n",
        "    return decoded"
      ],
      "execution_count":61,
      "outputs":[
        
      ],
      "metadata":{
        
      }
    },
    {
      "cell_type":"code",
      "source":[
        "def json_decode2(payload):\n",
        "    decoded = None\n",
        "\n",
        "    try:\n",
        "        decoded = json.loads(payload)\n",
        "    except json.JSONDecodeError:\n",
        "        print(\"The payload is invalid\")\n",
        "        return\n",
        "    \n",
        "    print(\"Deocding attempt complete.\")\n",
        "\n",
        "    return decoded"
      ],
      "execution_count":60,
      "outputs":[
        
      ],
      "metadata":{
        
      }
    },
    {
      "cell_type":"code",
      "source":[
        "payload = \"Andromeda\"\n",
        "# payload = '{\"name\": \"Andrew\"}'"
      ],
      "execution_count":65,
      "outputs":[
        
      ],
      "metadata":{
        
      }
    },
    {
      "cell_type":"code",
      "source":[
        "json_decode(payload)"
      ],
      "execution_count":66,
      "outputs":[
        {
          "name":"stdout",
          "text":[
            "The payload is invalid\n",
            "Deocding attempt complete.\n"
          ],
          "output_type":"stream"
        }
      ],
      "metadata":{
        
      }
    },
    {
      "cell_type":"code",
      "source":[
        "json_decode2(payload)"
      ],
      "execution_count":67,
      "outputs":[
        {
          "name":"stdout",
          "text":[
            "The payload is invalid\n"
          ],
          "output_type":"stream"
        }
      ],
      "metadata":{
        
      }
    },
    {
      "cell_type":"code",
      "source":[
        "!cat greeting.txt"
      ],
      "execution_count":68,
      "outputs":[
        {
          "name":"stdout",
          "text":[
            "Hey there\r\n"
          ],
          "output_type":"stream"
        }
      ],
      "metadata":{
        
      }
    },
    {
      "cell_type":"code",
      "source":[
        "!chmod ugo-w greeting.txt"
      ],
      "execution_count":69,
      "outputs":[
        
      ],
      "metadata":{
        
      }
    },
    {
      "cell_type":"code",
      "source":[
        "!ls -l greeting.txt"
      ],
      "execution_count":70,
      "outputs":[
        {
          "name":"stdout",
          "text":[
            "-r--r--r-- 1 datalore datalore 10 Dec  7 02:59 greeting.txt\r\n"
          ],
          "output_type":"stream"
        }
      ],
      "metadata":{
        
      }
    },
    {
      "cell_type":"code",
      "source":[
        "text_file = open(\"greeting.txt\")\n",
        "text = \"!\"\n",
        "\n",
        "try:\n",
        "    text_file.write(text)\n",
        "except IOError as exp:\n",
        "    raise UserWarning(\"Write operation failed\")\n",
        "\n",
        "text_file.close()"
      ],
      "execution_count":71,
      "outputs":[
        {
          "ename":"UserWarning",
          "evalue":"UserWarning: Write operation failed",
          "traceback":[
            "\u001b[0;31m---------------------------------------------------------------------------",
            "Traceback (most recent call last)",
            "    at line 5 in <module>",
            "    at line 7 in <module>",
            "UserWarning: Write operation failed"
          ],
          "output_type":"error"
        }
      ],
      "metadata":{
        
      }
    },
    {
      "cell_type":"code",
      "source":[
        "text_file.closed"
      ],
      "execution_count":72,
      "outputs":[
        {
          "data":{
            "text\/plain":[
              "False"
            ]
          },
          "metadata":{
            
          },
          "output_type":"display_data"
        }
      ],
      "metadata":{
        
      }
    },
    {
      "cell_type":"code",
      "source":[
        "text_file = open(\"greeting.txt\")\n",
        "text = \"!\"\n",
        "\n",
        "try:\n",
        "    text_file.write(text)\n",
        "except IOError as exp:\n",
        "    raise UserWarning(\"Write operation failed\")\n",
        "finally:\n",
        "    print(\"Cleaning up...\")\n",
        "    text_file.close()"
      ],
      "execution_count":73,
      "outputs":[
        {
          "name":"stdout",
          "text":[
            "Cleaning up...\n"
          ],
          "output_type":"stream"
        },
        {
          "ename":"UserWarning",
          "evalue":"UserWarning: Write operation failed",
          "traceback":[
            "\u001b[0;31m---------------------------------------------------------------------------",
            "Traceback (most recent call last)",
            "    at line 5 in <module>",
            "    at line 7 in <module>",
            "UserWarning: Write operation failed"
          ],
          "output_type":"error"
        }
      ],
      "metadata":{
        
      }
    },
    {
      "cell_type":"code",
      "source":[
        "text_file.closed"
      ],
      "execution_count":74,
      "outputs":[
        {
          "data":{
            "text\/plain":[
              "True"
            ]
          },
          "metadata":{
            
          },
          "output_type":"display_data"
        }
      ],
      "metadata":{
        
      }
    },
    {
      "cell_type":"code",
      "source":[
        "with open(\"greeting.txt\") as f:\n",
        "    f.write(\"!\")"
      ],
      "execution_count":76,
      "outputs":[
        {
          "ename":"UnsupportedOperation",
          "evalue":"UnsupportedOperation: not writable",
          "traceback":[
            "\u001b[0;31m---------------------------------------------------------------------------",
            "Traceback (most recent call last)",
            "    at line 2 in <module>",
            "UnsupportedOperation: not writable"
          ],
          "output_type":"error"
        }
      ],
      "metadata":{
        
      }
    },
    {
      "cell_type":"markdown",
      "source":[
        "## `Nesting And Bundling`"
      ],
      "attachments":{
        
      },
      "metadata":{
        
      }
    },
    {
      "cell_type":"code",
      "source":[
        "# Requirements\n",
        "# - the program should repeatedly ask the user to pick a number\n",
        "# - if the number is valid, its binary representation is printed out\n",
        "# - if user inputs something that cannot be parsed into an integer, a ValueError should be raised\n",
        "#     - if this happens, the user should be asked if they want to pick again\n",
        "#     - if something other than \"y\" or \"n\" is provided another ValueError should be raised\n",
        "#     - if the user says \"n\", provides an invalid response, or triggers a KeyboardInterrupt (e.g. through Ctrl + C) the program \n",
        "#     should stop running"
      ],
      "execution_count":77,
      "outputs":[
        
      ],
      "metadata":{
        
      }
    },
    {
      "cell_type":"code",
      "source":[
        "should_run = True\n",
        "\n",
        "\n",
        "while should_run:\n",
        "    try:\n",
        "        n = int(input(\"Pick a number...\\n\"))\n",
        "    except ValueError:\n",
        "        print(\"That did not look like an integer...\\n\")\n",
        "        try:\n",
        "            answer = input(\"Pick again? Y\/N\\n\").upper()\n",
        "\n",
        "            if answer not in ('Y', 'N'):\n",
        "                raise ValueError\n",
        "        except (ValueError, KeyboardInterrupt):\n",
        "            should_run = False\n",
        "        else:\n",
        "            if answer == 'N':\n",
        "                should_run = False\n",
        "    else:\n",
        "        print(f\"You picked {n} which is {n:b} in binary.\\n\")"
      ],
      "execution_count":81,
      "outputs":[
        {
          "name":"stdout",
          "text":[
            "Pick a number...\n",
            " 1.2\n",
            "That did not look like an integer...\n",
            "\n",
            "Pick again? Y\/N\n",
            " p\n"
          ],
          "output_type":"stream"
        }
      ],
      "metadata":{
        
      }
    },
    {
      "cell_type":"markdown",
      "source":[
        "## `Rolling Our Own`"
      ],
      "attachments":{
        
      },
      "metadata":{
        
      }
    },
    {
      "cell_type":"code",
      "source":[
        "# Exception"
      ],
      "execution_count":2,
      "outputs":[
        
      ],
      "metadata":{
        
      }
    },
    {
      "cell_type":"code",
      "source":[
        "raise \"some string\""
      ],
      "execution_count":1,
      "outputs":[
        {
          "ename":"TypeError",
          "evalue":"TypeError: exceptions must derive from BaseException",
          "traceback":[
            "\u001b[0;31m---------------------------------------------------------------------------",
            "Traceback (most recent call last)",
            "    at line 1 in <module>",
            "TypeError: exceptions must derive from BaseException"
          ],
          "output_type":"error"
        }
      ],
      "metadata":{
        
      }
    },
    {
      "cell_type":"code",
      "source":[
        
      ],
      "execution_count":76,
      "outputs":[
        
      ],
      "metadata":{
        
      }
    },
    {
      "cell_type":"code",
      "source":[
        "class InvalidTransactionException(Exception):\n",
        "    \"\"\"The exception base class\"\"\""
      ],
      "execution_count":3,
      "outputs":[
        
      ],
      "metadata":{
        
      }
    },
    {
      "cell_type":"code",
      "source":[
        "class InsufficientFundsException(InvalidTransactionException):\n",
        "    pass"
      ],
      "execution_count":4,
      "outputs":[
        
      ],
      "metadata":{
        
      }
    },
    {
      "cell_type":"code",
      "source":[
        "class UnsupportedCurrencyException(InvalidTransactionException):\n",
        "    pass"
      ],
      "execution_count":5,
      "outputs":[
        
      ],
      "metadata":{
        
      }
    },
    {
      "cell_type":"code",
      "source":[
        "class UnknownRecipientException(InvalidTransactionException):\n",
        "    pass"
      ],
      "execution_count":6,
      "outputs":[
        
      ],
      "metadata":{
        
      }
    },
    {
      "cell_type":"code",
      "source":[
        
      ],
      "execution_count":0,
      "outputs":[
        
      ],
      "metadata":{
        
      }
    },
    {
      "cell_type":"code",
      "source":[
        
      ],
      "execution_count":0,
      "outputs":[
        
      ],
      "metadata":{
        
      }
    },
    {
      "cell_type":"code",
      "source":[
        
      ],
      "execution_count":0,
      "outputs":[
        
      ],
      "metadata":{
        
      }
    },
    {
      "cell_type":"code",
      "source":[
        
      ],
      "execution_count":0,
      "outputs":[
        
      ],
      "metadata":{
        
      }
    },
    {
      "cell_type":"code",
      "source":[
        
      ],
      "execution_count":0,
      "outputs":[
        
      ],
      "metadata":{
        
      }
    },
    {
      "cell_type":"code",
      "source":[
        
      ],
      "execution_count":0,
      "outputs":[
        
      ],
      "metadata":{
        
      }
    },
    {
      "cell_type":"code",
      "source":[
        
      ],
      "execution_count":0,
      "outputs":[
        
      ],
      "metadata":{
        
      }
    },
    {
      "cell_type":"code",
      "source":[
        
      ],
      "execution_count":0,
      "outputs":[
        
      ],
      "metadata":{
        
      }
    },
    {
      "cell_type":"code",
      "source":[
        
      ],
      "execution_count":0,
      "outputs":[
        
      ],
      "metadata":{
        
      }
    },
    {
      "cell_type":"code",
      "source":[
        
      ],
      "execution_count":0,
      "outputs":[
        
      ],
      "metadata":{
        
      }
    },
    {
      "cell_type":"code",
      "source":[
        
      ],
      "execution_count":0,
      "outputs":[
        
      ],
      "metadata":{
        
      }
    },
    {
      "cell_type":"code",
      "source":[
        
      ],
      "execution_count":0,
      "outputs":[
        
      ],
      "metadata":{
        
      }
    },
    {
      "cell_type":"code",
      "source":[
        
      ],
      "execution_count":0,
      "outputs":[
        
      ],
      "metadata":{
        
      }
    },
    {
      "cell_type":"code",
      "source":[
        
      ],
      "execution_count":0,
      "outputs":[
        
      ],
      "metadata":{
        
      }
    },
    {
      "cell_type":"code",
      "source":[
        
      ],
      "execution_count":0,
      "outputs":[
        
      ],
      "metadata":{
        
      }
    },
    {
      "cell_type":"code",
      "source":[
        
      ],
      "execution_count":0,
      "outputs":[
        
      ],
      "metadata":{
        
      }
    },
    {
      "cell_type":"code",
      "source":[
        
      ],
      "execution_count":0,
      "outputs":[
        
      ],
      "metadata":{
        
      }
    },
    {
      "cell_type":"code",
      "source":[
        
      ],
      "execution_count":0,
      "outputs":[
        
      ],
      "metadata":{
        
      }
    },
    {
      "cell_type":"code",
      "source":[
        
      ],
      "execution_count":0,
      "outputs":[
        
      ],
      "metadata":{
        
      }
    },
    {
      "cell_type":"code",
      "source":[
        
      ],
      "execution_count":0,
      "outputs":[
        
      ],
      "metadata":{
        
      }
    },
    {
      "cell_type":"code",
      "source":[
        
      ],
      "execution_count":0,
      "outputs":[
        
      ],
      "metadata":{
        
      }
    },
    {
      "cell_type":"code",
      "source":[
        
      ],
      "execution_count":0,
      "outputs":[
        
      ],
      "metadata":{
        
      }
    },
    {
      "cell_type":"code",
      "source":[
        
      ],
      "execution_count":0,
      "outputs":[
        
      ],
      "metadata":{
        
      }
    },
    {
      "cell_type":"code",
      "source":[
        
      ],
      "execution_count":0,
      "outputs":[
        
      ],
      "metadata":{
        
      }
    },
    {
      "cell_type":"code",
      "source":[
        
      ],
      "execution_count":0,
      "outputs":[
        
      ],
      "metadata":{
        
      }
    },
    {
      "cell_type":"code",
      "source":[
        
      ],
      "execution_count":0,
      "outputs":[
        
      ],
      "metadata":{
        
      }
    }
  ],
  "metadata":{
    
  },
  "nbformat":4,
  "nbformat_minor":0
}