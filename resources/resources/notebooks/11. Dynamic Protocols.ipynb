{
  "cells":[
    {
      "cell_type":"markdown",
      "source":[
        "## `Python Is Dynamically Typed`"
      ],
      "attachments":{
        
      },
      "metadata":{
        
      }
    },
    {
      "cell_type":"code",
      "source":[
        "# type checking is only performed when the program is run"
      ],
      "execution_count":1,
      "outputs":[
        
      ],
      "metadata":{
        
      }
    },
    {
      "cell_type":"code",
      "source":[
        "name = \"Andrew\""
      ],
      "execution_count":2,
      "outputs":[
        
      ],
      "metadata":{
        
      }
    },
    {
      "cell_type":"code",
      "source":[
        "\"Andrew\" + 100"
      ],
      "execution_count":3,
      "outputs":[
        {
          "ename":"TypeError",
          "evalue":"TypeError: can only concatenate str (not \"int\") to str",
          "traceback":[
            "\u001b[0;31m---------------------------------------------------------------------------",
            "Traceback (most recent call last)",
            "    at line 1 in <module>",
            "TypeError: can only concatenate str (not \"int\") to str"
          ],
          "output_type":"error"
        }
      ],
      "metadata":{
        
      }
    },
    {
      "cell_type":"code",
      "source":[
        "if None:\n",
        "    \"Andrew\" + 100"
      ],
      "execution_count":4,
      "outputs":[
        
      ],
      "metadata":{
        
      }
    },
    {
      "cell_type":"code",
      "source":[
        "a = \"Andrew\""
      ],
      "execution_count":5,
      "outputs":[
        
      ],
      "metadata":{
        
      }
    },
    {
      "cell_type":"code",
      "source":[
        "type(a)"
      ],
      "execution_count":6,
      "outputs":[
        {
          "data":{
            "text\/plain":[
              "str"
            ]
          },
          "metadata":{
            
          },
          "output_type":"display_data"
        }
      ],
      "metadata":{
        
      }
    },
    {
      "cell_type":"code",
      "source":[
        "a = 2"
      ],
      "execution_count":7,
      "outputs":[
        
      ],
      "metadata":{
        
      }
    },
    {
      "cell_type":"code",
      "source":[
        "type(a)"
      ],
      "execution_count":8,
      "outputs":[
        {
          "data":{
            "text\/plain":[
              "int"
            ]
          },
          "metadata":{
            
          },
          "output_type":"display_data"
        }
      ],
      "metadata":{
        
      }
    },
    {
      "cell_type":"code",
      "source":[
        "class Item:\n",
        "    def __init__(self, price):\n",
        "        self.price = price"
      ],
      "execution_count":9,
      "outputs":[
        
      ],
      "metadata":{
        
      }
    },
    {
      "cell_type":"code",
      "source":[
        "i = Item(2.1)"
      ],
      "execution_count":10,
      "outputs":[
        
      ],
      "metadata":{
        
      }
    },
    {
      "cell_type":"code",
      "source":[
        "type(i)"
      ],
      "execution_count":11,
      "outputs":[
        {
          "data":{
            "text\/plain":[
              "__main__.Item"
            ]
          },
          "metadata":{
            
          },
          "output_type":"display_data"
        }
      ],
      "metadata":{
        
      }
    },
    {
      "cell_type":"code",
      "source":[
        "i = 20"
      ],
      "execution_count":12,
      "outputs":[
        
      ],
      "metadata":{
        
      }
    },
    {
      "cell_type":"code",
      "source":[
        "type(i)"
      ],
      "execution_count":13,
      "outputs":[
        {
          "data":{
            "text\/plain":[
              "int"
            ]
          },
          "metadata":{
            
          },
          "output_type":"display_data"
        }
      ],
      "metadata":{
        
      }
    },
    {
      "cell_type":"code",
      "source":[
        "# duck typing"
      ],
      "execution_count":14,
      "outputs":[
        
      ],
      "metadata":{
        
      }
    },
    {
      "cell_type":"markdown",
      "source":[
        "## `Duck Typing`"
      ],
      "attachments":{
        
      },
      "metadata":{
        
      }
    },
    {
      "cell_type":"markdown",
      "source":[
        "* if it walks like a duck and it quacks like a duck, then it must be a duck"
      ],
      "attachments":{
        
      },
      "metadata":{
        
      }
    },
    {
      "cell_type":"code",
      "source":[
        "class Marlin:\n",
        "    def swim(self):\n",
        "        print(\"Marlin swimming fast\")\n",
        "\n",
        "\n",
        "class SeaHorse:\n",
        "    def swim(self):\n",
        "        print(\"Seahorse swimming slow\")\n",
        "\n",
        "\n",
        "class Eagle:\n",
        "    def fly(self):\n",
        "        print(\"Eagle flying high\")"
      ],
      "execution_count":1,
      "outputs":[
        
      ],
      "metadata":{
        
      }
    },
    {
      "cell_type":"code",
      "source":[
        "from random import choice"
      ],
      "execution_count":2,
      "outputs":[
        
      ],
      "metadata":{
        
      }
    },
    {
      "cell_type":"code",
      "source":[
        "animals = [Marlin(), SeaHorse(), Eagle(), Eagle()]"
      ],
      "execution_count":3,
      "outputs":[
        
      ],
      "metadata":{
        
      }
    },
    {
      "cell_type":"code",
      "source":[
        "chosen = choice(animals)\n",
        "\n",
        "try:\n",
        "    chosen.swim()\n",
        "except AttributeError:\n",
        "    print(f\"{chosen.__class__.__name__} is not really a swimmer...\")"
      ],
      "execution_count":4,
      "outputs":[
        {
          "name":"stdout",
          "text":[
            "Seahorse swimming slow\n"
          ],
          "output_type":"stream"
        }
      ],
      "metadata":{
        
      }
    },
    {
      "cell_type":"code",
      "source":[
        "# LBYL\n",
        "\n",
        "chosen = choice(animals)\n",
        "\n",
        "swimmers = [SeaHorse, Marlin]\n",
        "\n",
        "if chosen.__class__ in swimmers:\n",
        "    chosen.swim()\n",
        "else:\n",
        "    print(f\"{chosen.__class__.__name__} is not really a swimmer...\")"
      ],
      "execution_count":5,
      "outputs":[
        {
          "name":"stdout",
          "text":[
            "Eagle is not really a swimmer...\n"
          ],
          "output_type":"stream"
        }
      ],
      "metadata":{
        
      }
    },
    {
      "cell_type":"code",
      "source":[
        "# LBYL #2\n",
        "\n",
        "chosen = choice(animals)\n",
        "\n",
        "if hasattr(chosen, \"swim\"):\n",
        "    if callable(chosen.swim):\n",
        "        chosen.swim()\n",
        "else:\n",
        "    print(f\"{chosen.__class__.__name__} is not really a swimmer...\")"
      ],
      "execution_count":6,
      "outputs":[
        {
          "name":"stdout",
          "text":[
            "Eagle is not really a swimmer...\n"
          ],
          "output_type":"stream"
        }
      ],
      "metadata":{
        
      }
    },
    {
      "cell_type":"markdown",
      "source":[
        "## `Protocols`"
      ],
      "attachments":{
        
      },
      "metadata":{
        
      }
    },
    {
      "cell_type":"markdown",
      "source":[
        "* in OOP, object protocols refer to a set of methods that should be supported\/implemented to provide a given behavior\n",
        "* Container protocol -> does it support membership checking with 'in'?"
      ],
      "attachments":{
        
      },
      "metadata":{
        
      }
    },
    {
      "cell_type":"code",
      "source":[
        "# telltale -> the in keyword"
      ],
      "execution_count":7,
      "outputs":[
        
      ],
      "metadata":{
        
      }
    },
    {
      "cell_type":"code",
      "source":[
        "m = Marlin()\n",
        "e = Eagle()\n",
        "\n",
        "list_of_animals = [m, e]"
      ],
      "execution_count":8,
      "outputs":[
        
      ],
      "metadata":{
        
      }
    },
    {
      "cell_type":"code",
      "source":[
        "m in list_of_animals"
      ],
      "execution_count":9,
      "outputs":[
        {
          "data":{
            "text\/plain":[
              "True"
            ]
          },
          "metadata":{
            
          },
          "output_type":"display_data"
        }
      ],
      "metadata":{
        
      }
    },
    {
      "cell_type":"code",
      "source":[
        "class Zoo:\n",
        "    def __init__(self):\n",
        "        self._population = []\n",
        "\n",
        "    def __contains__(self, item):\n",
        "        return item in self._population\n",
        "\n",
        "    def __len__(self):\n",
        "        return len(self._population)\n",
        "\n",
        "    def add_animal(self, animal):\n",
        "        self._population.append(animal)"
      ],
      "execution_count":19,
      "outputs":[
        
      ],
      "metadata":{
        
      }
    },
    {
      "cell_type":"code",
      "source":[
        "m = Marlin()\n",
        "e = Eagle()\n",
        "\n",
        "zoo_of_animals = Zoo()\n",
        "\n",
        "zoo_of_animals.add_animal(m)\n",
        "zoo_of_animals.add_animal(e)"
      ],
      "execution_count":20,
      "outputs":[
        
      ],
      "metadata":{
        
      }
    },
    {
      "cell_type":"code",
      "source":[
        "m in zoo_of_animals"
      ],
      "execution_count":15,
      "outputs":[
        {
          "data":{
            "text\/plain":[
              "True"
            ]
          },
          "metadata":{
            
          },
          "output_type":"display_data"
        }
      ],
      "metadata":{
        
      }
    },
    {
      "cell_type":"code",
      "source":[
        "# Sized protocol"
      ],
      "execution_count":16,
      "outputs":[
        
      ],
      "metadata":{
        
      }
    },
    {
      "cell_type":"code",
      "source":[
        "len(list_of_animals)"
      ],
      "execution_count":17,
      "outputs":[
        {
          "data":{
            "text\/plain":[
              "2"
            ]
          },
          "metadata":{
            
          },
          "output_type":"display_data"
        }
      ],
      "metadata":{
        
      }
    },
    {
      "cell_type":"code",
      "source":[
        "len(zoo_of_animals)"
      ],
      "execution_count":21,
      "outputs":[
        {
          "data":{
            "text\/plain":[
              "2"
            ]
          },
          "metadata":{
            
          },
          "output_type":"display_data"
        }
      ],
      "metadata":{
        
      }
    },
    {
      "cell_type":"markdown",
      "source":[
        "## `The Making Of A Sequence`"
      ],
      "attachments":{
        
      },
      "metadata":{
        
      }
    },
    {
      "cell_type":"code",
      "source":[
        "# sequence -> ordered container of items"
      ],
      "execution_count":22,
      "outputs":[
        
      ],
      "metadata":{
        
      }
    },
    {
      "cell_type":"code",
      "source":[
        "# tuples, lists, str"
      ],
      "execution_count":23,
      "outputs":[
        
      ],
      "metadata":{
        
      }
    },
    {
      "cell_type":"code",
      "source":[
        "students = [\"Carlo\", \"Tobi\", \"Rigers\"]"
      ],
      "execution_count":25,
      "outputs":[
        
      ],
      "metadata":{
        
      }
    },
    {
      "cell_type":"markdown",
      "source":[
        "* frist, membership testing\/cehcking with the 'in' keyword"
      ],
      "attachments":{
        
      },
      "metadata":{
        
      }
    },
    {
      "cell_type":"code",
      "source":[
        "'Rigers' in students"
      ],
      "execution_count":32,
      "outputs":[
        {
          "data":{
            "text\/plain":[
              "True"
            ]
          },
          "metadata":{
            
          },
          "output_type":"display_data"
        }
      ],
      "metadata":{
        
      }
    },
    {
      "cell_type":"code",
      "source":[
        "'Rogers' in students"
      ],
      "execution_count":33,
      "outputs":[
        {
          "data":{
            "text\/plain":[
              "False"
            ]
          },
          "metadata":{
            
          },
          "output_type":"display_data"
        }
      ],
      "metadata":{
        
      }
    },
    {
      "cell_type":"markdown",
      "source":[
        "* second, indexing with square brackets"
      ],
      "attachments":{
        
      },
      "metadata":{
        
      }
    },
    {
      "cell_type":"code",
      "source":[
        "students[-1]"
      ],
      "execution_count":35,
      "outputs":[
        {
          "data":{
            "text\/plain":[
              "'Rigers'"
            ]
          },
          "metadata":{
            
          },
          "output_type":"display_data"
        }
      ],
      "metadata":{
        
      }
    },
    {
      "cell_type":"code",
      "source":[
        "students[0]"
      ],
      "execution_count":36,
      "outputs":[
        {
          "data":{
            "text\/plain":[
              "'Carlo'"
            ]
          },
          "metadata":{
            
          },
          "output_type":"display_data"
        }
      ],
      "metadata":{
        
      }
    },
    {
      "cell_type":"markdown",
      "source":[
        "* third, pythonic sequences are sliceable"
      ],
      "attachments":{
        
      },
      "metadata":{
        
      }
    },
    {
      "cell_type":"code",
      "source":[
        "students[1:3]"
      ],
      "execution_count":37,
      "outputs":[
        {
          "data":{
            "text\/plain":[
              "['Tobi', 'Rigers']"
            ]
          },
          "metadata":{
            
          },
          "output_type":"display_data"
        }
      ],
      "metadata":{
        
      }
    },
    {
      "cell_type":"code",
      "source":[
        "students[-2:]"
      ],
      "execution_count":38,
      "outputs":[
        {
          "data":{
            "text\/plain":[
              "['Tobi', 'Rigers']"
            ]
          },
          "metadata":{
            
          },
          "output_type":"display_data"
        }
      ],
      "metadata":{
        
      }
    },
    {
      "cell_type":"code",
      "source":[
        "# Sequence protocol\n",
        "# __len__\n",
        "# __getitem__"
      ],
      "execution_count":39,
      "outputs":[
        
      ],
      "metadata":{
        
      }
    },
    {
      "cell_type":"code",
      "source":[
        "class Animal:\n",
        "    def __init__(self, name):\n",
        "        self.name = name\n",
        "\n",
        "    def __repr__(self):\n",
        "        return f\"{self.name}, {self.__class__.__name__.lower()}\"\n",
        "\n",
        "\n",
        "class Marlin(Animal):\n",
        "    def swim(self):\n",
        "        print(f\"{repr(self)} if swimming fast\")\n",
        "\n",
        "class SeaHorse(Animal):\n",
        "    def swim(self):\n",
        "        print(f\"{repr(self)} if swimming slow\")\n",
        "\n",
        "class Eagle(Animal):\n",
        "    def fly(self):\n",
        "        print(f\"{repr(selse)} is flying high\")"
      ],
      "execution_count":41,
      "outputs":[
        
      ],
      "metadata":{
        
      }
    },
    {
      "cell_type":"code",
      "source":[
        "a1 = Marlin(\"Didi\")\n",
        "a2 = Eagle(\"Jackson\")\n",
        "a3 = SeaHorse(\"Xichi\")\n",
        "a4 = Eagle(\"Polly\")"
      ],
      "execution_count":42,
      "outputs":[
        
      ],
      "metadata":{
        
      }
    },
    {
      "cell_type":"code",
      "source":[
        "a1"
      ],
      "execution_count":44,
      "outputs":[
        {
          "data":{
            "text\/plain":[
              "Didi, marlin"
            ]
          },
          "metadata":{
            
          },
          "output_type":"display_data"
        }
      ],
      "metadata":{
        
      }
    },
    {
      "cell_type":"code",
      "source":[
        "a3"
      ],
      "execution_count":45,
      "outputs":[
        {
          "data":{
            "text\/plain":[
              "Xichi, seahorse"
            ]
          },
          "metadata":{
            
          },
          "output_type":"display_data"
        }
      ],
      "metadata":{
        
      }
    },
    {
      "cell_type":"code",
      "source":[
        "a3.swim()"
      ],
      "execution_count":47,
      "outputs":[
        {
          "name":"stdout",
          "text":[
            "Xichi, seahorse if swimming slow\n"
          ],
          "output_type":"stream"
        }
      ],
      "metadata":{
        
      }
    },
    {
      "cell_type":"markdown",
      "source":[
        "## `ZooFavorites Sequence`"
      ],
      "attachments":{
        
      },
      "metadata":{
        
      }
    },
    {
      "cell_type":"code",
      "source":[
        "class Animal:\n",
        "    def __init__(self, name):\n",
        "        self.name = name\n",
        "\n",
        "    def __repr__(self):\n",
        "        return f\"{self.name}, {self.__class__.__name__.lower()}\"\n",
        "\n",
        "\n",
        "class Marlin(Animal):\n",
        "    def swim(self):\n",
        "        print(f\"{repr(self)} if swimming fast\")\n",
        "\n",
        "\n",
        "class SeaHorse(Animal):\n",
        "    def swim(self):\n",
        "        print(f\"{repr(self)} if swimming slow\")\n",
        "\n",
        "\n",
        "class Eagle(Animal):\n",
        "    def fly(self):\n",
        "        print(f\"{repr(selse)} is flying high\")\n"
      ],
      "execution_count":52,
      "outputs":[
        
      ],
      "metadata":{
        
      }
    },
    {
      "cell_type":"code",
      "source":[
        "class ZooFavorites(object):\n",
        "    def __init__(self):\n",
        "        self._roster = []\n",
        "\n",
        "    def add(self, animal):\n",
        "        self._roster.append(animal)\n",
        "    \n",
        "    def insert(self, animal, position):\n",
        "        self._roster.insert(position, animal)\n",
        "\n",
        "    def __repr__(self):\n",
        "        header = \"##### ZooFavorites Roster ##### \\n\" + \"-\" * 30 + \"\\n\"\n",
        "        return header + \"\\n\".join([f\"#{idx + 1} {a}\" for idx, a in enumerate(self._roster)])\n",
        "\n",
        "    def __getitem__(self, idx):\n",
        "        return self._roster[idx]\n",
        "\n",
        "    def __len__(self):\n",
        "        return len(self._roster)"
      ],
      "execution_count":75,
      "outputs":[
        
      ],
      "metadata":{
        
      }
    },
    {
      "cell_type":"code",
      "source":[
        "# [\"#1 - Didi\", \"#2 - Xichi\"]"
      ],
      "execution_count":76,
      "outputs":[
        
      ],
      "metadata":{
        
      }
    },
    {
      "cell_type":"code",
      "source":[
        "a1 = Marlin(\"Didi\")\n",
        "a2 = Eagle(\"Jackson\")\n",
        "a3 = SeaHorse(\"Xichi\")\n",
        "a4 = Eagle(\"Polly\")\n",
        "\n",
        "fame = ZooFavorites()\n",
        "\n",
        "fame.add(a3)\n",
        "fame.add(a2)\n",
        "fame.insert(a4, 0)\n",
        "fame.add(a1)"
      ],
      "execution_count":77,
      "outputs":[
        
      ],
      "metadata":{
        
      }
    },
    {
      "cell_type":"code",
      "source":[
        "fame"
      ],
      "execution_count":78,
      "outputs":[
        {
          "data":{
            "text\/plain":[
              "##### ZooFavorites Roster ##### \n",
              "------------------------------\n",
              "#1 Polly, eagle\n",
              "#2 Xichi, seahorse\n",
              "#3 Jackson, eagle\n",
              "#4 Didi, marlin"
            ]
          },
          "metadata":{
            
          },
          "output_type":"display_data"
        }
      ],
      "metadata":{
        
      }
    },
    {
      "cell_type":"code",
      "source":[
        "fame._roster"
      ],
      "execution_count":79,
      "outputs":[
        {
          "data":{
            "text\/plain":[
              "[Polly, eagle, Xichi, seahorse, Jackson, eagle, Didi, marlin]"
            ]
          },
          "metadata":{
            
          },
          "output_type":"display_data"
        }
      ],
      "metadata":{
        
      }
    },
    {
      "cell_type":"code",
      "source":[
        "a3 in fame"
      ],
      "execution_count":80,
      "outputs":[
        {
          "data":{
            "text\/plain":[
              "True"
            ]
          },
          "metadata":{
            
          },
          "output_type":"display_data"
        }
      ],
      "metadata":{
        
      }
    },
    {
      "cell_type":"code",
      "source":[
        "fame[0]"
      ],
      "execution_count":81,
      "outputs":[
        {
          "data":{
            "text\/plain":[
              "Polly, eagle"
            ]
          },
          "metadata":{
            
          },
          "output_type":"display_data"
        }
      ],
      "metadata":{
        
      }
    },
    {
      "cell_type":"code",
      "source":[
        "fame[1:3]"
      ],
      "execution_count":82,
      "outputs":[
        {
          "data":{
            "text\/plain":[
              "[Xichi, seahorse, Jackson, eagle]"
            ]
          },
          "metadata":{
            
          },
          "output_type":"display_data"
        }
      ],
      "metadata":{
        
      }
    },
    {
      "cell_type":"code",
      "source":[
        "type(fame[:3])"
      ],
      "execution_count":85,
      "outputs":[
        {
          "data":{
            "text\/plain":[
              "list"
            ]
          },
          "metadata":{
            
          },
          "output_type":"display_data"
        }
      ],
      "metadata":{
        
      }
    },
    {
      "cell_type":"code",
      "source":[
        "fame"
      ],
      "execution_count":84,
      "outputs":[
        {
          "data":{
            "text\/plain":[
              "##### ZooFavorites Roster ##### \n",
              "------------------------------\n",
              "#1 Polly, eagle\n",
              "#2 Xichi, seahorse\n",
              "#3 Jackson, eagle\n",
              "#4 Didi, marlin"
            ]
          },
          "metadata":{
            
          },
          "output_type":"display_data"
        }
      ],
      "metadata":{
        
      }
    },
    {
      "cell_type":"markdown",
      "source":[
        "## `Pythonic Slicing`"
      ],
      "attachments":{
        
      },
      "metadata":{
        
      }
    },
    {
      "cell_type":"code",
      "source":[
        "class ZooFavorites(object):\n",
        "    def __init__(self):\n",
        "        self._roster = []\n",
        "\n",
        "    def add(self, animal):\n",
        "        self._roster.append(animal)\n",
        "    \n",
        "    def insert(self, animal, position):\n",
        "        self._roster.insert(position, animal)\n",
        "\n",
        "    def __repr__(self):\n",
        "        header = \"##### ZooFavorites Roster ##### \\n\" + \"-\" * 30 + \"\\n\"\n",
        "        return header + \"\\n\".join([f\"#{idx + 1} {a}\" for idx, a in enumerate(self._roster)])\n",
        "\n",
        "    def __getitem__(self, key):\n",
        "        if type(key) == slice: # returns instances of ZooFaves\n",
        "            cls = type(self)\n",
        "            zf = cls()\n",
        "\n",
        "            for animal in self._roster[key]:\n",
        "                zf.add(animal)\n",
        "\n",
        "            return zf\n",
        "        \n",
        "        elif type(key) == int:\n",
        "            return self._roster[idx] # return the Animal subclass in that position\n",
        "        \n",
        "        return NotImplemented \n",
        "\n",
        "    def __len__(self):\n",
        "        return len(self._roster)"
      ],
      "execution_count":107,
      "outputs":[
        
      ],
      "metadata":{
        
      }
    },
    {
      "cell_type":"code",
      "source":[
        "a1 = Marlin(\"Didi\")\n",
        "a2 = Eagle(\"Jackson\")\n",
        "a3 = SeaHorse(\"Xichi\")\n",
        "a4 = Eagle(\"Polly\")\n",
        "\n",
        "fame = ZooFavorites()\n",
        "\n",
        "fame.add(a3)\n",
        "fame.add(a2)\n",
        "fame.insert(a4, 0)\n",
        "fame.add(a1)"
      ],
      "execution_count":108,
      "outputs":[
        
      ],
      "metadata":{
        
      }
    },
    {
      "cell_type":"code",
      "source":[
        "fame[1:3]"
      ],
      "execution_count":109,
      "outputs":[
        {
          "data":{
            "text\/plain":[
              "##### ZooFavorites Roster ##### \n",
              "------------------------------\n",
              "#1 Xichi, seahorse\n",
              "#2 Jackson, eagle"
            ]
          },
          "metadata":{
            
          },
          "output_type":"display_data"
        }
      ],
      "metadata":{
        
      }
    },
    {
      "cell_type":"code",
      "source":[
        "type(fame[1:3])"
      ],
      "execution_count":110,
      "outputs":[
        {
          "data":{
            "text\/plain":[
              "__main__.ZooFavorites"
            ]
          },
          "metadata":{
            
          },
          "output_type":"display_data"
        }
      ],
      "metadata":{
        
      }
    },
    {
      "cell_type":"code",
      "source":[
        "fame"
      ],
      "execution_count":111,
      "outputs":[
        {
          "data":{
            "text\/plain":[
              "##### ZooFavorites Roster ##### \n",
              "------------------------------\n",
              "#1 Polly, eagle\n",
              "#2 Xichi, seahorse\n",
              "#3 Jackson, eagle\n",
              "#4 Didi, marlin"
            ]
          },
          "metadata":{
            
          },
          "output_type":"display_data"
        }
      ],
      "metadata":{
        
      }
    },
    {
      "cell_type":"code",
      "source":[
        "fame[::-1]"
      ],
      "execution_count":112,
      "outputs":[
        {
          "data":{
            "text\/plain":[
              "##### ZooFavorites Roster ##### \n",
              "------------------------------\n",
              "#1 Didi, marlin\n",
              "#2 Jackson, eagle\n",
              "#3 Xichi, seahorse\n",
              "#4 Polly, eagle"
            ]
          },
          "metadata":{
            
          },
          "output_type":"display_data"
        }
      ],
      "metadata":{
        
      }
    },
    {
      "cell_type":"code",
      "source":[
        
      ],
      "execution_count":0,
      "outputs":[
        
      ],
      "metadata":{
        
      }
    },
    {
      "cell_type":"code",
      "source":[
        "# python detour"
      ],
      "execution_count":88,
      "outputs":[
        
      ],
      "metadata":{
        
      }
    },
    {
      "cell_type":"code",
      "source":[
        "regular_list = [\"Andrew\", \"Jack\", \"Irvine\", \"Leo\", \"Leonid\"]"
      ],
      "execution_count":90,
      "outputs":[
        
      ],
      "metadata":{
        
      }
    },
    {
      "cell_type":"code",
      "source":[
        "regular_list[0], regular_list[1] # __getitem__"
      ],
      "execution_count":92,
      "outputs":[
        {
          "data":{
            "text\/plain":[
              "('Andrew', 'Jack')"
            ]
          },
          "metadata":{
            
          },
          "output_type":"display_data"
        }
      ],
      "metadata":{
        
      }
    },
    {
      "cell_type":"code",
      "source":[
        "regular_list[1:4] # __getitem__ is also called! "
      ],
      "execution_count":93,
      "outputs":[
        {
          "data":{
            "text\/plain":[
              "['Jack', 'Irvine', 'Leo']"
            ]
          },
          "metadata":{
            
          },
          "output_type":"display_data"
        }
      ],
      "metadata":{
        
      }
    },
    {
      "cell_type":"code",
      "source":[
        "class NoisyList(list):\n",
        "    def __getitem__(self, item):\n",
        "        print(\"__getitem__ received:\", item)\n",
        "        return super().__getitem__(item)"
      ],
      "execution_count":94,
      "outputs":[
        
      ],
      "metadata":{
        
      }
    },
    {
      "cell_type":"code",
      "source":[
        "noisy_list = NoisyList([\"Andrew\", \"Jack\", \"Irvine\", \"Leo\", \"Leonid\"])"
      ],
      "execution_count":95,
      "outputs":[
        
      ],
      "metadata":{
        
      }
    },
    {
      "cell_type":"code",
      "source":[
        "noisy_list[0]"
      ],
      "execution_count":96,
      "outputs":[
        {
          "name":"stdout",
          "text":[
            "__getitem__ received: 0\n"
          ],
          "output_type":"stream"
        },
        {
          "data":{
            "text\/plain":[
              "'Andrew'"
            ]
          },
          "metadata":{
            
          },
          "output_type":"display_data"
        }
      ],
      "metadata":{
        
      }
    },
    {
      "cell_type":"code",
      "source":[
        "noisy_list[2]"
      ],
      "execution_count":97,
      "outputs":[
        {
          "name":"stdout",
          "text":[
            "__getitem__ received: 2\n"
          ],
          "output_type":"stream"
        },
        {
          "data":{
            "text\/plain":[
              "'Irvine'"
            ]
          },
          "metadata":{
            
          },
          "output_type":"display_data"
        }
      ],
      "metadata":{
        
      }
    },
    {
      "cell_type":"code",
      "source":[
        "noisy_list[2:4]"
      ],
      "execution_count":98,
      "outputs":[
        {
          "name":"stdout",
          "text":[
            "__getitem__ received: slice(2, 4, None)\n"
          ],
          "output_type":"stream"
        },
        {
          "data":{
            "text\/plain":[
              "['Irvine', 'Leo']"
            ]
          },
          "metadata":{
            
          },
          "output_type":"display_data"
        }
      ],
      "metadata":{
        
      }
    },
    {
      "cell_type":"code",
      "source":[
        "list(range(2, 4))"
      ],
      "execution_count":100,
      "outputs":[
        {
          "data":{
            "text\/plain":[
              "[2, 3]"
            ]
          },
          "metadata":{
            
          },
          "output_type":"display_data"
        }
      ],
      "metadata":{
        
      }
    },
    {
      "cell_type":"code",
      "source":[
        "slice(2, 4, None) # could be used in extended indexing, whereas range cannot"
      ],
      "execution_count":102,
      "outputs":[
        {
          "data":{
            "text\/plain":[
              "slice(2, 4, None)"
            ]
          },
          "metadata":{
            
          },
          "output_type":"display_data"
        }
      ],
      "metadata":{
        
      }
    },
    {
      "cell_type":"code",
      "source":[
        "regular_list[slice(2,4,None)]"
      ],
      "execution_count":103,
      "outputs":[
        {
          "data":{
            "text\/plain":[
              "['Irvine', 'Leo']"
            ]
          },
          "metadata":{
            
          },
          "output_type":"display_data"
        }
      ],
      "metadata":{
        
      }
    },
    {
      "cell_type":"code",
      "source":[
        "regular_list[range(2,4)]"
      ],
      "execution_count":104,
      "outputs":[
        {
          "ename":"TypeError",
          "evalue":"TypeError: list indices must be integers or slices, not range",
          "traceback":[
            "\u001b[0;31m---------------------------------------------------------------------------",
            "Traceback (most recent call last)",
            "    at line 1 in <module>",
            "TypeError: list indices must be integers or slices, not range"
          ],
          "output_type":"error"
        }
      ],
      "metadata":{
        
      }
    },
    {
      "cell_type":"code",
      "source":[
        "# end detour"
      ],
      "execution_count":105,
      "outputs":[
        
      ],
      "metadata":{
        
      }
    },
    {
      "cell_type":"code",
      "source":[
        "class ZooFavorites(object):\n",
        "    def __init__(self, *animals):\n",
        "        self._roster = [*animals]\n",
        "\n",
        "    def add(self, animal):\n",
        "        self._roster.append(animal)\n",
        "    \n",
        "    def insert(self, animal, position):\n",
        "        self._roster.insert(position, animal)\n",
        "\n",
        "    def __repr__(self):\n",
        "        header = \"##### ZooFavorites Roster ##### \\n\" + \"-\" * 30 + \"\\n\"\n",
        "        return header + \"\\n\".join([f\"#{idx + 1} {a}\" for idx, a in enumerate(self._roster)])\n",
        "\n",
        "    def __getitem__(self, key):\n",
        "        if type(key) == slice: # returns instances of ZooFaves\n",
        "            return self.__class__(*self._roster[key])\n",
        "        \n",
        "        elif type(key) == int:\n",
        "            return self._roster[idx] # return the Animal subclass in that position\n",
        "        \n",
        "        return NotImplemented \n",
        "\n",
        "    def __len__(self):\n",
        "        return len(self._roster)"
      ],
      "execution_count":119,
      "outputs":[
        
      ],
      "metadata":{
        
      }
    },
    {
      "cell_type":"code",
      "source":[
        "a1 = Marlin(\"Didi\")\n",
        "a2 = Eagle(\"Jackson\")\n",
        "a3 = SeaHorse(\"Xichi\")\n",
        "a4 = Eagle(\"Polly\")\n",
        "\n",
        "fame = ZooFavorites()\n",
        "\n",
        "fame.add(a3)\n",
        "fame.add(a2)\n",
        "fame.insert(a4, 0)\n",
        "fame.add(a1)"
      ],
      "execution_count":115,
      "outputs":[
        
      ],
      "metadata":{
        
      }
    },
    {
      "cell_type":"code",
      "source":[
        "fame"
      ],
      "execution_count":116,
      "outputs":[
        {
          "data":{
            "text\/plain":[
              "##### ZooFavorites Roster ##### \n",
              "------------------------------\n",
              "#1 Polly, eagle\n",
              "#2 Xichi, seahorse\n",
              "#3 Jackson, eagle\n",
              "#4 Didi, marlin"
            ]
          },
          "metadata":{
            
          },
          "output_type":"display_data"
        }
      ],
      "metadata":{
        
      }
    },
    {
      "cell_type":"code",
      "source":[
        "fame[1:4]"
      ],
      "execution_count":117,
      "outputs":[
        {
          "data":{
            "text\/plain":[
              "##### ZooFavorites Roster ##### \n",
              "------------------------------\n",
              "#1 Xichi, seahorse\n",
              "#2 Jackson, eagle\n",
              "#3 Didi, marlin"
            ]
          },
          "metadata":{
            
          },
          "output_type":"display_data"
        }
      ],
      "metadata":{
        
      }
    },
    {
      "cell_type":"code",
      "source":[
        "fame"
      ],
      "execution_count":118,
      "outputs":[
        {
          "data":{
            "text\/plain":[
              "##### ZooFavorites Roster ##### \n",
              "------------------------------\n",
              "#1 Polly, eagle\n",
              "#2 Xichi, seahorse\n",
              "#3 Jackson, eagle\n",
              "#4 Didi, marlin"
            ]
          },
          "metadata":{
            
          },
          "output_type":"display_data"
        }
      ],
      "metadata":{
        
      }
    },
    {
      "cell_type":"markdown",
      "source":[
        "## `BONUS: From Iteration To Iterables And Iterators`"
      ],
      "attachments":{
        
      },
      "metadata":{
        
      }
    },
    {
      "cell_type":"markdown",
      "source":[
        "* iteration\n",
        "* iterable\n",
        "* iterator"
      ],
      "attachments":{
        
      },
      "metadata":{
        
      }
    },
    {
      "cell_type":"code",
      "source":[
        
      ],
      "execution_count":0,
      "outputs":[
        
      ],
      "metadata":{
        
      }
    },
    {
      "cell_type":"code",
      "source":[
        "l = ['item1', 'item2', 'item3']"
      ],
      "execution_count":120,
      "outputs":[
        
      ],
      "metadata":{
        
      }
    },
    {
      "cell_type":"code",
      "source":[
        "# iteration over a sequence: indexable and has a length\n",
        "idx = 0\n",
        "\n",
        "while idx < len(l):\n",
        "    print(l[idx])\n",
        "    idx += 1"
      ],
      "execution_count":123,
      "outputs":[
        {
          "name":"stdout",
          "text":[
            "item1\n",
            "item2\n",
            "item3\n"
          ],
          "output_type":"stream"
        }
      ],
      "metadata":{
        
      }
    },
    {
      "cell_type":"code",
      "source":[
        "for i in l:\n",
        "    print(i)"
      ],
      "execution_count":124,
      "outputs":[
        {
          "name":"stdout",
          "text":[
            "item1\n",
            "item2\n",
            "item3\n"
          ],
          "output_type":"stream"
        }
      ],
      "metadata":{
        
      }
    },
    {
      "cell_type":"code",
      "source":[
        "s1 = {\"orange\", \"apple\", \"watermelon\"}"
      ],
      "execution_count":125,
      "outputs":[
        
      ],
      "metadata":{
        
      }
    },
    {
      "cell_type":"code",
      "source":[
        "for i in s1:\n",
        "    print(i)"
      ],
      "execution_count":126,
      "outputs":[
        {
          "name":"stdout",
          "text":[
            "watermelon\n",
            "apple\n",
            "orange\n"
          ],
          "output_type":"stream"
        }
      ],
      "metadata":{
        
      }
    },
    {
      "cell_type":"code",
      "source":[
        "len(s1)"
      ],
      "execution_count":127,
      "outputs":[
        {
          "data":{
            "text\/plain":[
              "3"
            ]
          },
          "metadata":{
            
          },
          "output_type":"display_data"
        }
      ],
      "metadata":{
        
      }
    },
    {
      "cell_type":"code",
      "source":[
        "idx = 0\n",
        "\n",
        "while idx < len(s1):\n",
        "    print(s1[idx])\n",
        "    idx += 1"
      ],
      "execution_count":130,
      "outputs":[
        {
          "ename":"TypeError",
          "evalue":"TypeError: 'set' object is not subscriptable",
          "traceback":[
            "\u001b[0;31m---------------------------------------------------------------------------",
            "Traceback (most recent call last)",
            "    at line 4 in <module>",
            "TypeError: 'set' object is not subscriptable"
          ],
          "output_type":"error"
        }
      ],
      "metadata":{
        
      }
    },
    {
      "cell_type":"code",
      "source":[
        "iterator = iter(s1)"
      ],
      "execution_count":135,
      "outputs":[
        
      ],
      "metadata":{
        
      }
    },
    {
      "cell_type":"code",
      "source":[
        "next(iterator)"
      ],
      "execution_count":139,
      "outputs":[
        {
          "ename":"StopIteration",
          "evalue":"StopIteration: ",
          "traceback":[
            "\u001b[0;31m---------------------------------------------------------------------------",
            "Traceback (most recent call last)",
            "    at line 1 in <module>",
            "StopIteration: "
          ],
          "output_type":"error"
        }
      ],
      "metadata":{
        
      }
    },
    {
      "cell_type":"code",
      "source":[
        "iterator2 = iter(iterator)"
      ],
      "execution_count":140,
      "outputs":[
        
      ],
      "metadata":{
        
      }
    },
    {
      "cell_type":"code",
      "source":[
        "iterator is iterator2"
      ],
      "execution_count":141,
      "outputs":[
        {
          "data":{
            "text\/plain":[
              "True"
            ]
          },
          "metadata":{
            
          },
          "output_type":"display_data"
        }
      ],
      "metadata":{
        
      }
    },
    {
      "cell_type":"code",
      "source":[
        "id(iterator2) == id(iterator)"
      ],
      "execution_count":142,
      "outputs":[
        {
          "data":{
            "text\/plain":[
              "True"
            ]
          },
          "metadata":{
            
          },
          "output_type":"display_data"
        }
      ],
      "metadata":{
        
      }
    },
    {
      "cell_type":"markdown",
      "source":[
        "## `BONUS: The Iterator Protocol`"
      ],
      "attachments":{
        
      },
      "metadata":{
        
      }
    },
    {
      "cell_type":"markdown",
      "source":[
        "* the way iterators and iterables work together"
      ],
      "attachments":{
        
      },
      "metadata":{
        
      }
    },
    {
      "cell_type":"code",
      "source":[
        "# __iter__\n",
        "# __next__"
      ],
      "execution_count":165,
      "outputs":[
        
      ],
      "metadata":{
        
      }
    },
    {
      "cell_type":"code",
      "source":[
        "s = {\"a\", \"b\"}"
      ],
      "execution_count":166,
      "outputs":[
        
      ],
      "metadata":{
        
      }
    },
    {
      "cell_type":"code",
      "source":[
        "set_itertor = iter(s)"
      ],
      "execution_count":167,
      "outputs":[
        
      ],
      "metadata":{
        
      }
    },
    {
      "cell_type":"code",
      "source":[
        "next(set_itertor)"
      ],
      "execution_count":169,
      "outputs":[
        {
          "data":{
            "text\/plain":[
              "'a'"
            ]
          },
          "metadata":{
            
          },
          "output_type":"display_data"
        }
      ],
      "metadata":{
        
      }
    },
    {
      "cell_type":"code",
      "source":[
        "name_string = \"Andrew\""
      ],
      "execution_count":170,
      "outputs":[
        
      ],
      "metadata":{
        
      }
    },
    {
      "cell_type":"code",
      "source":[
        "str_iterator = iter(name_string)"
      ],
      "execution_count":171,
      "outputs":[
        
      ],
      "metadata":{
        
      }
    },
    {
      "cell_type":"code",
      "source":[
        "next(str_iterator), next(str_iterator), next(str_iterator), next(str_iterator)"
      ],
      "execution_count":172,
      "outputs":[
        {
          "data":{
            "text\/plain":[
              "('A', 'n', 'd', 'r')"
            ]
          },
          "metadata":{
            
          },
          "output_type":"display_data"
        }
      ],
      "metadata":{
        
      }
    },
    {
      "cell_type":"code",
      "source":[
        "i = 1"
      ],
      "execution_count":173,
      "outputs":[
        
      ],
      "metadata":{
        
      }
    },
    {
      "cell_type":"code",
      "source":[
        "int_iterator = iter(i)"
      ],
      "execution_count":174,
      "outputs":[
        {
          "ename":"TypeError",
          "evalue":"TypeError: 'int' object is not iterable",
          "traceback":[
            "\u001b[0;31m---------------------------------------------------------------------------",
            "Traceback (most recent call last)",
            "    at line 1 in <module>",
            "TypeError: 'int' object is not iterable"
          ],
          "output_type":"error"
        }
      ],
      "metadata":{
        
      }
    },
    {
      "cell_type":"code",
      "source":[
        "class Forest:\n",
        "    def __init__(self):\n",
        "        self.i = 0\n",
        "        self.dwellings = list() \n",
        "\n",
        "    def add(self, dweller):\n",
        "        self.dwellings.append(dweller)\n",
        "\n",
        "    def __iter__(self):\n",
        "        return self\n",
        "\n",
        "    def __next__(self):\n",
        "        try:\n",
        "            self.i += 1\n",
        "            return self.dwellings[self.i - 1]\n",
        "        except IndexError:\n",
        "            self.i = 0\n",
        "            raise StopIteration"
      ],
      "execution_count":191,
      "outputs":[
        
      ],
      "metadata":{
        
      }
    },
    {
      "cell_type":"code",
      "source":[
        "iter(Forest())"
      ],
      "execution_count":194,
      "outputs":[
        {
          "data":{
            "text\/plain":[
              "<__main__.Forest at 0x7f903dd31be0>"
            ]
          },
          "metadata":{
            
          },
          "output_type":"display_data"
        }
      ],
      "metadata":{
        
      }
    },
    {
      "cell_type":"code",
      "source":[
        "f = Forest()"
      ],
      "execution_count":195,
      "outputs":[
        
      ],
      "metadata":{
        
      }
    },
    {
      "cell_type":"code",
      "source":[
        "f.add(\"tree1\")\n",
        "f.add(\"tree2\")"
      ],
      "execution_count":196,
      "outputs":[
        
      ],
      "metadata":{
        
      }
    },
    {
      "cell_type":"code",
      "source":[
        "tree_iterator = iter(f)"
      ],
      "execution_count":197,
      "outputs":[
        
      ],
      "metadata":{
        
      }
    },
    {
      "cell_type":"code",
      "source":[
        "for i in range(10):\n",
        "    print(next(tree_iterator))"
      ],
      "execution_count":198,
      "outputs":[
        {
          "name":"stdout",
          "text":[
            "tree1\n",
            "tree2\n"
          ],
          "output_type":"stream"
        },
        {
          "ename":"StopIteration",
          "evalue":"StopIteration: ",
          "traceback":[
            "\u001b[0;31m---------------------------------------------------------------------------",
            "Traceback (most recent call last)",
            "    at line 15 in __next__(self)",
            "    at line 2 in <module>",
            "    at line 18 in __next__(self)",
            "StopIteration: "
          ],
          "output_type":"error"
        }
      ],
      "metadata":{
        
      }
    },
    {
      "cell_type":"markdown",
      "source":[
        "## `BONUS: Extreme Duck Typing`"
      ],
      "attachments":{
        
      },
      "metadata":{
        
      }
    },
    {
      "cell_type":"code",
      "source":[
        "class Animal:\n",
        "    def __init__(self, name):\n",
        "        self.name = name\n",
        "\n",
        "    def __repr__(self):\n",
        "        return f\"{self.name}, {self.__class__.__name__.lower()}\"\n",
        "\n",
        "\n",
        "class Marlin(Animal):\n",
        "    def swim(self):\n",
        "        print(f\"{repr(self)} if swimming fast\")\n",
        "\n",
        "\n",
        "class SeaHorse(Animal):\n",
        "    def swim(self):\n",
        "        print(f\"{repr(self)} if swimming slow\")\n",
        "\n",
        "\n",
        "class Eagle(Animal):\n",
        "    def fly(self):\n",
        "        print(f\"{repr(selse)} is flying high\")"
      ],
      "execution_count":199,
      "outputs":[
        
      ],
      "metadata":{
        
      }
    },
    {
      "cell_type":"code",
      "source":[
        "class ZooFavorites(object):\n",
        "    def __init__(self):\n",
        "        self._roster = []\n",
        "\n",
        "    def add(self, animal):\n",
        "        self._roster.append(animal)\n",
        "\n",
        "    def insert(self, animal, position):\n",
        "        self._roster.insert(position, animal)\n",
        "\n",
        "    def __repr__(self):\n",
        "        header = \"##### ZooFavorites Roster ##### \\n\" + \"-\" * 30 + \"\\n\"\n",
        "        return header + \"\\n\".join([f\"#{idx + 1} {a}\" for idx, a in enumerate(self._roster)])\n",
        "\n",
        "    def __getitem__(self, idx):\n",
        "        return self._roster[idx]\n",
        "\n",
        "    def __len__(self):\n",
        "        return len(self._roster)"
      ],
      "execution_count":200,
      "outputs":[
        
      ],
      "metadata":{
        
      }
    },
    {
      "cell_type":"code",
      "source":[
        "a1 = Marlin(\"Didi\")\n",
        "a2 = Eagle(\"Jackson\")\n",
        "a3 = SeaHorse(\"Xichi\")\n",
        "a4 = Eagle(\"Polly\")\n",
        "\n",
        "fame = ZooFavorites()\n",
        "\n",
        "fame.add(a3)\n",
        "fame.add(a2)\n",
        "fame.insert(a4, 0)\n",
        "fame.add(a1)"
      ],
      "execution_count":201,
      "outputs":[
        
      ],
      "metadata":{
        
      }
    },
    {
      "cell_type":"code",
      "source":[
        "fame"
      ],
      "execution_count":202,
      "outputs":[
        {
          "data":{
            "text\/plain":[
              "##### ZooFavorites Roster ##### \n",
              "------------------------------\n",
              "#1 Polly, eagle\n",
              "#2 Xichi, seahorse\n",
              "#3 Jackson, eagle\n",
              "#4 Didi, marlin"
            ]
          },
          "metadata":{
            
          },
          "output_type":"display_data"
        }
      ],
      "metadata":{
        
      }
    },
    {
      "cell_type":"code",
      "source":[
        "for animal in fame:\n",
        "    print(animal)"
      ],
      "execution_count":205,
      "outputs":[
        {
          "name":"stdout",
          "text":[
            "Polly, eagle\n",
            "Xichi, seahorse\n",
            "Jackson, eagle\n",
            "Didi, marlin\n"
          ],
          "output_type":"stream"
        }
      ],
      "metadata":{
        
      }
    },
    {
      "cell_type":"code",
      "source":[
        "zoofaves_iterator = iter(fame)"
      ],
      "execution_count":206,
      "outputs":[
        
      ],
      "metadata":{
        
      }
    },
    {
      "cell_type":"code",
      "source":[
        "next(zoofaves_iterator)"
      ],
      "execution_count":209,
      "outputs":[
        {
          "data":{
            "text\/plain":[
              "Jackson, eagle"
            ]
          },
          "metadata":{
            
          },
          "output_type":"display_data"
        }
      ],
      "metadata":{
        
      }
    },
    {
      "cell_type":"code",
      "source":[
        "fame.__getitem__(0)"
      ],
      "execution_count":210,
      "outputs":[
        {
          "data":{
            "text\/plain":[
              "Polly, eagle"
            ]
          },
          "metadata":{
            
          },
          "output_type":"display_data"
        }
      ],
      "metadata":{
        
      }
    },
    {
      "cell_type":"code",
      "source":[
        "fame.__getitem__(1)"
      ],
      "execution_count":211,
      "outputs":[
        {
          "data":{
            "text\/plain":[
              "Xichi, seahorse"
            ]
          },
          "metadata":{
            
          },
          "output_type":"display_data"
        }
      ],
      "metadata":{
        
      }
    },
    {
      "cell_type":"code",
      "source":[
        "a1 in fame # __contains__"
      ],
      "execution_count":213,
      "outputs":[
        {
          "data":{
            "text\/plain":[
              "True"
            ]
          },
          "metadata":{
            
          },
          "output_type":"display_data"
        }
      ],
      "metadata":{
        
      }
    },
    {
      "cell_type":"code",
      "source":[
        
      ],
      "execution_count":0,
      "outputs":[
        
      ],
      "metadata":{
        
      }
    },
    {
      "cell_type":"code",
      "source":[
        
      ],
      "execution_count":0,
      "outputs":[
        
      ],
      "metadata":{
        
      }
    },
    {
      "cell_type":"code",
      "source":[
        
      ],
      "execution_count":0,
      "outputs":[
        
      ],
      "metadata":{
        
      }
    },
    {
      "cell_type":"code",
      "source":[
        
      ],
      "execution_count":0,
      "outputs":[
        
      ],
      "metadata":{
        
      }
    },
    {
      "cell_type":"code",
      "source":[
        
      ],
      "execution_count":0,
      "outputs":[
        
      ],
      "metadata":{
        
      }
    },
    {
      "cell_type":"code",
      "source":[
        
      ],
      "execution_count":0,
      "outputs":[
        
      ],
      "metadata":{
        
      }
    },
    {
      "cell_type":"code",
      "source":[
        
      ],
      "execution_count":0,
      "outputs":[
        
      ],
      "metadata":{
        
      }
    }
  ],
  "metadata":{
    
  },
  "nbformat":4,
  "nbformat_minor":0
}