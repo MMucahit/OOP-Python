{
  "cells":[
    {
      "cell_type":"markdown",
      "source":[
        "## `It Makes Sense`"
      ],
      "attachments":{
        
      },
      "metadata":{
        
      }
    },
    {
      "cell_type":"markdown",
      "source":[
        "* with inheritance we define \"is a\" relationships between types"
      ],
      "attachments":{
        
      },
      "metadata":{
        
      }
    },
    {
      "cell_type":"code",
      "source":[
        "# single inheritance\n",
        "class Person:\n",
        "    pass\n",
        "\n",
        "\n",
        "class Employee(Person):\n",
        "    pass"
      ],
      "execution_count":7,
      "outputs":[
        
      ],
      "metadata":{
        
      }
    },
    {
      "cell_type":"code",
      "source":[
        "# multiple-inheritance?"
      ],
      "execution_count":8,
      "outputs":[
        
      ],
      "metadata":{
        
      }
    },
    {
      "cell_type":"code",
      "source":[
        "class Person:\n",
        "    pass\n",
        "\n",
        "\n",
        "class Citizen:\n",
        "    pass\n",
        "\n",
        "\n",
        "class Employee(Person, Citizen):\n",
        "    pass"
      ],
      "execution_count":9,
      "outputs":[
        
      ],
      "metadata":{
        
      }
    },
    {
      "cell_type":"markdown",
      "source":[
        "## `Sharing Behavior`"
      ],
      "attachments":{
        
      },
      "metadata":{
        
      }
    },
    {
      "cell_type":"code",
      "source":[
        "class Citizen:\n",
        "    def vote(self):\n",
        "        return \"Voting...\"\n",
        "\n",
        "\n",
        "class Person:\n",
        "    def speak_freely(self):\n",
        "        return \"Speaking my mind...\"\n",
        "\n",
        "\n",
        "class Employee(Person, Citizen):\n",
        "    def speak_freely(self):\n",
        "        return \"This is the Employee speaking his\/her\/* mind...\""
      ],
      "execution_count":17,
      "outputs":[
        
      ],
      "metadata":{
        
      }
    },
    {
      "cell_type":"code",
      "source":[
        "Employee().vote()"
      ],
      "execution_count":18,
      "outputs":[
        {
          "data":{
            "text\/plain":[
              "'Voting...'"
            ]
          },
          "metadata":{
            
          },
          "output_type":"display_data"
        }
      ],
      "metadata":{
        
      }
    },
    {
      "cell_type":"code",
      "source":[
        "Employee().speak_freely()"
      ],
      "execution_count":19,
      "outputs":[
        {
          "data":{
            "text\/plain":[
              "'This is the Employee speaking his\/her\/* mind...'"
            ]
          },
          "metadata":{
            
          },
          "output_type":"display_data"
        }
      ],
      "metadata":{
        
      }
    },
    {
      "cell_type":"code",
      "source":[
        "e = Employee()\n",
        "\n",
        "e.vote()"
      ],
      "execution_count":21,
      "outputs":[
        {
          "data":{
            "text\/plain":[
              "'Voting...'"
            ]
          },
          "metadata":{
            
          },
          "output_type":"display_data"
        }
      ],
      "metadata":{
        
      }
    },
    {
      "cell_type":"code",
      "source":[
        "e.scream()"
      ],
      "execution_count":22,
      "outputs":[
        {
          "ename":"AttributeError",
          "evalue":"AttributeError: 'Employee' object has no attribute 'scream'",
          "traceback":[
            "\u001b[0;31m---------------------------------------------------------------------------",
            "Traceback (most recent call last)",
            "    at line 1 in <module>",
            "AttributeError: 'Employee' object has no attribute 'scream'"
          ],
          "output_type":"error"
        }
      ],
      "metadata":{
        
      }
    },
    {
      "cell_type":"markdown",
      "source":[
        "## `Parent __init__()` "
      ],
      "attachments":{
        
      },
      "metadata":{
        
      }
    },
    {
      "cell_type":"code",
      "source":[
        "class Citizen:\n",
        "    NATIONALITY = \"Canadian\"\n",
        "\n",
        "    def vote(self):\n",
        "        return \"Voting...\"\n",
        "\n",
        "\n",
        "class Person:\n",
        "    NATIONALITY = \"Turkish\"\n",
        "\n",
        "    def speak_freely(self):\n",
        "        return \"Speaking my mind...\"\n",
        "\n",
        "\n",
        "class Employee(Citizen, Person):\n",
        "    def speak_freely(self):\n",
        "        return \"This is the Employee speaking his\/her\/* mind...\""
      ],
      "execution_count":33,
      "outputs":[
        
      ],
      "metadata":{
        
      }
    },
    {
      "cell_type":"code",
      "source":[
        "Employee().NATIONALITY"
      ],
      "execution_count":34,
      "outputs":[
        {
          "data":{
            "text\/plain":[
              "'Canadian'"
            ]
          },
          "metadata":{
            
          },
          "output_type":"display_data"
        }
      ],
      "metadata":{
        
      }
    },
    {
      "cell_type":"code",
      "source":[
        "Employee.__mro__"
      ],
      "execution_count":35,
      "outputs":[
        {
          "data":{
            "text\/plain":[
              "(__main__.Employee, __main__.Citizen, __main__.Person, object)"
            ]
          },
          "metadata":{
            
          },
          "output_type":"display_data"
        }
      ],
      "metadata":{
        
      }
    },
    {
      "cell_type":"code",
      "source":[
        "class Citizen:\n",
        "    def __init__(self, nationality):\n",
        "        self.nationality = nationality\n",
        "\n",
        "    def vote(self):\n",
        "        return \"Voting...\"\n",
        "\n",
        "\n",
        "class Person:\n",
        "    def __init__(self, languages_spoken):\n",
        "        self.languages_spoken = languages_spoken\n",
        "\n",
        "    def speak_freely(self):\n",
        "        return \"Speaking my mind...\"\n",
        "\n",
        "\n",
        "class Employee(Citizen, Person):\n",
        "    def __init__(self, occupation, languages_spoken=\"English\", nationality=\"Canadian\"):\n",
        "        self.occupation = occupation\n",
        "        Person.__init__(self, languages_spoken)\n",
        "        Citizen.__init__(self, nationality)\n",
        "\n",
        "    def speak_freely(self):\n",
        "        return \"This is the Employee speaking his\/her\/* mind...\""
      ],
      "execution_count":43,
      "outputs":[
        
      ],
      "metadata":{
        
      }
    },
    {
      "cell_type":"code",
      "source":[
        "e = Employee(\"Software Engineer\")"
      ],
      "execution_count":44,
      "outputs":[
        
      ],
      "metadata":{
        
      }
    },
    {
      "cell_type":"code",
      "source":[
        "e.__dict__"
      ],
      "execution_count":45,
      "outputs":[
        {
          "data":{
            "text\/plain":[
              "{'occupation': 'Software Engineer',\n",
              " 'languages_spoken': 'English',\n",
              " 'nationality': 'Canadian'}"
            ]
          },
          "metadata":{
            
          },
          "output_type":"display_data"
        }
      ],
      "metadata":{
        
      }
    },
    {
      "cell_type":"code",
      "source":[
        "e = Employee(occupation=\"Software Engineer\", languages_spoken=\"French\", nationality=\"Canadian\")"
      ],
      "execution_count":46,
      "outputs":[
        
      ],
      "metadata":{
        
      }
    },
    {
      "cell_type":"code",
      "source":[
        "e.__dict__"
      ],
      "execution_count":47,
      "outputs":[
        {
          "data":{
            "text\/plain":[
              "{'occupation': 'Software Engineer',\n",
              " 'languages_spoken': 'French',\n",
              " 'nationality': 'Canadian'}"
            ]
          },
          "metadata":{
            
          },
          "output_type":"display_data"
        }
      ],
      "metadata":{
        
      }
    },
    {
      "cell_type":"markdown",
      "source":[
        "## `Revisiting super()`"
      ],
      "attachments":{
        
      },
      "metadata":{
        
      }
    },
    {
      "cell_type":"code",
      "source":[
        "class Citizen:\n",
        "    def __init__(self, nationality):\n",
        "        self.nationality = nationality\n",
        "        print(super())\n",
        "\n",
        "    def vote(self):\n",
        "        return \"Voting...\"\n",
        "\n",
        "\n",
        "class Person:\n",
        "    def __init__(self, languages_spoken):\n",
        "        self.languages_spoken = languages_spoken\n",
        "        print(super())\n",
        "\n",
        "    def speak_freely(self):\n",
        "        return \"Speaking my mind...\"\n",
        "\n",
        "\n",
        "class Employee(Citizen, Person):\n",
        "    def __init__(self, occupation, languages_spoken=\"English\", nationality=\"Canadian\"):\n",
        "        self.occupation = occupation\n",
        "        Person.__init__(self, languages_spoken)\n",
        "        Citizen.__init__(self, nationality)\n",
        "        print(super())\n",
        "        print(type(super()))\n",
        "\n",
        "    def speak_freely(self):\n",
        "        return \"This is the Employee speaking his\/her\/* mind...\""
      ],
      "execution_count":50,
      "outputs":[
        
      ],
      "metadata":{
        
      }
    },
    {
      "cell_type":"code",
      "source":[
        "# super() -> returns computed reference to an object; indirection"
      ],
      "execution_count":51,
      "outputs":[
        
      ],
      "metadata":{
        
      }
    },
    {
      "cell_type":"code",
      "source":[
        "e = Employee(occupation=\"Software Engineer\", languages_spoken=\"French\", nationality=\"Canadian\")"
      ],
      "execution_count":52,
      "outputs":[
        {
          "name":"stdout",
          "text":[
            "<super: <class 'Person'>, <Employee object>>\n",
            "<super: <class 'Citizen'>, <Employee object>>\n",
            "<super: <class 'Employee'>, <Employee object>>\n",
            "<class 'super'>\n"
          ],
          "output_type":"stream"
        }
      ],
      "metadata":{
        
      }
    },
    {
      "cell_type":"code",
      "source":[
        "Employee.__mro__"
      ],
      "execution_count":53,
      "outputs":[
        {
          "data":{
            "text\/plain":[
              "(__main__.Employee, __main__.Citizen, __main__.Person, object)"
            ]
          },
          "metadata":{
            
          },
          "output_type":"display_data"
        }
      ],
      "metadata":{
        
      }
    },
    {
      "cell_type":"code",
      "source":[
        "class Citizen:\n",
        "    def __init__(self, languages_spoken, nationality):\n",
        "        super().__init__(languages_spoken)\n",
        "        self.nationality = nationality\n",
        "  \n",
        "\n",
        "    def vote(self):\n",
        "        return \"Voting...\"\n",
        "\n",
        "\n",
        "class Person:\n",
        "    def __init__(self, languages_spoken):\n",
        "        self.languages_spoken = languages_spoken\n",
        "\n",
        "    def speak_freely(self):\n",
        "        return \"Speaking my mind...\"\n",
        "\n",
        "\n",
        "class Employee(Citizen, Person):\n",
        "    def __init__(self, occupation, languages_spoken=\"English\", nationality=\"Canadian\"):\n",
        "        super().__init__(languages_spoken, nationality)\n",
        "        self.occupation = occupation\n",
        "\n",
        "    def speak_freely(self):\n",
        "        return \"This is the Employee speaking his\/her\/* mind...\""
      ],
      "execution_count":54,
      "outputs":[
        
      ],
      "metadata":{
        
      }
    },
    {
      "cell_type":"code",
      "source":[
        "Employee(occupation=\"Software Engineer\", languages_spoken=\"French\", nationality=\"Canadian\").__dict__"
      ],
      "execution_count":56,
      "outputs":[
        {
          "data":{
            "text\/plain":[
              "{'languages_spoken': 'French',\n",
              " 'nationality': 'Canadian',\n",
              " 'occupation': 'Software Engineer'}"
            ]
          },
          "metadata":{
            
          },
          "output_type":"display_data"
        }
      ],
      "metadata":{
        
      }
    },
    {
      "cell_type":"markdown",
      "source":[
        "## `Variadics`"
      ],
      "attachments":{
        
      },
      "metadata":{
        
      }
    },
    {
      "cell_type":"code",
      "source":[
        "class Citizen:\n",
        "    def __init__(self, languages_spoken, nationality):\n",
        "        super().__init__(languages_spoken)\n",
        "        self.nationality = nationality\n",
        "\n",
        "    def vote(self):\n",
        "        return \"Voting...\"\n",
        "\n",
        "\n",
        "class Person:\n",
        "    def __init__(self, languages_spoken):\n",
        "        self.languages_spoken = languages_spoken\n",
        "\n",
        "    def speak_freely(self):\n",
        "        return \"Speaking my mind...\"\n",
        "\n",
        "\n",
        "class Employee(Citizen, Person):\n",
        "    def __init__(self, occupation, languages_spoken=\"English\", nationality=\"Canadian\"):\n",
        "        super().__init__(languages_spoken, nationality)\n",
        "        self.occupation = occupation\n",
        "\n",
        "    def speak_freely(self):\n",
        "        return \"This is the Employee speaking his\/her\/* mind...\""
      ],
      "execution_count":58,
      "outputs":[
        
      ],
      "metadata":{
        
      }
    },
    {
      "cell_type":"code",
      "source":[
        "# variadics detour"
      ],
      "execution_count":59,
      "outputs":[
        
      ],
      "metadata":{
        
      }
    },
    {
      "cell_type":"code",
      "source":[
        "def your_typical_function(name, age=12):\n",
        "    print(name, age)"
      ],
      "execution_count":60,
      "outputs":[
        
      ],
      "metadata":{
        
      }
    },
    {
      "cell_type":"code",
      "source":[
        "your_typical_function(\"Andrew\", 37)"
      ],
      "execution_count":61,
      "outputs":[
        {
          "name":"stdout",
          "text":[
            "Andrew 37\n"
          ],
          "output_type":"stream"
        }
      ],
      "metadata":{
        
      }
    },
    {
      "cell_type":"code",
      "source":[
        "your_typical_function(\"Andrew\", \"Rogers\", 37)"
      ],
      "execution_count":62,
      "outputs":[
        {
          "ename":"TypeError",
          "evalue":"TypeError: your_typical_function() takes from 1 to 2 positional arguments but 3 were given",
          "traceback":[
            "\u001b[0;31m---------------------------------------------------------------------------",
            "Traceback (most recent call last)",
            "    at line 1 in <module>",
            "TypeError: your_typical_function() takes from 1 to 2 positional arguments but 3 were given"
          ],
          "output_type":"error"
        }
      ],
      "metadata":{
        
      }
    },
    {
      "cell_type":"code",
      "source":[
        "def your_typical_function(name, *more, age=12):\n",
        "    print(name, age)\n",
        "    print(f\"other positional args: {more}\")"
      ],
      "execution_count":66,
      "outputs":[
        
      ],
      "metadata":{
        
      }
    },
    {
      "cell_type":"code",
      "source":[
        "your_typical_function(\"Andrew\", \"Rogers\", \"912\", age=37)"
      ],
      "execution_count":68,
      "outputs":[
        {
          "name":"stdout",
          "text":[
            "Andrew 37\n",
            "other positional args: ('Rogers', '912')\n"
          ],
          "output_type":"stream"
        }
      ],
      "metadata":{
        
      }
    },
    {
      "cell_type":"code",
      "source":[
        "your_typical_function(\"Andrew\", \"Rogers\", \"912\", age=37, orientation=\"straight\")"
      ],
      "execution_count":69,
      "outputs":[
        {
          "ename":"TypeError",
          "evalue":"TypeError: your_typical_function() got an unexpected keyword argument 'orientation'",
          "traceback":[
            "\u001b[0;31m---------------------------------------------------------------------------",
            "Traceback (most recent call last)",
            "    at line 1 in <module>",
            "TypeError: your_typical_function() got an unexpected keyword argument 'orientation'"
          ],
          "output_type":"error"
        }
      ],
      "metadata":{
        
      }
    },
    {
      "cell_type":"code",
      "source":[
        "def your_typical_function(name, *more, age=12, **even_more):\n",
        "    print(name, age)\n",
        "    print(f\"other positional args: {more}\")\n",
        "    print(f\"other keyword args: {even_more}\")"
      ],
      "execution_count":72,
      "outputs":[
        
      ],
      "metadata":{
        
      }
    },
    {
      "cell_type":"code",
      "source":[
        "your_typical_function(\"Andrew\", \"Rogers\", \"912\", age=37, orientation=\"straight\")"
      ],
      "execution_count":75,
      "outputs":[
        {
          "name":"stdout",
          "text":[
            "Andrew 37\n",
            "other positional args: ('Rogers', '912')\n",
            "other keyword args: {'orientation': 'straight'}\n"
          ],
          "output_type":"stream"
        }
      ],
      "metadata":{
        
      }
    },
    {
      "cell_type":"code",
      "source":[
        "your_typical_function(\"Andrew\", age=37)"
      ],
      "execution_count":77,
      "outputs":[
        {
          "name":"stdout",
          "text":[
            "Andrew 37\n",
            "other positional args: ()\n",
            "other keyword args: {}\n"
          ],
          "output_type":"stream"
        }
      ],
      "metadata":{
        
      }
    },
    {
      "cell_type":"code",
      "source":[
        "# variadic -> it varies\n",
        "\n",
        "# arity -> not fixed or known ahead of time\n",
        "\n",
        "# arity -> the number of arguments expected"
      ],
      "execution_count":79,
      "outputs":[
        
      ],
      "metadata":{
        
      }
    },
    {
      "cell_type":"code",
      "source":[
        "def your_typical_function(name, *args, age=12, **kwargs):\n",
        "    print(name, age)\n",
        "    print(f\"other positional args: {args}\")\n",
        "    print(f\"other keyword args: {kwargs}\")"
      ],
      "execution_count":80,
      "outputs":[
        
      ],
      "metadata":{
        
      }
    },
    {
      "cell_type":"code",
      "source":[
        "# end variadic detour"
      ],
      "execution_count":81,
      "outputs":[
        
      ],
      "metadata":{
        
      }
    },
    {
      "cell_type":"code",
      "source":[
        "class Person:\n",
        "    def __init__(self, languages_spoken, **kwargs):\n",
        "        print(kwargs)\n",
        "        self.languages_spoken = languages_spoken\n",
        "\n",
        "    def speak_freely(self):\n",
        "        return \"Speaking my mind...\"\n",
        "\n",
        "\n",
        "class Citizen:\n",
        "    def __init__(self, nationality, **kwargs):\n",
        "        print(kwargs)\n",
        "        super().__init__(**kwargs)\n",
        "        self.nationality = nationality\n",
        "\n",
        "    def vote(self):\n",
        "        return \"Voting...\"\n",
        "\n",
        "\n",
        "class Employee(Citizen, Person):\n",
        "    def __init__(self, occupation, **kwargs):\n",
        "        print(kwargs)\n",
        "        super().__init__(**kwargs)\n",
        "        self.occupation = occupation\n",
        "\n",
        "    def speak_freely(self):\n",
        "        return \"This is the Employee speaking his\/her\/* mind...\""
      ],
      "execution_count":88,
      "outputs":[
        
      ],
      "metadata":{
        
      }
    },
    {
      "cell_type":"code",
      "source":[
        "Employee(occupation=\"Software Engineer\", nationality=\"Canadian\", languages_spoken=\"English\").__dict__"
      ],
      "execution_count":87,
      "outputs":[
        {
          "name":"stdout",
          "text":[
            "{'nationality': 'Canadian', 'languages_spoken': 'English'}\n",
            "{'languages_spoken': 'English'}\n",
            "{}\n"
          ],
          "output_type":"stream"
        },
        {
          "data":{
            "text\/plain":[
              "{'languages_spoken': 'English',\n",
              " 'nationality': 'Canadian',\n",
              " 'occupation': 'Software Engineer'}"
            ]
          },
          "metadata":{
            
          },
          "output_type":"display_data"
        }
      ],
      "metadata":{
        
      }
    },
    {
      "cell_type":"code",
      "source":[
        "Employee.__mro__"
      ],
      "execution_count":89,
      "outputs":[
        {
          "data":{
            "text\/plain":[
              "(__main__.Employee, __main__.Citizen, __main__.Person, object)"
            ]
          },
          "metadata":{
            
          },
          "output_type":"display_data"
        }
      ],
      "metadata":{
        
      }
    },
    {
      "cell_type":"markdown",
      "source":[
        "## `The Diamond Problem`"
      ],
      "attachments":{
        
      },
      "metadata":{
        
      }
    },
    {
      "cell_type":"code",
      "source":[
        "class Person:\n",
        "    def speak_freely(self):\n",
        "        return \"speaking\"\n",
        "\n",
        "class Developer(Person):\n",
        "    def speak_freely(self):\n",
        "        return \"speaking in code\"\n",
        "\n",
        "class Citizen(Person):\n",
        "    def speak_freely(self):\n",
        "        return \"speaking in words\"\n",
        "\n",
        "class Employee(Citizen, Developer):\n",
        "    \"\"\"The Employee subclass\"\"\""
      ],
      "execution_count":19,
      "outputs":[
        
      ],
      "metadata":{
        
      }
    },
    {
      "cell_type":"code",
      "source":[
        "e = Employee()"
      ],
      "execution_count":20,
      "outputs":[
        
      ],
      "metadata":{
        
      }
    },
    {
      "cell_type":"code",
      "source":[
        "Employee.__mro__"
      ],
      "execution_count":21,
      "outputs":[
        {
          "data":{
            "text\/plain":[
              "(__main__.Employee,\n",
              " __main__.Citizen,\n",
              " __main__.Developer,\n",
              " __main__.Person,\n",
              " object)"
            ]
          },
          "metadata":{
            
          },
          "output_type":"display_data"
        }
      ],
      "metadata":{
        
      }
    },
    {
      "cell_type":"code",
      "source":[
        "e.speak_freely()"
      ],
      "execution_count":22,
      "outputs":[
        {
          "data":{
            "text\/plain":[
              "'speaking in words'"
            ]
          },
          "metadata":{
            
          },
          "output_type":"display_data"
        }
      ],
      "metadata":{
        
      }
    },
    {
      "cell_type":"markdown",
      "source":[
        "## `What Drives __mro__?`"
      ],
      "attachments":{
        
      },
      "metadata":{
        
      }
    },
    {
      "cell_type":"code",
      "source":[
        "class Citizen:\n",
        "    def __init__(self, nationality, **kwargs):\n",
        "        super().__init__(**kwargs)\n",
        "        self.nationality = nationality\n",
        "\n",
        "    def vote(self):\n",
        "        return \"Voting...\"\n",
        "\n",
        "\n",
        "class Person:\n",
        "    def __init__(self, languages_spoken, **kwargs):\n",
        "        self.languages_spoken = languages_spoken\n",
        "\n",
        "    def speak_freely(self):\n",
        "        return \"Speaking my mind...\"\n",
        "\n",
        "\n",
        "class Employee(Citizen, Person):\n",
        "    def __init__(self, occupation, **kwargs):\n",
        "        super().__init__(**kwargs)\n",
        "        self.occupation = occupation\n",
        "\n",
        "    def speak_freely(self):\n",
        "        return \"This is the Employee speaking his\/her\/* mind...\""
      ],
      "execution_count":55,
      "outputs":[
        
      ],
      "metadata":{
        
      }
    },
    {
      "cell_type":"code",
      "source":[
        "Employee.__mro__"
      ],
      "execution_count":56,
      "outputs":[
        {
          "data":{
            "text\/plain":[
              "(__main__.Employee, __main__.Citizen, __main__.Person, object)"
            ]
          },
          "metadata":{
            
          },
          "output_type":"display_data"
        }
      ],
      "metadata":{
        
      }
    },
    {
      "cell_type":"code",
      "source":[
        "# rules of the __mro__:\n",
        "# 1. children classes come before their parents\n",
        "# 2. among siblings, the order reflected in __bases__ is followed"
      ],
      "execution_count":52,
      "outputs":[
        
      ],
      "metadata":{
        
      }
    },
    {
      "cell_type":"code",
      "source":[
        "Employee.__bases__"
      ],
      "execution_count":53,
      "outputs":[
        {
          "data":{
            "text\/plain":[
              "(__main__.Citizen, __main__.Person)"
            ]
          },
          "metadata":{
            
          },
          "output_type":"display_data"
        }
      ],
      "metadata":{
        
      }
    },
    {
      "cell_type":"markdown",
      "source":[
        "## `Worth It?`"
      ],
      "attachments":{
        
      },
      "metadata":{
        
      }
    },
    {
      "cell_type":"markdown",
      "source":[
        "* conceptually, easy\n",
        "* practically it may introduce more complexity than we want\/need\n",
        "* excellent in some specific use cases, e.g. mixins and type relationships with ABCs\n",
        "* opinions may vary"
      ],
      "attachments":{
        
      },
      "metadata":{
        
      }
    },
    {
      "cell_type":"markdown",
      "source":[
        "## `Mixins`"
      ],
      "attachments":{
        
      },
      "metadata":{
        
      }
    },
    {
      "cell_type":"code",
      "source":[
        "class Worker():\n",
        "    def work(self):\n",
        "        return \"Working\""
      ],
      "execution_count":1,
      "outputs":[
        
      ],
      "metadata":{
        
      }
    },
    {
      "cell_type":"code",
      "source":[
        "class OverachieverMixin():\n",
        "    def work(self):\n",
        "        return f\"{super().work()} with huge accountability\"\n",
        "\n",
        "\n",
        "class CriticalMixin():\n",
        "    def work(self):\n",
        "        return f\"{super().work()} on important things\"\n",
        "\n",
        "\n",
        "class PartTimeMixin():\n",
        "    def work(self):\n",
        "        return f\"{super().work()} only part time\""
      ],
      "execution_count":4,
      "outputs":[
        
      ],
      "metadata":{
        
      }
    },
    {
      "cell_type":"code",
      "source":[
        "class PartTimeCriticalWorker(PartTimeMixin, CriticalMixin, Worker):\n",
        "    pass"
      ],
      "execution_count":8,
      "outputs":[
        
      ],
      "metadata":{
        
      }
    },
    {
      "cell_type":"code",
      "source":[
        "PartTimeCriticalWorker().work()"
      ],
      "execution_count":10,
      "outputs":[
        {
          "data":{
            "text\/plain":[
              "'Working on important things only part time'"
            ]
          },
          "metadata":{
            
          },
          "output_type":"display_data"
        }
      ],
      "metadata":{
        
      }
    },
    {
      "cell_type":"code",
      "source":[
        "class OverachievingWorker(OverachieverMixin, Worker):\n",
        "    pass"
      ],
      "execution_count":11,
      "outputs":[
        
      ],
      "metadata":{
        
      }
    },
    {
      "cell_type":"code",
      "source":[
        "OverachievingWorker().work()"
      ],
      "execution_count":12,
      "outputs":[
        {
          "data":{
            "text\/plain":[
              "'Working with huge accountability'"
            ]
          },
          "metadata":{
            
          },
          "output_type":"display_data"
        }
      ],
      "metadata":{
        
      }
    },
    {
      "cell_type":"markdown",
      "source":[
        "## `Organizing Interfaces`"
      ],
      "attachments":{
        
      },
      "metadata":{
        
      }
    },
    {
      "cell_type":"code",
      "source":[
        "from abc import ABC, abstractmethod"
      ],
      "execution_count":13,
      "outputs":[
        
      ],
      "metadata":{
        
      }
    },
    {
      "cell_type":"code",
      "source":[
        "class Playable(ABC):\n",
        "    @abstractmethod\n",
        "    def play(self):\n",
        "        pass\n",
        "\n",
        "    @abstractmethod\n",
        "    def pause(self):\n",
        "        pass\n",
        "\n",
        "    @abstractmethod\n",
        "    def stop(self):\n",
        "        pass\n",
        "\n",
        "\n",
        "class Replicable(ABC):\n",
        "    @abstractmethod\n",
        "    def copy(self):\n",
        "        pass\n",
        "\n",
        "\n",
        "class Portable(ABC):\n",
        "    @abstractmethod\n",
        "    def move(self):\n",
        "        pass\n",
        "\n",
        "    @abstractmethod\n",
        "    def download(self):\n",
        "        pass\n",
        "\n",
        "\n",
        "class Likable(ABC):\n",
        "    @abstractmethod\n",
        "    def like(self):\n",
        "        pass"
      ],
      "execution_count":16,
      "outputs":[
        
      ],
      "metadata":{
        
      }
    },
    {
      "cell_type":"code",
      "source":[
        "class CloudMediaFile(Playable, Likable):\n",
        "    pass"
      ],
      "execution_count":17,
      "outputs":[
        
      ],
      "metadata":{
        
      }
    },
    {
      "cell_type":"code",
      "source":[
        "class LocalMediaFile(Playable, Portable, Replicable):\n",
        "    pass"
      ],
      "execution_count":18,
      "outputs":[
        
      ],
      "metadata":{
        
      }
    },
    {
      "cell_type":"code",
      "source":[
        "class SpotifySong(CloudMediaFile):\n",
        "    def play(self):\n",
        "        return \"playing\""
      ],
      "execution_count":19,
      "outputs":[
        
      ],
      "metadata":{
        
      }
    },
    {
      "cell_type":"code",
      "source":[
        "SpotifySong()"
      ],
      "execution_count":20,
      "outputs":[
        {
          "ename":"TypeError",
          "evalue":"TypeError: Can't instantiate abstract class SpotifySong with abstract methods like, pause, stop",
          "traceback":[
            "\u001b[0;31m---------------------------------------------------------------------------",
            "Traceback (most recent call last)",
            "    at line 1 in <module>",
            "TypeError: Can't instantiate abstract class SpotifySong with abstract methods like, pause, stop"
          ],
          "output_type":"error"
        }
      ],
      "metadata":{
        
      }
    },
    {
      "cell_type":"code",
      "source":[
        "class SpotifySong(CloudMediaFile):\n",
        "    def __init__(self, title, artist):\n",
        "        self.title = title\n",
        "        self.artist = artist\n",
        "\n",
        "    def play(self):\n",
        "        return f\"Playing {self.title} by {self.artist}...\"\n",
        "\n",
        "    def pause(self):\n",
        "        return f\"{self.title} paused playing.\"\n",
        "\n",
        "    def stop(self):\n",
        "        return f\"{self.title} stopped playing!\"\n",
        "\n",
        "    def like(self):\n",
        "        return f\"Likeed {self.title}\""
      ],
      "execution_count":21,
      "outputs":[
        
      ],
      "metadata":{
        
      }
    },
    {
      "cell_type":"code",
      "source":[
        "song = SpotifySong(\"Astronaut In The Ocean\", \"Masked Wolf\")"
      ],
      "execution_count":23,
      "outputs":[
        
      ],
      "metadata":{
        
      }
    },
    {
      "cell_type":"code",
      "source":[
        "song.play()"
      ],
      "execution_count":24,
      "outputs":[
        {
          "data":{
            "text\/plain":[
              "'Playing Astronaut In The Ocean by Masked Wolf...'"
            ]
          },
          "metadata":{
            
          },
          "output_type":"display_data"
        }
      ],
      "metadata":{
        
      }
    },
    {
      "cell_type":"code",
      "source":[
        "song.pause()"
      ],
      "execution_count":25,
      "outputs":[
        {
          "data":{
            "text\/plain":[
              "'Astronaut In The Ocean paused playing.'"
            ]
          },
          "metadata":{
            
          },
          "output_type":"display_data"
        }
      ],
      "metadata":{
        
      }
    },
    {
      "cell_type":"code",
      "source":[
        "isinstance(song, Portable)"
      ],
      "execution_count":26,
      "outputs":[
        {
          "data":{
            "text\/plain":[
              "False"
            ]
          },
          "metadata":{
            
          },
          "output_type":"display_data"
        }
      ],
      "metadata":{
        
      }
    },
    {
      "cell_type":"code",
      "source":[
        "issubclass(SpotifySong, Playable)"
      ],
      "execution_count":27,
      "outputs":[
        {
          "data":{
            "text\/plain":[
              "True"
            ]
          },
          "metadata":{
            
          },
          "output_type":"display_data"
        }
      ],
      "metadata":{
        
      }
    },
    {
      "cell_type":"code",
      "source":[
        
      ],
      "execution_count":0,
      "outputs":[
        
      ],
      "metadata":{
        
      }
    },
    {
      "cell_type":"code",
      "source":[
        
      ],
      "execution_count":0,
      "outputs":[
        
      ],
      "metadata":{
        
      }
    },
    {
      "cell_type":"code",
      "source":[
        
      ],
      "execution_count":0,
      "outputs":[
        
      ],
      "metadata":{
        
      }
    },
    {
      "cell_type":"code",
      "source":[
        
      ],
      "execution_count":0,
      "outputs":[
        
      ],
      "metadata":{
        
      }
    },
    {
      "cell_type":"code",
      "source":[
        
      ],
      "execution_count":0,
      "outputs":[
        
      ],
      "metadata":{
        
      }
    },
    {
      "cell_type":"code",
      "source":[
        
      ],
      "execution_count":0,
      "outputs":[
        
      ],
      "metadata":{
        
      }
    },
    {
      "cell_type":"code",
      "source":[
        
      ],
      "execution_count":0,
      "outputs":[
        
      ],
      "metadata":{
        
      }
    },
    {
      "cell_type":"code",
      "source":[
        
      ],
      "execution_count":0,
      "outputs":[
        
      ],
      "metadata":{
        
      }
    },
    {
      "cell_type":"code",
      "source":[
        
      ],
      "execution_count":0,
      "outputs":[
        
      ],
      "metadata":{
        
      }
    },
    {
      "cell_type":"code",
      "source":[
        
      ],
      "execution_count":0,
      "outputs":[
        
      ],
      "metadata":{
        
      }
    },
    {
      "cell_type":"code",
      "source":[
        
      ],
      "execution_count":0,
      "outputs":[
        
      ],
      "metadata":{
        
      }
    },
    {
      "cell_type":"code",
      "source":[
        
      ],
      "execution_count":0,
      "outputs":[
        
      ],
      "metadata":{
        
      }
    },
    {
      "cell_type":"code",
      "source":[
        
      ],
      "execution_count":0,
      "outputs":[
        
      ],
      "metadata":{
        
      }
    },
    {
      "cell_type":"code",
      "source":[
        
      ],
      "execution_count":0,
      "outputs":[
        
      ],
      "metadata":{
        
      }
    },
    {
      "cell_type":"code",
      "source":[
        
      ],
      "execution_count":0,
      "outputs":[
        
      ],
      "metadata":{
        
      }
    },
    {
      "cell_type":"code",
      "source":[
        
      ],
      "execution_count":0,
      "outputs":[
        
      ],
      "metadata":{
        
      }
    },
    {
      "cell_type":"code",
      "source":[
        
      ],
      "execution_count":0,
      "outputs":[
        
      ],
      "metadata":{
        
      }
    },
    {
      "cell_type":"code",
      "source":[
        
      ],
      "execution_count":0,
      "outputs":[
        
      ],
      "metadata":{
        
      }
    },
    {
      "cell_type":"code",
      "source":[
        
      ],
      "execution_count":0,
      "outputs":[
        
      ],
      "metadata":{
        
      }
    },
    {
      "cell_type":"code",
      "source":[
        
      ],
      "execution_count":0,
      "outputs":[
        
      ],
      "metadata":{
        
      }
    },
    {
      "cell_type":"code",
      "source":[
        
      ],
      "execution_count":0,
      "outputs":[
        
      ],
      "metadata":{
        
      }
    },
    {
      "cell_type":"code",
      "source":[
        
      ],
      "execution_count":0,
      "outputs":[
        
      ],
      "metadata":{
        
      }
    },
    {
      "cell_type":"code",
      "source":[
        
      ],
      "execution_count":0,
      "outputs":[
        
      ],
      "metadata":{
        
      }
    },
    {
      "cell_type":"code",
      "source":[
        
      ],
      "execution_count":0,
      "outputs":[
        
      ],
      "metadata":{
        
      }
    },
    {
      "cell_type":"code",
      "source":[
        
      ],
      "execution_count":0,
      "outputs":[
        
      ],
      "metadata":{
        
      }
    },
    {
      "cell_type":"code",
      "source":[
        
      ],
      "execution_count":0,
      "outputs":[
        
      ],
      "metadata":{
        
      }
    },
    {
      "cell_type":"code",
      "source":[
        
      ],
      "execution_count":0,
      "outputs":[
        
      ],
      "metadata":{
        
      }
    },
    {
      "cell_type":"code",
      "source":[
        
      ],
      "execution_count":0,
      "outputs":[
        
      ],
      "metadata":{
        
      }
    },
    {
      "cell_type":"code",
      "source":[
        
      ],
      "execution_count":0,
      "outputs":[
        
      ],
      "metadata":{
        
      }
    },
    {
      "cell_type":"code",
      "source":[
        
      ],
      "execution_count":0,
      "outputs":[
        
      ],
      "metadata":{
        
      }
    },
    {
      "cell_type":"code",
      "source":[
        
      ],
      "execution_count":0,
      "outputs":[
        
      ],
      "metadata":{
        
      }
    },
    {
      "cell_type":"code",
      "source":[
        
      ],
      "execution_count":0,
      "outputs":[
        
      ],
      "metadata":{
        
      }
    },
    {
      "cell_type":"code",
      "source":[
        
      ],
      "execution_count":0,
      "outputs":[
        
      ],
      "metadata":{
        
      }
    },
    {
      "cell_type":"code",
      "source":[
        
      ],
      "execution_count":0,
      "outputs":[
        
      ],
      "metadata":{
        
      }
    },
    {
      "cell_type":"code",
      "source":[
        
      ],
      "execution_count":0,
      "outputs":[
        
      ],
      "metadata":{
        
      }
    }
  ],
  "metadata":{
    
  },
  "nbformat":4,
  "nbformat_minor":0
}