{
  "cells":[
    {
      "cell_type":"markdown",
      "source":[
        "## `What Is Meta?`"
      ],
      "attachments":{
        
      },
      "metadata":{
        
      }
    },
    {
      "cell_type":"markdown",
      "source":[
        "* metaphysics -> meta -> \"something that references the self\""
      ],
      "attachments":{
        
      },
      "metadata":{
        
      }
    },
    {
      "cell_type":"markdown",
      "source":[
        "* metaprogramming -> code manipulating itself"
      ],
      "attachments":{
        
      },
      "metadata":{
        
      }
    },
    {
      "cell_type":"markdown",
      "source":[
        "* broad topic; our focus: class metaprogramming and metaclasses"
      ],
      "attachments":{
        
      },
      "metadata":{
        
      }
    },
    {
      "cell_type":"markdown",
      "source":[
        "## `Classes Are Objects`"
      ],
      "attachments":{
        
      },
      "metadata":{
        
      }
    },
    {
      "cell_type":"code",
      "source":[
        "# the class, or blueprint\n",
        "\n",
        "class School:\n",
        "    def __init__(self, enrollment):\n",
        "        self.enrollment = enrollment\n",
        "\n",
        "    def enroll_student(self):\n",
        "        self.enrollment += 1\n",
        "\n",
        "    def graduate_sudent(self):\n",
        "        self.enrollment -= 1"
      ],
      "execution_count":4,
      "outputs":[
        
      ],
      "metadata":{
        
      }
    },
    {
      "cell_type":"code",
      "source":[
        "# the instances\n",
        "\n",
        "s1 = School(enrollment=100)\n",
        "\n",
        "s2 = School(enrollment=350)"
      ],
      "execution_count":5,
      "outputs":[
        
      ],
      "metadata":{
        
      }
    },
    {
      "cell_type":"code",
      "source":[
        "s1, s2"
      ],
      "execution_count":9,
      "outputs":[
        {
          "data":{
            "text\/plain":[
              "(<__main__.School at 0x7f5edbfcf940>, <__main__.School at 0x7f5edbfcfb80>)"
            ]
          },
          "metadata":{
            
          },
          "output_type":"display_data"
        }
      ],
      "metadata":{
        
      }
    },
    {
      "cell_type":"code",
      "source":[
        "# blueprint -> instance\n",
        "# class -> object\n",
        "\n",
        "# ALSO\n",
        "\n",
        "# \"everything in python is an object\"\n",
        "\n",
        "# THEN\n",
        "\n",
        "# metaclass -> class -> object"
      ],
      "execution_count":16,
      "outputs":[
        
      ],
      "metadata":{
        
      }
    },
    {
      "cell_type":"code",
      "source":[
        "id(School)"
      ],
      "execution_count":10,
      "outputs":[
        {
          "data":{
            "text\/plain":[
              "94612370150352"
            ]
          },
          "metadata":{
            
          },
          "output_type":"display_data"
        }
      ],
      "metadata":{
        
      }
    },
    {
      "cell_type":"code",
      "source":[
        "SchoolClass = School"
      ],
      "execution_count":11,
      "outputs":[
        
      ],
      "metadata":{
        
      }
    },
    {
      "cell_type":"code",
      "source":[
        "SchoolClass(1200)"
      ],
      "execution_count":12,
      "outputs":[
        {
          "data":{
            "text\/plain":[
              "<__main__.School at 0x7f5ee83e86d0>"
            ]
          },
          "metadata":{
            
          },
          "output_type":"display_data"
        }
      ],
      "metadata":{
        
      }
    },
    {
      "cell_type":"code",
      "source":[
        "School.montessori = False"
      ],
      "execution_count":13,
      "outputs":[
        
      ],
      "metadata":{
        
      }
    },
    {
      "cell_type":"code",
      "source":[
        "School.is_montessori = lambda self: self.montessori"
      ],
      "execution_count":14,
      "outputs":[
        
      ],
      "metadata":{
        
      }
    },
    {
      "cell_type":"code",
      "source":[
        "School(202).is_montessori()"
      ],
      "execution_count":15,
      "outputs":[
        {
          "data":{
            "text\/plain":[
              "False"
            ]
          },
          "metadata":{
            
          },
          "output_type":"display_data"
        }
      ],
      "metadata":{
        
      }
    },
    {
      "cell_type":"code",
      "source":[
        "s1 = School(20312)"
      ],
      "execution_count":17,
      "outputs":[
        
      ],
      "metadata":{
        
      }
    },
    {
      "cell_type":"code",
      "source":[
        "type(s1)"
      ],
      "execution_count":18,
      "outputs":[
        {
          "data":{
            "text\/plain":[
              "__main__.School"
            ]
          },
          "metadata":{
            
          },
          "output_type":"display_data"
        }
      ],
      "metadata":{
        
      }
    },
    {
      "cell_type":"code",
      "source":[
        "type(School)"
      ],
      "execution_count":19,
      "outputs":[
        {
          "data":{
            "text\/plain":[
              "type"
            ]
          },
          "metadata":{
            
          },
          "output_type":"display_data"
        }
      ],
      "metadata":{
        
      }
    },
    {
      "cell_type":"code",
      "source":[
        "type(type)"
      ],
      "execution_count":20,
      "outputs":[
        {
          "data":{
            "text\/plain":[
              "type"
            ]
          },
          "metadata":{
            
          },
          "output_type":"display_data"
        }
      ],
      "metadata":{
        
      }
    },
    {
      "cell_type":"markdown",
      "source":[
        "## `type() As Class Factory`"
      ],
      "attachments":{
        
      },
      "metadata":{
        
      }
    },
    {
      "cell_type":"code",
      "source":[
        "s1 = School(enrollment=1900)"
      ],
      "execution_count":22,
      "outputs":[
        
      ],
      "metadata":{
        
      }
    },
    {
      "cell_type":"code",
      "source":[
        "type(2)"
      ],
      "execution_count":23,
      "outputs":[
        {
          "data":{
            "text\/plain":[
              "int"
            ]
          },
          "metadata":{
            
          },
          "output_type":"display_data"
        }
      ],
      "metadata":{
        
      }
    },
    {
      "cell_type":"code",
      "source":[
        "type(2.1)"
      ],
      "execution_count":24,
      "outputs":[
        {
          "data":{
            "text\/plain":[
              "float"
            ]
          },
          "metadata":{
            
          },
          "output_type":"display_data"
        }
      ],
      "metadata":{
        
      }
    },
    {
      "cell_type":"code",
      "source":[
        "type(\"Andy\")"
      ],
      "execution_count":25,
      "outputs":[
        {
          "data":{
            "text\/plain":[
              "str"
            ]
          },
          "metadata":{
            
          },
          "output_type":"display_data"
        }
      ],
      "metadata":{
        
      }
    },
    {
      "cell_type":"code",
      "source":[
        "type(s1)"
      ],
      "execution_count":26,
      "outputs":[
        {
          "data":{
            "text\/plain":[
              "__main__.School"
            ]
          },
          "metadata":{
            
          },
          "output_type":"display_data"
        }
      ],
      "metadata":{
        
      }
    },
    {
      "cell_type":"code",
      "source":[
        "type(School)"
      ],
      "execution_count":27,
      "outputs":[
        {
          "data":{
            "text\/plain":[
              "type"
            ]
          },
          "metadata":{
            
          },
          "output_type":"display_data"
        }
      ],
      "metadata":{
        
      }
    },
    {
      "cell_type":"code",
      "source":[
        "type(s1), s1.__class__"
      ],
      "execution_count":28,
      "outputs":[
        {
          "data":{
            "text\/plain":[
              "(__main__.School, __main__.School)"
            ]
          },
          "metadata":{
            
          },
          "output_type":"display_data"
        }
      ],
      "metadata":{
        
      }
    },
    {
      "cell_type":"code",
      "source":[
        "# type(name, bases, namespace) -> new class"
      ],
      "execution_count":29,
      "outputs":[
        
      ],
      "metadata":{
        
      }
    },
    {
      "cell_type":"code",
      "source":[
        "class Student:\n",
        "    pass"
      ],
      "execution_count":30,
      "outputs":[
        
      ],
      "metadata":{
        
      }
    },
    {
      "cell_type":"code",
      "source":[
        "type(\"School\", (), {})"
      ],
      "execution_count":31,
      "outputs":[
        {
          "data":{
            "text\/plain":[
              "__main__.School"
            ]
          },
          "metadata":{
            
          },
          "output_type":"display_data"
        }
      ],
      "metadata":{
        
      }
    },
    {
      "cell_type":"code",
      "source":[
        "class Student:\n",
        "    major = \"undeclared\""
      ],
      "execution_count":32,
      "outputs":[
        
      ],
      "metadata":{
        
      }
    },
    {
      "cell_type":"code",
      "source":[
        "Student2 = type(\"School\", (), {\"major\": \"undeclared\"})"
      ],
      "execution_count":36,
      "outputs":[
        
      ],
      "metadata":{
        
      }
    },
    {
      "cell_type":"code",
      "source":[
        "s1 = Student()\n",
        "s2 = Student2()"
      ],
      "execution_count":40,
      "outputs":[
        
      ],
      "metadata":{
        
      }
    },
    {
      "cell_type":"code",
      "source":[
        "s1.major, s2.major"
      ],
      "execution_count":41,
      "outputs":[
        {
          "data":{
            "text\/plain":[
              "('undeclared', 'undeclared')"
            ]
          },
          "metadata":{
            
          },
          "output_type":"display_data"
        }
      ],
      "metadata":{
        
      }
    },
    {
      "cell_type":"code",
      "source":[
        "class Student:\n",
        "    major = \"undeclared\"\n",
        "\n",
        "    def greet(self):\n",
        "        return \"Hi, I'm a student\""
      ],
      "execution_count":42,
      "outputs":[
        
      ],
      "metadata":{
        
      }
    },
    {
      "cell_type":"code",
      "source":[
        "Student2 = type(\"School\", (), {\"major\": \"undeclared\", \"greet\": lambda self: \"Hi, I'm a student\"})"
      ],
      "execution_count":43,
      "outputs":[
        
      ],
      "metadata":{
        
      }
    },
    {
      "cell_type":"code",
      "source":[
        "s1 = Student()\n",
        "s2 = Student2()"
      ],
      "execution_count":45,
      "outputs":[
        
      ],
      "metadata":{
        
      }
    },
    {
      "cell_type":"code",
      "source":[
        "s1.greet(), s2.greet()"
      ],
      "execution_count":46,
      "outputs":[
        {
          "data":{
            "text\/plain":[
              "(\"Hi, I'm a student\", \"Hi, I'm a student\")"
            ]
          },
          "metadata":{
            
          },
          "output_type":"display_data"
        }
      ],
      "metadata":{
        
      }
    },
    {
      "cell_type":"code",
      "source":[
        "class Person:\n",
        "    pass\n",
        "\n",
        "\n",
        "class Student(Person):\n",
        "    major = \"undeclared\"\n",
        "\n",
        "    def greet(self):\n",
        "        return \"Hi, I'm a student\""
      ],
      "execution_count":47,
      "outputs":[
        
      ],
      "metadata":{
        
      }
    },
    {
      "cell_type":"code",
      "source":[
        "Student2 = type(\"School\", (Person, ), {\"major\": \"undeclared\", \"greet\": lambda self: \"Hi, I'm a student\"})"
      ],
      "execution_count":48,
      "outputs":[
        
      ],
      "metadata":{
        
      }
    },
    {
      "cell_type":"code",
      "source":[
        "Student2.__bases__"
      ],
      "execution_count":49,
      "outputs":[
        {
          "data":{
            "text\/plain":[
              "(__main__.Person,)"
            ]
          },
          "metadata":{
            
          },
          "output_type":"display_data"
        }
      ],
      "metadata":{
        
      }
    },
    {
      "cell_type":"code",
      "source":[
        "Student.__bases__"
      ],
      "execution_count":50,
      "outputs":[
        {
          "data":{
            "text\/plain":[
              "(__main__.Person,)"
            ]
          },
          "metadata":{
            
          },
          "output_type":"display_data"
        }
      ],
      "metadata":{
        
      }
    },
    {
      "cell_type":"markdown",
      "source":[
        "## `BONUS: More On Dynamic Class Creation`"
      ],
      "attachments":{
        
      },
      "metadata":{
        
      }
    },
    {
      "cell_type":"code",
      "source":[
        "# type(name, bases, namespace) -> new class"
      ],
      "execution_count":51,
      "outputs":[
        
      ],
      "metadata":{
        
      }
    },
    {
      "cell_type":"code",
      "source":[
        "class Person:\n",
        "    pass\n",
        "\n",
        "\n",
        "class Student(Person):\n",
        "    major = \"undeclared\"\n",
        "\n",
        "    def __init__(self, name, last_name, age):\n",
        "        self.name = name\n",
        "        self.last_name = last_name\n",
        "        self.age = age\n",
        "\n",
        "    def __repr__(self):\n",
        "        return f\"Student(name={self.name}, last_name={self.last_name}, age={self.age})\"\n",
        "\n",
        "    def greet(self):\n",
        "        return f\"Hi, I'm a student and my name is {self.name}\"\n",
        "\n",
        "    def drop_out(self):\n",
        "        return f\"{self.name} {self.last_name} dropped out\"\n",
        "\n",
        "    def enroll(self, obj):\n",
        "        if not isinstance(obj, School):\n",
        "            raise ValueError(\"Students may only enroll in schools\")\n",
        "\n",
        "        obj.enroll_student()"
      ],
      "execution_count":52,
      "outputs":[
        
      ],
      "metadata":{
        
      }
    },
    {
      "cell_type":"code",
      "source":[
        "major = \"undeclared\"\n",
        "\n",
        "\n",
        "def __init__(self, name, last_name, age):\n",
        "    self.name = name\n",
        "    self.last_name = last_name\n",
        "    self.age = age\n",
        "\n",
        "\n",
        "def __repr__(self):\n",
        "    return f\"Student(name={self.name}, last_name={self.last_name}, age={self.age})\"\n",
        "\n",
        "\n",
        "def greet(self):\n",
        "    return f\"Hi, I'm a student and my name is {self.name}\"\n",
        "\n",
        "\n",
        "def drop_out(self):\n",
        "    return f\"{self.name} {self.last_name} dropped out\"\n",
        "\n",
        "\n",
        "def enroll(self, obj):\n",
        "    if not isinstance(obj, School):\n",
        "        raise ValueError(\"Students may only enroll in schools\")\n",
        "\n",
        "    obj.enroll_student()\n",
        "\n",
        "\n",
        "namespace_bindings = {\n",
        "    \"major\": major,\n",
        "    \"__init__\": __init__,\n",
        "    \"__repr__\": __repr__,\n",
        "    \"greet\": greet,\n",
        "    \"drop_out\": drop_out,\n",
        "    \"enroll\": enroll\n",
        "}"
      ],
      "execution_count":54,
      "outputs":[
        
      ],
      "metadata":{
        
      }
    },
    {
      "cell_type":"code",
      "source":[
        "StudentDefinedFunctionally = type(\"Student\", (Person,), namespace_bindings)"
      ],
      "execution_count":55,
      "outputs":[
        
      ],
      "metadata":{
        
      }
    },
    {
      "cell_type":"code",
      "source":[
        "StudentDefinedFunctionally(\"Po\", \"Bokeh\", 29)"
      ],
      "execution_count":56,
      "outputs":[
        {
          "data":{
            "text\/plain":[
              "Student(name=Po, last_name=Bokeh, age=29)"
            ]
          },
          "metadata":{
            
          },
          "output_type":"display_data"
        }
      ],
      "metadata":{
        
      }
    },
    {
      "cell_type":"code",
      "source":[
        "from types import new_class"
      ],
      "execution_count":57,
      "outputs":[
        
      ],
      "metadata":{
        
      }
    },
    {
      "cell_type":"code",
      "source":[
        "# new_class(name, bases, kwds, exec_body) -> new class"
      ],
      "execution_count":58,
      "outputs":[
        
      ],
      "metadata":{
        
      }
    },
    {
      "cell_type":"code",
      "source":[
        "new_class(\"Student\", (Person,), exec_body=lambda namespace: namespace.update(namespace_bindings))"
      ],
      "execution_count":60,
      "outputs":[
        {
          "data":{
            "text\/plain":[
              "types.Student"
            ]
          },
          "metadata":{
            
          },
          "output_type":"display_data"
        }
      ],
      "metadata":{
        
      }
    },
    {
      "cell_type":"code",
      "source":[
        "a = {1: \"thing\", 100: \"really old thing\"}"
      ],
      "execution_count":61,
      "outputs":[
        
      ],
      "metadata":{
        
      }
    },
    {
      "cell_type":"code",
      "source":[
        "a.update({1: \"updated thing\", 2: \"some other thing\"})"
      ],
      "execution_count":62,
      "outputs":[
        
      ],
      "metadata":{
        
      }
    },
    {
      "cell_type":"code",
      "source":[
        "a"
      ],
      "execution_count":63,
      "outputs":[
        {
          "data":{
            "text\/plain":[
              "{1: 'updated thing', 100: 'really old thing', 2: 'some other thing'}"
            ]
          },
          "metadata":{
            
          },
          "output_type":"display_data"
        }
      ],
      "metadata":{
        
      }
    },
    {
      "cell_type":"code",
      "source":[
        "ns = {}"
      ],
      "execution_count":69,
      "outputs":[
        
      ],
      "metadata":{
        
      }
    },
    {
      "cell_type":"code",
      "source":[
        "exec(\"\"\"\n",
        "major = \"undeclared\"\n",
        "\n",
        "\n",
        "def __init__(self, name, last_name, age):\n",
        "    self.name = name\n",
        "    self.last_name = last_name\n",
        "    self.age = age\n",
        "\n",
        "\n",
        "def __repr__(self):\n",
        "    return f\"Student(name={self.name}, last_name={self.last_name}, age={self.age})\"\n",
        "\n",
        "\n",
        "def greet(self):\n",
        "    return f\"Hi, I'm a student and my name is {self.name}\"\n",
        "\n",
        "\n",
        "def drop_out(self):\n",
        "    return f\"{self.name} {self.last_name} dropped out\"\n",
        "\n",
        "\n",
        "def enroll(self, obj):\n",
        "    if not isinstance(obj, School):\n",
        "        raise ValueError(\"Students may only enroll in schools\")\n",
        "\n",
        "    obj.enroll_student()\n",
        "\"\"\", globals(), ns)"
      ],
      "execution_count":74,
      "outputs":[
        
      ],
      "metadata":{
        
      }
    },
    {
      "cell_type":"markdown",
      "source":[
        "## `Defining Our Own Metaclass`"
      ],
      "attachments":{
        
      },
      "metadata":{
        
      }
    },
    {
      "cell_type":"markdown",
      "source":[
        "* the OO approach to customizing class creation: metaclasses\n",
        "  \n",
        "* how do we define metaclasses?"
      ],
      "attachments":{
        
      },
      "metadata":{
        
      }
    },
    {
      "cell_type":"code",
      "source":[
        "# type -> class-creating class (default)"
      ],
      "execution_count":80,
      "outputs":[
        
      ],
      "metadata":{
        
      }
    },
    {
      "cell_type":"code",
      "source":[
        "class my_metaclass(type):\n",
        "    @classmethod\n",
        "    def __prepare__(metacls, name, bases):\n",
        "        return {\"is_montessori\": False, \"say_motto\": lambda: \"vincit omnia veritas\"}"
      ],
      "execution_count":92,
      "outputs":[
        
      ],
      "metadata":{
        
      }
    },
    {
      "cell_type":"code",
      "source":[
        "class School(metaclass=my_metaclass):\n",
        "    pass"
      ],
      "execution_count":93,
      "outputs":[
        
      ],
      "metadata":{
        
      }
    },
    {
      "cell_type":"code",
      "source":[
        "School.is_montessori"
      ],
      "execution_count":90,
      "outputs":[
        {
          "data":{
            "text\/plain":[
              "False"
            ]
          },
          "metadata":{
            
          },
          "output_type":"display_data"
        }
      ],
      "metadata":{
        
      }
    },
    {
      "cell_type":"code",
      "source":[
        "School.say_motto()"
      ],
      "execution_count":95,
      "outputs":[
        {
          "data":{
            "text\/plain":[
              "'vincit omnia veritas'"
            ]
          },
          "metadata":{
            
          },
          "output_type":"display_data"
        }
      ],
      "metadata":{
        
      }
    },
    {
      "cell_type":"code",
      "source":[
        "School.__dict__"
      ],
      "execution_count":94,
      "outputs":[
        {
          "data":{
            "text\/plain":[
              "mappingproxy({'is_montessori': False,\n",
              "              'say_motto': <function __main__.my_metaclass.__prepare__.<locals>.<lambda>()>,\n",
              "              '__module__': '__main__',\n",
              "              '__dict__': <attribute '__dict__' of 'School' objects>,\n",
              "              '__weakref__': <attribute '__weakref__' of 'School' objects>,\n",
              "              '__doc__': None})"
            ]
          },
          "metadata":{
            
          },
          "output_type":"display_data"
        }
      ],
      "metadata":{
        
      }
    },
    {
      "cell_type":"code",
      "source":[
        "type(School)"
      ],
      "execution_count":85,
      "outputs":[
        {
          "data":{
            "text\/plain":[
              "__main__.my_metaclass"
            ]
          },
          "metadata":{
            
          },
          "output_type":"display_data"
        }
      ],
      "metadata":{
        
      }
    },
    {
      "cell_type":"markdown",
      "source":[
        "## `Inside The Belly Of The Monster`"
      ],
      "attachments":{
        
      },
      "metadata":{
        
      }
    },
    {
      "cell_type":"code",
      "source":[
        "class my_metaclass(type):\n",
        "    @classmethod\n",
        "    def __prepare__(metacls, name, bases):\n",
        "        return {\n",
        "            \"is_montessori\": False,\n",
        "            \"say_motto\": lambda: \"vincit omnia veritas\"\n",
        "        }\n",
        "\n",
        "    @staticmethod\n",
        "    def __new__(metacls, name, bases, namespace):\n",
        "        print(\"The class is created here!\", name, bases, namespace, sep=\"\\n\")\n",
        "        return super().__new__(metacls, name, bases, namespace)\n",
        "\n",
        "\n",
        "    def __init__(cls, name, bases, namespace):\n",
        "        print(\"The class is initiliazed\", cls, name, bases, namespace, sep=\"\\n\")\n",
        "\n",
        "    def __call__(self, *args, **kwargs):\n",
        "        print(args, kwargs)"
      ],
      "execution_count":12,
      "outputs":[
        
      ],
      "metadata":{
        
      }
    },
    {
      "cell_type":"code",
      "source":[
        "class School(metaclass=my_metaclass):\n",
        "    pass"
      ],
      "execution_count":13,
      "outputs":[
        {
          "name":"stdout",
          "text":[
            "The class is created here!\n",
            "School\n",
            "()\n",
            "{'is_montessori': False, 'say_motto': <function my_metaclass.__prepare__.<locals>.<lambda> at 0x7f65df000310>, '__module__': '__main__', '__qualname__': 'School'}\n",
            "The class is initiliazed\n",
            "<class '__main__.School'>\n",
            "School\n",
            "()\n",
            "{'is_montessori': False, 'say_motto': <function my_metaclass.__prepare__.<locals>.<lambda> at 0x7f65df000310>, '__module__': '__main__', '__qualname__': 'School'}\n"
          ],
          "output_type":"stream"
        }
      ],
      "metadata":{
        
      }
    },
    {
      "cell_type":"code",
      "source":[
        "s1 = School(202, religious_affiliation=False, is_montessori=True)"
      ],
      "execution_count":15,
      "outputs":[
        {
          "name":"stdout",
          "text":[
            "(202,) {'religious_affiliation': False, 'is_montessori': True}\n"
          ],
          "output_type":"stream"
        }
      ],
      "metadata":{
        
      }
    },
    {
      "cell_type":"markdown",
      "source":[
        "## `Exhibit A: Zero Instance Classes And Singletons`"
      ],
      "attachments":{
        
      },
      "metadata":{
        
      }
    },
    {
      "cell_type":"code",
      "source":[
        "class MicroserviceDashboard:\n",
        "    pass"
      ],
      "execution_count":8,
      "outputs":[
        
      ],
      "metadata":{
        
      }
    },
    {
      "cell_type":"code",
      "source":[
        "m1 = MicroserviceDashboard()\n",
        "m2 = MicroserviceDashboard()"
      ],
      "execution_count":9,
      "outputs":[
        
      ],
      "metadata":{
        
      }
    },
    {
      "cell_type":"code",
      "source":[
        "m1, m2"
      ],
      "execution_count":10,
      "outputs":[
        {
          "data":{
            "text\/plain":[
              "(<__main__.MicroserviceDashboard at 0x7f5fa48bfc70>,\n",
              " <__main__.MicroserviceDashboard at 0x7f5fa48bf370>)"
            ]
          },
          "metadata":{
            
          },
          "output_type":"display_data"
        }
      ],
      "metadata":{
        
      }
    },
    {
      "cell_type":"code",
      "source":[
        "class my_meta(type):\n",
        "    def __call__(self, *args, **kwargs):\n",
        "        raise TypeError(\"Direct class instantiation not allowed\")"
      ],
      "execution_count":16,
      "outputs":[
        
      ],
      "metadata":{
        
      }
    },
    {
      "cell_type":"code",
      "source":[
        "class MicroserviceDashboard(metaclass=my_meta):\n",
        "    pass"
      ],
      "execution_count":17,
      "outputs":[
        
      ],
      "metadata":{
        
      }
    },
    {
      "cell_type":"code",
      "source":[
        "MicroserviceDashboard()"
      ],
      "execution_count":18,
      "outputs":[
        {
          "ename":"TypeError",
          "evalue":"TypeError: Direct class instantiation not allowed",
          "traceback":[
            "\u001b[0;31m---------------------------------------------------------------------------",
            "Traceback (most recent call last)",
            "    at line 1 in <module>",
            "    at line 3 in __call__(self, *args, **kwargs)",
            "TypeError: Direct class instantiation not allowed"
          ],
          "output_type":"error"
        }
      ],
      "metadata":{
        
      }
    },
    {
      "cell_type":"code",
      "source":[
        "class MicroserviceDashboard(metaclass=my_meta):\n",
        "    @staticmethod\n",
        "    def running():\n",
        "        pass\n",
        "\n",
        "    @staticmethod\n",
        "    def stopped():\n",
        "        pass\n",
        "\n",
        "    @staticmethod\n",
        "    def health():\n",
        "        pass"
      ],
      "execution_count":19,
      "outputs":[
        
      ],
      "metadata":{
        
      }
    },
    {
      "cell_type":"code",
      "source":[
        "class my_singleton_meta(type):\n",
        "    def __init__(cls, name, bases, namespace):\n",
        "        cls._instance = None\n",
        "        super().__init__(name, bases, namespace)\n",
        "\n",
        "    def __call__(cls, *args, **kwargs):\n",
        "        if cls._instance is None:\n",
        "            cls._instance = super().__call__(*args, **kwargs)\n",
        "\n",
        "        return cls._instance"
      ],
      "execution_count":25,
      "outputs":[
        
      ],
      "metadata":{
        
      }
    },
    {
      "cell_type":"code",
      "source":[
        "class MicroserviceDashboard(metaclass=my_singleton_meta):\n",
        "    pass"
      ],
      "execution_count":26,
      "outputs":[
        
      ],
      "metadata":{
        
      }
    },
    {
      "cell_type":"code",
      "source":[
        "m1 = MicroserviceDashboard()\n",
        "m2 = MicroserviceDashboard()\n",
        "m3 = MicroserviceDashboard()\n",
        "m4 = MicroserviceDashboard()"
      ],
      "execution_count":30,
      "outputs":[
        
      ],
      "metadata":{
        
      }
    },
    {
      "cell_type":"code",
      "source":[
        "m1 is m2 is m3 is m4"
      ],
      "execution_count":31,
      "outputs":[
        {
          "data":{
            "text\/plain":[
              "True"
            ]
          },
          "metadata":{
            
          },
          "output_type":"display_data"
        }
      ],
      "metadata":{
        
      }
    },
    {
      "cell_type":"markdown",
      "source":[
        "## `Exhibit B: Enforcing Unique Method Names`"
      ],
      "attachments":{
        
      },
      "metadata":{
        
      }
    },
    {
      "cell_type":"code",
      "source":[
        "class UniqueConstraintDict(dict):\n",
        "    def __setitem__(self, key, value):\n",
        "        print(f\"attempting to set {key} to {value}\")\n",
        "        if key in self:\n",
        "            raise AttributeError(\"Attribute name already used! Cannot define class.\")\n",
        "\n",
        "        super().__setitem__(key, value)\n",
        "\n",
        "\n",
        "class unique_methods_meta(type):\n",
        "    @classmethod\n",
        "    def __prepare__(metacls, name, bases):\n",
        "        print(metacls, name, bases)\n",
        "        return UniqueConstraintDict()\n",
        "\n",
        "    def __new__(metacls, name, bases, namespace):\n",
        "        print(namespace)\n",
        "        return super().__new__(metacls, name, bases, namespace)\n",
        "\n",
        "\n",
        "class Tractor(metaclass=unique_methods_meta):\n",
        "    def tow(self, load):\n",
        "        return f\"towing some {load}\"\n",
        "\n",
        "    def tow(self):\n",
        "        return \"towing\""
      ],
      "execution_count":78,
      "outputs":[
        {
          "name":"stdout",
          "text":[
            "<class '__main__.unique_methods_meta'> Tractor ()\n",
            "attempting to set __module__ to __main__\n",
            "attempting to set __qualname__ to Tractor\n",
            "attempting to set tow to <function Tractor.tow at 0x7f5fa4514ca0>\n",
            "attempting to set tow to <function Tractor.tow at 0x7f5fa45143a0>\n"
          ],
          "output_type":"stream"
        },
        {
          "ename":"AttributeError",
          "evalue":"AttributeError: Attribute name already used! Cannot define class.",
          "traceback":[
            "\u001b[0;31m---------------------------------------------------------------------------",
            "Traceback (most recent call last)",
            "    at line 21 in <module>",
            "    at line 25 in Tractor()",
            "    at line 5 in __setitem__(self, key, value)",
            "AttributeError: Attribute name already used! Cannot define class."
          ],
          "output_type":"error"
        }
      ],
      "metadata":{
        
      }
    },
    {
      "cell_type":"code",
      "source":[
        "Tractor()"
      ],
      "execution_count":75,
      "outputs":[
        {
          "data":{
            "text\/plain":[
              "<__main__.Tractor at 0x7f5fa4f40be0>"
            ]
          },
          "metadata":{
            
          },
          "output_type":"display_data"
        }
      ],
      "metadata":{
        
      }
    },
    {
      "cell_type":"code",
      "source":[
        "empty_dict = {}"
      ],
      "execution_count":69,
      "outputs":[
        
      ],
      "metadata":{
        
      }
    },
    {
      "cell_type":"code",
      "source":[
        "empty_dict.__setitem__(\"__module__\", \"__main__\")\n",
        "empty_dict.__setitem__(\"__qualname__\", \"Tractor\")\n",
        "empty_dict.__setitem__(\"tow\", lambda self: \"towing\")"
      ],
      "execution_count":70,
      "outputs":[
        
      ],
      "metadata":{
        
      }
    },
    {
      "cell_type":"code",
      "source":[
        "empty_dict"
      ],
      "execution_count":71,
      "outputs":[
        {
          "data":{
            "text\/plain":[
              "{'__module__': '__main__',\n",
              " '__qualname__': 'Tractor',\n",
              " 'tow': <function __main__.<lambda>(self)>}"
            ]
          },
          "metadata":{
            
          },
          "output_type":"display_data"
        }
      ],
      "metadata":{
        
      }
    },
    {
      "cell_type":"markdown",
      "source":[
        "## `Deeper Magic Than 99%`"
      ],
      "attachments":{
        
      },
      "metadata":{
        
      }
    },
    {
      "cell_type":"code",
      "source":[
        "import this"
      ],
      "execution_count":79,
      "outputs":[
        {
          "name":"stdout",
          "text":[
            "The Zen of Python, by Tim Peters\n",
            "\n",
            "Beautiful is better than ugly.\n",
            "Explicit is better than implicit.\n",
            "Simple is better than complex.\n",
            "Complex is better than complicated.\n",
            "Flat is better than nested.\n",
            "Sparse is better than dense.\n",
            "Readability counts.\n",
            "Special cases aren't special enough to break the rules.\n",
            "Although practicality beats purity.\n",
            "Errors should never pass silently.\n",
            "Unless explicitly silenced.\n",
            "In the face of ambiguity, refuse the temptation to guess.\n",
            "There should be one-- and preferably only one --obvious way to do it.\n",
            "Although that way may not be obvious at first unless you're Dutch.\n",
            "Now is better than never.\n",
            "Although never is often better than *right* now.\n",
            "If the implementation is hard to explain, it's a bad idea.\n",
            "If the implementation is easy to explain, it may be a good idea.\n",
            "Namespaces are one honking great idea -- let's do more of those!\n"
          ],
          "output_type":"stream"
        }
      ],
      "metadata":{
        
      }
    },
    {
      "cell_type":"code",
      "source":[
        "# timsort algo"
      ],
      "execution_count":80,
      "outputs":[
        
      ],
      "metadata":{
        
      }
    },
    {
      "cell_type":"code",
      "source":[
        
      ],
      "execution_count":0,
      "outputs":[
        
      ],
      "metadata":{
        
      }
    },
    {
      "cell_type":"code",
      "source":[
        
      ],
      "execution_count":0,
      "outputs":[
        
      ],
      "metadata":{
        
      }
    },
    {
      "cell_type":"code",
      "source":[
        
      ],
      "execution_count":0,
      "outputs":[
        
      ],
      "metadata":{
        
      }
    },
    {
      "cell_type":"code",
      "source":[
        
      ],
      "execution_count":0,
      "outputs":[
        
      ],
      "metadata":{
        
      }
    },
    {
      "cell_type":"code",
      "source":[
        
      ],
      "execution_count":0,
      "outputs":[
        
      ],
      "metadata":{
        
      }
    },
    {
      "cell_type":"code",
      "source":[
        
      ],
      "execution_count":0,
      "outputs":[
        
      ],
      "metadata":{
        
      }
    },
    {
      "cell_type":"code",
      "source":[
        
      ],
      "execution_count":0,
      "outputs":[
        
      ],
      "metadata":{
        
      }
    },
    {
      "cell_type":"code",
      "source":[
        
      ],
      "execution_count":0,
      "outputs":[
        
      ],
      "metadata":{
        
      }
    },
    {
      "cell_type":"code",
      "source":[
        
      ],
      "execution_count":0,
      "outputs":[
        
      ],
      "metadata":{
        
      }
    },
    {
      "cell_type":"code",
      "source":[
        
      ],
      "execution_count":0,
      "outputs":[
        
      ],
      "metadata":{
        
      }
    },
    {
      "cell_type":"code",
      "source":[
        
      ],
      "execution_count":0,
      "outputs":[
        
      ],
      "metadata":{
        
      }
    },
    {
      "cell_type":"code",
      "source":[
        
      ],
      "execution_count":0,
      "outputs":[
        
      ],
      "metadata":{
        
      }
    },
    {
      "cell_type":"code",
      "source":[
        
      ],
      "execution_count":0,
      "outputs":[
        
      ],
      "metadata":{
        
      }
    },
    {
      "cell_type":"code",
      "source":[
        
      ],
      "execution_count":0,
      "outputs":[
        
      ],
      "metadata":{
        
      }
    },
    {
      "cell_type":"code",
      "source":[
        
      ],
      "execution_count":0,
      "outputs":[
        
      ],
      "metadata":{
        
      }
    },
    {
      "cell_type":"code",
      "source":[
        
      ],
      "execution_count":0,
      "outputs":[
        
      ],
      "metadata":{
        
      }
    },
    {
      "cell_type":"code",
      "source":[
        
      ],
      "execution_count":0,
      "outputs":[
        
      ],
      "metadata":{
        
      }
    },
    {
      "cell_type":"code",
      "source":[
        
      ],
      "execution_count":0,
      "outputs":[
        
      ],
      "metadata":{
        
      }
    }
  ],
  "metadata":{
    
  },
  "nbformat":4,
  "nbformat_minor":0
}