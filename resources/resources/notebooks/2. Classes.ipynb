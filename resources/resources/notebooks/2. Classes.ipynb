{
  "cells":[
    {
      "cell_type":"markdown",
      "source":[
        "## `PEP8`"
      ],
      "attachments":{
        
      },
      "metadata":{
        
      }
    },
    {
      "cell_type":"markdown",
      "source":[
        "## `Our First Class`"
      ],
      "attachments":{
        
      },
      "metadata":{
        
      }
    },
    {
      "cell_type":"code",
      "source":[
        "class MercedezBenz:\n",
        "    pass"
      ],
      "execution_count":2,
      "outputs":[
        
      ],
      "metadata":{
        
      }
    },
    {
      "cell_type":"code",
      "source":[
        "MercedezBenz"
      ],
      "execution_count":3,
      "outputs":[
        {
          "data":{
            "text\/plain":[
              "__main__.MercedezBenz"
            ]
          },
          "metadata":{
            
          },
          "output_type":"display_data"
        }
      ],
      "metadata":{
        
      }
    },
    {
      "cell_type":"code",
      "source":[
        "type(MercedezBenz)"
      ],
      "execution_count":4,
      "outputs":[
        {
          "data":{
            "text\/plain":[
              "type"
            ]
          },
          "metadata":{
            
          },
          "output_type":"display_data"
        }
      ],
      "metadata":{
        
      }
    },
    {
      "cell_type":"code",
      "source":[
        "MercedezBenz.__bases__"
      ],
      "execution_count":5,
      "outputs":[
        {
          "data":{
            "text\/plain":[
              "(object,)"
            ]
          },
          "metadata":{
            
          },
          "output_type":"display_data"
        }
      ],
      "metadata":{
        
      }
    },
    {
      "cell_type":"code",
      "source":[
        "MercedezBenz.__name__"
      ],
      "execution_count":6,
      "outputs":[
        {
          "data":{
            "text\/plain":[
              "'MercedezBenz'"
            ]
          },
          "metadata":{
            
          },
          "output_type":"display_data"
        }
      ],
      "metadata":{
        
      }
    },
    {
      "cell_type":"code",
      "source":[
        "MercedezBenz()"
      ],
      "execution_count":7,
      "outputs":[
        {
          "data":{
            "text\/plain":[
              "<__main__.MercedezBenz at 0x7f787da693d0>"
            ]
          },
          "metadata":{
            
          },
          "output_type":"display_data"
        }
      ],
      "metadata":{
        
      }
    },
    {
      "cell_type":"code",
      "source":[
        "m1 = MercedezBenz()\n",
        "m2 = MercedezBenz()"
      ],
      "execution_count":8,
      "outputs":[
        
      ],
      "metadata":{
        
      }
    },
    {
      "cell_type":"code",
      "source":[
        "m1"
      ],
      "execution_count":9,
      "outputs":[
        {
          "data":{
            "text\/plain":[
              "<__main__.MercedezBenz at 0x7f787d9cb6d0>"
            ]
          },
          "metadata":{
            
          },
          "output_type":"display_data"
        }
      ],
      "metadata":{
        
      }
    },
    {
      "cell_type":"code",
      "source":[
        "m2"
      ],
      "execution_count":10,
      "outputs":[
        {
          "data":{
            "text\/plain":[
              "<__main__.MercedezBenz at 0x7f787d9cb370>"
            ]
          },
          "metadata":{
            
          },
          "output_type":"display_data"
        }
      ],
      "metadata":{
        
      }
    },
    {
      "cell_type":"code",
      "source":[
        "m2 == m1"
      ],
      "execution_count":11,
      "outputs":[
        {
          "data":{
            "text\/plain":[
              "False"
            ]
          },
          "metadata":{
            
          },
          "output_type":"display_data"
        }
      ],
      "metadata":{
        
      }
    },
    {
      "cell_type":"markdown",
      "source":[
        "## `Class State`"
      ],
      "attachments":{
        
      },
      "metadata":{
        
      }
    },
    {
      "cell_type":"code",
      "source":[
        "class MercedezBenz:\n",
        "    doors = 2\n",
        "    wheels = 4"
      ],
      "execution_count":42,
      "outputs":[
        
      ],
      "metadata":{
        
      }
    },
    {
      "cell_type":"code",
      "source":[
        "# __dict__"
      ],
      "execution_count":0,
      "outputs":[
        
      ],
      "metadata":{
        
      }
    },
    {
      "cell_type":"code",
      "source":[
        "MercedezBenz.__dict__"
      ],
      "execution_count":43,
      "outputs":[
        {
          "data":{
            "text\/plain":[
              "mappingproxy({'__module__': '__main__',\n",
              "              'doors': 2,\n",
              "              'wheels': 4,\n",
              "              '__dict__': <attribute '__dict__' of 'MercedezBenz' objects>,\n",
              "              '__weakref__': <attribute '__weakref__' of 'MercedezBenz' objects>,\n",
              "              '__doc__': None})"
            ]
          },
          "metadata":{
            
          },
          "output_type":"display_data"
        }
      ],
      "metadata":{
        
      }
    },
    {
      "cell_type":"code",
      "source":[
        "MercedezBenz.doors = 4"
      ],
      "execution_count":44,
      "outputs":[
        
      ],
      "metadata":{
        
      }
    },
    {
      "cell_type":"code",
      "source":[
        "MercedezBenz.model = 'G'"
      ],
      "execution_count":45,
      "outputs":[
        
      ],
      "metadata":{
        
      }
    },
    {
      "cell_type":"code",
      "source":[
        "MercedezBenz.__dict__"
      ],
      "execution_count":46,
      "outputs":[
        {
          "data":{
            "text\/plain":[
              "mappingproxy({'__module__': '__main__',\n",
              "              'doors': 4,\n",
              "              'wheels': 4,\n",
              "              '__dict__': <attribute '__dict__' of 'MercedezBenz' objects>,\n",
              "              '__weakref__': <attribute '__weakref__' of 'MercedezBenz' objects>,\n",
              "              '__doc__': None,\n",
              "              'model': 'G'})"
            ]
          },
          "metadata":{
            
          },
          "output_type":"display_data"
        }
      ],
      "metadata":{
        
      }
    },
    {
      "cell_type":"code",
      "source":[
        "m3 = MercedezBenz()\n",
        "m4 = MercedezBenz()"
      ],
      "execution_count":47,
      "outputs":[
        
      ],
      "metadata":{
        
      }
    },
    {
      "cell_type":"code",
      "source":[
        "m3.doors"
      ],
      "execution_count":48,
      "outputs":[
        {
          "data":{
            "text\/plain":[
              "4"
            ]
          },
          "metadata":{
            
          },
          "output_type":"display_data"
        }
      ],
      "metadata":{
        
      }
    },
    {
      "cell_type":"code",
      "source":[
        "m4.model, m3.model"
      ],
      "execution_count":50,
      "outputs":[
        {
          "data":{
            "text\/plain":[
              "('G', 'G')"
            ]
          },
          "metadata":{
            
          },
          "output_type":"display_data"
        }
      ],
      "metadata":{
        
      }
    },
    {
      "cell_type":"markdown",
      "source":[
        "## `Methods And Behaviour`"
      ],
      "attachments":{
        
      },
      "metadata":{
        
      }
    },
    {
      "cell_type":"code",
      "source":[
        "class MercedezBenz:\n",
        "    doors = 4\n",
        "    wheels = 4\n",
        "    model = 'G'"
      ],
      "execution_count":142,
      "outputs":[
        
      ],
      "metadata":{
        
      }
    },
    {
      "cell_type":"code",
      "source":[
        "def drive():\n",
        "    return \"A car is being driven\""
      ],
      "execution_count":143,
      "outputs":[
        
      ],
      "metadata":{
        
      }
    },
    {
      "cell_type":"code",
      "source":[
        "drive()"
      ],
      "execution_count":144,
      "outputs":[
        {
          "data":{
            "text\/plain":[
              "'A car is being driven'"
            ]
          },
          "metadata":{
            
          },
          "output_type":"display_data"
        }
      ],
      "metadata":{
        
      }
    },
    {
      "cell_type":"code",
      "source":[
        "class MercedezBenz:\n",
        "    doors = 4\n",
        "    wheels = 4\n",
        "    model = 'G'\n",
        "\n",
        "    def drive(self):\n",
        "        return self"
      ],
      "execution_count":146,
      "outputs":[
        
      ],
      "metadata":{
        
      }
    },
    {
      "cell_type":"code",
      "source":[
        "m1 = MercedezBenz()"
      ],
      "execution_count":147,
      "outputs":[
        
      ],
      "metadata":{
        
      }
    },
    {
      "cell_type":"code",
      "source":[
        "m1.drive()"
      ],
      "execution_count":148,
      "outputs":[
        {
          "data":{
            "text\/plain":[
              "<__main__.MercedezBenz at 0x7f787d587100>"
            ]
          },
          "metadata":{
            
          },
          "output_type":"display_data"
        }
      ],
      "metadata":{
        
      }
    },
    {
      "cell_type":"code",
      "source":[
        "m1"
      ],
      "execution_count":149,
      "outputs":[
        {
          "data":{
            "text\/plain":[
              "<__main__.MercedezBenz at 0x7f787d587100>"
            ]
          },
          "metadata":{
            
          },
          "output_type":"display_data"
        }
      ],
      "metadata":{
        
      }
    },
    {
      "cell_type":"code",
      "source":[
        "m1 == m1.drive()"
      ],
      "execution_count":150,
      "outputs":[
        {
          "data":{
            "text\/plain":[
              "True"
            ]
          },
          "metadata":{
            
          },
          "output_type":"display_data"
        }
      ],
      "metadata":{
        
      }
    },
    {
      "cell_type":"code",
      "source":[
        "m1 is m1.drive()"
      ],
      "execution_count":151,
      "outputs":[
        {
          "data":{
            "text\/plain":[
              "True"
            ]
          },
          "metadata":{
            
          },
          "output_type":"display_data"
        }
      ],
      "metadata":{
        
      }
    },
    {
      "cell_type":"code",
      "source":[
        "m1 == MercedezBenz"
      ],
      "execution_count":152,
      "outputs":[
        {
          "data":{
            "text\/plain":[
              "False"
            ]
          },
          "metadata":{
            
          },
          "output_type":"display_data"
        }
      ],
      "metadata":{
        
      }
    },
    {
      "cell_type":"code",
      "source":[
        "class MercedezBenz:\n",
        "    doors = 4\n",
        "    wheels = 4\n",
        "    model = 'G'\n",
        "\n",
        "    def drive(self):\n",
        "        return f\"A Mercedez is driving. And it is {self}\\n\""
      ],
      "execution_count":153,
      "outputs":[
        
      ],
      "metadata":{
        
      }
    },
    {
      "cell_type":"code",
      "source":[
        "m1 = MercedezBenz()\n",
        "m2 = MercedezBenz()"
      ],
      "execution_count":154,
      "outputs":[
        
      ],
      "metadata":{
        
      }
    },
    {
      "cell_type":"code",
      "source":[
        "m1.drive()"
      ],
      "execution_count":155,
      "outputs":[
        {
          "data":{
            "text\/plain":[
              "'A Mercedez is driving. And it is <__main__.MercedezBenz object at 0x7f787d8734c0>\\n'"
            ]
          },
          "metadata":{
            
          },
          "output_type":"display_data"
        }
      ],
      "metadata":{
        
      }
    },
    {
      "cell_type":"code",
      "source":[
        "m2.drive()"
      ],
      "execution_count":156,
      "outputs":[
        {
          "data":{
            "text\/plain":[
              "'A Mercedez is driving. And it is <__main__.MercedezBenz object at 0x7f787d873bb0>\\n'"
            ]
          },
          "metadata":{
            
          },
          "output_type":"display_data"
        }
      ],
      "metadata":{
        
      }
    },
    {
      "cell_type":"code",
      "source":[
        "# tracing drive"
      ],
      "execution_count":157,
      "outputs":[
        
      ],
      "metadata":{
        
      }
    },
    {
      "cell_type":"code",
      "source":[
        "MercedezBenz.drive"
      ],
      "execution_count":158,
      "outputs":[
        {
          "data":{
            "text\/plain":[
              "<function __main__.MercedezBenz.drive(self)>"
            ]
          },
          "metadata":{
            
          },
          "output_type":"display_data"
        }
      ],
      "metadata":{
        
      }
    },
    {
      "cell_type":"code",
      "source":[
        "type(MercedezBenz.drive)"
      ],
      "execution_count":159,
      "outputs":[
        {
          "data":{
            "text\/plain":[
              "function"
            ]
          },
          "metadata":{
            
          },
          "output_type":"display_data"
        }
      ],
      "metadata":{
        
      }
    },
    {
      "cell_type":"code",
      "source":[
        "m1.drive"
      ],
      "execution_count":160,
      "outputs":[
        {
          "data":{
            "text\/plain":[
              "<bound method MercedezBenz.drive of <__main__.MercedezBenz object at 0x7f787d8734c0>>"
            ]
          },
          "metadata":{
            
          },
          "output_type":"display_data"
        }
      ],
      "metadata":{
        
      }
    },
    {
      "cell_type":"code",
      "source":[
        "m2.drive"
      ],
      "execution_count":161,
      "outputs":[
        {
          "data":{
            "text\/plain":[
              "<bound method MercedezBenz.drive of <__main__.MercedezBenz object at 0x7f787d873bb0>>"
            ]
          },
          "metadata":{
            
          },
          "output_type":"display_data"
        }
      ],
      "metadata":{
        
      }
    },
    {
      "cell_type":"code",
      "source":[
        "type(m2.drive)"
      ],
      "execution_count":162,
      "outputs":[
        {
          "data":{
            "text\/plain":[
              "method"
            ]
          },
          "metadata":{
            
          },
          "output_type":"display_data"
        }
      ],
      "metadata":{
        
      }
    },
    {
      "cell_type":"markdown",
      "source":[
        "## `Instance Attribtues`"
      ],
      "attachments":{
        
      },
      "metadata":{
        
      }
    },
    {
      "cell_type":"code",
      "source":[
        "class MercedezBenz:\n",
        "    doors = 4\n",
        "    wheels = 4\n",
        "    model = 'G'\n",
        "\n",
        "\n",
        "    def drive(self):\n",
        "        print(f\"A Mercedez is driving. It is {self}\\n\")"
      ],
      "execution_count":176,
      "outputs":[
        
      ],
      "metadata":{
        
      }
    },
    {
      "cell_type":"code",
      "source":[
        "m1 = MercedezBenz()\n",
        "m2 = MercedezBenz()"
      ],
      "execution_count":177,
      "outputs":[
        
      ],
      "metadata":{
        
      }
    },
    {
      "cell_type":"code",
      "source":[
        "m1.doors, m2.doors"
      ],
      "execution_count":179,
      "outputs":[
        {
          "data":{
            "text\/plain":[
              "(4, 4)"
            ]
          },
          "metadata":{
            
          },
          "output_type":"display_data"
        }
      ],
      "metadata":{
        
      }
    },
    {
      "cell_type":"code",
      "source":[
        "m1.model, m2.model"
      ],
      "execution_count":180,
      "outputs":[
        {
          "data":{
            "text\/plain":[
              "('G', 'G')"
            ]
          },
          "metadata":{
            
          },
          "output_type":"display_data"
        }
      ],
      "metadata":{
        
      }
    },
    {
      "cell_type":"code",
      "source":[
        "m1.color = \"black\"\n",
        "m2.color = \"red\""
      ],
      "execution_count":181,
      "outputs":[
        
      ],
      "metadata":{
        
      }
    },
    {
      "cell_type":"code",
      "source":[
        "m1.color, m2.color"
      ],
      "execution_count":182,
      "outputs":[
        {
          "data":{
            "text\/plain":[
              "('black', 'red')"
            ]
          },
          "metadata":{
            
          },
          "output_type":"display_data"
        }
      ],
      "metadata":{
        
      }
    },
    {
      "cell_type":"code",
      "source":[
        "class MercedezBenz:\n",
        "    doors = 4\n",
        "    wheels = 4\n",
        "    model = 'G'\n",
        "\n",
        "    def __init__(self, color=\"black\"):  # after instance creation, but before it is returned\n",
        "        self.color = color\n",
        "\n",
        "    def drive(self):\n",
        "        print(f\"A Mercedez is driving. It is {self}\\n\")"
      ],
      "execution_count":189,
      "outputs":[
        
      ],
      "metadata":{
        
      }
    },
    {
      "cell_type":"code",
      "source":[
        "MercedezBenz()"
      ],
      "execution_count":190,
      "outputs":[
        {
          "data":{
            "text\/plain":[
              "<__main__.MercedezBenz at 0x7f787d85ca60>"
            ]
          },
          "metadata":{
            
          },
          "output_type":"display_data"
        }
      ],
      "metadata":{
        
      }
    },
    {
      "cell_type":"code",
      "source":[
        "MercedezBenz().color"
      ],
      "execution_count":191,
      "outputs":[
        {
          "data":{
            "text\/plain":[
              "'black'"
            ]
          },
          "metadata":{
            
          },
          "output_type":"display_data"
        }
      ],
      "metadata":{
        
      }
    },
    {
      "cell_type":"code",
      "source":[
        "MercedezBenz(\"blue\")"
      ],
      "execution_count":186,
      "outputs":[
        {
          "data":{
            "text\/plain":[
              "<__main__.MercedezBenz at 0x7f787d680bb0>"
            ]
          },
          "metadata":{
            
          },
          "output_type":"display_data"
        }
      ],
      "metadata":{
        
      }
    },
    {
      "cell_type":"code",
      "source":[
        "m1 = MercedezBenz(\"black\")\n",
        "m2 = MercedezBenz(\"red\")"
      ],
      "execution_count":187,
      "outputs":[
        
      ],
      "metadata":{
        
      }
    },
    {
      "cell_type":"code",
      "source":[
        "m1.color, m2.color"
      ],
      "execution_count":188,
      "outputs":[
        {
          "data":{
            "text\/plain":[
              "('black', 'red')"
            ]
          },
          "metadata":{
            
          },
          "output_type":"display_data"
        }
      ],
      "metadata":{
        
      }
    },
    {
      "cell_type":"markdown",
      "source":[
        "## `Alternatively: getattr() And setattr()`"
      ],
      "attachments":{
        
      },
      "metadata":{
        
      }
    },
    {
      "cell_type":"code",
      "source":[
        "class MercedezBenz:\n",
        "    doors = 4\n",
        "    wheels = 4\n",
        "    model = 'G'\n",
        "\n",
        "    def __init__(self, color=\"black\"):  # after instance creation, but before it is returned\n",
        "        self.color = color\n",
        "\n",
        "    def drive(self):\n",
        "        print(f\"A Mercedez is driving. It is {self}\\n\")"
      ],
      "execution_count":224,
      "outputs":[
        
      ],
      "metadata":{
        
      }
    },
    {
      "cell_type":"code",
      "source":[
        "m1 = MercedezBenz()\n",
        "m2 = MercedezBenz(\"red\")"
      ],
      "execution_count":225,
      "outputs":[
        
      ],
      "metadata":{
        
      }
    },
    {
      "cell_type":"code",
      "source":[
        "# object.attribtue syntax"
      ],
      "execution_count":226,
      "outputs":[
        
      ],
      "metadata":{
        
      }
    },
    {
      "cell_type":"code",
      "source":[
        "MercedezBenz.doors"
      ],
      "execution_count":227,
      "outputs":[
        {
          "data":{
            "text\/plain":[
              "4"
            ]
          },
          "metadata":{
            
          },
          "output_type":"display_data"
        }
      ],
      "metadata":{
        
      }
    },
    {
      "cell_type":"code",
      "source":[
        "m1.color"
      ],
      "execution_count":228,
      "outputs":[
        {
          "data":{
            "text\/plain":[
              "'black'"
            ]
          },
          "metadata":{
            
          },
          "output_type":"display_data"
        }
      ],
      "metadata":{
        
      }
    },
    {
      "cell_type":"code",
      "source":[
        "m2. wheels"
      ],
      "execution_count":229,
      "outputs":[
        {
          "data":{
            "text\/plain":[
              "4"
            ]
          },
          "metadata":{
            
          },
          "output_type":"display_data"
        }
      ],
      "metadata":{
        
      }
    },
    {
      "cell_type":"code",
      "source":[
        "getattr(m1, \"color\")"
      ],
      "execution_count":230,
      "outputs":[
        {
          "data":{
            "text\/plain":[
              "'black'"
            ]
          },
          "metadata":{
            
          },
          "output_type":"display_data"
        }
      ],
      "metadata":{
        
      }
    },
    {
      "cell_type":"code",
      "source":[
        "m1.color"
      ],
      "execution_count":231,
      "outputs":[
        {
          "data":{
            "text\/plain":[
              "'black'"
            ]
          },
          "metadata":{
            
          },
          "output_type":"display_data"
        }
      ],
      "metadata":{
        
      }
    },
    {
      "cell_type":"code",
      "source":[
        "m2.color = \"reddish\""
      ],
      "execution_count":232,
      "outputs":[
        
      ],
      "metadata":{
        
      }
    },
    {
      "cell_type":"code",
      "source":[
        "setattr(m2, \"color\", \"less reddish\")"
      ],
      "execution_count":233,
      "outputs":[
        
      ],
      "metadata":{
        
      }
    },
    {
      "cell_type":"code",
      "source":[
        "m2.color"
      ],
      "execution_count":234,
      "outputs":[
        {
          "data":{
            "text\/plain":[
              "'less reddish'"
            ]
          },
          "metadata":{
            
          },
          "output_type":"display_data"
        }
      ],
      "metadata":{
        
      }
    },
    {
      "cell_type":"code",
      "source":[
        "objs = [m1, m2]\n",
        "\n",
        "attribs = [\"color\", \"doors\"]\n",
        "values = [\"navyblue\", 3]"
      ],
      "execution_count":235,
      "outputs":[
        
      ],
      "metadata":{
        
      }
    },
    {
      "cell_type":"code",
      "source":[
        "for obj in objs:\n",
        "    for attrib, val in zip(attribs, values):\n",
        "        setattr(obj, attrib, val) "
      ],
      "execution_count":236,
      "outputs":[
        
      ],
      "metadata":{
        
      }
    },
    {
      "cell_type":"code",
      "source":[
        "m1.color, m2.color"
      ],
      "execution_count":237,
      "outputs":[
        {
          "data":{
            "text\/plain":[
              "('navyblue', 'navyblue')"
            ]
          },
          "metadata":{
            
          },
          "output_type":"display_data"
        }
      ],
      "metadata":{
        
      }
    },
    {
      "cell_type":"code",
      "source":[
        "m1.doors, m2.doors"
      ],
      "execution_count":238,
      "outputs":[
        {
          "data":{
            "text\/plain":[
              "(3, 3)"
            ]
          },
          "metadata":{
            
          },
          "output_type":"display_data"
        }
      ],
      "metadata":{
        
      }
    },
    {
      "cell_type":"code",
      "source":[
        "# quick detour"
      ],
      "execution_count":239,
      "outputs":[
        
      ],
      "metadata":{
        
      }
    },
    {
      "cell_type":"code",
      "source":[
        "list(zip(attribs, values))"
      ],
      "execution_count":241,
      "outputs":[
        {
          "data":{
            "text\/plain":[
              "[('color', 'navyblue'), ('doors', 3)]"
            ]
          },
          "metadata":{
            
          },
          "output_type":"display_data"
        }
      ],
      "metadata":{
        
      }
    },
    {
      "cell_type":"code",
      "source":[
        "m2.wingspan"
      ],
      "execution_count":242,
      "outputs":[
        {
          "ename":"AttributeError",
          "evalue":"AttributeError: 'MercedezBenz' object has no attribute 'wingspan'",
          "traceback":[
            "\u001b[0;31m---------------------------------------------------------------------------",
            "Traceback (most recent call last)",
            "    at line 1 in <module>",
            "AttributeError: 'MercedezBenz' object has no attribute 'wingspan'"
          ],
          "output_type":"error"
        }
      ],
      "metadata":{
        
      }
    },
    {
      "cell_type":"code",
      "source":[
        "try:\n",
        "    print(m2.wingspan)\n",
        "except AttributeError as e:\n",
        "    print(e)"
      ],
      "execution_count":243,
      "outputs":[
        {
          "name":"stdout",
          "text":[
            "'MercedezBenz' object has no attribute 'wingspan'\n"
          ],
          "output_type":"stream"
        }
      ],
      "metadata":{
        
      }
    },
    {
      "cell_type":"code",
      "source":[
        "getattr(m2, \"wingspan\", \"No Attribute Found\")"
      ],
      "execution_count":244,
      "outputs":[
        {
          "data":{
            "text\/plain":[
              "'No Attribute Found'"
            ]
          },
          "metadata":{
            
          },
          "output_type":"display_data"
        }
      ],
      "metadata":{
        
      }
    },
    {
      "cell_type":"markdown",
      "source":[
        "## `Revisting self`"
      ],
      "attachments":{
        
      },
      "metadata":{
        
      }
    },
    {
      "cell_type":"code",
      "source":[
        "class MercedezBenz:\n",
        "    doors = 4\n",
        "    model = 'G'\n",
        "    wheels = 4\n",
        "\n",
        "    def __init__(self, color):\n",
        "        self.color = color\n",
        "\n",
        "    def drive(self):\n",
        "        return f\"A Mercedez is driving. It is {self}\\n\"\n",
        "\n",
        "    def auto_drive(self):\n",
        "        return \"Auto-driving for now...\""
      ],
      "execution_count":265,
      "outputs":[
        
      ],
      "metadata":{
        
      }
    },
    {
      "cell_type":"code",
      "source":[
        "m1 = MercedezBenz(\"pink\")"
      ],
      "execution_count":262,
      "outputs":[
        
      ],
      "metadata":{
        
      }
    },
    {
      "cell_type":"code",
      "source":[
        "m1.auto_drive()"
      ],
      "execution_count":263,
      "outputs":[
        {
          "data":{
            "text\/plain":[
              "'Auto-driving for now...'"
            ]
          },
          "metadata":{
            
          },
          "output_type":"display_data"
        }
      ],
      "metadata":{
        
      }
    },
    {
      "cell_type":"code",
      "source":[
        "# C#, java: this (reserved)"
      ],
      "execution_count":264,
      "outputs":[
        
      ],
      "metadata":{
        
      }
    },
    {
      "cell_type":"markdown",
      "source":[
        "## `Class and Static Methods`"
      ],
      "attachments":{
        
      },
      "metadata":{
        
      }
    },
    {
      "cell_type":"code",
      "source":[
        "class MercedezBenz:\n",
        "    doors = 4\n",
        "    model = 'G'\n",
        "    wheels = 4\n",
        "\n",
        "    def __init__(self, color=\"black\"):\n",
        "        self.color = color\n",
        "\n",
        "    def drive(self):\n",
        "        return f\"A Mercedez is driving. It is {self}\\n\"\n",
        "\n",
        "    @staticmethod\n",
        "    def auto_drive():\n",
        "        return \"Auto-driving for now...\""
      ],
      "execution_count":11,
      "outputs":[
        
      ],
      "metadata":{
        
      }
    },
    {
      "cell_type":"code",
      "source":[
        "m1 = MercedezBenz()"
      ],
      "execution_count":12,
      "outputs":[
        
      ],
      "metadata":{
        
      }
    },
    {
      "cell_type":"code",
      "source":[
        "m1.auto_drive()"
      ],
      "execution_count":13,
      "outputs":[
        {
          "data":{
            "text\/plain":[
              "'Auto-driving for now...'"
            ]
          },
          "metadata":{
            
          },
          "output_type":"display_data"
        }
      ],
      "metadata":{
        
      }
    },
    {
      "cell_type":"code",
      "source":[
        "MercedezBenz.auto_drive()"
      ],
      "execution_count":14,
      "outputs":[
        {
          "data":{
            "text\/plain":[
              "'Auto-driving for now...'"
            ]
          },
          "metadata":{
            
          },
          "output_type":"display_data"
        }
      ],
      "metadata":{
        
      }
    },
    {
      "cell_type":"code",
      "source":[
        "class MercedezBenz:\n",
        "    doors = 4\n",
        "    model = 'G'\n",
        "    wheels = 4\n",
        "\n",
        "    def __init__(self, color=\"black\"):\n",
        "        self.color = color\n",
        "\n",
        "    def drive(self):\n",
        "        return f\"A Mercedez is driving. It is {self}\\n\"\n",
        "\n",
        "    @staticmethod\n",
        "    def auto_drive():\n",
        "        return \"Auto-driving for now...\"\n",
        "\n",
        "    @classmethod\n",
        "    def create_lease(cls):\n",
        "        print(f\"A lease for {cls} will be created\")"
      ],
      "execution_count":15,
      "outputs":[
        
      ],
      "metadata":{
        
      }
    },
    {
      "cell_type":"code",
      "source":[
        "MercedezBenz.create_lease()"
      ],
      "execution_count":16,
      "outputs":[
        {
          "name":"stdout",
          "text":[
            "A lease for <class '__main__.MercedezBenz'> will be created\n"
          ],
          "output_type":"stream"
        }
      ],
      "metadata":{
        
      }
    },
    {
      "cell_type":"code",
      "source":[
        "m1 = MercedezBenz()"
      ],
      "execution_count":17,
      "outputs":[
        
      ],
      "metadata":{
        
      }
    },
    {
      "cell_type":"code",
      "source":[
        "m1.create_lease()"
      ],
      "execution_count":18,
      "outputs":[
        {
          "name":"stdout",
          "text":[
            "A lease for <class '__main__.MercedezBenz'> will be created\n"
          ],
          "output_type":"stream"
        }
      ],
      "metadata":{
        
      }
    },
    {
      "cell_type":"markdown",
      "source":[
        "## `BONUS: An Alternative Syntax`"
      ],
      "attachments":{
        
      },
      "metadata":{
        
      }
    },
    {
      "cell_type":"code",
      "source":[
        "class MercedezBenz:\n",
        "    doors = 4\n",
        "    model = 'G'\n",
        "    wheels = 4\n",
        "\n",
        "    def __init__(self, color=\"black\"):\n",
        "        self.color = color\n",
        "\n",
        "    def drive(self):\n",
        "        return f\"A Mercedez is driving. It is {self}\\n\"\n",
        "\n",
        "    # @staticmethod\n",
        "    def auto_drive():\n",
        "        return \"Auto-driving for now...\"\n",
        "\n",
        "    def create_lease(cls):\n",
        "        print(f\"A lease for {cls} will be created\")\n",
        "\n",
        "\n",
        "    create_lease = classmethod(create_lease)\n",
        "    auto_drive = staticmethod(auto_drive)"
      ],
      "execution_count":49,
      "outputs":[
        
      ],
      "metadata":{
        
      }
    },
    {
      "cell_type":"code",
      "source":[
        "m1 = MercedezBenz()"
      ],
      "execution_count":50,
      "outputs":[
        
      ],
      "metadata":{
        
      }
    },
    {
      "cell_type":"code",
      "source":[
        "m1.create_lease()"
      ],
      "execution_count":51,
      "outputs":[
        {
          "name":"stdout",
          "text":[
            "A lease for <class '__main__.MercedezBenz'> will be created\n"
          ],
          "output_type":"stream"
        }
      ],
      "metadata":{
        
      }
    },
    {
      "cell_type":"code",
      "source":[
        "m1.auto_drive()"
      ],
      "execution_count":52,
      "outputs":[
        {
          "data":{
            "text\/plain":[
              "'Auto-driving for now...'"
            ]
          },
          "metadata":{
            
          },
          "output_type":"display_data"
        }
      ],
      "metadata":{
        
      }
    },
    {
      "cell_type":"markdown",
      "source":[
        "## `Dunder Dict`"
      ],
      "attachments":{
        
      },
      "metadata":{
        
      }
    },
    {
      "cell_type":"code",
      "source":[
        "m1 = MercedezBenz(\"lavender\")"
      ],
      "execution_count":54,
      "outputs":[
        
      ],
      "metadata":{
        
      }
    },
    {
      "cell_type":"code",
      "source":[
        "# \"object.attribute\" syntax"
      ],
      "execution_count":55,
      "outputs":[
        
      ],
      "metadata":{
        
      }
    },
    {
      "cell_type":"code",
      "source":[
        "m1.color"
      ],
      "execution_count":56,
      "outputs":[
        {
          "data":{
            "text\/plain":[
              "'lavender'"
            ]
          },
          "metadata":{
            
          },
          "output_type":"display_data"
        }
      ],
      "metadata":{
        
      }
    },
    {
      "cell_type":"code",
      "source":[
        "m1.__dict__"
      ],
      "execution_count":66,
      "outputs":[
        {
          "data":{
            "text\/plain":[
              "{'color': 'lavender', 'horse_power': 290}"
            ]
          },
          "metadata":{
            
          },
          "output_type":"display_data"
        }
      ],
      "metadata":{
        
      }
    },
    {
      "cell_type":"code",
      "source":[
        "m2 = MercedezBenz(\"cyan\")"
      ],
      "execution_count":58,
      "outputs":[
        
      ],
      "metadata":{
        
      }
    },
    {
      "cell_type":"code",
      "source":[
        "m2.__dict__"
      ],
      "execution_count":59,
      "outputs":[
        {
          "data":{
            "text\/plain":[
              "{'color': 'cyan'}"
            ]
          },
          "metadata":{
            
          },
          "output_type":"display_data"
        }
      ],
      "metadata":{
        
      }
    },
    {
      "cell_type":"code",
      "source":[
        "m2.horse_power = 490"
      ],
      "execution_count":60,
      "outputs":[
        
      ],
      "metadata":{
        
      }
    },
    {
      "cell_type":"code",
      "source":[
        "m2.__dict__"
      ],
      "execution_count":61,
      "outputs":[
        {
          "data":{
            "text\/plain":[
              "{'color': 'cyan', 'horse_power': 490}"
            ]
          },
          "metadata":{
            
          },
          "output_type":"display_data"
        }
      ],
      "metadata":{
        
      }
    },
    {
      "cell_type":"code",
      "source":[
        "m1.__dict__"
      ],
      "execution_count":65,
      "outputs":[
        {
          "data":{
            "text\/plain":[
              "{'color': 'lavender', 'horse_power': 290}"
            ]
          },
          "metadata":{
            
          },
          "output_type":"display_data"
        }
      ],
      "metadata":{
        
      }
    },
    {
      "cell_type":"code",
      "source":[
        "m1.__dict__[\"horse_power\"] = 290"
      ],
      "execution_count":63,
      "outputs":[
        
      ],
      "metadata":{
        
      }
    },
    {
      "cell_type":"code",
      "source":[
        "m1.horse_power"
      ],
      "execution_count":64,
      "outputs":[
        {
          "data":{
            "text\/plain":[
              "290"
            ]
          },
          "metadata":{
            
          },
          "output_type":"display_data"
        }
      ],
      "metadata":{
        
      }
    },
    {
      "cell_type":"markdown",
      "source":[
        "## `Class vs Instance __dict__`"
      ],
      "attachments":{
        
      },
      "metadata":{
        
      }
    },
    {
      "cell_type":"code",
      "source":[
        "class MercedezBenz:\n",
        "    doors = 4\n",
        "    model = 'G'\n",
        "    wheels = 4\n",
        "\n",
        "    def __init__(self, color=\"black\"):\n",
        "        self.color = color\n",
        "\n",
        "    def drive(self):\n",
        "        return f\"A Mercedez is driving. It is {self}\\n\"\n",
        "\n",
        "    @staticmethod\n",
        "    def auto_drive():\n",
        "        return \"Auto-driving for now...\"\n",
        "\n",
        "    @classmethod\n",
        "    def create_lease(cls):\n",
        "        print(f\"A lease for {cls} will be created\")"
      ],
      "execution_count":68,
      "outputs":[
        
      ],
      "metadata":{
        
      }
    },
    {
      "cell_type":"code",
      "source":[
        "MercedezBenz.__dict__"
      ],
      "execution_count":69,
      "outputs":[
        {
          "data":{
            "text\/plain":[
              "mappingproxy({'__module__': '__main__',\n",
              "              'doors': 4,\n",
              "              'model': 'G',\n",
              "              'wheels': 4,\n",
              "              '__init__': <function __main__.MercedezBenz.__init__(self, color='black')>,\n",
              "              'drive': <function __main__.MercedezBenz.drive(self)>,\n",
              "              'auto_drive': <staticmethod at 0x7fc97d4e2ca0>,\n",
              "              'create_lease': <classmethod at 0x7fc97d4e2d60>,\n",
              "              '__dict__': <attribute '__dict__' of 'MercedezBenz' objects>,\n",
              "              '__weakref__': <attribute '__weakref__' of 'MercedezBenz' objects>,\n",
              "              '__doc__': None})"
            ]
          },
          "metadata":{
            
          },
          "output_type":"display_data"
        }
      ],
      "metadata":{
        
      }
    },
    {
      "cell_type":"code",
      "source":[
        "type(MercedezBenz.__dict__)"
      ],
      "execution_count":70,
      "outputs":[
        {
          "data":{
            "text\/plain":[
              "mappingproxy"
            ]
          },
          "metadata":{
            
          },
          "output_type":"display_data"
        }
      ],
      "metadata":{
        
      }
    },
    {
      "cell_type":"code",
      "source":[
        "# MRO -> method resolution order"
      ],
      "execution_count":71,
      "outputs":[
        
      ],
      "metadata":{
        
      }
    },
    {
      "cell_type":"code",
      "source":[
        "m1.__dict__"
      ],
      "execution_count":73,
      "outputs":[
        {
          "data":{
            "text\/plain":[
              "{'color': 'lavender', 'horse_power': 290}"
            ]
          },
          "metadata":{
            
          },
          "output_type":"display_data"
        }
      ],
      "metadata":{
        
      }
    },
    {
      "cell_type":"code",
      "source":[
        "# get attribute by name of \"__dict__\" \n",
        "# python goes looking for it in the naemspace, then the class\n",
        "# in the class, it finds it\n",
        "# the attribute name (__dict__) points to a descriptor\n",
        "# the descriptors get() is called\n",
        "# which returns a dictionary"
      ],
      "execution_count":73,
      "outputs":[
        
      ],
      "metadata":{
        
      }
    },
    {
      "cell_type":"markdown",
      "source":[
        "## `BONUS: Careful With Mutables`"
      ],
      "attachments":{
        
      },
      "metadata":{
        
      }
    },
    {
      "cell_type":"code",
      "source":[
        "class MercedezBenz:\n",
        "    doors = 5\n",
        "    model = 'G'\n",
        "    wheels = 4\n",
        "\n",
        "    def __init__(self, color=\"black\"):\n",
        "        self.color = color\n",
        "\n",
        "    def drive(self):\n",
        "        return f\"A Mercedez is driving. It is {self}\\n\"\n",
        "\n",
        "    @staticmethod\n",
        "    def auto_drive():\n",
        "        return \"Auto-driving for now...\"\n",
        "\n",
        "    @classmethod\n",
        "    def create_lease(cls):\n",
        "        print(f\"A lease for {cls} will be created\")"
      ],
      "execution_count":107,
      "outputs":[
        
      ],
      "metadata":{
        
      }
    },
    {
      "cell_type":"code",
      "source":[
        "MercedezBenz.__dict__"
      ],
      "execution_count":99,
      "outputs":[
        {
          "data":{
            "text\/plain":[
              "mappingproxy({'__module__': '__main__',\n",
              "              'doors': 4,\n",
              "              'model': 'G',\n",
              "              'wheels': 4,\n",
              "              '__init__': <function __main__.MercedezBenz.__init__(self, color='black')>,\n",
              "              'drive': <function __main__.MercedezBenz.drive(self)>,\n",
              "              'auto_drive': <staticmethod at 0x7fc97d56d370>,\n",
              "              'create_lease': <classmethod at 0x7fc97d56db20>,\n",
              "              '__dict__': <attribute '__dict__' of 'MercedezBenz' objects>,\n",
              "              '__weakref__': <attribute '__weakref__' of 'MercedezBenz' objects>,\n",
              "              '__doc__': None})"
            ]
          },
          "metadata":{
            
          },
          "output_type":"display_data"
        }
      ],
      "metadata":{
        
      }
    },
    {
      "cell_type":"code",
      "source":[
        "m1 = MercedezBenz()\n",
        "m2 = MercedezBenz()"
      ],
      "execution_count":100,
      "outputs":[
        
      ],
      "metadata":{
        
      }
    },
    {
      "cell_type":"code",
      "source":[
        "m1.doors = 2\n",
        "m2.doors = 3"
      ],
      "execution_count":101,
      "outputs":[
        
      ],
      "metadata":{
        
      }
    },
    {
      "cell_type":"code",
      "source":[
        "m1.doors, m2.doors"
      ],
      "execution_count":102,
      "outputs":[
        {
          "data":{
            "text\/plain":[
              "(2, 3)"
            ]
          },
          "metadata":{
            
          },
          "output_type":"display_data"
        }
      ],
      "metadata":{
        
      }
    },
    {
      "cell_type":"code",
      "source":[
        "m3 = MercedezBenz()"
      ],
      "execution_count":103,
      "outputs":[
        
      ],
      "metadata":{
        
      }
    },
    {
      "cell_type":"code",
      "source":[
        "m3.doors"
      ],
      "execution_count":105,
      "outputs":[
        {
          "data":{
            "text\/plain":[
              "4"
            ]
          },
          "metadata":{
            
          },
          "output_type":"display_data"
        }
      ],
      "metadata":{
        
      }
    },
    {
      "cell_type":"code",
      "source":[
        "# immutables: booleans, ints, floats, stirng, tuples"
      ],
      "execution_count":106,
      "outputs":[
        
      ],
      "metadata":{
        
      }
    },
    {
      "cell_type":"code",
      "source":[
        "# mutable: list"
      ],
      "execution_count":108,
      "outputs":[
        
      ],
      "metadata":{
        
      }
    },
    {
      "cell_type":"code",
      "source":[
        "class Tire:\n",
        "    def __init__(self, kind, distance_covered):\n",
        "        self.kind = kind\n",
        "        self.distance_covered = distance_covered"
      ],
      "execution_count":109,
      "outputs":[
        
      ],
      "metadata":{
        
      }
    },
    {
      "cell_type":"code",
      "source":[
        "class MercedezBenz:\n",
        "    doors = 5\n",
        "    model = 'G'\n",
        "    wheels = 4\n",
        "    tires = [Tire(\"operational\", 10) for i in range(4)]\n",
        "\n",
        "    def __init__(self, color=\"black\"):\n",
        "        self.color = color\n",
        "\n",
        "    def drive(self):\n",
        "        return f\"A Mercedez is driving. It is {self}\\n\"\n",
        "\n",
        "    @staticmethod\n",
        "    def auto_drive():\n",
        "        return \"Auto-driving for now...\"\n",
        "\n",
        "    @classmethod\n",
        "    def create_lease(cls):\n",
        "        print(f\"A lease for {cls} will be created\")"
      ],
      "execution_count":127,
      "outputs":[
        
      ],
      "metadata":{
        
      }
    },
    {
      "cell_type":"code",
      "source":[
        "m1 = MercedezBenz()"
      ],
      "execution_count":115,
      "outputs":[
        
      ],
      "metadata":{
        
      }
    },
    {
      "cell_type":"code",
      "source":[
        "m1.tires"
      ],
      "execution_count":116,
      "outputs":[
        {
          "data":{
            "text\/plain":[
              "[<__main__.Tire at 0x7fc97d3baee0>,\n",
              " <__main__.Tire at 0x7fc97d3ba280>,\n",
              " <__main__.Tire at 0x7fc97d3ba940>,\n",
              " <__main__.Tire at 0x7fc97d3bad30>]"
            ]
          },
          "metadata":{
            
          },
          "output_type":"display_data"
        }
      ],
      "metadata":{
        
      }
    },
    {
      "cell_type":"code",
      "source":[
        "m2 = MercedezBenz()"
      ],
      "execution_count":117,
      "outputs":[
        
      ],
      "metadata":{
        
      }
    },
    {
      "cell_type":"code",
      "source":[
        "m2.tires"
      ],
      "execution_count":120,
      "outputs":[
        {
          "data":{
            "text\/plain":[
              "[<__main__.Tire at 0x7fc97d3baee0>,\n",
              " <__main__.Tire at 0x7fc97d3ba280>,\n",
              " <__main__.Tire at 0x7fc97d3ba940>,\n",
              " <__main__.Tire at 0x7fc97d3bad30>,\n",
              " <__main__.Tire at 0x7fc97d5ac2e0>]"
            ]
          },
          "metadata":{
            
          },
          "output_type":"display_data"
        }
      ],
      "metadata":{
        
      }
    },
    {
      "cell_type":"code",
      "source":[
        "m1.tires.append(Tire(kind=\"spare\", distance_covered=100))"
      ],
      "execution_count":119,
      "outputs":[
        
      ],
      "metadata":{
        
      }
    },
    {
      "cell_type":"code",
      "source":[
        "MercedezBenz().tires"
      ],
      "execution_count":121,
      "outputs":[
        {
          "data":{
            "text\/plain":[
              "[<__main__.Tire at 0x7fc97d3baee0>,\n",
              " <__main__.Tire at 0x7fc97d3ba280>,\n",
              " <__main__.Tire at 0x7fc97d3ba940>,\n",
              " <__main__.Tire at 0x7fc97d3bad30>,\n",
              " <__main__.Tire at 0x7fc97d5ac2e0>]"
            ]
          },
          "metadata":{
            
          },
          "output_type":"display_data"
        }
      ],
      "metadata":{
        
      }
    },
    {
      "cell_type":"markdown",
      "source":[
        "## `Access Control`"
      ],
      "attachments":{
        
      },
      "metadata":{
        
      }
    },
    {
      "cell_type":"code",
      "source":[
        "m1 = MercedezBenz(\"lavender\")"
      ],
      "execution_count":130,
      "outputs":[
        
      ],
      "metadata":{
        
      }
    },
    {
      "cell_type":"code",
      "source":[
        "m1.doors += 1"
      ],
      "execution_count":135,
      "outputs":[
        
      ],
      "metadata":{
        
      }
    },
    {
      "cell_type":"code",
      "source":[
        "m1.doors = \"Andy\""
      ],
      "execution_count":136,
      "outputs":[
        
      ],
      "metadata":{
        
      }
    },
    {
      "cell_type":"code",
      "source":[
        "m1.doors = 1.2"
      ],
      "execution_count":137,
      "outputs":[
        
      ],
      "metadata":{
        
      }
    },
    {
      "cell_type":"markdown",
      "source":[
        "## `Docstrings`"
      ],
      "attachments":{
        
      },
      "metadata":{
        
      }
    },
    {
      "cell_type":"code",
      "source":[
        "# getattr()"
      ],
      "execution_count":0,
      "outputs":[
        
      ],
      "metadata":{
        
      }
    },
    {
      "cell_type":"code",
      "source":[
        "help(getattr)"
      ],
      "execution_count":141,
      "outputs":[
        {
          "name":"stdout",
          "text":[
            "Help on built-in function getattr in module builtins:\n",
            "\n",
            "getattr(...)\n",
            "    getattr(object, name[, default]) -> value\n",
            "    \n",
            "    Get a named attribute from an object; getattr(x, 'y') is equivalent to x.y.\n",
            "    When a default argument is given, it is returned when the attribute doesn't\n",
            "    exist; without it, an exception is raised in that case.\n",
            "\n"
          ],
          "output_type":"stream"
        }
      ],
      "metadata":{
        
      }
    },
    {
      "cell_type":"code",
      "source":[
        "help(Tire)"
      ],
      "execution_count":150,
      "outputs":[
        {
          "name":"stdout",
          "text":[
            "Help on class Tire in module __main__:\n",
            "\n",
            "class Tire(builtins.object)\n",
            " |  Tire(kind, distance_covered)\n",
            " |  \n",
            " |  Methods defined here:\n",
            " |  \n",
            " |  __init__(self, kind, distance_covered)\n",
            " |      Initialize self.  See help(type(self)) for accurate signature.\n",
            " |  \n",
            " |  ----------------------------------------------------------------------\n",
            " |  Data descriptors defined here:\n",
            " |  \n",
            " |  __dict__\n",
            " |      dictionary for instance variables (if defined)\n",
            " |  \n",
            " |  __weakref__\n",
            " |      list of weak references to the object (if defined)\n",
            "\n"
          ],
          "output_type":"stream"
        }
      ],
      "metadata":{
        
      }
    },
    {
      "cell_type":"code",
      "source":[
        "class Tire:\n",
        "    # \"\"\"Defines an automobile tire object.\n",
        "\n",
        "    # :param kind: the kind of tire, e.g. operational, spare, or winter\n",
        "    # :param distance_covered: the distance in km the tire has covered\n",
        "    # \"\"\"\n",
        "\n",
        "    def __init__(self, kind, distance_covered):\n",
        "        self.kind = kind\n",
        "        self.distance_covered = distance_covered"
      ],
      "execution_count":148,
      "outputs":[
        
      ],
      "metadata":{
        
      }
    },
    {
      "cell_type":"code",
      "source":[
        " Tire.__dict__"
      ],
      "execution_count":149,
      "outputs":[
        {
          "data":{
            "text\/plain":[
              "mappingproxy({'__module__': '__main__',\n",
              "              '__init__': <function __main__.Tire.__init__(self, kind, distance_covered)>,\n",
              "              '__dict__': <attribute '__dict__' of 'Tire' objects>,\n",
              "              '__weakref__': <attribute '__weakref__' of 'Tire' objects>,\n",
              "              '__doc__': None})"
            ]
          },
          "metadata":{
            
          },
          "output_type":"display_data"
        }
      ],
      "metadata":{
        
      }
    }
  ],
  "metadata":{
    
  },
  "nbformat":4,
  "nbformat_minor":0
}