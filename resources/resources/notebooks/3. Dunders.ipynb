{
  "cells":[
    {
      "cell_type":"markdown",
      "source":[
        "## Let's Add A `__repr__`"
      ],
      "attachments":{
        
      },
      "metadata":{
        
      }
    },
    {
      "cell_type":"code",
      "source":[
        "class Book:\n",
        "    def __init__(self, title, author, book_type, pages):\n",
        "        self.title = title\n",
        "        self.author = author\n",
        "        self.book_type = book_type\n",
        "        self.pages = pages"
      ],
      "execution_count":1,
      "outputs":[
        
      ],
      "metadata":{
        
      }
    },
    {
      "cell_type":"code",
      "source":[
        "b = Book(\"Antifragile\", \"Nassim Taleb\", \"Hardcover\", 519)"
      ],
      "execution_count":2,
      "outputs":[
        
      ],
      "metadata":{
        
      }
    },
    {
      "cell_type":"code",
      "source":[
        "b"
      ],
      "execution_count":3,
      "outputs":[
        {
          "data":{
            "text\/plain":[
              "<__main__.Book at 0x7fca60046a60>"
            ]
          },
          "metadata":{
            
          },
          "output_type":"display_data"
        }
      ],
      "metadata":{
        
      }
    },
    {
      "cell_type":"code",
      "source":[
        "repr(b)"
      ],
      "execution_count":4,
      "outputs":[
        {
          "data":{
            "text\/plain":[
              "'<__main__.Book object at 0x7fca60046a60>'"
            ]
          },
          "metadata":{
            
          },
          "output_type":"display_data"
        }
      ],
      "metadata":{
        
      }
    },
    {
      "cell_type":"code",
      "source":[
        "class Book:\n",
        "    def __init__(self, title, author, book_type, pages):\n",
        "        self.title = title\n",
        "        self.author = author\n",
        "        self.book_type = book_type\n",
        "        self.pages = pages\n",
        "\n",
        "    def __repr__(self):\n",
        "        return f\"The title is {self.title}\""
      ],
      "execution_count":5,
      "outputs":[
        
      ],
      "metadata":{
        
      }
    },
    {
      "cell_type":"code",
      "source":[
        "b = Book(\"Antifragile\", \"Nassim Taleb\", \"Hardcover\", 519)"
      ],
      "execution_count":6,
      "outputs":[
        
      ],
      "metadata":{
        
      }
    },
    {
      "cell_type":"code",
      "source":[
        "b"
      ],
      "execution_count":7,
      "outputs":[
        {
          "data":{
            "text\/plain":[
              "The title is Antifragile"
            ]
          },
          "metadata":{
            
          },
          "output_type":"display_data"
        }
      ],
      "metadata":{
        
      }
    },
    {
      "cell_type":"code",
      "source":[
        "b1 = Book(\"America's Bank\", \"Roger Lowenstein\", \"Paperback\", 368)"
      ],
      "execution_count":9,
      "outputs":[
        
      ],
      "metadata":{
        
      }
    },
    {
      "cell_type":"code",
      "source":[
        "b1"
      ],
      "execution_count":10,
      "outputs":[
        {
          "data":{
            "text\/plain":[
              "The title is America's Bank"
            ]
          },
          "metadata":{
            
          },
          "output_type":"display_data"
        }
      ],
      "metadata":{
        
      }
    },
    {
      "cell_type":"code",
      "source":[
        "print(b1)"
      ],
      "execution_count":11,
      "outputs":[
        {
          "name":"stdout",
          "text":[
            "The title is America's Bank\n"
          ],
          "output_type":"stream"
        }
      ],
      "metadata":{
        
      }
    },
    {
      "cell_type":"markdown",
      "source":[
        "## `__repr__ vs __str__`"
      ],
      "attachments":{
        
      },
      "metadata":{
        
      }
    },
    {
      "cell_type":"code",
      "source":[
        "class Book:\n",
        "    def __init__(self, title, author, book_type, pages):\n",
        "        self.title = title\n",
        "        self.author = author\n",
        "        self.book_type = book_type\n",
        "        self.pages = pages\n",
        "\n",
        "    def __repr__(self):\n",
        "        return f\"The title is {self.title}\"\n",
        "\n",
        "    def __str__(self):\n",
        "        return f\"{self.title} by {self.author} in {self.book_type}\""
      ],
      "execution_count":15,
      "outputs":[
        
      ],
      "metadata":{
        
      }
    },
    {
      "cell_type":"code",
      "source":[
        "b = Book(\"Antifragile\", \"Nassim Taleb\", \"Hardcover\", 519)"
      ],
      "execution_count":16,
      "outputs":[
        
      ],
      "metadata":{
        
      }
    },
    {
      "cell_type":"code",
      "source":[
        "str(b)"
      ],
      "execution_count":17,
      "outputs":[
        {
          "data":{
            "text\/plain":[
              "'Antifragile by Nassim Taleb in Hardcover'"
            ]
          },
          "metadata":{
            
          },
          "output_type":"display_data"
        }
      ],
      "metadata":{
        
      }
    },
    {
      "cell_type":"code",
      "source":[
        "print(b)"
      ],
      "execution_count":20,
      "outputs":[
        {
          "name":"stdout",
          "text":[
            "Antifragile by Nassim Taleb in Hardcover\n"
          ],
          "output_type":"stream"
        }
      ],
      "metadata":{
        
      }
    },
    {
      "cell_type":"code",
      "source":[
        "b"
      ],
      "execution_count":18,
      "outputs":[
        {
          "data":{
            "text\/plain":[
              "The title is Antifragile"
            ]
          },
          "metadata":{
            
          },
          "output_type":"display_data"
        }
      ],
      "metadata":{
        
      }
    },
    {
      "cell_type":"code",
      "source":[
        "repr(b)"
      ],
      "execution_count":19,
      "outputs":[
        {
          "data":{
            "text\/plain":[
              "'The title is Antifragile'"
            ]
          },
          "metadata":{
            
          },
          "output_type":"display_data"
        }
      ],
      "metadata":{
        
      }
    },
    {
      "cell_type":"code",
      "source":[
        "# __str__ -> informal for end user\n",
        "# __repr__ -> more dev\/code user oriented"
      ],
      "execution_count":22,
      "outputs":[
        
      ],
      "metadata":{
        
      }
    },
    {
      "cell_type":"code",
      "source":[
        "class Book:\n",
        "    def __init__(self, title, author, book_type, pages):\n",
        "        self.title = title\n",
        "        self.author = author\n",
        "        self.book_type = book_type\n",
        "        self.pages = pages\n",
        "\n",
        "    def __repr__(self):\n",
        "        return f\"Attributes: {self.title}, {self.author}, {self.book_type}, {self.pages}\"\n",
        "\n",
        "    def __str__(self):\n",
        "        return f\"{self.title} by {self.author} in {self.book_type}\""
      ],
      "execution_count":24,
      "outputs":[
        
      ],
      "metadata":{
        
      }
    },
    {
      "cell_type":"code",
      "source":[
        "b = Book(\"Antifragile\", \"Nassim Taleb\", \"Hardcover\", 519)"
      ],
      "execution_count":25,
      "outputs":[
        
      ],
      "metadata":{
        
      }
    },
    {
      "cell_type":"code",
      "source":[
        "b"
      ],
      "execution_count":26,
      "outputs":[
        {
          "data":{
            "text\/plain":[
              "Attributes: Antifragile, Nassim Taleb, Hardcover, 519"
            ]
          },
          "metadata":{
            
          },
          "output_type":"display_data"
        }
      ],
      "metadata":{
        
      }
    },
    {
      "cell_type":"code",
      "source":[
        "b.__dict__"
      ],
      "execution_count":28,
      "outputs":[
        {
          "data":{
            "text\/plain":[
              "{'title': 'Antifragile',\n",
              " 'author': 'Nassim Taleb',\n",
              " 'book_type': 'Hardcover',\n",
              " 'pages': 519}"
            ]
          },
          "metadata":{
            
          },
          "output_type":"display_data"
        }
      ],
      "metadata":{
        
      }
    },
    {
      "cell_type":"code",
      "source":[
        "# evaluate as valid python code into a new instance"
      ],
      "execution_count":29,
      "outputs":[
        
      ],
      "metadata":{
        
      }
    },
    {
      "cell_type":"code",
      "source":[
        "eval(\"2+2\")"
      ],
      "execution_count":30,
      "outputs":[
        {
          "data":{
            "text\/plain":[
              "4"
            ]
          },
          "metadata":{
            
          },
          "output_type":"display_data"
        }
      ],
      "metadata":{
        
      }
    },
    {
      "cell_type":"code",
      "source":[
        "eval(\"None\")"
      ],
      "execution_count":31,
      "outputs":[
        
      ],
      "metadata":{
        
      }
    },
    {
      "cell_type":"code",
      "source":[
        "None"
      ],
      "execution_count":32,
      "outputs":[
        
      ],
      "metadata":{
        
      }
    },
    {
      "cell_type":"code",
      "source":[
        "eval(\"print('do nothing')\")"
      ],
      "execution_count":33,
      "outputs":[
        {
          "name":"stdout",
          "text":[
            "do nothing\n"
          ],
          "output_type":"stream"
        }
      ],
      "metadata":{
        
      }
    },
    {
      "cell_type":"code",
      "source":[
        "repr(b)"
      ],
      "execution_count":35,
      "outputs":[
        {
          "data":{
            "text\/plain":[
              "'Attributes: Antifragile, Nassim Taleb, Hardcover, 519'"
            ]
          },
          "metadata":{
            
          },
          "output_type":"display_data"
        }
      ],
      "metadata":{
        
      }
    },
    {
      "cell_type":"code",
      "source":[
        "eval(repr(b1))"
      ],
      "execution_count":36,
      "outputs":[
        {
          "ename":"SyntaxError",
          "evalue":"SyntaxError: invalid syntax",
          "traceback":[
            "\u001b[0;31m---------------------------------------------------------------------------",
            "Traceback (most recent call last)",
            "SyntaxError: invalid syntax"
          ],
          "output_type":"error"
        }
      ],
      "metadata":{
        
      }
    },
    {
      "cell_type":"code",
      "source":[
        "class Book:\n",
        "    def __init__(self, title, author, book_type, pages):\n",
        "        self.title = title\n",
        "        self.author = author\n",
        "        self.book_type = book_type\n",
        "        self.pages = pages\n",
        "\n",
        "    def __repr__(self):\n",
        "        return f\"Book('{self.title}', '{self.author}', '{self.book_type}', {self.pages})\"\n",
        "\n",
        "    # def __str__(self):\n",
        "    #     return f\"{self.title} by {self.author} in {self.book_type}\""
      ],
      "execution_count":45,
      "outputs":[
        
      ],
      "metadata":{
        
      }
    },
    {
      "cell_type":"code",
      "source":[
        "b = Book(\"Antifragile\", \"Nassim Taleb\", \"Hardcover\", 519)"
      ],
      "execution_count":46,
      "outputs":[
        
      ],
      "metadata":{
        
      }
    },
    {
      "cell_type":"code",
      "source":[
        "print(b) # normally -> str() -> __str__"
      ],
      "execution_count":47,
      "outputs":[
        {
          "name":"stdout",
          "text":[
            "Book('Antifragile', 'Nassim Taleb', 'Hardcover', 519)\n"
          ],
          "output_type":"stream"
        }
      ],
      "metadata":{
        
      }
    },
    {
      "cell_type":"code",
      "source":[
        "b"
      ],
      "execution_count":42,
      "outputs":[
        {
          "data":{
            "text\/plain":[
              "Book('Antifragile', 'Nassim Taleb', 'Hardcover', 519)"
            ]
          },
          "metadata":{
            
          },
          "output_type":"display_data"
        }
      ],
      "metadata":{
        
      }
    },
    {
      "cell_type":"code",
      "source":[
        "repr(b)"
      ],
      "execution_count":43,
      "outputs":[
        {
          "data":{
            "text\/plain":[
              "\"Book('Antifragile', 'Nassim Taleb', 'Hardcover', 519)\""
            ]
          },
          "metadata":{
            
          },
          "output_type":"display_data"
        }
      ],
      "metadata":{
        
      }
    },
    {
      "cell_type":"code",
      "source":[
        "eval(repr(b))"
      ],
      "execution_count":44,
      "outputs":[
        {
          "data":{
            "text\/plain":[
              "Book('Antifragile', 'Nassim Taleb', 'Hardcover', 519)"
            ]
          },
          "metadata":{
            
          },
          "output_type":"display_data"
        }
      ],
      "metadata":{
        
      }
    },
    {
      "cell_type":"markdown",
      "source":[
        "## `__format__`"
      ],
      "attachments":{
        
      },
      "metadata":{
        
      }
    },
    {
      "cell_type":"code",
      "source":[
        "class Book:\n",
        "    def __init__(self, title, author, book_type, pages):\n",
        "        self.title = title\n",
        "        self.author = author\n",
        "        self.book_type = book_type\n",
        "        self.pages = pages\n",
        "\n",
        "    def __repr__(self):\n",
        "        return f\"Book('{self.title}', '{self.author}', '{self.book_type}', {self.pages})\"\n",
        "\n",
        "\n",
        "b = Book(\"Antifragile\", \"Nassim Taleb\", \"Hardcover\", 519)"
      ],
      "execution_count":48,
      "outputs":[
        
      ],
      "metadata":{
        
      }
    },
    {
      "cell_type":"code",
      "source":[
        "f\"{b}\""
      ],
      "execution_count":49,
      "outputs":[
        {
          "data":{
            "text\/plain":[
              "\"Book('Antifragile', 'Nassim Taleb', 'Hardcover', 519)\""
            ]
          },
          "metadata":{
            
          },
          "output_type":"display_data"
        }
      ],
      "metadata":{
        
      }
    },
    {
      "cell_type":"code",
      "source":[
        "f\"{100}\""
      ],
      "execution_count":50,
      "outputs":[
        {
          "data":{
            "text\/plain":[
              "'100'"
            ]
          },
          "metadata":{
            
          },
          "output_type":"display_data"
        }
      ],
      "metadata":{
        
      }
    },
    {
      "cell_type":"code",
      "source":[
        "f\"{100:.3f}\""
      ],
      "execution_count":51,
      "outputs":[
        {
          "data":{
            "text\/plain":[
              "'100.000'"
            ]
          },
          "metadata":{
            
          },
          "output_type":"display_data"
        }
      ],
      "metadata":{
        
      }
    },
    {
      "cell_type":"code",
      "source":[
        "format(100, '.3f')"
      ],
      "execution_count":52,
      "outputs":[
        {
          "data":{
            "text\/plain":[
              "'100.000'"
            ]
          },
          "metadata":{
            
          },
          "output_type":"display_data"
        }
      ],
      "metadata":{
        
      }
    },
    {
      "cell_type":"code",
      "source":[
        "\"{:.3f}\".format(100)"
      ],
      "execution_count":53,
      "outputs":[
        {
          "data":{
            "text\/plain":[
              "'100.000'"
            ]
          },
          "metadata":{
            
          },
          "output_type":"display_data"
        }
      ],
      "metadata":{
        
      }
    },
    {
      "cell_type":"code",
      "source":[
        "class Book:\n",
        "    def __init__(self, title, author, book_type, pages):\n",
        "        self.title = title\n",
        "        self.author = author\n",
        "        self.book_type = book_type\n",
        "        self.pages = pages\n",
        "\n",
        "    def __repr__(self):\n",
        "        return f\"Book('{self.title}', '{self.author}', '{self.book_type}', {self.pages})\"\n",
        "\n",
        "    def __format__(self, format_spec):\n",
        "        if format_spec == \"short\":\n",
        "            return f\"{self.title} - {self.author}\"\n",
        "        elif format_spec == \"stealth\":\n",
        "            return f\"A book containing exactly {self.pages}. Guess?\"\n",
        "\n",
        "        return repr(self)\n",
        "\n",
        "\n",
        "b = Book(\"Antifragile\", \"Nassim Taleb\", \"Hardcover\", 519)"
      ],
      "execution_count":60,
      "outputs":[
        
      ],
      "metadata":{
        
      }
    },
    {
      "cell_type":"code",
      "source":[
        "f\"{b}\""
      ],
      "execution_count":61,
      "outputs":[
        {
          "data":{
            "text\/plain":[
              "\"Book('Antifragile', 'Nassim Taleb', 'Hardcover', 519)\""
            ]
          },
          "metadata":{
            
          },
          "output_type":"display_data"
        }
      ],
      "metadata":{
        
      }
    },
    {
      "cell_type":"code",
      "source":[
        "f\"{b:short}\""
      ],
      "execution_count":62,
      "outputs":[
        {
          "data":{
            "text\/plain":[
              "'Antifragile - Nassim Taleb'"
            ]
          },
          "metadata":{
            
          },
          "output_type":"display_data"
        }
      ],
      "metadata":{
        
      }
    },
    {
      "cell_type":"code",
      "source":[
        "f\"{b:stealth}\""
      ],
      "execution_count":63,
      "outputs":[
        {
          "data":{
            "text\/plain":[
              "'A book containing exactly 519. Guess?'"
            ]
          },
          "metadata":{
            
          },
          "output_type":"display_data"
        }
      ],
      "metadata":{
        
      }
    },
    {
      "cell_type":"code",
      "source":[
        "\"{}\".format(b)"
      ],
      "execution_count":64,
      "outputs":[
        {
          "data":{
            "text\/plain":[
              "\"Book('Antifragile', 'Nassim Taleb', 'Hardcover', 519)\""
            ]
          },
          "metadata":{
            
          },
          "output_type":"display_data"
        }
      ],
      "metadata":{
        
      }
    },
    {
      "cell_type":"code",
      "source":[
        "\"{:short}\".format(b)"
      ],
      "execution_count":65,
      "outputs":[
        {
          "data":{
            "text\/plain":[
              "'Antifragile - Nassim Taleb'"
            ]
          },
          "metadata":{
            
          },
          "output_type":"display_data"
        }
      ],
      "metadata":{
        
      }
    },
    {
      "cell_type":"code",
      "source":[
        "\"{:stealth}\".format(b)"
      ],
      "execution_count":66,
      "outputs":[
        {
          "data":{
            "text\/plain":[
              "'A book containing exactly 519. Guess?'"
            ]
          },
          "metadata":{
            
          },
          "output_type":"display_data"
        }
      ],
      "metadata":{
        
      }
    },
    {
      "cell_type":"code",
      "source":[
        "format(b, \"stealth\")"
      ],
      "execution_count":67,
      "outputs":[
        {
          "data":{
            "text\/plain":[
              "'A book containing exactly 519. Guess?'"
            ]
          },
          "metadata":{
            
          },
          "output_type":"display_data"
        }
      ],
      "metadata":{
        
      }
    },
    {
      "cell_type":"markdown",
      "source":[
        "## `Object Equality`"
      ],
      "attachments":{
        
      },
      "metadata":{
        
      }
    },
    {
      "cell_type":"code",
      "source":[
        "class Book:\n",
        "    def __init__(self, title, author, book_type, pages):\n",
        "        self.title = title\n",
        "        self.author = author\n",
        "        self.book_type = book_type\n",
        "        self.pages = pages\n",
        "\n",
        "    def __repr__(self):\n",
        "        return f\"Book('{self.title}', '{self.author}', '{self.book_type}', {self.pages})\"\n",
        "\n",
        "    def __eq__(self, other):\n",
        "        if not isinstance(other, Book):\n",
        "            return False\n",
        "\n",
        "        return self.title == other.title and self.author == other.author"
      ],
      "execution_count":100,
      "outputs":[
        
      ],
      "metadata":{
        
      }
    },
    {
      "cell_type":"code",
      "source":[
        "from collections import namedtuple"
      ],
      "execution_count":86,
      "outputs":[
        
      ],
      "metadata":{
        
      }
    },
    {
      "cell_type":"code",
      "source":[
        "essay = namedtuple(\"essay\", [\"title\", \"author\"])"
      ],
      "execution_count":87,
      "outputs":[
        
      ],
      "metadata":{
        
      }
    },
    {
      "cell_type":"code",
      "source":[
        "e = essay(\"Antifragile\", \"Nassim Taleb\")"
      ],
      "execution_count":88,
      "outputs":[
        
      ],
      "metadata":{
        
      }
    },
    {
      "cell_type":"code",
      "source":[
        "e.title"
      ],
      "execution_count":93,
      "outputs":[
        {
          "data":{
            "text\/plain":[
              "'Antifragile'"
            ]
          },
          "metadata":{
            
          },
          "output_type":"display_data"
        }
      ],
      "metadata":{
        
      }
    },
    {
      "cell_type":"code",
      "source":[
        "e.author"
      ],
      "execution_count":94,
      "outputs":[
        {
          "data":{
            "text\/plain":[
              "'Nassim Taleb'"
            ]
          },
          "metadata":{
            
          },
          "output_type":"display_data"
        }
      ],
      "metadata":{
        
      }
    },
    {
      "cell_type":"code",
      "source":[
        "b.author"
      ],
      "execution_count":95,
      "outputs":[
        {
          "data":{
            "text\/plain":[
              "'Nassim Taleb'"
            ]
          },
          "metadata":{
            
          },
          "output_type":"display_data"
        }
      ],
      "metadata":{
        
      }
    },
    {
      "cell_type":"code",
      "source":[
        "b.title"
      ],
      "execution_count":96,
      "outputs":[
        {
          "data":{
            "text\/plain":[
              "'Antifragile'"
            ]
          },
          "metadata":{
            
          },
          "output_type":"display_data"
        }
      ],
      "metadata":{
        
      }
    },
    {
      "cell_type":"code",
      "source":[
        "e = essay(\"Antifragile\", \"Nassim Taleb\")\n",
        "b = Book(\"Antifragile\", \"Nassim Taleb\", \"Hardcover\", 519)"
      ],
      "execution_count":98,
      "outputs":[
        
      ],
      "metadata":{
        
      }
    },
    {
      "cell_type":"code",
      "source":[
        "e == b"
      ],
      "execution_count":99,
      "outputs":[
        {
          "data":{
            "text\/plain":[
              "True"
            ]
          },
          "metadata":{
            
          },
          "output_type":"display_data"
        }
      ],
      "metadata":{
        
      }
    },
    {
      "cell_type":"code",
      "source":[
        "b = Book(\"Antifragile\", \"Nassim Taleb\", \"Hardcover\", 519)\n",
        "b2 = Book(\"Antifragile\", \"Nassim Taleb II\", \"Hardcover\", 519)"
      ],
      "execution_count":84,
      "outputs":[
        
      ],
      "metadata":{
        
      }
    },
    {
      "cell_type":"code",
      "source":[
        "b == b2"
      ],
      "execution_count":85,
      "outputs":[
        {
          "data":{
            "text\/plain":[
              "False"
            ]
          },
          "metadata":{
            
          },
          "output_type":"display_data"
        }
      ],
      "metadata":{
        
      }
    },
    {
      "cell_type":"code",
      "source":[
        "id(b)"
      ],
      "execution_count":72,
      "outputs":[
        {
          "data":{
            "text\/plain":[
              "140506965153728"
            ]
          },
          "metadata":{
            
          },
          "output_type":"display_data"
        }
      ],
      "metadata":{
        
      }
    },
    {
      "cell_type":"code",
      "source":[
        "id(b2)"
      ],
      "execution_count":73,
      "outputs":[
        {
          "data":{
            "text\/plain":[
              "140506965153152"
            ]
          },
          "metadata":{
            
          },
          "output_type":"display_data"
        }
      ],
      "metadata":{
        
      }
    },
    {
      "cell_type":"markdown",
      "source":[
        "## `BONUS: Non-Equality`"
      ],
      "attachments":{
        
      },
      "metadata":{
        
      }
    },
    {
      "cell_type":"code",
      "source":[
        "class Book:\n",
        "    def __init__(self, title, author, book_type, pages):\n",
        "        self.title = title\n",
        "        self.author = author\n",
        "        self.book_type = book_type\n",
        "        self.pages = pages\n",
        "\n",
        "    def __repr__(self):\n",
        "        return f\"Book('{self.title}', '{self.author}', '{self.book_type}', {self.pages})\"\n",
        "\n",
        "    def __eq__(self, other):\n",
        "        if not isinstance(other, Book):\n",
        "            return False\n",
        "\n",
        "        return self.title == other.title and self.author == other.author\n",
        "\n",
        "    def __ne__(self, other):\n",
        "        print(\"Comparing non-equality...\")\n",
        "\n",
        "        if not isinstance(other, Book):\n",
        "            return False\n",
        "\n",
        "        return self.title != other.title and self.author != other.author"
      ],
      "execution_count":9,
      "outputs":[
        
      ],
      "metadata":{
        
      }
    },
    {
      "cell_type":"code",
      "source":[
        "b   = Book(\"Antifragile\", \"Nassim Taleb\", \"Hardcover\", 519)\n",
        "b2  = Book(\"Antifragile\", \"Nassim Taleb\", \"Hardcover\", 519)"
      ],
      "execution_count":10,
      "outputs":[
        
      ],
      "metadata":{
        
      }
    },
    {
      "cell_type":"code",
      "source":[
        "b == b2"
      ],
      "execution_count":11,
      "outputs":[
        {
          "data":{
            "text\/plain":[
              "True"
            ]
          },
          "metadata":{
            
          },
          "output_type":"display_data"
        }
      ],
      "metadata":{
        
      }
    },
    {
      "cell_type":"code",
      "source":[
        "b != b2"
      ],
      "execution_count":12,
      "outputs":[
        {
          "name":"stdout",
          "text":[
            "Comparing non-equality...\n"
          ],
          "output_type":"stream"
        },
        {
          "data":{
            "text\/plain":[
              "False"
            ]
          },
          "metadata":{
            
          },
          "output_type":"display_data"
        }
      ],
      "metadata":{
        
      }
    },
    {
      "cell_type":"code",
      "source":[
        "# inhertiance of built-ins"
      ],
      "execution_count":13,
      "outputs":[
        
      ],
      "metadata":{
        
      }
    },
    {
      "cell_type":"markdown",
      "source":[
        "## `Hashing and Mutability`"
      ],
      "attachments":{
        
      },
      "metadata":{
        
      }
    },
    {
      "cell_type":"code",
      "source":[
        "# unhashable type!"
      ],
      "execution_count":14,
      "outputs":[
        
      ],
      "metadata":{
        
      }
    },
    {
      "cell_type":"code",
      "source":[
        "l = [\"Andy\", 7]"
      ],
      "execution_count":15,
      "outputs":[
        
      ],
      "metadata":{
        
      }
    },
    {
      "cell_type":"code",
      "source":[
        "{\n",
        "    l: \"Bek\"\n",
        "}"
      ],
      "execution_count":16,
      "outputs":[
        {
          "ename":"TypeError",
          "evalue":"TypeError: unhashable type: 'list'",
          "traceback":[
            "\u001b[0;31m---------------------------------------------------------------------------",
            "Traceback (most recent call last)",
            "    at line 1 in <module>",
            "TypeError: unhashable type: 'list'"
          ],
          "output_type":"error"
        }
      ],
      "metadata":{
        
      }
    },
    {
      "cell_type":"code",
      "source":[
        "hash(l)"
      ],
      "execution_count":17,
      "outputs":[
        {
          "ename":"TypeError",
          "evalue":"TypeError: unhashable type: 'list'",
          "traceback":[
            "\u001b[0;31m---------------------------------------------------------------------------",
            "Traceback (most recent call last)",
            "    at line 1 in <module>",
            "TypeError: unhashable type: 'list'"
          ],
          "output_type":"error"
        }
      ],
      "metadata":{
        
      }
    },
    {
      "cell_type":"code",
      "source":[
        "name_str = \"Andy\"\n",
        "num_int = 7\n",
        "both_tuple = (name_str, num_int)"
      ],
      "execution_count":18,
      "outputs":[
        
      ],
      "metadata":{
        
      }
    },
    {
      "cell_type":"code",
      "source":[
        "hash(name_str), hash(num_int), hash(both_tuple)"
      ],
      "execution_count":19,
      "outputs":[
        {
          "data":{
            "text\/plain":[
              "(-1193955242656165984, 7, 656105283672789536)"
            ]
          },
          "metadata":{
            
          },
          "output_type":"display_data"
        }
      ],
      "metadata":{
        
      }
    },
    {
      "cell_type":"code",
      "source":[
        "# Hashable object\n",
        "# * could be compared to other objects,\n",
        "# * if it compares equal, shares the same hash with the other object\n",
        "# * hash a hash value that never changes over its life"
      ],
      "execution_count":20,
      "outputs":[
        
      ],
      "metadata":{
        
      }
    },
    {
      "cell_type":"code",
      "source":[
        "id(name_str)"
      ],
      "execution_count":21,
      "outputs":[
        {
          "data":{
            "text\/plain":[
              "140680400144368"
            ]
          },
          "metadata":{
            
          },
          "output_type":"display_data"
        }
      ],
      "metadata":{
        
      }
    },
    {
      "cell_type":"code",
      "source":[
        "name_str = \"Andy B\""
      ],
      "execution_count":22,
      "outputs":[
        
      ],
      "metadata":{
        
      }
    },
    {
      "cell_type":"code",
      "source":[
        "id(name_str)"
      ],
      "execution_count":23,
      "outputs":[
        {
          "data":{
            "text\/plain":[
              "140680406804464"
            ]
          },
          "metadata":{
            
          },
          "output_type":"display_data"
        }
      ],
      "metadata":{
        
      }
    },
    {
      "cell_type":"code",
      "source":[
        "# GC -> garbage collector"
      ],
      "execution_count":24,
      "outputs":[
        
      ],
      "metadata":{
        
      }
    },
    {
      "cell_type":"markdown",
      "source":[
        "## `Hashable Book`"
      ],
      "attachments":{
        
      },
      "metadata":{
        
      }
    },
    {
      "cell_type":"code",
      "source":[
        "class Book:\n",
        "    def __init__(self, title, author, book_type, pages):\n",
        "        self.title = title\n",
        "        self.author = author\n",
        "        self.book_type = book_type\n",
        "        self.pages = pages\n",
        "\n",
        "    def __repr__(self):\n",
        "        return f\"Book('{self.title}', '{self.author}', '{self.book_type}', {self.pages})\"\n",
        "\n",
        "    def __eq__(self, other):\n",
        "        if not isinstance(other, Book):\n",
        "            return False\n",
        "\n",
        "        return self.title == other.title and self.author == other.author\n",
        "\n",
        "    def __hash__(self):\n",
        "        return hash((self.title, self.author))"
      ],
      "execution_count":36,
      "outputs":[
        
      ],
      "metadata":{
        
      }
    },
    {
      "cell_type":"code",
      "source":[
        "b = Book(\"Antifragile\", \"Nassim Taleb\", \"Hardcover\", 519)\n",
        "b2 = Book(\"Antifragile\", \"Nassim Taleb II\", \"Hardcover\", 519)\n",
        "b3 = Book(\"Antifragile\", \"Nassim Taleb\", \"Hardcover\", 519)"
      ],
      "execution_count":39,
      "outputs":[
        
      ],
      "metadata":{
        
      }
    },
    {
      "cell_type":"code",
      "source":[
        "hash(b) == hash(b3)"
      ],
      "execution_count":40,
      "outputs":[
        {
          "data":{
            "text\/plain":[
              "True"
            ]
          },
          "metadata":{
            
          },
          "output_type":"display_data"
        }
      ],
      "metadata":{
        
      }
    },
    {
      "cell_type":"code",
      "source":[
        "hash(b), hash(b3)"
      ],
      "execution_count":42,
      "outputs":[
        {
          "data":{
            "text\/plain":[
              "(3056053031767595009, 3056053031767595009)"
            ]
          },
          "metadata":{
            
          },
          "output_type":"display_data"
        }
      ],
      "metadata":{
        
      }
    },
    {
      "cell_type":"code",
      "source":[
        "hash(b) == hash(b2)"
      ],
      "execution_count":43,
      "outputs":[
        {
          "data":{
            "text\/plain":[
              "False"
            ]
          },
          "metadata":{
            
          },
          "output_type":"display_data"
        }
      ],
      "metadata":{
        
      }
    },
    {
      "cell_type":"code",
      "source":[
        "class Magazine:\n",
        "    pass"
      ],
      "execution_count":29,
      "outputs":[
        
      ],
      "metadata":{
        
      }
    },
    {
      "cell_type":"code",
      "source":[
        "m = Magazine()"
      ],
      "execution_count":30,
      "outputs":[
        
      ],
      "metadata":{
        
      }
    },
    {
      "cell_type":"code",
      "source":[
        "hash(m)"
      ],
      "execution_count":31,
      "outputs":[
        {
          "data":{
            "text\/plain":[
              "8792525495962"
            ]
          },
          "metadata":{
            
          },
          "output_type":"display_data"
        }
      ],
      "metadata":{
        
      }
    },
    {
      "cell_type":"markdown",
      "source":[
        "## `BONUS: Hashing Gotcha`"
      ],
      "attachments":{
        
      },
      "metadata":{
        
      }
    },
    {
      "cell_type":"code",
      "source":[
        "# - has a hash value that never changes over its life\n",
        "# - could be compared to other objects, and\n",
        "# - if it compares equal, shares the same hash with the other object"
      ],
      "execution_count":43,
      "outputs":[
        
      ],
      "metadata":{
        
      }
    },
    {
      "cell_type":"code",
      "source":[
        "b = Book(\"Antifragile\", \"Nassim Taleb\", \"Hardcover\", 519)"
      ],
      "execution_count":44,
      "outputs":[
        
      ],
      "metadata":{
        
      }
    },
    {
      "cell_type":"code",
      "source":[
        "hash(b)"
      ],
      "execution_count":45,
      "outputs":[
        {
          "data":{
            "text\/plain":[
              "3056053031767595009"
            ]
          },
          "metadata":{
            
          },
          "output_type":"display_data"
        }
      ],
      "metadata":{
        
      }
    },
    {
      "cell_type":"code",
      "source":[
        "b.author = \"Andy\""
      ],
      "execution_count":46,
      "outputs":[
        
      ],
      "metadata":{
        
      }
    },
    {
      "cell_type":"code",
      "source":[
        "hash(b)"
      ],
      "execution_count":47,
      "outputs":[
        {
          "data":{
            "text\/plain":[
              "-5960555659465603820"
            ]
          },
          "metadata":{
            
          },
          "output_type":"display_data"
        }
      ],
      "metadata":{
        
      }
    },
    {
      "cell_type":"code",
      "source":[
        "# __hash__ -> hash(tuple(self.author, self.title))"
      ],
      "execution_count":43,
      "outputs":[
        
      ],
      "metadata":{
        
      }
    },
    {
      "cell_type":"code",
      "source":[
        "d = {}"
      ],
      "execution_count":48,
      "outputs":[
        
      ],
      "metadata":{
        
      }
    },
    {
      "cell_type":"code",
      "source":[
        "d[b] = \"value\""
      ],
      "execution_count":49,
      "outputs":[
        
      ],
      "metadata":{
        
      }
    },
    {
      "cell_type":"code",
      "source":[
        "b in d"
      ],
      "execution_count":50,
      "outputs":[
        {
          "data":{
            "text\/plain":[
              "True"
            ]
          },
          "metadata":{
            
          },
          "output_type":"display_data"
        }
      ],
      "metadata":{
        
      }
    },
    {
      "cell_type":"code",
      "source":[
        "b.title = \"Untitled\""
      ],
      "execution_count":51,
      "outputs":[
        
      ],
      "metadata":{
        
      }
    },
    {
      "cell_type":"code",
      "source":[
        "b in d"
      ],
      "execution_count":52,
      "outputs":[
        {
          "data":{
            "text\/plain":[
              "False"
            ]
          },
          "metadata":{
            
          },
          "output_type":"display_data"
        }
      ],
      "metadata":{
        
      }
    },
    {
      "cell_type":"markdown",
      "source":[
        "## `Other Rich Comparisons`"
      ],
      "attachments":{
        
      },
      "metadata":{
        
      }
    },
    {
      "cell_type":"code",
      "source":[
        "class Book:\n",
        "    def __init__(self, title, author, book_type, pages):\n",
        "        self.title = title\n",
        "        self.author = author\n",
        "        self.book_type = book_type\n",
        "        self.pages = pages\n",
        "\n",
        "    def __repr__(self):\n",
        "        return f\"Book('{self.title}', '{self.author}', '{self.book_type}', {self.pages})\"\n",
        "\n",
        "    def __eq__(self, other):\n",
        "        if not isinstance(other, Book):\n",
        "            return False\n",
        "\n",
        "        return self.title == other.title and self.author == other.author\n",
        "\n",
        "    def __gt__(self, other):\n",
        "        if not isinstance(other, Book):\n",
        "            return NotImplemented\n",
        "\n",
        "        return self.pages > other.pages\n",
        "\n",
        "    def __lt__(self, other):\n",
        "        return NotImplemented\n",
        "\n",
        "    def __le__(self, other):\n",
        "        return self.pages <= other.pages\n",
        "\n",
        "    def __ge__(self, other):\n",
        "        return NotImplemented\n",
        "\n",
        "    def __hash__(self):\n",
        "        return hash((self.title, self.author))"
      ],
      "execution_count":77,
      "outputs":[
        
      ],
      "metadata":{
        
      }
    },
    {
      "cell_type":"code",
      "source":[
        "b = Book(\"Antifragile\", \"Nassim Taleb\", \"Hardcover\", 519)\n",
        "\n",
        "b1 = Book(\"How Asia Works\", \"Joe Studwell\", \"Paperback\", 472)"
      ],
      "execution_count":78,
      "outputs":[
        
      ],
      "metadata":{
        
      }
    },
    {
      "cell_type":"code",
      "source":[
        "b >= b1"
      ],
      "execution_count":79,
      "outputs":[
        {
          "data":{
            "text\/plain":[
              "True"
            ]
          },
          "metadata":{
            
          },
          "output_type":"display_data"
        }
      ],
      "metadata":{
        
      }
    },
    {
      "cell_type":"code",
      "source":[
        "b <= b1"
      ],
      "execution_count":80,
      "outputs":[
        {
          "data":{
            "text\/plain":[
              "False"
            ]
          },
          "metadata":{
            
          },
          "output_type":"display_data"
        }
      ],
      "metadata":{
        
      }
    },
    {
      "cell_type":"code",
      "source":[
        "b > b1"
      ],
      "execution_count":73,
      "outputs":[
        {
          "data":{
            "text\/plain":[
              "True"
            ]
          },
          "metadata":{
            
          },
          "output_type":"display_data"
        }
      ],
      "metadata":{
        
      }
    },
    {
      "cell_type":"code",
      "source":[
        "b < b1"
      ],
      "execution_count":74,
      "outputs":[
        {
          "data":{
            "text\/plain":[
              "False"
            ]
          },
          "metadata":{
            
          },
          "output_type":"display_data"
        }
      ],
      "metadata":{
        
      }
    },
    {
      "cell_type":"code",
      "source":[
        "b1 > b"
      ],
      "execution_count":75,
      "outputs":[
        {
          "data":{
            "text\/plain":[
              "False"
            ]
          },
          "metadata":{
            
          },
          "output_type":"display_data"
        }
      ],
      "metadata":{
        
      }
    },
    {
      "cell_type":"markdown",
      "source":[
        "## `A Better Way`"
      ],
      "attachments":{
        
      },
      "metadata":{
        
      }
    },
    {
      "cell_type":"code",
      "source":[
        "from functools import total_ordering"
      ],
      "execution_count":99,
      "outputs":[
        
      ],
      "metadata":{
        
      }
    },
    {
      "cell_type":"code",
      "source":[
        "@total_ordering\n",
        "class Book:\n",
        "    def __init__(self, title, author, book_type, pages):\n",
        "        self.title = title\n",
        "        self.author = author\n",
        "        self.book_type = book_type\n",
        "        self.pages = pages\n",
        "\n",
        "    def __repr__(self):\n",
        "        return f\"Book('{self.title}', '{self.author}', '{self.book_type}', {self.pages})\"\n",
        "\n",
        "    def __eq__(self, other):\n",
        "        if not isinstance(other, Book):\n",
        "            return False\n",
        "\n",
        "        return self.title == other.title and self.author == other.author\n",
        "\n",
        "    def __gt__(self, other):\n",
        "        if not isinstance(other, Book):\n",
        "            return NotImplemented\n",
        "\n",
        "        return self.pages > other.pages\n",
        "\n",
        "    def __hash__(self):\n",
        "        return hash((self.title, self.author))"
      ],
      "execution_count":100,
      "outputs":[
        
      ],
      "metadata":{
        
      }
    },
    {
      "cell_type":"code",
      "source":[
        "b = Book(\"Antifragile\", \"Nassim Taleb\", \"Hardcover\", 519)\n",
        "\n",
        "b1 = Book(\"How Asia Works\", \"Joe Studwell\", \"Paperback\", 472)"
      ],
      "execution_count":101,
      "outputs":[
        
      ],
      "metadata":{
        
      }
    },
    {
      "cell_type":"code",
      "source":[
        "print(b == b1)\n",
        "print(b != b1)\n",
        "print(b < b1)\n",
        "print(b <= b1)\n",
        "print(b > b1)\n",
        "print(b >= b1)"
      ],
      "execution_count":102,
      "outputs":[
        {
          "name":"stdout",
          "text":[
            "False\n",
            "True\n",
            "False\n",
            "False\n",
            "True\n",
            "True\n"
          ],
          "output_type":"stream"
        }
      ],
      "metadata":{
        
      }
    },
    {
      "cell_type":"code",
      "source":[
        "b = Book(\"Antifragile\", \"Nassim Taleb\", \"Hardcover\", 519)\n",
        "\n",
        "b1 = Book(\"How Asia Works\", \"Joe Studwell\", \"Paperback\", 472)"
      ],
      "execution_count":83,
      "outputs":[
        
      ],
      "metadata":{
        
      }
    },
    {
      "cell_type":"code",
      "source":[
        "b < b1"
      ],
      "execution_count":84,
      "outputs":[
        {
          "data":{
            "text\/plain":[
              "True"
            ]
          },
          "metadata":{
            
          },
          "output_type":"display_data"
        }
      ],
      "metadata":{
        
      }
    },
    {
      "cell_type":"code",
      "source":[
        "b > b1"
      ],
      "execution_count":85,
      "outputs":[
        {
          "data":{
            "text\/plain":[
              "True"
            ]
          },
          "metadata":{
            
          },
          "output_type":"display_data"
        }
      ],
      "metadata":{
        
      }
    },
    {
      "cell_type":"markdown",
      "source":[
        "## `Truthiness`"
      ],
      "attachments":{
        
      },
      "metadata":{
        
      }
    },
    {
      "cell_type":"code",
      "source":[
        "from functools import total_ordering\n",
        "\n",
        "\n",
        "@total_ordering\n",
        "class Book:\n",
        "    def __init__(self, title, author, book_type, pages):\n",
        "        self.title = title\n",
        "        self.author = author\n",
        "        self.book_type = book_type\n",
        "        self.pages = pages\n",
        "\n",
        "    def __repr__(self):\n",
        "        return f\"Book('{self.title}', '{self.author}', '{self.book_type}', {self.pages})\"\n",
        "\n",
        "    def __eq__(self, other):\n",
        "        if not isinstance(other, Book):\n",
        "            return False\n",
        "\n",
        "        return self.title == other.title and self.author == other.author\n",
        "\n",
        "    def __gt__(self, other):\n",
        "        if not isinstance(other, Book):\n",
        "            return NotImplemented\n",
        "\n",
        "        return self.pages > other.pages\n",
        "\n",
        "    def __hash__(self):\n",
        "        return hash((self.title, self.author))\n",
        "\n",
        "    def __bool__(self):\n",
        "        return bool(self.pages) and not (self.pages < 1)"
      ],
      "execution_count":108,
      "outputs":[
        
      ],
      "metadata":{
        
      }
    },
    {
      "cell_type":"code",
      "source":[
        "b   = Book(\"Antifragile\", \"Nassim Taleb\", \"Hardcover\", 519)"
      ],
      "execution_count":105,
      "outputs":[
        
      ],
      "metadata":{
        
      }
    },
    {
      "cell_type":"code",
      "source":[
        "if b:\n",
        "    print(\"Truthy\")\n",
        "else:\n",
        "    print(\"Falsey\")"
      ],
      "execution_count":106,
      "outputs":[
        {
          "name":"stdout",
          "text":[
            "Truthy\n"
          ],
          "output_type":"stream"
        }
      ],
      "metadata":{
        
      }
    },
    {
      "cell_type":"code",
      "source":[
        "bool(b)"
      ],
      "execution_count":107,
      "outputs":[
        {
          "data":{
            "text\/plain":[
              "True"
            ]
          },
          "metadata":{
            
          },
          "output_type":"display_data"
        }
      ],
      "metadata":{
        
      }
    },
    {
      "cell_type":"code",
      "source":[
        "bool(0)"
      ],
      "execution_count":109,
      "outputs":[
        {
          "data":{
            "text\/plain":[
              "False"
            ]
          },
          "metadata":{
            
          },
          "output_type":"display_data"
        }
      ],
      "metadata":{
        
      }
    },
    {
      "cell_type":"code",
      "source":[
        "bool([]), bool(None), bool({}), bool(set()), bool('')"
      ],
      "execution_count":110,
      "outputs":[
        {
          "data":{
            "text\/plain":[
              "(False, False, False, False, False)"
            ]
          },
          "metadata":{
            
          },
          "output_type":"display_data"
        }
      ],
      "metadata":{
        
      }
    },
    {
      "cell_type":"code",
      "source":[
        "b_zero   = Book(\"Antifragile\", \"Nassim Taleb\", \"Hardcover\", 0)\n",
        "b_neg   = Book(\"Antifragile\", \"Nassim Taleb\", \"Hardcover\", -10)\n",
        "b_pos   = Book(\"Antifragile\", \"Nassim Taleb\", \"Hardcover\", 519)"
      ],
      "execution_count":111,
      "outputs":[
        
      ],
      "metadata":{
        
      }
    },
    {
      "cell_type":"code",
      "source":[
        "bool(b_zero), bool(b_neg), bool(b_pos)"
      ],
      "execution_count":112,
      "outputs":[
        {
          "data":{
            "text\/plain":[
              "(False, False, True)"
            ]
          },
          "metadata":{
            
          },
          "output_type":"display_data"
        }
      ],
      "metadata":{
        
      }
    },
    {
      "cell_type":"markdown",
      "source":[
        "## `BONUS: Truth Value Testing Via __len__`"
      ],
      "attachments":{
        
      },
      "metadata":{
        
      }
    },
    {
      "cell_type":"code",
      "source":[
        "from functools import total_ordering\n",
        "\n",
        "\n",
        "@total_ordering\n",
        "class Book:\n",
        "    def __init__(self, title, author, book_type, pages):\n",
        "        self.title = title\n",
        "        self.author = author\n",
        "        self.book_type = book_type\n",
        "        self.pages = pages\n",
        "\n",
        "    def __repr__(self):\n",
        "        return f\"Book('{self.title}', '{self.author}', '{self.book_type}', {self.pages})\"\n",
        "\n",
        "    def __eq__(self, other):\n",
        "        if not isinstance(other, Book):\n",
        "            return False\n",
        "\n",
        "        return self.title == other.title and self.author == other.author\n",
        "\n",
        "    def __gt__(self, other):\n",
        "        if not isinstance(other, Book):\n",
        "            return NotImplemented\n",
        "\n",
        "        return self.pages > other.pages\n",
        "\n",
        "    def __hash__(self):\n",
        "        return hash((self.title, self.author))\n",
        "\n",
        "    # def __bool__(self):\n",
        "    #     return bool(self.pages) and not (self.pages < 1)\n",
        "\n",
        "    def __len__(self):\n",
        "        return self.pages if self.pages > 0 else 0"
      ],
      "execution_count":5,
      "outputs":[
        
      ],
      "metadata":{
        
      }
    },
    {
      "cell_type":"code",
      "source":[
        "b_zero   = Book(\"Antifragile\", \"Nassim Taleb\", \"Hardcover\", 0)\n",
        "b_neg   = Book(\"Antifragile\", \"Nassim Taleb\", \"Hardcover\", -10)\n",
        "b_pos   = Book(\"Antifragile\", \"Nassim Taleb\", \"Hardcover\", 519)"
      ],
      "execution_count":6,
      "outputs":[
        
      ],
      "metadata":{
        
      }
    },
    {
      "cell_type":"code",
      "source":[
        "len(b_neg)"
      ],
      "execution_count":7,
      "outputs":[
        {
          "data":{
            "text\/plain":[
              "0"
            ]
          },
          "metadata":{
            
          },
          "output_type":"display_data"
        }
      ],
      "metadata":{
        
      }
    },
    {
      "cell_type":"code",
      "source":[
        "import sys"
      ],
      "execution_count":8,
      "outputs":[
        
      ],
      "metadata":{
        
      }
    },
    {
      "cell_type":"code",
      "source":[
        "sys.maxsize"
      ],
      "execution_count":9,
      "outputs":[
        {
          "data":{
            "text\/plain":[
              "9223372036854775807"
            ]
          },
          "metadata":{
            
          },
          "output_type":"display_data"
        }
      ],
      "metadata":{
        
      }
    },
    {
      "cell_type":"code",
      "source":[
        "# OverflowError"
      ],
      "execution_count":10,
      "outputs":[
        
      ],
      "metadata":{
        
      }
    },
    {
      "cell_type":"code",
      "source":[
        "len(b_zero)"
      ],
      "execution_count":11,
      "outputs":[
        {
          "data":{
            "text\/plain":[
              "0"
            ]
          },
          "metadata":{
            
          },
          "output_type":"display_data"
        }
      ],
      "metadata":{
        
      }
    },
    {
      "cell_type":"code",
      "source":[
        "bool(b_zero)"
      ],
      "execution_count":12,
      "outputs":[
        {
          "data":{
            "text\/plain":[
              "False"
            ]
          },
          "metadata":{
            
          },
          "output_type":"display_data"
        }
      ],
      "metadata":{
        
      }
    },
    {
      "cell_type":"markdown",
      "source":[
        "## `Container Classes`"
      ],
      "attachments":{
        
      },
      "metadata":{
        
      }
    },
    {
      "cell_type":"code",
      "source":[
        "class BookShelf:\n",
        "    def __init__(self, capacity):\n",
        "        self.books = []\n",
        "        self.capacity = capacity\n",
        "\n",
        "    def add_book(self, book):\n",
        "        if not isinstance(book, Book):\n",
        "            raise TypeError(\"Only instances of Book could be added to the BookShelf\")\n",
        "\n",
        "        if not self.capacity > len(self.books):\n",
        "            raise OverflowError(\"BookShelf is full\")\n",
        "\n",
        "        self.books.append(book)\n",
        "\n",
        "    def __repr__(self):\n",
        "        return str(self.books)"
      ],
      "execution_count":13,
      "outputs":[
        
      ],
      "metadata":{
        
      }
    },
    {
      "cell_type":"code",
      "source":[
        "shelf = BookShelf(capacity=10)"
      ],
      "execution_count":14,
      "outputs":[
        
      ],
      "metadata":{
        
      }
    },
    {
      "cell_type":"code",
      "source":[
        "b1 = Book(\"Homo Empathicus\", \"Alexander Gorlach\", \"Paperback\", 160)\n",
        "b2 = Book(\"Titan\", \"Ron Chernow\", \"Hardcover\", 832)\n",
        "b3 = Book(\"The Circle\", \"Dave Eggers\", \"Paperback\", 497)\n",
        "b4 = Book(\"Homo Deus\", \"Yuval Noah Harari\", \"Paperback\", 464)"
      ],
      "execution_count":15,
      "outputs":[
        
      ],
      "metadata":{
        
      }
    },
    {
      "cell_type":"code",
      "source":[
        "shelf.add_book(b1)"
      ],
      "execution_count":16,
      "outputs":[
        
      ],
      "metadata":{
        
      }
    },
    {
      "cell_type":"code",
      "source":[
        "shelf.add_book(b2)"
      ],
      "execution_count":17,
      "outputs":[
        
      ],
      "metadata":{
        
      }
    },
    {
      "cell_type":"code",
      "source":[
        "shelf"
      ],
      "execution_count":18,
      "outputs":[
        {
          "data":{
            "text\/plain":[
              "[Book('Homo Empathicus', 'Alexander Gorlach', 'Paperback', 160), Book('Titan', 'Ron Chernow', 'Hardcover', 832)]"
            ]
          },
          "metadata":{
            
          },
          "output_type":"display_data"
        }
      ],
      "metadata":{
        
      }
    },
    {
      "cell_type":"markdown",
      "source":[
        "## `Pythonic Add`"
      ],
      "attachments":{
        
      },
      "metadata":{
        
      }
    },
    {
      "cell_type":"code",
      "source":[
        "class BookShelf:\n",
        "    def __init__(self, capacity):\n",
        "        self.books = []\n",
        "        self.capacity = capacity\n",
        "\n",
        "    def add_book(self, book):\n",
        "        if not isinstance(book, Book):\n",
        "            raise TypeError(\"Only instances of Book could be added to the BookShelf\")\n",
        "\n",
        "        if not self.capacity > len(self.books):\n",
        "            raise OverflowError(\"BookShelf is full\")\n",
        "\n",
        "        self.books.append(book)\n",
        "\n",
        "    def __repr__(self):\n",
        "        return str(self.books)\n",
        "\n",
        "    def __add__(self, other):\n",
        "        if not isinstance(other, Book):\n",
        "            raise TypeError(\"Operating only supported on instances of Book\")\n",
        "\n",
        "        new_shelf = BookShelf(self.capacity)\n",
        "\n",
        "        for book in self.books:\n",
        "            new_shelf.add_book(book)\n",
        "\n",
        "        new_shelf.add_book(other)\n",
        "\n",
        "        return new_shelf\n",
        "\n",
        "    def __radd__(self, other):\n",
        "        if not isinstance(other, Book):\n",
        "            raise TypeError(\"Operating only supported on instances of Book\")\n",
        "\n",
        "        return self + other"
      ],
      "execution_count":19,
      "outputs":[
        
      ],
      "metadata":{
        
      }
    },
    {
      "cell_type":"code",
      "source":[
        "# operator overloading"
      ],
      "execution_count":20,
      "outputs":[
        
      ],
      "metadata":{
        
      }
    },
    {
      "cell_type":"code",
      "source":[
        "b1 = Book(\"Homo Empathicus\", \"Alexander Gorlach\", \"Paperback\", 160)\n",
        "b2 = Book(\"Titan\", \"Ron Chernow\", \"Hardcover\", 832)\n",
        "b3 = Book(\"The Circle\", \"Dave Eggers\", \"Paperback\", 497)\n",
        "b4 = Book(\"Homo Deus\", \"Yuval Noah Harari\", \"Paperback\", 464)"
      ],
      "execution_count":21,
      "outputs":[
        
      ],
      "metadata":{
        
      }
    },
    {
      "cell_type":"code",
      "source":[
        "shelf = BookShelf(10)\n",
        "shelf.add_book(b1)\n",
        "shelf.add_book(b2)"
      ],
      "execution_count":22,
      "outputs":[
        
      ],
      "metadata":{
        
      }
    },
    {
      "cell_type":"code",
      "source":[
        "shelf + b3"
      ],
      "execution_count":23,
      "outputs":[
        {
          "data":{
            "text\/plain":[
              "[Book('Homo Empathicus', 'Alexander Gorlach', 'Paperback', 160), Book('Titan', 'Ron Chernow', 'Hardcover', 832), Book('The Circle', 'Dave Eggers', 'Paperback', 497)]"
            ]
          },
          "metadata":{
            
          },
          "output_type":"display_data"
        }
      ],
      "metadata":{
        
      }
    },
    {
      "cell_type":"code",
      "source":[
        "b3 + shelf"
      ],
      "execution_count":24,
      "outputs":[
        {
          "data":{
            "text\/plain":[
              "[Book('Homo Empathicus', 'Alexander Gorlach', 'Paperback', 160), Book('Titan', 'Ron Chernow', 'Hardcover', 832), Book('The Circle', 'Dave Eggers', 'Paperback', 497)]"
            ]
          },
          "metadata":{
            
          },
          "output_type":"display_data"
        }
      ],
      "metadata":{
        
      }
    },
    {
      "cell_type":"code",
      "source":[
        "shelf += b4 # inplace add -> __iadd__"
      ],
      "execution_count":25,
      "outputs":[
        
      ],
      "metadata":{
        
      }
    },
    {
      "cell_type":"code",
      "source":[
        "shelf"
      ],
      "execution_count":26,
      "outputs":[
        {
          "data":{
            "text\/plain":[
              "[Book('Homo Empathicus', 'Alexander Gorlach', 'Paperback', 160), Book('Titan', 'Ron Chernow', 'Hardcover', 832), Book('Homo Deus', 'Yuval Noah Harari', 'Paperback', 464)]"
            ]
          },
          "metadata":{
            
          },
          "output_type":"display_data"
        }
      ],
      "metadata":{
        
      }
    },
    {
      "cell_type":"code",
      "source":[
        
      ],
      "execution_count":26,
      "outputs":[
        
      ],
      "metadata":{
        
      }
    },
    {
      "cell_type":"code",
      "source":[
        "shelf"
      ],
      "execution_count":27,
      "outputs":[
        {
          "data":{
            "text\/plain":[
              "[Book('Homo Empathicus', 'Alexander Gorlach', 'Paperback', 160), Book('Titan', 'Ron Chernow', 'Hardcover', 832), Book('Homo Deus', 'Yuval Noah Harari', 'Paperback', 464)]"
            ]
          },
          "metadata":{
            
          },
          "output_type":"display_data"
        }
      ],
      "metadata":{
        
      }
    },
    {
      "cell_type":"code",
      "source":[
        "# radd -> right add"
      ],
      "execution_count":28,
      "outputs":[
        
      ],
      "metadata":{
        
      }
    },
    {
      "cell_type":"code",
      "source":[
        "b3 + shelf"
      ],
      "execution_count":29,
      "outputs":[
        {
          "data":{
            "text\/plain":[
              "[Book('Homo Empathicus', 'Alexander Gorlach', 'Paperback', 160), Book('Titan', 'Ron Chernow', 'Hardcover', 832), Book('Homo Deus', 'Yuval Noah Harari', 'Paperback', 464), Book('The Circle', 'Dave Eggers', 'Paperback', 497)]"
            ]
          },
          "metadata":{
            
          },
          "output_type":"display_data"
        }
      ],
      "metadata":{
        
      }
    },
    {
      "cell_type":"code",
      "source":[
        "b3.__add__(shelf)"
      ],
      "execution_count":30,
      "outputs":[
        {
          "ename":"AttributeError",
          "evalue":"AttributeError: 'Book' object has no attribute '__add__'",
          "traceback":[
            "\u001b[0;31m---------------------------------------------------------------------------",
            "Traceback (most recent call last)",
            "    at line 1 in <module>",
            "AttributeError: 'Book' object has no attribute '__add__'"
          ],
          "output_type":"error"
        }
      ],
      "metadata":{
        
      }
    },
    {
      "cell_type":"code",
      "source":[
        "shelf.__radd__(b3)"
      ],
      "execution_count":31,
      "outputs":[
        {
          "data":{
            "text\/plain":[
              "[Book('Homo Empathicus', 'Alexander Gorlach', 'Paperback', 160), Book('Titan', 'Ron Chernow', 'Hardcover', 832), Book('Homo Deus', 'Yuval Noah Harari', 'Paperback', 464), Book('The Circle', 'Dave Eggers', 'Paperback', 497)]"
            ]
          },
          "metadata":{
            
          },
          "output_type":"display_data"
        }
      ],
      "metadata":{
        
      }
    },
    {
      "cell_type":"code",
      "source":[
        "# <--- right to left"
      ],
      "execution_count":32,
      "outputs":[
        
      ],
      "metadata":{
        
      }
    },
    {
      "cell_type":"markdown",
      "source":[
        "## `The __getitem__ Magic`"
      ],
      "attachments":{
        
      },
      "metadata":{
        
      }
    },
    {
      "cell_type":"code",
      "source":[
        "class BookShelf:\n",
        "    def __init__(self, capacity):\n",
        "        self.books = []\n",
        "        self.capacity = capacity\n",
        "\n",
        "    def add_book(self, book):\n",
        "        if not isinstance(book, Book):\n",
        "            raise TypeError(\"Only instances of Book could be added to the BookShelf\")\n",
        "\n",
        "        if not self.capacity > len(self.books):\n",
        "            raise OverflowError(\"BookShelf is full\")\n",
        "\n",
        "        self.books.append(book)\n",
        "\n",
        "    def __repr__(self):\n",
        "        return str(self.books)\n",
        "\n",
        "    def __add__(self, other):\n",
        "        if not isinstance(other, Book):\n",
        "            raise TypeError(\"Operating only supported on instances of Book\")\n",
        "\n",
        "        new_shelf = BookShelf(self.capacity)\n",
        "\n",
        "        for book in self.books:\n",
        "            new_shelf.add_book(book)\n",
        "\n",
        "        new_shelf.add_book(other)\n",
        "\n",
        "        return new_shelf\n",
        "\n",
        "    def __radd__(self, other):\n",
        "        if not isinstance(other, Book):\n",
        "            raise TypeError(\"Operating only supported on instances of Book\")\n",
        "\n",
        "        return self + other\n",
        "\n",
        "    def __getitem__(self, item):\n",
        "        if isinstance(item, str):\n",
        "            return [book for book in self.books if item.lower() in book.title.lower()]\n",
        "\n",
        "        return self.books[item]"
      ],
      "execution_count":50,
      "outputs":[
        
      ],
      "metadata":{
        
      }
    },
    {
      "cell_type":"code",
      "source":[
        "b1 = Book(\"Homo Empathicus\", \"Alexander Gorlach\", \"Paperback\", 160)\n",
        "b2 = Book(\"Titan\", \"Ron Chernow\", \"Hardcover\", 832)\n",
        "b3 = Book(\"The Circle\", \"Dave Eggers\", \"Paperback\", 497)\n",
        "b4 = Book(\"Homo Deus\", \"Yuval Noah Harari\", \"Paperback\", 464)\n",
        "\n",
        "shelf = BookShelf(capacity=10)\n",
        "\n",
        "for b in [b1, b2, b3, b4]:\n",
        "    shelf += b\n",
        "\n",
        "shelf"
      ],
      "execution_count":51,
      "outputs":[
        {
          "data":{
            "text\/plain":[
              "[Book('Homo Empathicus', 'Alexander Gorlach', 'Paperback', 160), Book('Titan', 'Ron Chernow', 'Hardcover', 832), Book('The Circle', 'Dave Eggers', 'Paperback', 497), Book('Homo Deus', 'Yuval Noah Harari', 'Paperback', 464)]"
            ]
          },
          "metadata":{
            
          },
          "output_type":"display_data"
        }
      ],
      "metadata":{
        
      }
    },
    {
      "cell_type":"code",
      "source":[
        "shelf[0]"
      ],
      "execution_count":52,
      "outputs":[
        {
          "data":{
            "text\/plain":[
              "Book('Homo Empathicus', 'Alexander Gorlach', 'Paperback', 160)"
            ]
          },
          "metadata":{
            
          },
          "output_type":"display_data"
        }
      ],
      "metadata":{
        
      }
    },
    {
      "cell_type":"code",
      "source":[
        "shelf[\"Homo\"]"
      ],
      "execution_count":53,
      "outputs":[
        {
          "data":{
            "text\/plain":[
              "[Book('Homo Empathicus', 'Alexander Gorlach', 'Paperback', 160),\n",
              " Book('Homo Deus', 'Yuval Noah Harari', 'Paperback', 464)]"
            ]
          },
          "metadata":{
            
          },
          "output_type":"display_data"
        }
      ],
      "metadata":{
        
      }
    },
    {
      "cell_type":"code",
      "source":[
        "shelf[\"homo\"]"
      ],
      "execution_count":54,
      "outputs":[
        {
          "data":{
            "text\/plain":[
              "[Book('Homo Empathicus', 'Alexander Gorlach', 'Paperback', 160),\n",
              " Book('Homo Deus', 'Yuval Noah Harari', 'Paperback', 464)]"
            ]
          },
          "metadata":{
            
          },
          "output_type":"display_data"
        }
      ],
      "metadata":{
        
      }
    },
    {
      "cell_type":"code",
      "source":[
        "# homo -> man, as in mankind in latin"
      ],
      "execution_count":43,
      "outputs":[
        
      ],
      "metadata":{
        
      }
    },
    {
      "cell_type":"code",
      "source":[
        "shelf[2:4]"
      ],
      "execution_count":55,
      "outputs":[
        {
          "data":{
            "text\/plain":[
              "[Book('The Circle', 'Dave Eggers', 'Paperback', 497),\n",
              " Book('Homo Deus', 'Yuval Noah Harari', 'Paperback', 464)]"
            ]
          },
          "metadata":{
            
          },
          "output_type":"display_data"
        }
      ],
      "metadata":{
        
      }
    },
    {
      "cell_type":"code",
      "source":[
        "for book in shelf:\n",
        "    print(book)"
      ],
      "execution_count":56,
      "outputs":[
        {
          "name":"stdout",
          "text":[
            "Book('Homo Empathicus', 'Alexander Gorlach', 'Paperback', 160)\n",
            "Book('Titan', 'Ron Chernow', 'Hardcover', 832)\n",
            "Book('The Circle', 'Dave Eggers', 'Paperback', 497)\n",
            "Book('Homo Deus', 'Yuval Noah Harari', 'Paperback', 464)\n"
          ],
          "output_type":"stream"
        }
      ],
      "metadata":{
        
      }
    },
    {
      "cell_type":"markdown",
      "source":[
        "## `Defining Our Own Magics`"
      ],
      "attachments":{
        
      },
      "metadata":{
        
      }
    },
    {
      "cell_type":"code",
      "source":[
        "class BookShelf:\n",
        "    def __init__(self, capacity):\n",
        "        self.books = []\n",
        "        self.capacity = capacity\n",
        "\n",
        "    def add_book(self, book):\n",
        "        if not isinstance(book, Book):\n",
        "            raise TypeError(\"Only instances of Book could be added to the BookShelf\")\n",
        "\n",
        "        if not self.capacity > len(self.books):\n",
        "            raise OverflowError(\"BookShelf is full\")\n",
        "\n",
        "        self.books.append(book)\n",
        "\n",
        "    def __repr__(self):\n",
        "        return str(self.books)\n",
        "\n",
        "    def __add__(self, other):\n",
        "        if not isinstance(other, Book):\n",
        "            raise TypeError(\"Operating only supported on instances of Book\")\n",
        "\n",
        "        new_shelf = BookShelf(self.capacity)\n",
        "\n",
        "        for book in self.books:\n",
        "            new_shelf.add_book(book)\n",
        "\n",
        "        new_shelf.add_book(other)\n",
        "\n",
        "        return new_shelf\n",
        "\n",
        "    def __radd__(self, other):\n",
        "        if not isinstance(other, Book):\n",
        "            raise TypeError(\"Operating only supported on instances of Book\")\n",
        "\n",
        "        return self + other\n",
        "\n",
        "    def __getitem__(self, item):\n",
        "        if isinstance(item, str):\n",
        "            return [book for book in self.books if item.lower() in book.title.lower()]\n",
        "\n",
        "        return self.books[item]\n",
        "\n",
        "    def __greeting__(self):\n",
        "        return \"Last lecutre before the skill challenge!!\"\n",
        "\n",
        "    def __sum__(self):\n",
        "        pass"
      ],
      "execution_count":64,
      "outputs":[
        
      ],
      "metadata":{
        
      }
    },
    {
      "cell_type":"code",
      "source":[
        "bs = BookShelf(3)"
      ],
      "execution_count":61,
      "outputs":[
        
      ],
      "metadata":{
        
      }
    },
    {
      "cell_type":"code",
      "source":[
        "bs.__greeting__()"
      ],
      "execution_count":62,
      "outputs":[
        {
          "data":{
            "text\/plain":[
              "'Last lecutre before the skill challenge!!'"
            ]
          },
          "metadata":{
            
          },
          "output_type":"display_data"
        }
      ],
      "metadata":{
        
      }
    },
    {
      "cell_type":"code",
      "source":[
        "BookShelf.__dict__"
      ],
      "execution_count":63,
      "outputs":[
        {
          "data":{
            "text\/plain":[
              "mappingproxy({'__module__': '__main__',\n",
              "              '__init__': <function __main__.BookShelf.__init__(self, capacity)>,\n",
              "              'add_book': <function __main__.BookShelf.add_book(self, book)>,\n",
              "              '__repr__': <function __main__.BookShelf.__repr__(self)>,\n",
              "              '__add__': <function __main__.BookShelf.__add__(self, other)>,\n",
              "              '__radd__': <function __main__.BookShelf.__radd__(self, other)>,\n",
              "              '__getitem__': <function __main__.BookShelf.__getitem__(self, item)>,\n",
              "              '__greeting__': <function __main__.BookShelf.__greeting__(self)>,\n",
              "              '__dict__': <attribute '__dict__' of 'BookShelf' objects>,\n",
              "              '__weakref__': <attribute '__weakref__' of 'BookShelf' objects>,\n",
              "              '__doc__': None})"
            ]
          },
          "metadata":{
            
          },
          "output_type":"display_data"
        }
      ],
      "metadata":{
        
      }
    },
    {
      "cell_type":"code",
      "source":[
        
      ],
      "execution_count":0,
      "outputs":[
        
      ],
      "metadata":{
        
      }
    }
  ],
  "metadata":{
    
  },
  "nbformat":4,
  "nbformat_minor":0
}