{
  "cells":[
    {
      "cell_type":"markdown",
      "source":[
        "## `Loyal Customers`"
      ],
      "attachments":{
        
      },
      "metadata":{
        
      }
    },
    {
      "cell_type":"code",
      "source":[
        "class Customer:\n",
        "    def __init__(self, loyalty):\n",
        "        self.loyalty = loyalty"
      ],
      "execution_count":1,
      "outputs":[
        
      ],
      "metadata":{
        
      }
    },
    {
      "cell_type":"code",
      "source":[
        "c = Customer(\"bronze\")\n",
        "c2 = Customer(\"gold\")\n",
        "c3 = Customer(\"platinum\")"
      ],
      "execution_count":2,
      "outputs":[
        
      ],
      "metadata":{
        
      }
    },
    {
      "cell_type":"code",
      "source":[
        "def get_discount(customer):\n",
        "    discounts = {\n",
        "        \"bronze\": .1,\n",
        "        \"gold\": .2,\n",
        "        \"platinum\": .35\n",
        "    }\n",
        "\n",
        "    discount = discounts.get(customer.loyalty, None)\n",
        "\n",
        "    if not discount:\n",
        "        raise ValueError(\"Could not determine the customer's discount!\")\n",
        "\n",
        "    return discount"
      ],
      "execution_count":3,
      "outputs":[
        
      ],
      "metadata":{
        
      }
    },
    {
      "cell_type":"code",
      "source":[
        "for customer in [c, c2, c3]:\n",
        "    print(f\"Your discount is {get_discount(customer):.0%}\")"
      ],
      "execution_count":4,
      "outputs":[
        {
          "name":"stdout",
          "text":[
            "Your discount is 10%\n",
            "Your discount is 20%\n",
            "Your discount is 35%\n"
          ],
          "output_type":"stream"
        }
      ],
      "metadata":{
        
      }
    },
    {
      "cell_type":"markdown",
      "source":[
        "## `Always Start Plain`"
      ],
      "attachments":{
        
      },
      "metadata":{
        
      }
    },
    {
      "cell_type":"code",
      "source":[
        "class Customer:\n",
        "    def __init__(self, loyalty):\n",
        "        self.loyalty = loyalty"
      ],
      "execution_count":5,
      "outputs":[
        
      ],
      "metadata":{
        
      }
    },
    {
      "cell_type":"code",
      "source":[
        "class Customer:\n",
        "    def __init__(self, loyalty):\n",
        "        self.loyalty = loyalty\n",
        "\n",
        "    def get_loyalty(self):\n",
        "        return self.loyalty\n",
        "\n",
        "    def set_loyalty(self, level):\n",
        "        self.loyalty = level"
      ],
      "execution_count":6,
      "outputs":[
        
      ],
      "metadata":{
        
      }
    },
    {
      "cell_type":"code",
      "source":[
        "c = Customer(\"bronze\")"
      ],
      "execution_count":8,
      "outputs":[
        
      ],
      "metadata":{
        
      }
    },
    {
      "cell_type":"code",
      "source":[
        "c.get_loyalty()"
      ],
      "execution_count":9,
      "outputs":[
        {
          "data":{
            "text\/plain":[
              "'bronze'"
            ]
          },
          "metadata":{
            
          },
          "output_type":"display_data"
        }
      ],
      "metadata":{
        
      }
    },
    {
      "cell_type":"code",
      "source":[
        "c.loyalty"
      ],
      "execution_count":10,
      "outputs":[
        {
          "data":{
            "text\/plain":[
              "'bronze'"
            ]
          },
          "metadata":{
            
          },
          "output_type":"display_data"
        }
      ],
      "metadata":{
        
      }
    },
    {
      "cell_type":"code",
      "source":[
        "import this"
      ],
      "execution_count":11,
      "outputs":[
        {
          "name":"stdout",
          "text":[
            "The Zen of Python, by Tim Peters\n",
            "\n",
            "Beautiful is better than ugly.\n",
            "Explicit is better than implicit.\n",
            "Simple is better than complex.\n",
            "Complex is better than complicated.\n",
            "Flat is better than nested.\n",
            "Sparse is better than dense.\n",
            "Readability counts.\n",
            "Special cases aren't special enough to break the rules.\n",
            "Although practicality beats purity.\n",
            "Errors should never pass silently.\n",
            "Unless explicitly silenced.\n",
            "In the face of ambiguity, refuse the temptation to guess.\n",
            "There should be one-- and preferably only one --obvious way to do it.\n",
            "Although that way may not be obvious at first unless you're Dutch.\n",
            "Now is better than never.\n",
            "Although never is often better than *right* now.\n",
            "If the implementation is hard to explain, it's a bad idea.\n",
            "If the implementation is easy to explain, it may be a good idea.\n",
            "Namespaces are one honking great idea -- let's do more of those!\n"
          ],
          "output_type":"stream"
        }
      ],
      "metadata":{
        
      }
    },
    {
      "cell_type":"markdown",
      "source":[
        "## `A Refactor`"
      ],
      "attachments":{
        
      },
      "metadata":{
        
      }
    },
    {
      "cell_type":"code",
      "source":[
        "class Customer:\n",
        "    loyalty_levels = {\"bronze\", \"gold\", \"platinum\"}\n",
        "\n",
        "    def __init__(self, loyalty):\n",
        "        self.set_loyalty(loyalty)\n",
        "\n",
        "    def get_loyalty(self):\n",
        "        return self.loyalty\n",
        "\n",
        "    def set_loyalty(self, level):\n",
        "        if level not in self.loyalty_levels:\n",
        "            raise ValueError(f\"Invalid loyalty {level} specified\")\n",
        "\n",
        "        self.loyalty = level"
      ],
      "execution_count":32,
      "outputs":[
        
      ],
      "metadata":{
        
      }
    },
    {
      "cell_type":"code",
      "source":[
        "# bronze \/ gold \/ platinum"
      ],
      "execution_count":33,
      "outputs":[
        
      ],
      "metadata":{
        
      }
    },
    {
      "cell_type":"code",
      "source":[
        "c = Customer(\"Andy\")"
      ],
      "execution_count":34,
      "outputs":[
        {
          "ename":"ValueError",
          "evalue":"ValueError: Invalid loyalty Andy specified",
          "traceback":[
            "\u001b[0;31m---------------------------------------------------------------------------",
            "Traceback (most recent call last)",
            "    at line 1 in <module>",
            "    at line 5 in __init__(self, loyalty)",
            "    at line 12 in set_loyalty(self, level)",
            "ValueError: Invalid loyalty Andy specified"
          ],
          "output_type":"error"
        }
      ],
      "metadata":{
        
      }
    },
    {
      "cell_type":"code",
      "source":[
        "c2 = Customer(\"bronze\")"
      ],
      "execution_count":36,
      "outputs":[
        
      ],
      "metadata":{
        
      }
    },
    {
      "cell_type":"code",
      "source":[
        "c2.loyalty = \"Andy\""
      ],
      "execution_count":37,
      "outputs":[
        
      ],
      "metadata":{
        
      }
    },
    {
      "cell_type":"code",
      "source":[
        "class Customer:\n",
        "    loyalty_levels = {\"bronze\", \"gold\", \"platinum\"}\n",
        "\n",
        "    def __init__(self, loyalty):\n",
        "        self.set_loyalty(loyalty)\n",
        "\n",
        "    def get_loyalty(self):\n",
        "        return self._loyalty\n",
        "\n",
        "    def set_loyalty(self, level):\n",
        "        if level not in self.loyalty_levels:\n",
        "            raise ValueError(f\"Invalid loyalty {level} specified\")\n",
        "\n",
        "        self._loyalty = level"
      ],
      "execution_count":38,
      "outputs":[
        
      ],
      "metadata":{
        
      }
    },
    {
      "cell_type":"code",
      "source":[
        "Customer(\"Andy\")"
      ],
      "execution_count":39,
      "outputs":[
        {
          "ename":"ValueError",
          "evalue":"ValueError: Invalid loyalty Andy specified",
          "traceback":[
            "\u001b[0;31m---------------------------------------------------------------------------",
            "Traceback (most recent call last)",
            "    at line 1 in <module>",
            "    at line 5 in __init__(self, loyalty)",
            "    at line 12 in set_loyalty(self, level)",
            "ValueError: Invalid loyalty Andy specified"
          ],
          "output_type":"error"
        }
      ],
      "metadata":{
        
      }
    },
    {
      "cell_type":"code",
      "source":[
        "c = Customer(\"bronze\")"
      ],
      "execution_count":40,
      "outputs":[
        
      ],
      "metadata":{
        
      }
    },
    {
      "cell_type":"code",
      "source":[
        "c.loyalty = \"Andy\""
      ],
      "execution_count":41,
      "outputs":[
        
      ],
      "metadata":{
        
      }
    },
    {
      "cell_type":"code",
      "source":[
        "c.get_loyalty()"
      ],
      "execution_count":42,
      "outputs":[
        {
          "data":{
            "text\/plain":[
              "'bronze'"
            ]
          },
          "metadata":{
            
          },
          "output_type":"display_data"
        }
      ],
      "metadata":{
        
      }
    },
    {
      "cell_type":"code",
      "source":[
        "c.__dict__"
      ],
      "execution_count":43,
      "outputs":[
        {
          "data":{
            "text\/plain":[
              "{'_loyalty': 'bronze', 'loyalty': 'Andy'}"
            ]
          },
          "metadata":{
            
          },
          "output_type":"display_data"
        }
      ],
      "metadata":{
        
      }
    },
    {
      "cell_type":"markdown",
      "source":[
        "## `Private And Mangled Attributes`"
      ],
      "attachments":{
        
      },
      "metadata":{
        
      }
    },
    {
      "cell_type":"code",
      "source":[
        "class Customer:\n",
        "    loyalty_levels = {\"bronze\", \"gold\", \"platinum\"}\n",
        "\n",
        "    def __init__(self, loyalty):\n",
        "        self.set_loyalty(loyalty)\n",
        "\n",
        "    def get_loyalty(self):\n",
        "        return self.__loyalty\n",
        "\n",
        "    def set_loyalty(self, level):\n",
        "        if level not in self.loyalty_levels:\n",
        "            raise ValueError(f\"Invalid loyalty {level} specified\")\n",
        "\n",
        "        self.__loyalty = level"
      ],
      "execution_count":8,
      "outputs":[
        
      ],
      "metadata":{
        
      }
    },
    {
      "cell_type":"code",
      "source":[
        "c = Customer(\"gold\")\n",
        "\n",
        "c.get_loyalty()"
      ],
      "execution_count":9,
      "outputs":[
        {
          "data":{
            "text\/plain":[
              "'gold'"
            ]
          },
          "metadata":{
            
          },
          "output_type":"display_data"
        }
      ],
      "metadata":{
        
      }
    },
    {
      "cell_type":"code",
      "source":[
        "c._loyalty = \"bronze\""
      ],
      "execution_count":6,
      "outputs":[
        
      ],
      "metadata":{
        
      }
    },
    {
      "cell_type":"code",
      "source":[
        "c.get_loyalty()"
      ],
      "execution_count":7,
      "outputs":[
        {
          "data":{
            "text\/plain":[
              "'bronze'"
            ]
          },
          "metadata":{
            
          },
          "output_type":"display_data"
        }
      ],
      "metadata":{
        
      }
    },
    {
      "cell_type":"code",
      "source":[
        "# _ -> protected or protected"
      ],
      "execution_count":0,
      "outputs":[
        
      ],
      "metadata":{
        
      }
    },
    {
      "cell_type":"code",
      "source":[
        "c.__loyalty"
      ],
      "execution_count":11,
      "outputs":[
        {
          "ename":"AttributeError",
          "evalue":"AttributeError: 'Customer' object has no attribute '__loyalty'",
          "traceback":[
            "\u001b[0;31m---------------------------------------------------------------------------",
            "Traceback (most recent call last)",
            "    at line 1 in <module>",
            "AttributeError: 'Customer' object has no attribute '__loyalty'"
          ],
          "output_type":"error"
        }
      ],
      "metadata":{
        
      }
    },
    {
      "cell_type":"code",
      "source":[
        "c.__dict__"
      ],
      "execution_count":12,
      "outputs":[
        {
          "data":{
            "text\/plain":[
              "{'_Customer__loyalty': 'gold'}"
            ]
          },
          "metadata":{
            
          },
          "output_type":"display_data"
        }
      ],
      "metadata":{
        
      }
    },
    {
      "cell_type":"code",
      "source":[
        "# __ -> name mangled -> mangle -> disfigure"
      ],
      "execution_count":13,
      "outputs":[
        
      ],
      "metadata":{
        
      }
    },
    {
      "cell_type":"code",
      "source":[
        "c._Customer__loyalty # safety, not restricting access"
      ],
      "execution_count":15,
      "outputs":[
        {
          "data":{
            "text\/plain":[
              "'gold'"
            ]
          },
          "metadata":{
            
          },
          "output_type":"display_data"
        }
      ],
      "metadata":{
        
      }
    },
    {
      "cell_type":"markdown",
      "source":[
        "## `Breaking Changes`"
      ],
      "attachments":{
        
      },
      "metadata":{
        
      }
    },
    {
      "cell_type":"code",
      "source":[
        "def get_discount(customer):\n",
        "    discounts = {\n",
        "        \"bronze\": .1,\n",
        "        \"gold\": .2,\n",
        "        \"platinum\": .35\n",
        "    }\n",
        "\n",
        "    discount = discounts.get(customer.loyalty, None)\n",
        "\n",
        "    if not discount:\n",
        "        raise ValueError(\"Could not determine the customer's discount!\")\n",
        "\n",
        "    return discount"
      ],
      "execution_count":59,
      "outputs":[
        
      ],
      "metadata":{
        
      }
    },
    {
      "cell_type":"code",
      "source":[
        "class Customer:\n",
        "    loyalty_levels = {\"bronze\", \"gold\", \"platinum\"}\n",
        "\n",
        "    def __init__(self, loyalty, membership=0):\n",
        "        self.loyalty = loyalty  # self.set_loyalty(loyalty)\n",
        "        self.membership = membership\n",
        "\n",
        "    def get_membership(self):\n",
        "        return self._membership\n",
        "\n",
        "    def set_membership(self, value):\n",
        "        if value < 0 or value > 34:\n",
        "            raise ValueError(\"Invalid membership years\")\n",
        "\n",
        "        self._membership = value\n",
        "\n",
        "    def get_loyalty(self):\n",
        "        return self._loyalty\n",
        "\n",
        "    def set_loyalty(self, level):\n",
        "        if level not in self.loyalty_levels:\n",
        "            raise ValueError(f\"Invalid loyalty {level} specified\")\n",
        "\n",
        "        self._loyalty = level\n",
        "\n",
        "    loyalty = property(fget=get_loyalty, fset=set_loyalty)\n",
        "    membership = property(fget=get_membership, fset=set_membership)"
      ],
      "execution_count":73,
      "outputs":[
        
      ],
      "metadata":{
        
      }
    },
    {
      "cell_type":"code",
      "source":[
        "# Customer(\"superloyal\")"
      ],
      "execution_count":67,
      "outputs":[
        
      ],
      "metadata":{
        
      }
    },
    {
      "cell_type":"code",
      "source":[
        "c = Customer(\"bronze\")\n",
        "c2 = Customer(\"gold\")\n",
        "c3 = Customer(\"platinum\")"
      ],
      "execution_count":68,
      "outputs":[
        
      ],
      "metadata":{
        
      }
    },
    {
      "cell_type":"code",
      "source":[
        "for customer in [c, c2, c3]:\n",
        "    print(f\"Your discount is {get_discount(customer):.0%}\")"
      ],
      "execution_count":69,
      "outputs":[
        {
          "name":"stdout",
          "text":[
            "Your discount is 10%\n",
            "Your discount is 20%\n",
            "Your discount is 35%\n"
          ],
          "output_type":"stream"
        }
      ],
      "metadata":{
        
      }
    },
    {
      "cell_type":"code",
      "source":[
        "c2.loyalty"
      ],
      "execution_count":70,
      "outputs":[
        {
          "data":{
            "text\/plain":[
              "'gold'"
            ]
          },
          "metadata":{
            
          },
          "output_type":"display_data"
        }
      ],
      "metadata":{
        
      }
    },
    {
      "cell_type":"code",
      "source":[
        "c2.loyalty = \"bjorn\""
      ],
      "execution_count":71,
      "outputs":[
        {
          "ename":"ValueError",
          "evalue":"ValueError: Invalid loyalty bjorn specified",
          "traceback":[
            "\u001b[0;31m---------------------------------------------------------------------------",
            "Traceback (most recent call last)",
            "    at line 1 in <module>",
            "    at line 12 in set_loyalty(self, level)",
            "ValueError: Invalid loyalty bjorn specified"
          ],
          "output_type":"error"
        }
      ],
      "metadata":{
        
      }
    },
    {
      "cell_type":"code",
      "source":[
        "# properties"
      ],
      "execution_count":64,
      "outputs":[
        
      ],
      "metadata":{
        
      }
    },
    {
      "cell_type":"code",
      "source":[
        "Customer(\"bronze\", -12)"
      ],
      "execution_count":74,
      "outputs":[
        {
          "ename":"ValueError",
          "evalue":"ValueError: Invalid membership years",
          "traceback":[
            "\u001b[0;31m---------------------------------------------------------------------------",
            "Traceback (most recent call last)",
            "    at line 1 in <module>",
            "    at line 6 in __init__(self, loyalty, membership)",
            "    at line 13 in set_membership(self, value)",
            "ValueError: Invalid membership years"
          ],
          "output_type":"error"
        }
      ],
      "metadata":{
        
      }
    },
    {
      "cell_type":"code",
      "source":[
        "Customer(\"bronze\", 120)"
      ],
      "execution_count":75,
      "outputs":[
        {
          "ename":"ValueError",
          "evalue":"ValueError: Invalid membership years",
          "traceback":[
            "\u001b[0;31m---------------------------------------------------------------------------",
            "Traceback (most recent call last)",
            "    at line 1 in <module>",
            "    at line 6 in __init__(self, loyalty, membership)",
            "    at line 13 in set_membership(self, value)",
            "ValueError: Invalid membership years"
          ],
          "output_type":"error"
        }
      ],
      "metadata":{
        
      }
    },
    {
      "cell_type":"code",
      "source":[
        "c = Customer(\"bronze\", 12)"
      ],
      "execution_count":77,
      "outputs":[
        
      ],
      "metadata":{
        
      }
    },
    {
      "cell_type":"code",
      "source":[
        "c.membership"
      ],
      "execution_count":78,
      "outputs":[
        {
          "data":{
            "text\/plain":[
              "12"
            ]
          },
          "metadata":{
            
          },
          "output_type":"display_data"
        }
      ],
      "metadata":{
        
      }
    },
    {
      "cell_type":"code",
      "source":[
        "c.membership += 1"
      ],
      "execution_count":79,
      "outputs":[
        
      ],
      "metadata":{
        
      }
    },
    {
      "cell_type":"code",
      "source":[
        "c.membership"
      ],
      "execution_count":80,
      "outputs":[
        {
          "data":{
            "text\/plain":[
              "13"
            ]
          },
          "metadata":{
            
          },
          "output_type":"display_data"
        }
      ],
      "metadata":{
        
      }
    },
    {
      "cell_type":"code",
      "source":[
        "c.membership += 200"
      ],
      "execution_count":81,
      "outputs":[
        {
          "ename":"ValueError",
          "evalue":"ValueError: Invalid membership years",
          "traceback":[
            "\u001b[0;31m---------------------------------------------------------------------------",
            "Traceback (most recent call last)",
            "    at line 1 in <module>",
            "    at line 13 in set_membership(self, value)",
            "ValueError: Invalid membership years"
          ],
          "output_type":"error"
        }
      ],
      "metadata":{
        
      }
    },
    {
      "cell_type":"markdown",
      "source":[
        "## `Properties Live In The Class`"
      ],
      "attachments":{
        
      },
      "metadata":{
        
      }
    },
    {
      "cell_type":"code",
      "source":[
        "class Customer:\n",
        "    loyalty_levels = {\"bronze\", \"gold\", \"platinum\"}\n",
        "\n",
        "    def __init__(self, loyalty, membership=0):\n",
        "        self.loyalty = loyalty  # self.set_loyalty(loyalty)\n",
        "        self.membership = membership\n",
        "\n",
        "    def get_membership(self):\n",
        "        return self._membership\n",
        "\n",
        "    def set_membership(self, value):\n",
        "        if value < 0 or value > 34:\n",
        "            raise ValueError(\"Invalid membership years\")\n",
        "\n",
        "        self._membership = value\n",
        "\n",
        "    def get_loyalty(self):\n",
        "        return self._loyalty\n",
        "\n",
        "    def set_loyalty(self, level):\n",
        "        if level not in self.loyalty_levels:\n",
        "            raise ValueError(f\"Invalid loyalty {level} specified\")\n",
        "\n",
        "        self._loyalty = level\n",
        "\n",
        "    loyalty = property(fget=get_loyalty, fset=set_loyalty)\n",
        "    membership = property(fget=get_membership, fset=set_membership)"
      ],
      "execution_count":12,
      "outputs":[
        
      ],
      "metadata":{
        
      }
    },
    {
      "cell_type":"code",
      "source":[
        "c = Customer(\"bronze\")"
      ],
      "execution_count":13,
      "outputs":[
        
      ],
      "metadata":{
        
      }
    },
    {
      "cell_type":"code",
      "source":[
        "c.__dict__"
      ],
      "execution_count":14,
      "outputs":[
        {
          "data":{
            "text\/plain":[
              "{'_loyalty': 'bronze', '_membership': 0}"
            ]
          },
          "metadata":{
            
          },
          "output_type":"display_data"
        }
      ],
      "metadata":{
        
      }
    },
    {
      "cell_type":"code",
      "source":[
        "c.__dict__[\"_loyalty\"] = \"platinum\""
      ],
      "execution_count":15,
      "outputs":[
        
      ],
      "metadata":{
        
      }
    },
    {
      "cell_type":"code",
      "source":[
        "c.loyalty"
      ],
      "execution_count":16,
      "outputs":[
        {
          "data":{
            "text\/plain":[
              "'platinum'"
            ]
          },
          "metadata":{
            
          },
          "output_type":"display_data"
        }
      ],
      "metadata":{
        
      }
    },
    {
      "cell_type":"code",
      "source":[
        "c.__dict__[\"loyalty\"] = \"gold\""
      ],
      "execution_count":17,
      "outputs":[
        
      ],
      "metadata":{
        
      }
    },
    {
      "cell_type":"code",
      "source":[
        "c.loyalty"
      ],
      "execution_count":18,
      "outputs":[
        {
          "data":{
            "text\/plain":[
              "'platinum'"
            ]
          },
          "metadata":{
            
          },
          "output_type":"display_data"
        }
      ],
      "metadata":{
        
      }
    },
    {
      "cell_type":"code",
      "source":[
        "c.__dict__"
      ],
      "execution_count":19,
      "outputs":[
        {
          "data":{
            "text\/plain":[
              "{'_loyalty': 'platinum', '_membership': 0, 'loyalty': 'gold'}"
            ]
          },
          "metadata":{
            
          },
          "output_type":"display_data"
        }
      ],
      "metadata":{
        
      }
    },
    {
      "cell_type":"code",
      "source":[
        "Customer.__dict__"
      ],
      "execution_count":20,
      "outputs":[
        {
          "data":{
            "text\/plain":[
              "mappingproxy({'__module__': '__main__',\n",
              "              'loyalty_levels': {'bronze', 'gold', 'platinum'},\n",
              "              '__init__': <function __main__.Customer.__init__(self, loyalty, membership=0)>,\n",
              "              'get_membership': <function __main__.Customer.get_membership(self)>,\n",
              "              'set_membership': <function __main__.Customer.set_membership(self, value)>,\n",
              "              'get_loyalty': <function __main__.Customer.get_loyalty(self)>,\n",
              "              'set_loyalty': <function __main__.Customer.set_loyalty(self, level)>,\n",
              "              'loyalty': <property at 0x7f4077fd18b0>,\n",
              "              'membership': <property at 0x7f4077fed6d0>,\n",
              "              '__dict__': <attribute '__dict__' of 'Customer' objects>,\n",
              "              '__weakref__': <attribute '__weakref__' of 'Customer' objects>,\n",
              "              '__doc__': None})"
            ]
          },
          "metadata":{
            
          },
          "output_type":"display_data"
        }
      ],
      "metadata":{
        
      }
    },
    {
      "cell_type":"code",
      "source":[
        "# c.loyalty"
      ],
      "execution_count":0,
      "outputs":[
        
      ],
      "metadata":{
        
      }
    },
    {
      "cell_type":"markdown",
      "source":[
        "## `Decorator Syntax`"
      ],
      "attachments":{
        
      },
      "metadata":{
        
      }
    },
    {
      "cell_type":"code",
      "source":[
        "class Customer:\n",
        "    loyalty_levels = {\"bronze\", \"gold\", \"platinum\"}\n",
        "\n",
        "    def __init__(self, loyalty, membership=0):\n",
        "        self.loyalty = loyalty\n",
        "\n",
        "    def get_loyalty(self):\n",
        "        return self._loyalty\n",
        "\n",
        "    def set_loyalty(self, level):\n",
        "        if level not in self.loyalty_levels:\n",
        "            raise ValueError(f\"Invalid loyalty {level} specified\")\n",
        "\n",
        "        self._loyalty = level\n",
        "\n",
        "    loyalty = property(fget=get_loyalty, fset=set_loyalty)"
      ],
      "execution_count":21,
      "outputs":[
        
      ],
      "metadata":{
        
      }
    },
    {
      "cell_type":"code",
      "source":[
        "class Customer:\n",
        "    loyalty_levels = {\"bronze\", \"gold\", \"platinum\"}\n",
        "\n",
        "    def __init__(self, loyalty, membership=0):\n",
        "        self.loyalty = loyalty\n",
        "\n",
        "    @property\n",
        "    def loyalty(self):\n",
        "        return self._loyalty\n",
        "\n",
        "    @loyalty.setter\n",
        "    def loyalty(self, level):\n",
        "        if level not in self.loyalty_levels:\n",
        "            raise ValueError(f\"Invalid loyalty {level} specified\")\n",
        "\n",
        "        self._loyalty = level"
      ],
      "execution_count":27,
      "outputs":[
        
      ],
      "metadata":{
        
      }
    },
    {
      "cell_type":"code",
      "source":[
        "c = Customer(\"bronze\")"
      ],
      "execution_count":29,
      "outputs":[
        
      ],
      "metadata":{
        
      }
    },
    {
      "cell_type":"code",
      "source":[
        "c.loyalty"
      ],
      "execution_count":30,
      "outputs":[
        {
          "data":{
            "text\/plain":[
              "'bronze'"
            ]
          },
          "metadata":{
            
          },
          "output_type":"display_data"
        }
      ],
      "metadata":{
        
      }
    },
    {
      "cell_type":"code",
      "source":[
        "c.__dict__"
      ],
      "execution_count":31,
      "outputs":[
        {
          "data":{
            "text\/plain":[
              "{'_loyalty': 'bronze'}"
            ]
          },
          "metadata":{
            
          },
          "output_type":"display_data"
        }
      ],
      "metadata":{
        
      }
    },
    {
      "cell_type":"code",
      "source":[
        "class Customer:\n",
        "    loyalty_levels = {\"bronze\", \"gold\", \"platinum\"}\n",
        "\n",
        "    def __init__(self, loyalty, membership=0):\n",
        "        self.loyalty = loyalty\n",
        "\n",
        "    loyalty = property()\n",
        "\n",
        "    def loyalty_getter(self):\n",
        "        return self._loyalty\n",
        "\n",
        "    loyalty = loyalty.getter(loyalty_getter)\n",
        "\n",
        "    def loyalty_setter(self, level):\n",
        "        if level not in self.loyalty_levels:\n",
        "            raise ValueError(f\"Invalid loyalty {level} specified\")\n",
        "\n",
        "        self._loyalty = level\n",
        "\n",
        "    loyalty = loyalty.setter(loyalty_setter)"
      ],
      "execution_count":32,
      "outputs":[
        
      ],
      "metadata":{
        
      }
    },
    {
      "cell_type":"code",
      "source":[
        "c = Customer(\"bronze\")"
      ],
      "execution_count":33,
      "outputs":[
        
      ],
      "metadata":{
        
      }
    },
    {
      "cell_type":"code",
      "source":[
        "c.loyalty"
      ],
      "execution_count":34,
      "outputs":[
        {
          "data":{
            "text\/plain":[
              "'bronze'"
            ]
          },
          "metadata":{
            
          },
          "output_type":"display_data"
        }
      ],
      "metadata":{
        
      }
    },
    {
      "cell_type":"code",
      "source":[
        "class Customer:\n",
        "    loyalty_levels = {\"bronze\", \"gold\", \"platinum\"}\n",
        "\n",
        "    def __init__(self, loyalty, membership=0):\n",
        "        self.loyalty = loyalty\n",
        "\n",
        "    loyalty = property()\n",
        "\n",
        "    @loyalty.getter\n",
        "    def loyalty_getter(self):\n",
        "        return self._loyalty\n",
        "\n",
        "    # loyalty = loyalty.getter(loyalty_getter)\n",
        "\n",
        "    @loyalty.setter\n",
        "    def loyalty_setter(self, level):\n",
        "        if level not in self.loyalty_levels:\n",
        "            raise ValueError(f\"Invalid loyalty {level} specified\")\n",
        "\n",
        "        self._loyalty = level\n",
        "\n",
        "    # loyalty = loyalty.setter(loyalty_setter)"
      ],
      "execution_count":36,
      "outputs":[
        
      ],
      "metadata":{
        
      }
    },
    {
      "cell_type":"code",
      "source":[
        "class Customer:\n",
        "    loyalty_levels = {\"bronze\", \"gold\", \"platinum\"}\n",
        "\n",
        "    def __init__(self, loyalty, membership=0):\n",
        "        self.loyalty = loyalty\n",
        "\n",
        "    @property\n",
        "    def loyalty(self):\n",
        "        return self._loyalty\n",
        "\n",
        "    @loyalty.setter\n",
        "    def loyalty(self, level):\n",
        "        if level not in self.loyalty_levels:\n",
        "            raise ValueError(f\"Invalid loyalty {level} specified\")\n",
        "\n",
        "        self._loyalty = level"
      ],
      "execution_count":38,
      "outputs":[
        
      ],
      "metadata":{
        
      }
    },
    {
      "cell_type":"code",
      "source":[
        "c = Customer(\"gold\")"
      ],
      "execution_count":39,
      "outputs":[
        {
          "ename":"AttributeError",
          "evalue":"AttributeError: can't set attribute",
          "traceback":[
            "\u001b[0;31m---------------------------------------------------------------------------",
            "Traceback (most recent call last)",
            "    at line 1 in <module>",
            "    at line 5 in __init__(self, loyalty, membership)",
            "AttributeError: can't set attribute"
          ],
          "output_type":"error"
        }
      ],
      "metadata":{
        
      }
    },
    {
      "cell_type":"code",
      "source":[
        "Customer.__dict__"
      ],
      "execution_count":40,
      "outputs":[
        {
          "data":{
            "text\/plain":[
              "mappingproxy({'__module__': '__main__',\n",
              "              'loyalty_levels': {'bronze', 'gold', 'platinum'},\n",
              "              '__init__': <function __main__.Customer.__init__(self, loyalty, membership=0)>,\n",
              "              'loyalty': <property at 0x7f4077e0c0e0>,\n",
              "              'loyalty_v2': <property at 0x7f4084037310>,\n",
              "              '__dict__': <attribute '__dict__' of 'Customer' objects>,\n",
              "              '__weakref__': <attribute '__weakref__' of 'Customer' objects>,\n",
              "              '__doc__': None})"
            ]
          },
          "metadata":{
            
          },
          "output_type":"display_data"
        }
      ],
      "metadata":{
        
      }
    },
    {
      "cell_type":"markdown",
      "source":[
        "## `BONUS: Decorators Refresher`"
      ],
      "attachments":{
        
      },
      "metadata":{
        
      }
    },
    {
      "cell_type":"code",
      "source":[
        "# loyalty = loyalty.getter(loyalty_getter)\n",
        "\n",
        "# --->\n",
        "\n",
        "# @property\n",
        "# @property_name.setter"
      ],
      "execution_count":1,
      "outputs":[
        
      ],
      "metadata":{
        
      }
    },
    {
      "cell_type":"code",
      "source":[
        "# A. first class citizene"
      ],
      "execution_count":10,
      "outputs":[
        
      ],
      "metadata":{
        
      }
    },
    {
      "cell_type":"code",
      "source":[
        "# 1. funcs couls be assiged to other variables\n",
        "def ten_times(x):\n",
        "    return x * 10"
      ],
      "execution_count":3,
      "outputs":[
        
      ],
      "metadata":{
        
      }
    },
    {
      "cell_type":"code",
      "source":[
        "ten_x = ten_times"
      ],
      "execution_count":4,
      "outputs":[
        
      ],
      "metadata":{
        
      }
    },
    {
      "cell_type":"code",
      "source":[
        "ten_x(7)"
      ],
      "execution_count":5,
      "outputs":[
        {
          "data":{
            "text\/plain":[
              "70"
            ]
          },
          "metadata":{
            
          },
          "output_type":"display_data"
        }
      ],
      "metadata":{
        
      }
    },
    {
      "cell_type":"code",
      "source":[
        "# 2. could be passed as args to other funcs\n",
        "def pass_three_to(func):\n",
        "    what = 3\n",
        "\n",
        "    return func(what)"
      ],
      "execution_count":9,
      "outputs":[
        
      ],
      "metadata":{
        
      }
    },
    {
      "cell_type":"code",
      "source":[
        "pass_three_to(ten_times)"
      ],
      "execution_count":8,
      "outputs":[
        {
          "data":{
            "text\/plain":[
              "30"
            ]
          },
          "metadata":{
            
          },
          "output_type":"display_data"
        }
      ],
      "metadata":{
        
      }
    },
    {
      "cell_type":"code",
      "source":[
        "# 3. defining a func within another one\n",
        "def outer():\n",
        "    def inner():\n",
        "        return \"innert func\"\n",
        "\n",
        "    s = inner()\n",
        "\n",
        "    return s"
      ],
      "execution_count":13,
      "outputs":[
        
      ],
      "metadata":{
        
      }
    },
    {
      "cell_type":"code",
      "source":[
        "outer()"
      ],
      "execution_count":12,
      "outputs":[
        {
          "data":{
            "text\/plain":[
              "'innert func'"
            ]
          },
          "metadata":{
            
          },
          "output_type":"display_data"
        }
      ],
      "metadata":{
        
      }
    },
    {
      "cell_type":"code",
      "source":[
        "# 4. we could also return function from functions\n",
        "def give_me_a_new_func():\n",
        "    def new_func():\n",
        "        return \"the new function is returning\"\n",
        "\n",
        "    return new_func"
      ],
      "execution_count":18,
      "outputs":[
        
      ],
      "metadata":{
        
      }
    },
    {
      "cell_type":"code",
      "source":[
        "f = give_me_a_new_func()"
      ],
      "execution_count":16,
      "outputs":[
        
      ],
      "metadata":{
        
      }
    },
    {
      "cell_type":"code",
      "source":[
        "f()"
      ],
      "execution_count":17,
      "outputs":[
        {
          "data":{
            "text\/plain":[
              "'the new function is returning'"
            ]
          },
          "metadata":{
            
          },
          "output_type":"display_data"
        }
      ],
      "metadata":{
        
      }
    },
    {
      "cell_type":"code",
      "source":[
        "# B. closures"
      ],
      "execution_count":19,
      "outputs":[
        
      ],
      "metadata":{
        
      }
    },
    {
      "cell_type":"code",
      "source":[
        "def greet(who):\n",
        "    how = \"Good morning\"\n",
        "\n",
        "    def create_greeting():\n",
        "        print(f\"{how}, {who}!\")\n",
        "\n",
        "    return create_greeting        "
      ],
      "execution_count":20,
      "outputs":[
        
      ],
      "metadata":{
        
      }
    },
    {
      "cell_type":"code",
      "source":[
        "a = greet(\"andy\")"
      ],
      "execution_count":21,
      "outputs":[
        
      ],
      "metadata":{
        
      }
    },
    {
      "cell_type":"code",
      "source":[
        "a()"
      ],
      "execution_count":22,
      "outputs":[
        {
          "name":"stdout",
          "text":[
            "Good morning, andy!\n"
          ],
          "output_type":"stream"
        }
      ],
      "metadata":{
        
      }
    },
    {
      "cell_type":"code",
      "source":[
        "# decorators -> design pattern built on the shoulders on these two giants: first-class functions + closures"
      ],
      "execution_count":23,
      "outputs":[
        
      ],
      "metadata":{
        
      }
    },
    {
      "cell_type":"code",
      "source":[
        "from random import randint"
      ],
      "execution_count":24,
      "outputs":[
        
      ],
      "metadata":{
        
      }
    },
    {
      "cell_type":"code",
      "source":[
        "def bingo():\n",
        "    return randint(1, 47)"
      ],
      "execution_count":25,
      "outputs":[
        
      ],
      "metadata":{
        
      }
    },
    {
      "cell_type":"code",
      "source":[
        "for i in range(3):\n",
        "    print(bingo())"
      ],
      "execution_count":30,
      "outputs":[
        {
          "name":"stdout",
          "text":[
            "8\n",
            "38\n",
            "27\n"
          ],
          "output_type":"stream"
        }
      ],
      "metadata":{
        
      }
    },
    {
      "cell_type":"code",
      "source":[
        "def even_or_odd(func):\n",
        "    def inner():\n",
        "        num = func()\n",
        "        print(f\"The selected numebr is {'even' if num % 2 == 0 else 'odd'}\")\n",
        "        return num\n",
        "\n",
        "    return inner"
      ],
      "execution_count":31,
      "outputs":[
        
      ],
      "metadata":{
        
      }
    },
    {
      "cell_type":"code",
      "source":[
        "bingo = even_or_odd(bingo)"
      ],
      "execution_count":32,
      "outputs":[
        
      ],
      "metadata":{
        
      }
    },
    {
      "cell_type":"code",
      "source":[
        "for i in range(3):\n",
        "    print(bingo())"
      ],
      "execution_count":36,
      "outputs":[
        {
          "name":"stdout",
          "text":[
            "The selected numebr is even\n",
            "6\n",
            "The selected numebr is even\n",
            "38\n",
            "The selected numebr is odd\n",
            "39\n"
          ],
          "output_type":"stream"
        }
      ],
      "metadata":{
        
      }
    },
    {
      "cell_type":"code",
      "source":[
        "# the @ syntax -> syntactic sugar"
      ],
      "execution_count":37,
      "outputs":[
        
      ],
      "metadata":{
        
      }
    },
    {
      "cell_type":"code",
      "source":[
        "@even_or_odd\n",
        "def bingo():\n",
        "    return randint(1, 47)"
      ],
      "execution_count":38,
      "outputs":[
        
      ],
      "metadata":{
        
      }
    },
    {
      "cell_type":"code",
      "source":[
        "for i in range(3):\n",
        "    print(bingo())"
      ],
      "execution_count":40,
      "outputs":[
        {
          "name":"stdout",
          "text":[
            "The selected numebr is odd\n",
            "15\n",
            "The selected numebr is even\n",
            "34\n",
            "The selected numebr is odd\n",
            "1\n"
          ],
          "output_type":"stream"
        }
      ],
      "metadata":{
        
      }
    },
    {
      "cell_type":"markdown",
      "source":[
        "## `Read or Write Only Properties`"
      ],
      "attachments":{
        
      },
      "metadata":{
        
      }
    },
    {
      "cell_type":"code",
      "source":[
        "class Customer:\n",
        "    loyalty_levels = {\"bronze\", \"gold\", \"platinum\"}\n",
        "\n",
        "    def __init__(self, loyalty, membership=0):\n",
        "        self.loyalty = loyalty\n",
        "\n",
        "    loyalty = property()\n",
        "\n",
        "    # @property\n",
        "    # def loyalty(self):\n",
        "    #     return self._loyalty\n",
        "\n",
        "    @loyalty.setter\n",
        "    def loyalty(self, level):\n",
        "        if level not in self.loyalty_levels:\n",
        "            raise ValueError(f\"Invalid loyalty {level} specified\")\n",
        "\n",
        "        self._loyalty = level"
      ],
      "execution_count":45,
      "outputs":[
        
      ],
      "metadata":{
        
      }
    },
    {
      "cell_type":"code",
      "source":[
        "# property(fget=, fset=)"
      ],
      "execution_count":40,
      "outputs":[
        
      ],
      "metadata":{
        
      }
    },
    {
      "cell_type":"code",
      "source":[
        "c = Customer(\"platinum\")"
      ],
      "execution_count":46,
      "outputs":[
        
      ],
      "metadata":{
        
      }
    },
    {
      "cell_type":"code",
      "source":[
        "c.loyalty = \"gold\""
      ],
      "execution_count":47,
      "outputs":[
        
      ],
      "metadata":{
        
      }
    },
    {
      "cell_type":"code",
      "source":[
        "c.__dict__"
      ],
      "execution_count":49,
      "outputs":[
        {
          "data":{
            "text\/plain":[
              "{'_loyalty': 'gold'}"
            ]
          },
          "metadata":{
            
          },
          "output_type":"display_data"
        }
      ],
      "metadata":{
        
      }
    },
    {
      "cell_type":"code",
      "source":[
        "c.loyalty"
      ],
      "execution_count":48,
      "outputs":[
        {
          "ename":"AttributeError",
          "evalue":"AttributeError: unreadable attribute",
          "traceback":[
            "\u001b[0;31m---------------------------------------------------------------------------",
            "Traceback (most recent call last)",
            "    at line 1 in <module>",
            "AttributeError: unreadable attribute"
          ],
          "output_type":"error"
        }
      ],
      "metadata":{
        
      }
    },
    {
      "cell_type":"code",
      "source":[
        "Customer.__dict__"
      ],
      "execution_count":44,
      "outputs":[
        {
          "data":{
            "text\/plain":[
              "mappingproxy({'__module__': '__main__',\n",
              "              'loyalty_levels': {'bronze', 'gold', 'platinum'},\n",
              "              '__init__': <function __main__.Customer.__init__(self, loyalty, membership=0)>,\n",
              "              'loyalty': <property at 0x7fcf1fa60a90>,\n",
              "              '__dict__': <attribute '__dict__' of 'Customer' objects>,\n",
              "              '__weakref__': <attribute '__weakref__' of 'Customer' objects>,\n",
              "              '__doc__': None})"
            ]
          },
          "metadata":{
            
          },
          "output_type":"display_data"
        }
      ],
      "metadata":{
        
      }
    },
    {
      "cell_type":"code",
      "source":[
        "class Customer:\n",
        "    loyalty_levels = {\"bronze\", \"gold\", \"platinum\"}\n",
        "\n",
        "    def __init__(self, loyalty):\n",
        "        self._loyalty = loyalty\n",
        "\n",
        "    @property\n",
        "    def loyalty(self):\n",
        "        return self._loyalty"
      ],
      "execution_count":57,
      "outputs":[
        
      ],
      "metadata":{
        
      }
    },
    {
      "cell_type":"code",
      "source":[
        "c = Customer(\"platinum\")"
      ],
      "execution_count":58,
      "outputs":[
        
      ],
      "metadata":{
        
      }
    },
    {
      "cell_type":"code",
      "source":[
        "c.loyalty"
      ],
      "execution_count":59,
      "outputs":[
        {
          "data":{
            "text\/plain":[
              "'platinum'"
            ]
          },
          "metadata":{
            
          },
          "output_type":"display_data"
        }
      ],
      "metadata":{
        
      }
    },
    {
      "cell_type":"code",
      "source":[
        "c.loyalty = \"gold\""
      ],
      "execution_count":60,
      "outputs":[
        {
          "ename":"AttributeError",
          "evalue":"AttributeError: can't set attribute",
          "traceback":[
            "\u001b[0;31m---------------------------------------------------------------------------",
            "Traceback (most recent call last)",
            "    at line 1 in <module>",
            "AttributeError: can't set attribute"
          ],
          "output_type":"error"
        }
      ],
      "metadata":{
        
      }
    },
    {
      "cell_type":"markdown",
      "source":[
        "## `Managed Attributes`"
      ],
      "attachments":{
        
      },
      "metadata":{
        
      }
    },
    {
      "cell_type":"code",
      "source":[
        "class Customer:\n",
        "    loyalty_levels = {\"bronze\", \"gold\", \"platinum\"}\n",
        "\n",
        "    def __init__(self, loyalty):\n",
        "        self._loyalty = loyalty\n",
        "        self._reviews = []\n",
        "\n",
        "    @property\n",
        "    def loyalty(self):\n",
        "        return self._loyalty\n",
        "\n",
        "    @loyalty.setter\n",
        "    def loyalty(self, level):\n",
        "        if level in self.__class__.loyalty_levels:\n",
        "            self._loyalty = level\n",
        "        else:\n",
        "            raise ValueError(f\"Invalid loyalty {level}\")\n",
        "\n",
        "    def add_review(self, review):\n",
        "        if not (type(review) == int or 0 <= review <= 10):\n",
        "            raise ValueError(\"The review must be an int between 0 and 10, inclusive\")\n",
        "\n",
        "        self._reviews.append(review)\n",
        "\n",
        "    @property\n",
        "    def average_review(self):\n",
        "        return sum(self._reviews) \/ len(self._reviews)"
      ],
      "execution_count":6,
      "outputs":[
        
      ],
      "metadata":{
        
      }
    },
    {
      "cell_type":"code",
      "source":[
        
      ],
      "execution_count":7,
      "outputs":[
        
      ],
      "metadata":{
        
      }
    },
    {
      "cell_type":"code",
      "source":[
        "c = Customer(\"gold\")\n",
        "c.add_review(10)\n",
        "c.add_review(9)\n",
        "c.add_review(7)\n",
        "c.add_review(6)"
      ],
      "execution_count":8,
      "outputs":[
        
      ],
      "metadata":{
        
      }
    },
    {
      "cell_type":"code",
      "source":[
        "# c.average_review()"
      ],
      "execution_count":9,
      "outputs":[
        
      ],
      "metadata":{
        
      }
    },
    {
      "cell_type":"code",
      "source":[
        "c.average_review"
      ],
      "execution_count":10,
      "outputs":[
        {
          "data":{
            "text\/plain":[
              "8.0"
            ]
          },
          "metadata":{
            
          },
          "output_type":"display_data"
        }
      ],
      "metadata":{
        
      }
    },
    {
      "cell_type":"markdown",
      "source":[
        "## `BONUS: Caching Average Review`"
      ],
      "attachments":{
        
      },
      "metadata":{
        
      }
    },
    {
      "cell_type":"code",
      "source":[
        "class Customer:\n",
        "    loyalty_levels = {\"bronze\", \"gold\", \"platinum\"}\n",
        "\n",
        "    def __init__(self, loyalty):\n",
        "        self._loyalty = loyalty\n",
        "        self._reviews = []\n",
        "        self._avg_review = None\n",
        "\n",
        "    @property\n",
        "    def loyalty(self):\n",
        "        return self._loyalty\n",
        "\n",
        "    @loyalty.setter\n",
        "    def loyalty(self, level):\n",
        "        if level in self.__class__.loyalty_levels:\n",
        "            self._loyalty = level\n",
        "        else:\n",
        "            raise ValueError(f\"Invalid loyalty {level}\")\n",
        "\n",
        "    def add_review(self, review):\n",
        "        if not (type(review) == int or 0 <= review <= 10):\n",
        "            raise ValueError(\"The review must be an int between 0 and 10, inclusive\")\n",
        "\n",
        "        self._reviews.append(review)\n",
        "\n",
        "        self._avg_review = None\n",
        "\n",
        "        # self._avg_review = None if review != self._avg_review else review\n",
        "\n",
        "    @property\n",
        "    def average_review(self):\n",
        "        if self._avg_review is None:\n",
        "            print(\"Calculating...\")\n",
        "            self._avg_review = sum(self._reviews) \/ len(self._reviews)\n",
        "\n",
        "        return self._avg_review"
      ],
      "execution_count":1,
      "outputs":[
        
      ],
      "metadata":{
        
      }
    },
    {
      "cell_type":"code",
      "source":[
        "c = Customer(\"gold\")\n",
        "c.add_review(10)\n",
        "c.add_review(9)\n",
        "c.add_review(7)\n",
        "c.add_review(6)"
      ],
      "execution_count":2,
      "outputs":[
        
      ],
      "metadata":{
        
      }
    },
    {
      "cell_type":"code",
      "source":[
        "c.average_review"
      ],
      "execution_count":6,
      "outputs":[
        {
          "data":{
            "text\/plain":[
              "8.4"
            ]
          },
          "metadata":{
            
          },
          "output_type":"display_data"
        }
      ],
      "metadata":{
        
      }
    },
    {
      "cell_type":"code",
      "source":[
        "c.add_review(10)"
      ],
      "execution_count":4,
      "outputs":[
        
      ],
      "metadata":{
        
      }
    },
    {
      "cell_type":"markdown",
      "source":[
        "## `Deleting Properties`"
      ],
      "attachments":{
        
      },
      "metadata":{
        
      }
    },
    {
      "cell_type":"code",
      "source":[
        "class Customer:\n",
        "    loyalty_levels = {\"bronze\", \"gold\", \"platinum\"}\n",
        "\n",
        "    def __init__(self, loyalty):\n",
        "        self._loyalty = loyalty\n",
        "\n",
        "    @property\n",
        "    def loyalty(self):\n",
        "        return self._loyalty\n",
        "\n",
        "    @loyalty.setter\n",
        "    def loyalty(self, level):\n",
        "        if level in self.__class__.loyalty_levels:\n",
        "            self._loyalty = level\n",
        "        else:\n",
        "            raise ValueError(f\"Invalid loyalty {level}\")\n",
        "\n",
        "    @loyalty.deleter\n",
        "    def loyalty(self):\n",
        "        del self._loyalty"
      ],
      "execution_count":1,
      "outputs":[
        
      ],
      "metadata":{
        
      }
    },
    {
      "cell_type":"code",
      "source":[
        "c = Customer(\"gold\")"
      ],
      "execution_count":2,
      "outputs":[
        
      ],
      "metadata":{
        
      }
    },
    {
      "cell_type":"code",
      "source":[
        "c.loyalty"
      ],
      "execution_count":3,
      "outputs":[
        {
          "data":{
            "text\/plain":[
              "'gold'"
            ]
          },
          "metadata":{
            
          },
          "output_type":"display_data"
        }
      ],
      "metadata":{
        
      }
    },
    {
      "cell_type":"code",
      "source":[
        "del c.loyalty"
      ],
      "execution_count":4,
      "outputs":[
        
      ],
      "metadata":{
        
      }
    },
    {
      "cell_type":"code",
      "source":[
        "Customer.__dict__"
      ],
      "execution_count":5,
      "outputs":[
        {
          "data":{
            "text\/plain":[
              "mappingproxy({'__module__': '__main__',\n",
              "              'loyalty_levels': {'bronze', 'gold', 'platinum'},\n",
              "              '__init__': <function __main__.Customer.__init__(self, loyalty)>,\n",
              "              'loyalty': <property at 0x7effc46bcbd0>,\n",
              "              '__dict__': <attribute '__dict__' of 'Customer' objects>,\n",
              "              '__weakref__': <attribute '__weakref__' of 'Customer' objects>,\n",
              "              '__doc__': None})"
            ]
          },
          "metadata":{
            
          },
          "output_type":"display_data"
        }
      ],
      "metadata":{
        
      }
    },
    {
      "cell_type":"code",
      "source":[
        "c.__dict__"
      ],
      "execution_count":6,
      "outputs":[
        {
          "data":{
            "text\/plain":[
              "{}"
            ]
          },
          "metadata":{
            
          },
          "output_type":"display_data"
        }
      ],
      "metadata":{
        
      }
    },
    {
      "cell_type":"code",
      "source":[
        "c2 = Customer(\"platinum\")"
      ],
      "execution_count":7,
      "outputs":[
        
      ],
      "metadata":{
        
      }
    },
    {
      "cell_type":"code",
      "source":[
        "c2.loyalty"
      ],
      "execution_count":8,
      "outputs":[
        {
          "data":{
            "text\/plain":[
              "'platinum'"
            ]
          },
          "metadata":{
            
          },
          "output_type":"display_data"
        }
      ],
      "metadata":{
        
      }
    },
    {
      "cell_type":"code",
      "source":[
        "# property(fget, fset, fdel)"
      ],
      "execution_count":0,
      "outputs":[
        
      ],
      "metadata":{
        
      }
    },
    {
      "cell_type":"code",
      "source":[
        "class Customer:\n",
        "    loyalty_levels = {\"bronze\", \"gold\", \"platinum\"}\n",
        "\n",
        "    def __init__(self, loyalty):\n",
        "        self._loyalty = loyalty\n",
        "\n",
        "    def loyalty_getter(self):\n",
        "        return self._loyalty\n",
        "\n",
        "    def loyalty_setter(self, level):\n",
        "        if level in self.__class__.loyalty_levels:\n",
        "            self._loyalty = level\n",
        "        else:\n",
        "            raise ValueError(f\"Invalid loyalty {level}\")\n",
        "\n",
        "    def loyalty_deleter(self):\n",
        "        del self._loyalty\n",
        "\n",
        "    loyalty = property(fget=loyalty_getter, fset=loyalty_setter, fdel=loyalty_deleter)"
      ],
      "execution_count":10,
      "outputs":[
        
      ],
      "metadata":{
        
      }
    },
    {
      "cell_type":"markdown",
      "source":[
        "## `Property Docstrings`"
      ],
      "attachments":{
        
      },
      "metadata":{
        
      }
    },
    {
      "cell_type":"code",
      "source":[
        "class Customer:\n",
        "    loyalty_levels = {\"bronze\", \"gold\", \"platinum\"}\n",
        "\n",
        "    def __init__(self, loyalty):\n",
        "        self._loyalty = loyalty\n",
        "\n",
        "    @property\n",
        "    def loyalty(self):\n",
        "        \"\"\"A property that returns the loyalty level of the customer.\n",
        "\n",
        "            Setting and deleting is also supported\n",
        "        \"\"\"\n",
        "        return self._loyalty\n",
        "\n",
        "    @loyalty.setter\n",
        "    def loyalty(self, level):\n",
        "        \"This is the setter.\"\n",
        "        if level in self.__class__.loyalty_levels:\n",
        "            self._loyalty = level\n",
        "        else:\n",
        "            raise ValueError(f\"Invalid loyalty {level}\")\n",
        "\n",
        "    @loyalty.deleter\n",
        "    def loyalty(self):\n",
        "        \"\"\"Deleter multi-line docstring.\"\"\"\n",
        "        del self._loyalty"
      ],
      "execution_count":6,
      "outputs":[
        
      ],
      "metadata":{
        
      }
    },
    {
      "cell_type":"code",
      "source":[
        "help(Customer.loyalty)"
      ],
      "execution_count":12,
      "outputs":[
        {
          "name":"stdout",
          "text":[
            "Help on property:\n",
            "\n",
            "    A property that returns the loyalty level of the customer.\n",
            "    \n",
            "    Setting and deleting is also supported\n",
            "\n"
          ],
          "output_type":"stream"
        }
      ],
      "metadata":{
        
      }
    },
    {
      "cell_type":"code",
      "source":[
        "Customer.loyalty.__doc__"
      ],
      "execution_count":13,
      "outputs":[
        {
          "data":{
            "text\/plain":[
              "'A property that returns the loyalty level of the customer.\\n\\n            Setting and deleting is also supported\\n        '"
            ]
          },
          "metadata":{
            
          },
          "output_type":"display_data"
        }
      ],
      "metadata":{
        
      }
    },
    {
      "cell_type":"code",
      "source":[
        "help(Customer)"
      ],
      "execution_count":14,
      "outputs":[
        {
          "name":"stdout",
          "text":[
            "Help on class Customer in module __main__:\n",
            "\n",
            "class Customer(builtins.object)\n",
            " |  Customer(loyalty)\n",
            " |  \n",
            " |  Methods defined here:\n",
            " |  \n",
            " |  __init__(self, loyalty)\n",
            " |      Initialize self.  See help(type(self)) for accurate signature.\n",
            " |  \n",
            " |  loyalty_deleter(self)\n",
            " |  \n",
            " |  loyalty_getter(self)\n",
            " |  \n",
            " |  loyalty_setter(self, level)\n",
            " |  \n",
            " |  ----------------------------------------------------------------------\n",
            " |  Data descriptors defined here:\n",
            " |  \n",
            " |  __dict__\n",
            " |      dictionary for instance variables (if defined)\n",
            " |  \n",
            " |  __weakref__\n",
            " |      list of weak references to the object (if defined)\n",
            " |  \n",
            " |  loyalty\n",
            " |      A property that returns the loyalty level of the customer.\n",
            " |      \n",
            " |      Setting and deleting is also supported\n",
            " |  \n",
            " |  ----------------------------------------------------------------------\n",
            " |  Data and other attributes defined here:\n",
            " |  \n",
            " |  loyalty_levels = {'bronze', 'gold', 'platinum'}\n",
            "\n"
          ],
          "output_type":"stream"
        }
      ],
      "metadata":{
        
      }
    },
    {
      "cell_type":"code",
      "source":[
        "class Customer:\n",
        "    loyalty_levels = {\"bronze\", \"gold\", \"platinum\"}\n",
        "\n",
        "    def __init__(self, loyalty):\n",
        "        self._loyalty = loyalty\n",
        "\n",
        "    def loyalty_getter(self):\n",
        "        return self._loyalty\n",
        "\n",
        "    def loyalty_setter(self, level):\n",
        "        if level in self.__class__.loyalty_levels:\n",
        "            self._loyalty = level\n",
        "        else:\n",
        "            raise ValueError(f\"Invalid loyalty {level}\")\n",
        "\n",
        "    def loyalty_deleter(self):\n",
        "        del self._loyalty\n",
        "\n",
        "    loyalty = property(fget=loyalty_getter, fset=loyalty_setter, fdel=loyalty_deleter, doc='A property that returns the loyalty level of the customer.\\n\\n            Setting and deleting is also supported\\n        ')"
      ],
      "execution_count":11,
      "outputs":[
        
      ],
      "metadata":{
        
      }
    },
    {
      "cell_type":"code",
      "source":[
        
      ],
      "execution_count":0,
      "outputs":[
        
      ],
      "metadata":{
        
      }
    },
    {
      "cell_type":"code",
      "source":[
        
      ],
      "execution_count":0,
      "outputs":[
        
      ],
      "metadata":{
        
      }
    },
    {
      "cell_type":"code",
      "source":[
        
      ],
      "execution_count":0,
      "outputs":[
        
      ],
      "metadata":{
        
      }
    },
    {
      "cell_type":"code",
      "source":[
        
      ],
      "execution_count":0,
      "outputs":[
        
      ],
      "metadata":{
        
      }
    },
    {
      "cell_type":"code",
      "source":[
        
      ],
      "execution_count":10,
      "outputs":[
        
      ],
      "metadata":{
        
      }
    },
    {
      "cell_type":"code",
      "source":[
        
      ],
      "execution_count":10,
      "outputs":[
        
      ],
      "metadata":{
        
      }
    },
    {
      "cell_type":"code",
      "source":[
        
      ],
      "execution_count":10,
      "outputs":[
        
      ],
      "metadata":{
        
      }
    },
    {
      "cell_type":"code",
      "source":[
        
      ],
      "execution_count":10,
      "outputs":[
        
      ],
      "metadata":{
        
      }
    },
    {
      "cell_type":"code",
      "source":[
        
      ],
      "execution_count":10,
      "outputs":[
        
      ],
      "metadata":{
        
      }
    },
    {
      "cell_type":"code",
      "source":[
        
      ],
      "execution_count":10,
      "outputs":[
        
      ],
      "metadata":{
        
      }
    },
    {
      "cell_type":"code",
      "source":[
        
      ],
      "execution_count":10,
      "outputs":[
        
      ],
      "metadata":{
        
      }
    },
    {
      "cell_type":"code",
      "source":[
        
      ],
      "execution_count":0,
      "outputs":[
        
      ],
      "metadata":{
        
      }
    },
    {
      "cell_type":"code",
      "source":[
        
      ],
      "execution_count":0,
      "outputs":[
        
      ],
      "metadata":{
        
      }
    },
    {
      "cell_type":"code",
      "source":[
        
      ],
      "execution_count":0,
      "outputs":[
        
      ],
      "metadata":{
        
      }
    },
    {
      "cell_type":"code",
      "source":[
        
      ],
      "execution_count":0,
      "outputs":[
        
      ],
      "metadata":{
        
      }
    },
    {
      "cell_type":"code",
      "source":[
        
      ],
      "execution_count":0,
      "outputs":[
        
      ],
      "metadata":{
        
      }
    },
    {
      "cell_type":"code",
      "source":[
        
      ],
      "execution_count":0,
      "outputs":[
        
      ],
      "metadata":{
        
      }
    },
    {
      "cell_type":"code",
      "source":[
        
      ],
      "execution_count":0,
      "outputs":[
        
      ],
      "metadata":{
        
      }
    },
    {
      "cell_type":"code",
      "source":[
        
      ],
      "execution_count":0,
      "outputs":[
        
      ],
      "metadata":{
        
      }
    },
    {
      "cell_type":"code",
      "source":[
        
      ],
      "execution_count":0,
      "outputs":[
        
      ],
      "metadata":{
        
      }
    },
    {
      "cell_type":"code",
      "source":[
        
      ],
      "execution_count":0,
      "outputs":[
        
      ],
      "metadata":{
        
      }
    },
    {
      "cell_type":"code",
      "source":[
        
      ],
      "execution_count":0,
      "outputs":[
        
      ],
      "metadata":{
        
      }
    },
    {
      "cell_type":"code",
      "source":[
        
      ],
      "execution_count":0,
      "outputs":[
        
      ],
      "metadata":{
        
      }
    },
    {
      "cell_type":"code",
      "source":[
        
      ],
      "execution_count":0,
      "outputs":[
        
      ],
      "metadata":{
        
      }
    },
    {
      "cell_type":"code",
      "source":[
        
      ],
      "execution_count":0,
      "outputs":[
        
      ],
      "metadata":{
        
      }
    },
    {
      "cell_type":"code",
      "source":[
        
      ],
      "execution_count":0,
      "outputs":[
        
      ],
      "metadata":{
        
      }
    },
    {
      "cell_type":"code",
      "source":[
        
      ],
      "execution_count":0,
      "outputs":[
        
      ],
      "metadata":{
        
      }
    },
    {
      "cell_type":"code",
      "source":[
        
      ],
      "execution_count":0,
      "outputs":[
        
      ],
      "metadata":{
        
      }
    },
    {
      "cell_type":"code",
      "source":[
        
      ],
      "execution_count":0,
      "outputs":[
        
      ],
      "metadata":{
        
      }
    },
    {
      "cell_type":"code",
      "source":[
        
      ],
      "execution_count":0,
      "outputs":[
        
      ],
      "metadata":{
        
      }
    },
    {
      "cell_type":"code",
      "source":[
        
      ],
      "execution_count":0,
      "outputs":[
        
      ],
      "metadata":{
        
      }
    },
    {
      "cell_type":"code",
      "source":[
        
      ],
      "execution_count":0,
      "outputs":[
        
      ],
      "metadata":{
        
      }
    },
    {
      "cell_type":"code",
      "source":[
        
      ],
      "execution_count":0,
      "outputs":[
        
      ],
      "metadata":{
        
      }
    },
    {
      "cell_type":"code",
      "source":[
        
      ],
      "execution_count":0,
      "outputs":[
        
      ],
      "metadata":{
        
      }
    },
    {
      "cell_type":"code",
      "source":[
        
      ],
      "execution_count":0,
      "outputs":[
        
      ],
      "metadata":{
        
      }
    },
    {
      "cell_type":"code",
      "source":[
        
      ],
      "execution_count":0,
      "outputs":[
        
      ],
      "metadata":{
        
      }
    },
    {
      "cell_type":"code",
      "source":[
        
      ],
      "execution_count":0,
      "outputs":[
        
      ],
      "metadata":{
        
      }
    },
    {
      "cell_type":"code",
      "source":[
        
      ],
      "execution_count":0,
      "outputs":[
        
      ],
      "metadata":{
        
      }
    },
    {
      "cell_type":"code",
      "source":[
        
      ],
      "execution_count":0,
      "outputs":[
        
      ],
      "metadata":{
        
      }
    },
    {
      "cell_type":"code",
      "source":[
        
      ],
      "execution_count":0,
      "outputs":[
        
      ],
      "metadata":{
        
      }
    },
    {
      "cell_type":"code",
      "source":[
        
      ],
      "execution_count":0,
      "outputs":[
        
      ],
      "metadata":{
        
      }
    },
    {
      "cell_type":"code",
      "source":[
        
      ],
      "execution_count":0,
      "outputs":[
        
      ],
      "metadata":{
        
      }
    },
    {
      "cell_type":"code",
      "source":[
        
      ],
      "execution_count":0,
      "outputs":[
        
      ],
      "metadata":{
        
      }
    },
    {
      "cell_type":"code",
      "source":[
        
      ],
      "execution_count":20,
      "outputs":[
        
      ],
      "metadata":{
        
      }
    },
    {
      "cell_type":"code",
      "source":[
        
      ],
      "execution_count":20,
      "outputs":[
        
      ],
      "metadata":{
        
      }
    },
    {
      "cell_type":"code",
      "source":[
        
      ],
      "execution_count":0,
      "outputs":[
        
      ],
      "metadata":{
        
      }
    }
  ],
  "metadata":{
    
  },
  "nbformat":4,
  "nbformat_minor":0
}