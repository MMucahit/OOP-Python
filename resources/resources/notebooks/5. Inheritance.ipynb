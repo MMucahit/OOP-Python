{
  "cells":[
    {
      "cell_type":"markdown",
      "source":[
        "## `Inheritance`"
      ],
      "attachments":{
        
      },
      "metadata":{
        
      }
    },
    {
      "cell_type":"code",
      "source":[
        "# class -> object"
      ],
      "execution_count":0,
      "outputs":[
        
      ],
      "metadata":{
        
      }
    },
    {
      "cell_type":"code",
      "source":[
        "# superclass or base class or parent class\n",
        "class Virus:\n",
        "    pass\n",
        "\n",
        "\n",
        "# derived class, or child class\n",
        "# or subclass or subtype\n",
        "class RNAVirus(Virus):\n",
        "    pass"
      ],
      "execution_count":2,
      "outputs":[
        
      ],
      "metadata":{
        
      }
    },
    {
      "cell_type":"code",
      "source":[
        "# \"is a\" relationships"
      ],
      "execution_count":0,
      "outputs":[
        
      ],
      "metadata":{
        
      }
    },
    {
      "cell_type":"code",
      "source":[
        "class Virus:\n",
        "    pass\n",
        "\n",
        "class RNAVirus(Virus):\n",
        "    pass\n",
        "\n",
        "class Coronavirus(RNAVirus):\n",
        "    pass\n",
        "\n",
        "class SARSCov2(Coronavirus):\n",
        "    pass"
      ],
      "execution_count":18,
      "outputs":[
        
      ],
      "metadata":{
        
      }
    },
    {
      "cell_type":"code",
      "source":[
        "issubclass(SARSCov2, Coronavirus)"
      ],
      "execution_count":4,
      "outputs":[
        {
          "data":{
            "text\/plain":[
              "True"
            ]
          },
          "metadata":{
            
          },
          "output_type":"display_data"
        }
      ],
      "metadata":{
        
      }
    },
    {
      "cell_type":"code",
      "source":[
        "issubclass(Coronavirus, RNAVirus)"
      ],
      "execution_count":5,
      "outputs":[
        {
          "data":{
            "text\/plain":[
              "True"
            ]
          },
          "metadata":{
            
          },
          "output_type":"display_data"
        }
      ],
      "metadata":{
        
      }
    },
    {
      "cell_type":"code",
      "source":[
        "issubclass(SARSCov2, Virus)"
      ],
      "execution_count":7,
      "outputs":[
        {
          "data":{
            "text\/plain":[
              "True"
            ]
          },
          "metadata":{
            
          },
          "output_type":"display_data"
        }
      ],
      "metadata":{
        
      }
    },
    {
      "cell_type":"markdown",
      "source":[
        "## `What's Inheritance Good For?`"
      ],
      "attachments":{
        
      },
      "metadata":{
        
      }
    },
    {
      "cell_type":"code",
      "source":[
        "class Virus:\n",
        "    def __init__(self, name, reproduction_rate, resistance):\n",
        "        self.name = name\n",
        "        self.reproduction_rate = reproduction_rate\n",
        "        self.load = 1\n",
        "        self.host = None\n",
        "\n",
        "    def infect(self, host):\n",
        "        self.host = host\n",
        "\n",
        "    def reproduce(self):\n",
        "        if self.host is not None:\n",
        "            self.load *= (1 + self.reproduction_rate)\n",
        "\n",
        "            return True, f\"Virus reproduced in {self.host}. Viral load: {int(self.load)}\"\n",
        "\n",
        "        raise AttributeError(\"Virus needs to infect a host before being able to reproduce.\")"
      ],
      "execution_count":19,
      "outputs":[
        
      ],
      "metadata":{
        
      }
    },
    {
      "cell_type":"code",
      "source":[
        "v = Virus(\"chandipura\", 1.2, 1.1)"
      ],
      "execution_count":10,
      "outputs":[
        
      ],
      "metadata":{
        
      }
    },
    {
      "cell_type":"code",
      "source":[
        "v.reproduce()"
      ],
      "execution_count":11,
      "outputs":[
        {
          "ename":"AttributeError",
          "evalue":"AttributeError: Virus needs to infect a host before being able to reproduce.",
          "traceback":[
            "\u001b[0;31m---------------------------------------------------------------------------",
            "Traceback (most recent call last)",
            "    at line 1 in <module>",
            "    at line 17 in reproduce(self)",
            "AttributeError: Virus needs to infect a host before being able to reproduce."
          ],
          "output_type":"error"
        }
      ],
      "metadata":{
        
      }
    },
    {
      "cell_type":"code",
      "source":[
        "v.infect(\"animal1\")"
      ],
      "execution_count":12,
      "outputs":[
        
      ],
      "metadata":{
        
      }
    },
    {
      "cell_type":"code",
      "source":[
        "v.reproduce()"
      ],
      "execution_count":13,
      "outputs":[
        {
          "data":{
            "text\/plain":[
              "(True, 'Virus reproduced in animal1. Viral load: 2')"
            ]
          },
          "metadata":{
            
          },
          "output_type":"display_data"
        }
      ],
      "metadata":{
        
      }
    },
    {
      "cell_type":"code",
      "source":[
        "class RNAVirus(Virus):\n",
        "    genome = \"ribonucleic\"\n",
        "\n",
        "    def reproduce(self):\n",
        "        success, status = Virus.reproduce(self)\n",
        "\n",
        "        if success:\n",
        "            print(f\"{self.name} just replicated in the cytoplasm of {self.host} cells\")"
      ],
      "execution_count":20,
      "outputs":[
        
      ],
      "metadata":{
        
      }
    },
    {
      "cell_type":"code",
      "source":[
        "class DNAVirus(Virus):\n",
        "    genome = \"deoxyribonucleic\"\n",
        "\n",
        "    def reproduce(self):\n",
        "        success, status = Virus.reproduce(self)\n",
        "\n",
        "        if success:\n",
        "            print(f\"{self.name} just replicated in the nucleus of {self.host} cells\")"
      ],
      "execution_count":21,
      "outputs":[
        
      ],
      "metadata":{
        
      }
    },
    {
      "cell_type":"code",
      "source":[
        "r = RNAVirus(\"HIV\", 1.1, 0.2)"
      ],
      "execution_count":16,
      "outputs":[
        
      ],
      "metadata":{
        
      }
    },
    {
      "cell_type":"code",
      "source":[
        "r.reproduce()"
      ],
      "execution_count":17,
      "outputs":[
        {
          "ename":"AttributeError",
          "evalue":"AttributeError: Virus needs to infect a host before being able to reproduce.",
          "traceback":[
            "\u001b[0;31m---------------------------------------------------------------------------",
            "Traceback (most recent call last)",
            "    at line 1 in <module>",
            "    at line 5 in reproduce(self)",
            "    at line 17 in reproduce(self)",
            "AttributeError: Virus needs to infect a host before being able to reproduce."
          ],
          "output_type":"error"
        }
      ],
      "metadata":{
        
      }
    },
    {
      "cell_type":"code",
      "source":[
        "r.infect(\"monkey0\")"
      ],
      "execution_count":18,
      "outputs":[
        
      ],
      "metadata":{
        
      }
    },
    {
      "cell_type":"code",
      "source":[
        "r.reproduce()"
      ],
      "execution_count":19,
      "outputs":[
        {
          "name":"stdout",
          "text":[
            "HIV just replicated in the cytoplasm of monkey0 cells\n"
          ],
          "output_type":"stream"
        }
      ],
      "metadata":{
        
      }
    },
    {
      "cell_type":"code",
      "source":[
        "d = DNAVirus(\"Ecoli\", 2.1, 0.2)"
      ],
      "execution_count":21,
      "outputs":[
        
      ],
      "metadata":{
        
      }
    },
    {
      "cell_type":"code",
      "source":[
        "d.infect(\"sheep1\")"
      ],
      "execution_count":22,
      "outputs":[
        
      ],
      "metadata":{
        
      }
    },
    {
      "cell_type":"code",
      "source":[
        "d.reproduce()"
      ],
      "execution_count":23,
      "outputs":[
        {
          "name":"stdout",
          "text":[
            "Ecoli just replicated in the nucleus of sheep1 cells\n"
          ],
          "output_type":"stream"
        }
      ],
      "metadata":{
        
      }
    },
    {
      "cell_type":"code",
      "source":[
        "d.genome, r.genome"
      ],
      "execution_count":24,
      "outputs":[
        {
          "data":{
            "text\/plain":[
              "('deoxyribonucleic', 'ribonucleic')"
            ]
          },
          "metadata":{
            
          },
          "output_type":"display_data"
        }
      ],
      "metadata":{
        
      }
    },
    {
      "cell_type":"markdown",
      "source":[
        "## `All Classes Inherit From object`"
      ],
      "attachments":{
        
      },
      "metadata":{
        
      }
    },
    {
      "cell_type":"code",
      "source":[
        "class Virus:\n",
        "    pass\n",
        "\n",
        "class RNAVirus(Virus):\n",
        "    pass"
      ],
      "execution_count":0,
      "outputs":[
        
      ],
      "metadata":{
        
      }
    },
    {
      "cell_type":"code",
      "source":[
        "object"
      ],
      "execution_count":35,
      "outputs":[
        {
          "data":{
            "text\/plain":[
              "object"
            ]
          },
          "metadata":{
            
          },
          "output_type":"display_data"
        }
      ],
      "metadata":{
        
      }
    },
    {
      "cell_type":"code",
      "source":[
        "object()"
      ],
      "execution_count":36,
      "outputs":[
        {
          "data":{
            "text\/plain":[
              "<object at 0x7fc01ba60eb0>"
            ]
          },
          "metadata":{
            
          },
          "output_type":"display_data"
        }
      ],
      "metadata":{
        
      }
    },
    {
      "cell_type":"code",
      "source":[
        "# sentinel"
      ],
      "execution_count":37,
      "outputs":[
        
      ],
      "metadata":{
        
      }
    },
    {
      "cell_type":"code",
      "source":[
        "o1 = object()\n",
        "o2 = object()"
      ],
      "execution_count":41,
      "outputs":[
        
      ],
      "metadata":{
        
      }
    },
    {
      "cell_type":"code",
      "source":[
        "o1 is o2"
      ],
      "execution_count":39,
      "outputs":[
        {
          "data":{
            "text\/plain":[
              "False"
            ]
          },
          "metadata":{
            
          },
          "output_type":"display_data"
        }
      ],
      "metadata":{
        
      }
    },
    {
      "cell_type":"code",
      "source":[
        "o1 == o2"
      ],
      "execution_count":40,
      "outputs":[
        {
          "data":{
            "text\/plain":[
              "False"
            ]
          },
          "metadata":{
            
          },
          "output_type":"display_data"
        }
      ],
      "metadata":{
        
      }
    },
    {
      "cell_type":"code",
      "source":[
        "o1.__class__"
      ],
      "execution_count":42,
      "outputs":[
        {
          "data":{
            "text\/plain":[
              "object"
            ]
          },
          "metadata":{
            
          },
          "output_type":"display_data"
        }
      ],
      "metadata":{
        
      }
    },
    {
      "cell_type":"code",
      "source":[
        "o1.__repr__()"
      ],
      "execution_count":43,
      "outputs":[
        {
          "data":{
            "text\/plain":[
              "'<object object at 0x7fc01bc1ee90>'"
            ]
          },
          "metadata":{
            
          },
          "output_type":"display_data"
        }
      ],
      "metadata":{
        
      }
    },
    {
      "cell_type":"code",
      "source":[
        "o1.__hash__()"
      ],
      "execution_count":44,
      "outputs":[
        {
          "data":{
            "text\/plain":[
              "8778942258921"
            ]
          },
          "metadata":{
            
          },
          "output_type":"display_data"
        }
      ],
      "metadata":{
        
      }
    },
    {
      "cell_type":"code",
      "source":[
        "class TempVirus:\n",
        "    pass\n",
        "\n",
        "\n",
        "class TempVirus(object):\n",
        "    pass"
      ],
      "execution_count":49,
      "outputs":[
        
      ],
      "metadata":{
        
      }
    },
    {
      "cell_type":"code",
      "source":[
        "[TempVirus() for i in range(3)]"
      ],
      "execution_count":47,
      "outputs":[
        {
          "data":{
            "text\/plain":[
              "[<__main__.TempVirus at 0x7fc01bf1b520>,\n",
              " <__main__.TempVirus at 0x7fc01bf1b2b0>,\n",
              " <__main__.TempVirus at 0x7fc01bf1b100>]"
            ]
          },
          "metadata":{
            
          },
          "output_type":"display_data"
        }
      ],
      "metadata":{
        
      }
    },
    {
      "cell_type":"code",
      "source":[
        "# object is callable is because its type implements __call__"
      ],
      "execution_count":48,
      "outputs":[
        
      ],
      "metadata":{
        
      }
    },
    {
      "cell_type":"code",
      "source":[
        "TempVirus.__call__"
      ],
      "execution_count":50,
      "outputs":[
        {
          "data":{
            "text\/plain":[
              "<method-wrapper '__call__' of type object at 0x557756ad2ff0>"
            ]
          },
          "metadata":{
            
          },
          "output_type":"display_data"
        }
      ],
      "metadata":{
        
      }
    },
    {
      "cell_type":"markdown",
      "source":[
        "## `Method Resolution Order`"
      ],
      "attachments":{
        
      },
      "metadata":{
        
      }
    },
    {
      "cell_type":"code",
      "source":[
        "class TempVirus:\n",
        "    attr = \"some_class_attribute\"\n",
        "    attr_other = \"some_other_class_attribute\"\n",
        "\n",
        "    def __init__(self, attr):\n",
        "        self.attr = attr"
      ],
      "execution_count":49,
      "outputs":[
        
      ],
      "metadata":{
        
      }
    },
    {
      "cell_type":"code",
      "source":[
        "# __dict__"
      ],
      "execution_count":50,
      "outputs":[
        
      ],
      "metadata":{
        
      }
    },
    {
      "cell_type":"code",
      "source":[
        "v1 = TempVirus(\"instance_attribute\")"
      ],
      "execution_count":51,
      "outputs":[
        
      ],
      "metadata":{
        
      }
    },
    {
      "cell_type":"code",
      "source":[
        "v1.attr"
      ],
      "execution_count":52,
      "outputs":[
        {
          "data":{
            "text\/plain":[
              "'instance_attribute'"
            ]
          },
          "metadata":{
            
          },
          "output_type":"display_data"
        }
      ],
      "metadata":{
        
      }
    },
    {
      "cell_type":"code",
      "source":[
        "v1.__dict__"
      ],
      "execution_count":53,
      "outputs":[
        {
          "data":{
            "text\/plain":[
              "{'attr': 'instance_attribute'}"
            ]
          },
          "metadata":{
            
          },
          "output_type":"display_data"
        }
      ],
      "metadata":{
        
      }
    },
    {
      "cell_type":"code",
      "source":[
        "v1.attr_other"
      ],
      "execution_count":54,
      "outputs":[
        {
          "data":{
            "text\/plain":[
              "'some_other_class_attribute'"
            ]
          },
          "metadata":{
            
          },
          "output_type":"display_data"
        }
      ],
      "metadata":{
        
      }
    },
    {
      "cell_type":"code",
      "source":[
        "type(v1).__dict__"
      ],
      "execution_count":55,
      "outputs":[
        {
          "data":{
            "text\/plain":[
              "mappingproxy({'__module__': '__main__',\n",
              "              'attr': 'some_class_attribute',\n",
              "              'attr_other': 'some_other_class_attribute',\n",
              "              '__init__': <function __main__.TempVirus.__init__(self, attr)>,\n",
              "              '__dict__': <attribute '__dict__' of 'TempVirus' objects>,\n",
              "              '__weakref__': <attribute '__weakref__' of 'TempVirus' objects>,\n",
              "              '__doc__': None})"
            ]
          },
          "metadata":{
            
          },
          "output_type":"display_data"
        }
      ],
      "metadata":{
        
      }
    },
    {
      "cell_type":"code",
      "source":[
        "TempVirus.__dict__"
      ],
      "execution_count":56,
      "outputs":[
        {
          "data":{
            "text\/plain":[
              "mappingproxy({'__module__': '__main__',\n",
              "              'attr': 'some_class_attribute',\n",
              "              'attr_other': 'some_other_class_attribute',\n",
              "              '__init__': <function __main__.TempVirus.__init__(self, attr)>,\n",
              "              '__dict__': <attribute '__dict__' of 'TempVirus' objects>,\n",
              "              '__weakref__': <attribute '__weakref__' of 'TempVirus' objects>,\n",
              "              '__doc__': None})"
            ]
          },
          "metadata":{
            
          },
          "output_type":"display_data"
        }
      ],
      "metadata":{
        
      }
    },
    {
      "cell_type":"code",
      "source":[
        "v1.__class__.__dict__"
      ],
      "execution_count":57,
      "outputs":[
        {
          "data":{
            "text\/plain":[
              "mappingproxy({'__module__': '__main__',\n",
              "              'attr': 'some_class_attribute',\n",
              "              'attr_other': 'some_other_class_attribute',\n",
              "              '__init__': <function __main__.TempVirus.__init__(self, attr)>,\n",
              "              '__dict__': <attribute '__dict__' of 'TempVirus' objects>,\n",
              "              '__weakref__': <attribute '__weakref__' of 'TempVirus' objects>,\n",
              "              '__doc__': None})"
            ]
          },
          "metadata":{
            
          },
          "output_type":"display_data"
        }
      ],
      "metadata":{
        
      }
    },
    {
      "cell_type":"code",
      "source":[
        "# instance -> class -> superclass(s) -> object, else AttributeError"
      ],
      "execution_count":0,
      "outputs":[
        
      ],
      "metadata":{
        
      }
    },
    {
      "cell_type":"code",
      "source":[
        "# v1.imaginary"
      ],
      "execution_count":59,
      "outputs":[
        
      ],
      "metadata":{
        
      }
    },
    {
      "cell_type":"code",
      "source":[
        "TempVirus.__bases__"
      ],
      "execution_count":60,
      "outputs":[
        {
          "data":{
            "text\/plain":[
              "(object,)"
            ]
          },
          "metadata":{
            
          },
          "output_type":"display_data"
        }
      ],
      "metadata":{
        
      }
    },
    {
      "cell_type":"code",
      "source":[
        "RNAVirus.__bases__"
      ],
      "execution_count":61,
      "outputs":[
        {
          "data":{
            "text\/plain":[
              "(__main__.Virus,)"
            ]
          },
          "metadata":{
            
          },
          "output_type":"display_data"
        }
      ],
      "metadata":{
        
      }
    },
    {
      "cell_type":"code",
      "source":[
        "Coronavirus.__bases__"
      ],
      "execution_count":62,
      "outputs":[
        {
          "data":{
            "text\/plain":[
              "(__main__.RNAVirus,)"
            ]
          },
          "metadata":{
            
          },
          "output_type":"display_data"
        }
      ],
      "metadata":{
        
      }
    },
    {
      "cell_type":"code",
      "source":[
        "# __mro__ -> method resolution order"
      ],
      "execution_count":63,
      "outputs":[
        
      ],
      "metadata":{
        
      }
    },
    {
      "cell_type":"code",
      "source":[
        "RNAVirus.__mro__"
      ],
      "execution_count":64,
      "outputs":[
        {
          "data":{
            "text\/plain":[
              "(__main__.RNAVirus, __main__.Virus, object)"
            ]
          },
          "metadata":{
            
          },
          "output_type":"display_data"
        }
      ],
      "metadata":{
        
      }
    },
    {
      "cell_type":"code",
      "source":[
        "Coronavirus.__mro__"
      ],
      "execution_count":65,
      "outputs":[
        {
          "data":{
            "text\/plain":[
              "(__main__.Coronavirus, __main__.RNAVirus, __main__.Virus, object)"
            ]
          },
          "metadata":{
            
          },
          "output_type":"display_data"
        }
      ],
      "metadata":{
        
      }
    },
    {
      "cell_type":"markdown",
      "source":[
        "## `Subclass Overrides`"
      ],
      "attachments":{
        
      },
      "metadata":{
        
      }
    },
    {
      "cell_type":"code",
      "source":[
        "from random import getrandbits"
      ],
      "execution_count":70,
      "outputs":[
        
      ],
      "metadata":{
        
      }
    },
    {
      "cell_type":"code",
      "source":[
        "for i in range(4):\n",
        "    print(getrandbits(1))"
      ],
      "execution_count":73,
      "outputs":[
        {
          "name":"stdout",
          "text":[
            "1\n",
            "1\n",
            "0\n",
            "1\n"
          ],
          "output_type":"stream"
        }
      ],
      "metadata":{
        
      }
    },
    {
      "cell_type":"code",
      "source":[
        
      ],
      "execution_count":0,
      "outputs":[
        
      ],
      "metadata":{
        
      }
    },
    {
      "cell_type":"code",
      "source":[
        "class Virus:\n",
        "    def __init__(self, name, reproduction_rate, resistance):\n",
        "        self.name = name\n",
        "        self.reproduction_rate = reproduction_rate\n",
        "        self.load = 1\n",
        "        self.host = None\n",
        "\n",
        "    def infect(self, host):\n",
        "        self.host = host\n",
        "\n",
        "    def reproduce(self):\n",
        "        if self.host is not None:\n",
        "            self.load *= (1 + self.reproduction_rate)\n",
        "\n",
        "            should_mutate = getrandbits(1)\n",
        "            print(f\"Should mutate: {should_mutate}\")\n",
        "\n",
        "            if should_mutate:\n",
        "                try:\n",
        "                    self.mutate()\n",
        "                except AttributeError:\n",
        "                    pass\n",
        "\n",
        "            return True, f\"Virus reproduced in {self.host}. Viral load: {int(self.load)}\"\n",
        "\n",
        "        raise AttributeError(\"Virus needs to infect a host before being able to reproduce.\")\n",
        "\n",
        "\n",
        "class RNAVirus(Virus):\n",
        "    genome = \"ribonucleic\"\n",
        "\n",
        "    def reproduce(self):\n",
        "        success, status = Virus.reproduce(self)\n",
        "\n",
        "        if success:\n",
        "            print(f\"{self.name} just replicated in the cytoplasm of {self.host} cells\")\n",
        "\n",
        "\n",
        "class DNAVirus(Virus):\n",
        "    genome = \"deoxyribonucleic\"\n",
        "\n",
        "    def reproduce(self):\n",
        "        success, status = Virus.reproduce(self)\n",
        "\n",
        "        if success:\n",
        "            print(f\"{self.name} just replicated in the nucleus of {self.host} cells\")"
      ],
      "execution_count":74,
      "outputs":[
        
      ],
      "metadata":{
        
      }
    },
    {
      "cell_type":"code",
      "source":[
        "class Coronavirus(RNAVirus):\n",
        "    pass\n",
        "\n",
        "class SARSCov2(Coronavirus):\n",
        "    def mutate(self):\n",
        "        print(f\"The {self.name} virus just mutated its spike protein\")"
      ],
      "execution_count":75,
      "outputs":[
        
      ],
      "metadata":{
        
      }
    },
    {
      "cell_type":"code",
      "source":[
        "cv = SARSCov2(\"original\", 2.9, 1.2)"
      ],
      "execution_count":76,
      "outputs":[
        
      ],
      "metadata":{
        
      }
    },
    {
      "cell_type":"code",
      "source":[
        "cv.infect(\"Tobi\")"
      ],
      "execution_count":77,
      "outputs":[
        
      ],
      "metadata":{
        
      }
    },
    {
      "cell_type":"code",
      "source":[
        "for _ in range(4):\n",
        "    print(cv.reproduce(), \"\\n\")"
      ],
      "execution_count":78,
      "outputs":[
        {
          "name":"stdout",
          "text":[
            "Should mutate: 1\n",
            "The original virus just mutated its spike protein\n",
            "original just replicated in the cytoplasm of Tobi cells\n",
            "None \n",
            "\n",
            "Should mutate: 0\n",
            "original just replicated in the cytoplasm of Tobi cells\n",
            "None \n",
            "\n",
            "Should mutate: 1\n",
            "The original virus just mutated its spike protein\n",
            "original just replicated in the cytoplasm of Tobi cells\n",
            "None \n",
            "\n",
            "Should mutate: 0\n",
            "original just replicated in the cytoplasm of Tobi cells\n",
            "None \n",
            "\n"
          ],
          "output_type":"stream"
        }
      ],
      "metadata":{
        
      }
    },
    {
      "cell_type":"markdown",
      "source":[
        "## `Better Parent Delegation: super()`"
      ],
      "attachments":{
        
      },
      "metadata":{
        
      }
    },
    {
      "cell_type":"code",
      "source":[
        "class Virus:\n",
        "    def __init__(self, name, reproduction_rate, resistance):\n",
        "        self.name = name\n",
        "        self.reproduction_rate = reproduction_rate\n",
        "        self.load = 1\n",
        "        self.host = None\n",
        "\n",
        "    def infect(self, host):\n",
        "        self.host = host\n",
        "\n",
        "    def reproduce(self):\n",
        "        if self.host is not None:\n",
        "            self.load *= (1 + self.reproduction_rate)\n",
        "\n",
        "            should_mutate = getrandbits(1)\n",
        "            print(f\"Should mutate: {should_mutate}\")\n",
        "\n",
        "            if should_mutate:\n",
        "                try:\n",
        "                    self.mutate()\n",
        "                except AttributeError:\n",
        "                    pass\n",
        "\n",
        "            return True, f\"Virus reproduced in {self.host}. Viral load: {int(self.load)}\"\n",
        "\n",
        "        raise AttributeError(\"Virus needs to infect a host before being able to reproduce.\")\n",
        "\n",
        "\n",
        "class RNAVirus(Virus):\n",
        "    genome = \"ribonucleic\"\n",
        "\n",
        "    def reproduce(self):\n",
        "        success, status = Virus.reproduce(self)\n",
        "\n",
        "        if success:\n",
        "            print(f\"{self.name} just replicated in the cytoplasm of {self.host} cells\")\n",
        "\n",
        "\n",
        "class DNAVirus(Virus):\n",
        "    genome = \"deoxyribonucleic\"\n",
        "\n",
        "    def reproduce(self):\n",
        "        # success, status = Virus.reproduce(self)\n",
        "        success, status = super().reproduce()\n",
        "\n",
        "        if success:\n",
        "            print(f\"{self.name} just replicated in the nucleus of {self.host} cells\")\n",
        "\n",
        "\n",
        "class Coronavirus(RNAVirus):\n",
        "    pass\n",
        "\n",
        "\n",
        "class SARSCov2(Coronavirus):\n",
        "    def mutate(self):\n",
        "        print(f\"The {self.name} virus just mutated its spike protein\")"
      ],
      "execution_count":79,
      "outputs":[
        
      ],
      "metadata":{
        
      }
    },
    {
      "cell_type":"code",
      "source":[
        "rv = RNAVirus(\"a\", 1.1, 1.2)\n",
        "dv = DNAVirus(\"dv\", 1.3, 1.2)\n",
        "\n",
        "rv.infect(\"Andrew\")\n",
        "dv.infect(\"Tobi\")"
      ],
      "execution_count":81,
      "outputs":[
        
      ],
      "metadata":{
        
      }
    },
    {
      "cell_type":"code",
      "source":[
        "rv.reproduce()"
      ],
      "execution_count":82,
      "outputs":[
        {
          "name":"stdout",
          "text":[
            "Should mutate: 1\n",
            "a just replicated in the cytoplasm of Andrew cells\n"
          ],
          "output_type":"stream"
        }
      ],
      "metadata":{
        
      }
    },
    {
      "cell_type":"code",
      "source":[
        "dv.reproduce()"
      ],
      "execution_count":83,
      "outputs":[
        {
          "name":"stdout",
          "text":[
            "Should mutate: 0\n",
            "dv just replicated in the nucleus of Tobi cells\n"
          ],
          "output_type":"stream"
        }
      ],
      "metadata":{
        
      }
    },
    {
      "cell_type":"markdown",
      "source":[
        "## `Subclass __init__`"
      ],
      "attachments":{
        
      },
      "metadata":{
        
      }
    },
    {
      "cell_type":"code",
      "source":[
        "class Virus:\n",
        "    def __init__(self, name, reproduction_rate, resistance):\n",
        "        self.name = name\n",
        "        self.reproduction_rate = reproduction_rate\n",
        "        self.load = 1\n",
        "        self.host = None\n",
        "\n",
        "    def infect(self, host):\n",
        "        self.host = host\n",
        "\n",
        "    def reproduce(self):\n",
        "        if self.host is not None:\n",
        "            self.load *= (1 + self.reproduction_rate)\n",
        "\n",
        "            should_mutate = getrandbits(1)\n",
        "            print(f\"Should mutate: {should_mutate}\")\n",
        "\n",
        "            if should_mutate:\n",
        "                try:\n",
        "                    self.mutate()\n",
        "                except AttributeError:\n",
        "                    pass\n",
        "\n",
        "            return True, f\"Virus reproduced in {self.host}. Viral load: {int(self.load)}\"\n",
        "\n",
        "        raise AttributeError(\"Virus needs to infect a host before being able to reproduce.\")\n",
        "\n",
        "\n",
        "class RNAVirus(Virus):\n",
        "    genome = \"ribonucleic\"\n",
        "\n",
        "    def reproduce(self):\n",
        "        success, status = Virus.reproduce(self)\n",
        "\n",
        "        if success:\n",
        "            print(f\"{self.name} just replicated in the cytoplasm of {self.host} cells\")\n",
        "\n",
        "\n",
        "class DNAVirus(Virus):\n",
        "    genome = \"deoxyribonucleic\"\n",
        "\n",
        "    def reproduce(self):\n",
        "        # success, status = Virus.reproduce(self)\n",
        "        success, status = super().reproduce()\n",
        "\n",
        "        if success:\n",
        "            print(f\"{self.name} just replicated in the nucleus of {self.host} cells\")\n",
        "\n",
        "\n",
        "class Coronavirus(RNAVirus):\n",
        "    pass\n",
        "\n",
        "\n",
        "class SARSCov2(Coronavirus):\n",
        "    def __init__(self, variant):\n",
        "        super().__init__(\"SARSCovid2\", 2.49, 1.3)\n",
        "        self.variant = variant\n",
        "\n",
        "    def mutate(self):\n",
        "        print(f\"The {self.name} virus just mutated its spike protein\")"
      ],
      "execution_count":60,
      "outputs":[
        
      ],
      "metadata":{
        
      }
    },
    {
      "cell_type":"code",
      "source":[
        "cv = SARSCov2(\"Omicron\")"
      ],
      "execution_count":92,
      "outputs":[
        
      ],
      "metadata":{
        
      }
    },
    {
      "cell_type":"code",
      "source":[
        "cv"
      ],
      "execution_count":93,
      "outputs":[
        {
          "data":{
            "text\/plain":[
              "<__main__.SARSCov2 at 0x7f8509d1ee80>"
            ]
          },
          "metadata":{
            
          },
          "output_type":"display_data"
        }
      ],
      "metadata":{
        
      }
    },
    {
      "cell_type":"code",
      "source":[
        "cv.reproduction_rate"
      ],
      "execution_count":94,
      "outputs":[
        {
          "data":{
            "text\/plain":[
              "2.49"
            ]
          },
          "metadata":{
            
          },
          "output_type":"display_data"
        }
      ],
      "metadata":{
        
      }
    },
    {
      "cell_type":"code",
      "source":[
        "cv.__dict__"
      ],
      "execution_count":95,
      "outputs":[
        {
          "data":{
            "text\/plain":[
              "{'name': 'SARSCovid2',\n",
              " 'reproduction_rate': 2.49,\n",
              " 'load': 1,\n",
              " 'host': None,\n",
              " 'variant': 'Omicron'}"
            ]
          },
          "metadata":{
            
          },
          "output_type":"display_data"
        }
      ],
      "metadata":{
        
      }
    },
    {
      "cell_type":"code",
      "source":[
        "SARSCov2.__mro__"
      ],
      "execution_count":96,
      "outputs":[
        {
          "data":{
            "text\/plain":[
              "(__main__.SARSCov2,\n",
              " __main__.Coronavirus,\n",
              " __main__.RNAVirus,\n",
              " __main__.Virus,\n",
              " object)"
            ]
          },
          "metadata":{
            
          },
          "output_type":"display_data"
        }
      ],
      "metadata":{
        
      }
    },
    {
      "cell_type":"code",
      "source":[
        "# - parent - child class relationship defined using inheritance\n",
        "# - where the child defined an init only for the purpose of calling the parent init"
      ],
      "execution_count":97,
      "outputs":[
        
      ],
      "metadata":{
        
      }
    },
    {
      "cell_type":"code",
      "source":[
        "class Parent:\n",
        "    def __init__(self):\n",
        "        print(\"parent init\")\n",
        "\n",
        "\n",
        "class Child(Parent):\n",
        "    pass\n",
        "    # def __init__(self):\n",
        "    #     super().__init__()"
      ],
      "execution_count":100,
      "outputs":[
        
      ],
      "metadata":{
        
      }
    },
    {
      "cell_type":"code",
      "source":[
        "c = Child()"
      ],
      "execution_count":101,
      "outputs":[
        {
          "name":"stdout",
          "text":[
            "parent init\n"
          ],
          "output_type":"stream"
        }
      ],
      "metadata":{
        
      }
    },
    {
      "cell_type":"markdown",
      "source":[
        "## `Subclassing Properties`"
      ],
      "attachments":{
        
      },
      "metadata":{
        
      }
    },
    {
      "cell_type":"code",
      "source":[
        "class SARSCov2(Coronavirus):\n",
        "    known_variants = [\"alpha\", \"beta\", \"gamma\", \"epsilon\"]\n",
        "\n",
        "    def __init__(self, variant):\n",
        "        super().__init__(\"SARSCovid2\", 2.49, 1.3)\n",
        "        self.variant = variant\n",
        "\n",
        "    def mutate(self):\n",
        "        print(f\"The {self.name} virus just mutated its spike protein\")\n",
        "\n",
        "    @property\n",
        "    def variant(self):\n",
        "        return self._variant\n",
        "\n",
        "    @variant.setter\n",
        "    def variant(self, value):\n",
        "        if value.lower() not in self.known_variants:\n",
        "            raise ValueError(\"Expected a known variant of concer\")\n",
        "\n",
        "        self._variant = value.lower()"
      ],
      "execution_count":4,
      "outputs":[
        
      ],
      "metadata":{
        
      }
    },
    {
      "cell_type":"code",
      "source":[
        "cv = SARSCov2(\"ALPha\")"
      ],
      "execution_count":116,
      "outputs":[
        
      ],
      "metadata":{
        
      }
    },
    {
      "cell_type":"code",
      "source":[
        "cv.__dict__"
      ],
      "execution_count":117,
      "outputs":[
        {
          "data":{
            "text\/plain":[
              "{'name': 'SARSCovid2',\n",
              " 'reproduction_rate': 2.49,\n",
              " 'load': 1,\n",
              " 'host': None,\n",
              " '_variant': 'alpha'}"
            ]
          },
          "metadata":{
            
          },
          "output_type":"display_data"
        }
      ],
      "metadata":{
        
      }
    },
    {
      "cell_type":"code",
      "source":[
        "cv.variant = \"UK\""
      ],
      "execution_count":118,
      "outputs":[
        {
          "ename":"ValueError",
          "evalue":"ValueError: Expected a known variant of concer",
          "traceback":[
            "\u001b[0;31m---------------------------------------------------------------------------",
            "Traceback (most recent call last)",
            "    at line 1 in <module>",
            "    at line 18 in variant(self, value)",
            "ValueError: Expected a known variant of concer"
          ],
          "output_type":"error"
        }
      ],
      "metadata":{
        
      }
    },
    {
      "cell_type":"code",
      "source":[
        "cv.variant = \"beta\""
      ],
      "execution_count":119,
      "outputs":[
        
      ],
      "metadata":{
        
      }
    },
    {
      "cell_type":"code",
      "source":[
        "cv.variant"
      ],
      "execution_count":120,
      "outputs":[
        {
          "data":{
            "text\/plain":[
              "'beta'"
            ]
          },
          "metadata":{
            
          },
          "output_type":"display_data"
        }
      ],
      "metadata":{
        
      }
    },
    {
      "cell_type":"code",
      "source":[
        "class DoubleMutant(SARSCov2):\n",
        "    pass"
      ],
      "execution_count":121,
      "outputs":[
        
      ],
      "metadata":{
        
      }
    },
    {
      "cell_type":"code",
      "source":[
        "DoubleMutant(\"NEW\")"
      ],
      "execution_count":122,
      "outputs":[
        {
          "ename":"ValueError",
          "evalue":"ValueError: Expected a known variant of concer",
          "traceback":[
            "\u001b[0;31m---------------------------------------------------------------------------",
            "Traceback (most recent call last)",
            "    at line 1 in <module>",
            "    at line 6 in __init__(self, variant)",
            "    at line 18 in variant(self, value)",
            "ValueError: Expected a known variant of concer"
          ],
          "output_type":"error"
        }
      ],
      "metadata":{
        
      }
    },
    {
      "cell_type":"code",
      "source":[
        "class DoubleMutant(SARSCov2):\n",
        "    @variant.setter\n",
        "    def variant(self, value):\n",
        "        self._variant = value.lower()"
      ],
      "execution_count":123,
      "outputs":[
        {
          "ename":"NameError",
          "evalue":"NameError: name 'variant' is not defined",
          "traceback":[
            "\u001b[0;31m---------------------------------------------------------------------------",
            "Traceback (most recent call last)",
            "    at line 1 in <module>",
            "    at line 2 in DoubleMutant()",
            "NameError: name 'variant' is not defined"
          ],
          "output_type":"error"
        }
      ],
      "metadata":{
        
      }
    },
    {
      "cell_type":"code",
      "source":[
        "class DoubleMutant(SARSCov2):\n",
        "    @SARSCov2.variant.setter\n",
        "    def variant(self, value):\n",
        "        self._variant = value.lower()"
      ],
      "execution_count":124,
      "outputs":[
        
      ],
      "metadata":{
        
      }
    },
    {
      "cell_type":"code",
      "source":[
        "dm = DoubleMutant(\"NEW_VARIANT\")"
      ],
      "execution_count":125,
      "outputs":[
        
      ],
      "metadata":{
        
      }
    },
    {
      "cell_type":"code",
      "source":[
        "dm.variant"
      ],
      "execution_count":126,
      "outputs":[
        {
          "data":{
            "text\/plain":[
              "'new_variant'"
            ]
          },
          "metadata":{
            
          },
          "output_type":"display_data"
        }
      ],
      "metadata":{
        
      }
    },
    {
      "cell_type":"code",
      "source":[
        "class DoubleMutant(SARSCov2):\n",
        "    @property\n",
        "    def variant(self):\n",
        "        print(\"Getter from the subclass!\")\n",
        "        return self._variant\n",
        "\n",
        "    @variant.setter\n",
        "    def variant(self, value):\n",
        "        self._variant = value.lower()\n",
        "\n",
        "    @variant.deleter\n",
        "    def variant(self):\n",
        "        del self._variant"
      ],
      "execution_count":17,
      "outputs":[
        
      ],
      "metadata":{
        
      }
    },
    {
      "cell_type":"code",
      "source":[
        "cv = SARSCov2(\"alpha\")\n",
        "\n",
        "dm = DoubleMutant(\"ALPHA V92\")"
      ],
      "execution_count":19,
      "outputs":[
        
      ],
      "metadata":{
        
      }
    },
    {
      "cell_type":"code",
      "source":[
        "dm.variant = \"NEW VARIANTas dfasd\""
      ],
      "execution_count":20,
      "outputs":[
        
      ],
      "metadata":{
        
      }
    },
    {
      "cell_type":"code",
      "source":[
        "dm.variant"
      ],
      "execution_count":22,
      "outputs":[
        {
          "name":"stdout",
          "text":[
            "Getter from the subclass!\n"
          ],
          "output_type":"stream"
        },
        {
          "data":{
            "text\/plain":[
              "'new variantas dfasd'"
            ]
          },
          "metadata":{
            
          },
          "output_type":"display_data"
        }
      ],
      "metadata":{
        
      }
    },
    {
      "cell_type":"code",
      "source":[
        "cv.variant = \"NEW VARIANTas dfasd\""
      ],
      "execution_count":23,
      "outputs":[
        {
          "ename":"ValueError",
          "evalue":"ValueError: Expected a known variant of concer",
          "traceback":[
            "\u001b[0;31m---------------------------------------------------------------------------",
            "Traceback (most recent call last)",
            "    at line 1 in <module>",
            "    at line 18 in variant(self, value)",
            "ValueError: Expected a known variant of concer"
          ],
          "output_type":"error"
        }
      ],
      "metadata":{
        
      }
    },
    {
      "cell_type":"code",
      "source":[
        "DoubleMutant.__dict__"
      ],
      "execution_count":24,
      "outputs":[
        {
          "data":{
            "text\/plain":[
              "mappingproxy({'__module__': '__main__',\n",
              "              'variant': <property at 0x7f5eb363d8b0>,\n",
              "              '__doc__': None})"
            ]
          },
          "metadata":{
            
          },
          "output_type":"display_data"
        }
      ],
      "metadata":{
        
      }
    },
    {
      "cell_type":"code",
      "source":[
        "SARSCov2.__dict__"
      ],
      "execution_count":25,
      "outputs":[
        {
          "data":{
            "text\/plain":[
              "mappingproxy({'__module__': '__main__',\n",
              "              'known_variants': ['alpha', 'beta', 'gamma', 'epsilon'],\n",
              "              '__init__': <function __main__.SARSCov2.__init__(self, variant)>,\n",
              "              'mutate': <function __main__.SARSCov2.mutate(self)>,\n",
              "              'variant': <property at 0x7f5ec090f810>,\n",
              "              '__doc__': None})"
            ]
          },
          "metadata":{
            
          },
          "output_type":"display_data"
        }
      ],
      "metadata":{
        
      }
    },
    {
      "cell_type":"markdown",
      "source":[
        "## `Extending Built-ins`"
      ],
      "attachments":{
        
      },
      "metadata":{
        
      }
    },
    {
      "cell_type":"code",
      "source":[
        "# list or dict"
      ],
      "execution_count":0,
      "outputs":[
        
      ],
      "metadata":{
        
      }
    },
    {
      "cell_type":"code",
      "source":[
        "population = {\n",
        "    \"CAN\": 38,\n",
        "    \"USA\": 329,\n",
        "    \"IND\": 1380\n",
        "}"
      ],
      "execution_count":1,
      "outputs":[
        
      ],
      "metadata":{
        
      }
    },
    {
      "cell_type":"code",
      "source":[
        "population['CAN']"
      ],
      "execution_count":2,
      "outputs":[
        {
          "data":{
            "text\/plain":[
              "38"
            ]
          },
          "metadata":{
            
          },
          "output_type":"display_data"
        }
      ],
      "metadata":{
        
      }
    },
    {
      "cell_type":"code",
      "source":[
        "population['CANADA']"
      ],
      "execution_count":3,
      "outputs":[
        {
          "ename":"KeyError",
          "evalue":"KeyError: 'CANADA'",
          "traceback":[
            "\u001b[0;31m---------------------------------------------------------------------------",
            "Traceback (most recent call last)",
            "    at line 1 in <module>",
            "KeyError: 'CANADA'"
          ],
          "output_type":"error"
        }
      ],
      "metadata":{
        
      }
    },
    {
      "cell_type":"code",
      "source":[
        "population.__getitem__(\"CANADA\")"
      ],
      "execution_count":4,
      "outputs":[
        {
          "ename":"KeyError",
          "evalue":"KeyError: 'CANADA'",
          "traceback":[
            "\u001b[0;31m---------------------------------------------------------------------------",
            "Traceback (most recent call last)",
            "    at line 1 in <module>",
            "KeyError: 'CANADA'"
          ],
          "output_type":"error"
        }
      ],
      "metadata":{
        
      }
    },
    {
      "cell_type":"code",
      "source":[
        "from random import choice\n",
        "\n",
        "class FunnyDict(dict):\n",
        "    not_found = ['404', 'Wait, what?', 'Try again, or dont?']\n",
        "\n",
        "    def __getitem__(self, item):\n",
        "        if not item in self:\n",
        "            return choice(self.not_found)\n",
        "\n",
        "        return super().__getitem__(item)"
      ],
      "execution_count":5,
      "outputs":[
        
      ],
      "metadata":{
        
      }
    },
    {
      "cell_type":"code",
      "source":[
        "population = FunnyDict({\n",
        "    \"CAN\": 38,\n",
        "    \"USA\": 329,\n",
        "    \"IND\": 1380\n",
        "})"
      ],
      "execution_count":6,
      "outputs":[
        
      ],
      "metadata":{
        
      }
    },
    {
      "cell_type":"code",
      "source":[
        "population['CAN']"
      ],
      "execution_count":7,
      "outputs":[
        {
          "data":{
            "text\/plain":[
              "38"
            ]
          },
          "metadata":{
            
          },
          "output_type":"display_data"
        }
      ],
      "metadata":{
        
      }
    },
    {
      "cell_type":"code",
      "source":[
        "for i in range(6):\n",
        "    print(population['CANADA'])"
      ],
      "execution_count":13,
      "outputs":[
        {
          "name":"stdout",
          "text":[
            "Wait, what?\n",
            "Try again, or dont?\n",
            "Try again, or dont?\n",
            "404\n",
            "Wait, what?\n",
            "404\n"
          ],
          "output_type":"stream"
        }
      ],
      "metadata":{
        
      }
    },
    {
      "cell_type":"markdown",
      "source":[
        "## `Another Example`"
      ],
      "attachments":{
        
      },
      "metadata":{
        
      }
    },
    {
      "cell_type":"code",
      "source":[
        "l = [1, 10, 2.23, 21]"
      ],
      "execution_count":14,
      "outputs":[
        
      ],
      "metadata":{
        
      }
    },
    {
      "cell_type":"code",
      "source":[
        "sum(l) \/ len(l)"
      ],
      "execution_count":15,
      "outputs":[
        {
          "data":{
            "text\/plain":[
              "8.557500000000001"
            ]
          },
          "metadata":{
            
          },
          "output_type":"display_data"
        }
      ],
      "metadata":{
        
      }
    },
    {
      "cell_type":"code",
      "source":[
        "class AvgList(list):\n",
        "    def average(self):\n",
        "        return sum(self) \/ len(self)"
      ],
      "execution_count":16,
      "outputs":[
        
      ],
      "metadata":{
        
      }
    },
    {
      "cell_type":"code",
      "source":[
        "l2 = AvgList([1, 10, 2.23, 21])"
      ],
      "execution_count":17,
      "outputs":[
        
      ],
      "metadata":{
        
      }
    },
    {
      "cell_type":"code",
      "source":[
        "l2.average()"
      ],
      "execution_count":18,
      "outputs":[
        {
          "data":{
            "text\/plain":[
              "8.557500000000001"
            ]
          },
          "metadata":{
            
          },
          "output_type":"display_data"
        }
      ],
      "metadata":{
        
      }
    },
    {
      "cell_type":"code",
      "source":[
        "class AvgList(list):\n",
        "    @property\n",
        "    def average(self):\n",
        "        return sum(self) \/ len(self)"
      ],
      "execution_count":19,
      "outputs":[
        
      ],
      "metadata":{
        
      }
    },
    {
      "cell_type":"code",
      "source":[
        "l3 = AvgList([1, 10, 2.23, 21])"
      ],
      "execution_count":23,
      "outputs":[
        
      ],
      "metadata":{
        
      }
    },
    {
      "cell_type":"code",
      "source":[
        "l3.average"
      ],
      "execution_count":24,
      "outputs":[
        {
          "data":{
            "text\/plain":[
              "8.557500000000001"
            ]
          },
          "metadata":{
            
          },
          "output_type":"display_data"
        }
      ],
      "metadata":{
        
      }
    },
    {
      "cell_type":"code",
      "source":[
        "class AvgList(list):\n",
        "    def __init__(self, *args):\n",
        "        if args and type(args[0]) != list:\n",
        "            super().__init__(args)\n",
        "        else:\n",
        "            super().__init__(args[0])\n",
        "\n",
        "    @property\n",
        "    def average(self):\n",
        "        return sum(self) \/ len(self)"
      ],
      "execution_count":25,
      "outputs":[
        
      ],
      "metadata":{
        
      }
    },
    {
      "cell_type":"code",
      "source":[
        "l4 = AvgList(1, 10, 2.23, 21)"
      ],
      "execution_count":26,
      "outputs":[
        
      ],
      "metadata":{
        
      }
    },
    {
      "cell_type":"code",
      "source":[
        "l4.average"
      ],
      "execution_count":27,
      "outputs":[
        {
          "data":{
            "text\/plain":[
              "8.557500000000001"
            ]
          },
          "metadata":{
            
          },
          "output_type":"display_data"
        }
      ],
      "metadata":{
        
      }
    },
    {
      "cell_type":"code",
      "source":[
        "l5 = AvgList([1, 10, 2.23, 21])"
      ],
      "execution_count":28,
      "outputs":[
        
      ],
      "metadata":{
        
      }
    },
    {
      "cell_type":"code",
      "source":[
        "l5.average"
      ],
      "execution_count":29,
      "outputs":[
        {
          "data":{
            "text\/plain":[
              "8.557500000000001"
            ]
          },
          "metadata":{
            
          },
          "output_type":"display_data"
        }
      ],
      "metadata":{
        
      }
    },
    {
      "cell_type":"markdown",
      "source":[
        "## `Beware The Pitfalls`"
      ],
      "attachments":{
        
      },
      "metadata":{
        
      }
    },
    {
      "cell_type":"code",
      "source":[
        "from random import choice\n",
        "\n",
        "\n",
        "class FunnyDict(dict):\n",
        "    not_found = [\"404\", \"Wait, what?\", \"Try again, or don't?\"]\n",
        "\n",
        "    def __getitem__(self, item):  \n",
        "        if not item in self:  \n",
        "            return choice(self.not_found) \n",
        "\n",
        "        return super().__getitem__(item)"
      ],
      "execution_count":33,
      "outputs":[
        
      ],
      "metadata":{
        
      }
    },
    {
      "cell_type":"code",
      "source":[
        "rd = {\n",
        "    \"CAN\": 38,\n",
        "    \"USA\": 329,\n",
        "    \"IND\": 1380\n",
        "}\n",
        "\n",
        "fd = FunnyDict({\n",
        "    \"CAN\": 38,\n",
        "    \"USA\": 329,\n",
        "    \"IND\": 1380\n",
        "})"
      ],
      "execution_count":34,
      "outputs":[
        
      ],
      "metadata":{
        
      }
    },
    {
      "cell_type":"code",
      "source":[
        "rd[\"CAR\"]"
      ],
      "execution_count":35,
      "outputs":[
        {
          "ename":"KeyError",
          "evalue":"KeyError: 'CAR'",
          "traceback":[
            "\u001b[0;31m---------------------------------------------------------------------------",
            "Traceback (most recent call last)",
            "    at line 1 in <module>",
            "KeyError: 'CAR'"
          ],
          "output_type":"error"
        }
      ],
      "metadata":{
        
      }
    },
    {
      "cell_type":"code",
      "source":[
        "fd[\"CAR\"]"
      ],
      "execution_count":39,
      "outputs":[
        {
          "data":{
            "text\/plain":[
              "'404'"
            ]
          },
          "metadata":{
            
          },
          "output_type":"display_data"
        }
      ],
      "metadata":{
        
      }
    },
    {
      "cell_type":"code",
      "source":[
        "rd.get(\"CAN\")"
      ],
      "execution_count":40,
      "outputs":[
        {
          "data":{
            "text\/plain":[
              "38"
            ]
          },
          "metadata":{
            
          },
          "output_type":"display_data"
        }
      ],
      "metadata":{
        
      }
    },
    {
      "cell_type":"code",
      "source":[
        "fd.get(\"CAN\")"
      ],
      "execution_count":41,
      "outputs":[
        {
          "data":{
            "text\/plain":[
              "38"
            ]
          },
          "metadata":{
            
          },
          "output_type":"display_data"
        }
      ],
      "metadata":{
        
      }
    },
    {
      "cell_type":"code",
      "source":[
        "fd.get(\"CAR\")"
      ],
      "execution_count":42,
      "outputs":[
        
      ],
      "metadata":{
        
      }
    },
    {
      "cell_type":"code",
      "source":[
        "from random import choice\n",
        "\n",
        "\n",
        "class FunnyDict(dict):\n",
        "    not_found = [\"404\", \"Wait, what?\", \"Try again, or don't?\"]\n",
        "\n",
        "    def __getitem__(self, item):  \n",
        "        if not item in self:  \n",
        "            return choice(self.not_found) \n",
        "\n",
        "        return super().__getitem__(item)\n",
        "\n",
        "    def get(self, value):\n",
        "        return self.__getitem__(value)"
      ],
      "execution_count":43,
      "outputs":[
        
      ],
      "metadata":{
        
      }
    },
    {
      "cell_type":"code",
      "source":[
        "fd = FunnyDict({\n",
        "    \"CAN\": 38,\n",
        "    \"USA\": 329,\n",
        "    \"IND\": 1380\n",
        "})"
      ],
      "execution_count":44,
      "outputs":[
        
      ],
      "metadata":{
        
      }
    },
    {
      "cell_type":"code",
      "source":[
        "fd.get(\"CAR\")"
      ],
      "execution_count":49,
      "outputs":[
        {
          "data":{
            "text\/plain":[
              "'Wait, what?'"
            ]
          },
          "metadata":{
            
          },
          "output_type":"display_data"
        }
      ],
      "metadata":{
        
      }
    },
    {
      "cell_type":"code",
      "source":[
        "# update(), pop()"
      ],
      "execution_count":0,
      "outputs":[
        
      ],
      "metadata":{
        
      }
    },
    {
      "cell_type":"code",
      "source":[
        "from random import choice\n",
        "from collections import UserDict\n",
        "\n",
        "\n",
        "class FunnyDict(UserDict):\n",
        "    not_found = [\"404\", \"Wait, what?\", \"Try again, or don't?\"]\n",
        "\n",
        "    def __getitem__(self, item):  \n",
        "        if not item in self:  \n",
        "            return choice(self.not_found) \n",
        "\n",
        "        return super().__getitem__(item)"
      ],
      "execution_count":53,
      "outputs":[
        
      ],
      "metadata":{
        
      }
    },
    {
      "cell_type":"code",
      "source":[
        "fd = FunnyDict({\n",
        "    \"CAN\": 38,\n",
        "    \"USA\": 329,\n",
        "    \"IND\": 1380\n",
        "})"
      ],
      "execution_count":54,
      "outputs":[
        
      ],
      "metadata":{
        
      }
    },
    {
      "cell_type":"code",
      "source":[
        "fd.get(\"CAR\")"
      ],
      "execution_count":55,
      "outputs":[
        {
          "data":{
            "text\/plain":[
              "\"Try again, or don't?\""
            ]
          },
          "metadata":{
            
          },
          "output_type":"display_data"
        }
      ],
      "metadata":{
        
      }
    },
    {
      "cell_type":"code",
      "source":[
        "fd['CARA:LDFK']"
      ],
      "execution_count":56,
      "outputs":[
        {
          "data":{
            "text\/plain":[
              "'404'"
            ]
          },
          "metadata":{
            
          },
          "output_type":"display_data"
        }
      ],
      "metadata":{
        
      }
    },
    {
      "cell_type":"code",
      "source":[
        "fd[\"CAN\"]"
      ],
      "execution_count":57,
      "outputs":[
        {
          "data":{
            "text\/plain":[
              "38"
            ]
          },
          "metadata":{
            
          },
          "output_type":"display_data"
        }
      ],
      "metadata":{
        
      }
    },
    {
      "cell_type":"code",
      "source":[
        "fd.data"
      ],
      "execution_count":58,
      "outputs":[
        {
          "data":{
            "text\/plain":[
              "{'CAN': 38, 'USA': 329, 'IND': 1380}"
            ]
          },
          "metadata":{
            
          },
          "output_type":"display_data"
        }
      ],
      "metadata":{
        
      }
    },
    {
      "cell_type":"markdown",
      "source":[
        "## `Beyond Inheritance`"
      ],
      "attachments":{
        
      },
      "metadata":{
        
      }
    },
    {
      "cell_type":"code",
      "source":[
        
      ],
      "execution_count":0,
      "outputs":[
        
      ],
      "metadata":{
        
      }
    },
    {
      "cell_type":"code",
      "source":[
        
      ],
      "execution_count":0,
      "outputs":[
        
      ],
      "metadata":{
        
      }
    },
    {
      "cell_type":"code",
      "source":[
        
      ],
      "execution_count":0,
      "outputs":[
        
      ],
      "metadata":{
        
      }
    }
  ],
  "metadata":{
    
  },
  "nbformat":4,
  "nbformat_minor":0
}