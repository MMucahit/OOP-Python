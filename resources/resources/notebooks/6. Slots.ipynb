{
  "cells":[
    {
      "cell_type":"markdown",
      "source":[
        "## `Instance Data Storage Review`"
      ],
      "attachments":{
        
      },
      "metadata":{
        
      }
    },
    {
      "cell_type":"code",
      "source":[
        "class Employee(object):\n",
        "    def __init__(self, name, surname, age, status, salary):\n",
        "        self.name = name\n",
        "        self.surname = surname\n",
        "        self.age = age\n",
        "        self.status = status\n",
        "        self.salary = salary"
      ],
      "execution_count":5,
      "outputs":[
        
      ],
      "metadata":{
        
      }
    },
    {
      "cell_type":"code",
      "source":[
        "e1 = Employee(\"Andrew\", \"Doerte\", 42, \"FT\", 46000)"
      ],
      "execution_count":6,
      "outputs":[
        
      ],
      "metadata":{
        
      }
    },
    {
      "cell_type":"code",
      "source":[
        "e1"
      ],
      "execution_count":8,
      "outputs":[
        {
          "data":{
            "text\/plain":[
              "<__main__.Employee at 0x7ffa30634c10>"
            ]
          },
          "metadata":{
            
          },
          "output_type":"display_data"
        }
      ],
      "metadata":{
        
      }
    },
    {
      "cell_type":"code",
      "source":[
        "e1.name"
      ],
      "execution_count":9,
      "outputs":[
        {
          "data":{
            "text\/plain":[
              "'Andrew'"
            ]
          },
          "metadata":{
            
          },
          "output_type":"display_data"
        }
      ],
      "metadata":{
        
      }
    },
    {
      "cell_type":"code",
      "source":[
        "e1.surname"
      ],
      "execution_count":10,
      "outputs":[
        {
          "data":{
            "text\/plain":[
              "'Doerte'"
            ]
          },
          "metadata":{
            
          },
          "output_type":"display_data"
        }
      ],
      "metadata":{
        
      }
    },
    {
      "cell_type":"code",
      "source":[
        "e1.__dict__"
      ],
      "execution_count":11,
      "outputs":[
        {
          "data":{
            "text\/plain":[
              "{'name': 'Andrew',\n",
              " 'surname': 'Doerte',\n",
              " 'age': 42,\n",
              " 'status': 'FT',\n",
              " 'salary': 46000}"
            ]
          },
          "metadata":{
            
          },
          "output_type":"display_data"
        }
      ],
      "metadata":{
        
      }
    },
    {
      "cell_type":"code",
      "source":[
        "type(e1.__dict__) # instance namespace"
      ],
      "execution_count":12,
      "outputs":[
        {
          "data":{
            "text\/plain":[
              "dict"
            ]
          },
          "metadata":{
            
          },
          "output_type":"display_data"
        }
      ],
      "metadata":{
        
      }
    },
    {
      "cell_type":"code",
      "source":[
        "type(e1.__class__.__dict__) # class namespace"
      ],
      "execution_count":14,
      "outputs":[
        {
          "data":{
            "text\/plain":[
              "mappingproxy"
            ]
          },
          "metadata":{
            
          },
          "output_type":"display_data"
        }
      ],
      "metadata":{
        
      }
    },
    {
      "cell_type":"code",
      "source":[
        "e1.__dict__[\"pension\"] = \"DB\""
      ],
      "execution_count":15,
      "outputs":[
        
      ],
      "metadata":{
        
      }
    },
    {
      "cell_type":"code",
      "source":[
        "e1.pension"
      ],
      "execution_count":16,
      "outputs":[
        {
          "data":{
            "text\/plain":[
              "'DB'"
            ]
          },
          "metadata":{
            
          },
          "output_type":"display_data"
        }
      ],
      "metadata":{
        
      }
    },
    {
      "cell_type":"code",
      "source":[
        "e1.__dict__"
      ],
      "execution_count":17,
      "outputs":[
        {
          "data":{
            "text\/plain":[
              "{'name': 'Andrew',\n",
              " 'surname': 'Doerte',\n",
              " 'age': 42,\n",
              " 'status': 'FT',\n",
              " 'salary': 46000,\n",
              " 'pension': 'DB'}"
            ]
          },
          "metadata":{
            
          },
          "output_type":"display_data"
        }
      ],
      "metadata":{
        
      }
    },
    {
      "cell_type":"code",
      "source":[
        "# flexibility -> cost\n",
        "\n",
        "# cost?\n",
        "# memory \n",
        "# execution \n",
        "\n",
        "# slots to the rescue!"
      ],
      "execution_count":0,
      "outputs":[
        
      ],
      "metadata":{
        
      }
    },
    {
      "cell_type":"markdown",
      "source":[
        "## `Slots`"
      ],
      "attachments":{
        
      },
      "metadata":{
        
      }
    },
    {
      "cell_type":"code",
      "source":[
        "class Employee(object):\n",
        "    __slots__ = ('name', 'surname', 'age', 'status', 'salary')\n",
        "\n",
        "    def __init__(self, name, surname, age, status, salary):\n",
        "        self.name = name\n",
        "        self.surname = surname\n",
        "        self.age = age\n",
        "        self.status = status\n",
        "        self.salary = salary"
      ],
      "execution_count":18,
      "outputs":[
        
      ],
      "metadata":{
        
      }
    },
    {
      "cell_type":"code",
      "source":[
        "e1 = Employee(\"Andrew\", \"Doerte\", 42, \"FT\", 46000)"
      ],
      "execution_count":19,
      "outputs":[
        
      ],
      "metadata":{
        
      }
    },
    {
      "cell_type":"code",
      "source":[
        "e1"
      ],
      "execution_count":20,
      "outputs":[
        {
          "data":{
            "text\/plain":[
              "<__main__.Employee at 0x7ffa30a11770>"
            ]
          },
          "metadata":{
            
          },
          "output_type":"display_data"
        }
      ],
      "metadata":{
        
      }
    },
    {
      "cell_type":"code",
      "source":[
        "e1.name, e1.age, e1.status"
      ],
      "execution_count":21,
      "outputs":[
        {
          "data":{
            "text\/plain":[
              "('Andrew', 42, 'FT')"
            ]
          },
          "metadata":{
            
          },
          "output_type":"display_data"
        }
      ],
      "metadata":{
        
      }
    },
    {
      "cell_type":"code",
      "source":[
        "e1.__dict__"
      ],
      "execution_count":22,
      "outputs":[
        {
          "ename":"AttributeError",
          "evalue":"AttributeError: 'Employee' object has no attribute '__dict__'",
          "traceback":[
            "\u001b[0;31m---------------------------------------------------------------------------",
            "Traceback (most recent call last)",
            "    at line 1 in <module>",
            "AttributeError: 'Employee' object has no attribute '__dict__'"
          ],
          "output_type":"error"
        }
      ],
      "metadata":{
        
      }
    },
    {
      "cell_type":"code",
      "source":[
        "# dictionary eats up a lot of memory -> RAM\n",
        "# dictionary is a hash map -> O(n)\n",
        "# compared to O(1) for arrays\n",
        "\n",
        "# hash map -> fixed-length array"
      ],
      "execution_count":17,
      "outputs":[
        
      ],
      "metadata":{
        
      }
    },
    {
      "cell_type":"markdown",
      "source":[
        "## `Class Residents`"
      ],
      "attachments":{
        
      },
      "metadata":{
        
      }
    },
    {
      "cell_type":"code",
      "source":[
        "class Employee(object):\n",
        "    __slots__ = ('name', 'surname', 'age', 'status', 'salary')\n",
        "\n",
        "    def __init__(self, name, surname, age, status, salary):\n",
        "        self.name = name\n",
        "        self.surname = surname\n",
        "        self.age = age\n",
        "        self.status = status\n",
        "        self.salary = salary\n",
        "\n",
        "    @property\n",
        "    def high_salary(self):\n",
        "        return self.salary > 40000"
      ],
      "execution_count":39,
      "outputs":[
        
      ],
      "metadata":{
        
      }
    },
    {
      "cell_type":"code",
      "source":[
        "e1 = Employee(\"Andrew\", \"Doerte\", 42, \"FT\", 46000)"
      ],
      "execution_count":40,
      "outputs":[
        
      ],
      "metadata":{
        
      }
    },
    {
      "cell_type":"code",
      "source":[
        "e1.__dict__"
      ],
      "execution_count":41,
      "outputs":[
        {
          "ename":"AttributeError",
          "evalue":"AttributeError: 'Employee' object has no attribute '__dict__'",
          "traceback":[
            "\u001b[0;31m---------------------------------------------------------------------------",
            "Traceback (most recent call last)",
            "    at line 1 in <module>",
            "AttributeError: 'Employee' object has no attribute '__dict__'"
          ],
          "output_type":"error"
        }
      ],
      "metadata":{
        
      }
    },
    {
      "cell_type":"code",
      "source":[
        "Employee.__dict__"
      ],
      "execution_count":42,
      "outputs":[
        {
          "data":{
            "text\/plain":[
              "mappingproxy({'__module__': '__main__',\n",
              "              '__slots__': ('name', 'surname', 'age', 'status', 'salary'),\n",
              "              '__init__': <function __main__.Employee.__init__(self, name, surname, age, status, salary)>,\n",
              "              'high_salary': <property at 0x7ffa307efc70>,\n",
              "              'age': <member 'age' of 'Employee' objects>,\n",
              "              'name': <member 'name' of 'Employee' objects>,\n",
              "              'salary': <member 'salary' of 'Employee' objects>,\n",
              "              'status': <member 'status' of 'Employee' objects>,\n",
              "              'surname': <member 'surname' of 'Employee' objects>,\n",
              "              '__doc__': None})"
            ]
          },
          "metadata":{
            
          },
          "output_type":"display_data"
        }
      ],
      "metadata":{
        
      }
    },
    {
      "cell_type":"code",
      "source":[
        "# both properties and slotted attributes are examples of descriptors"
      ],
      "execution_count":43,
      "outputs":[
        
      ],
      "metadata":{
        
      }
    },
    {
      "cell_type":"code",
      "source":[
        "# special python objects that implement one of the 3 deescriptor methods:\n",
        "# - get()\n",
        "# - set()\n",
        "# - delete()"
      ],
      "execution_count":0,
      "outputs":[
        
      ],
      "metadata":{
        
      }
    },
    {
      "cell_type":"markdown",
      "source":[
        "## `BONUS: Demonstrating The Memory Advantage`"
      ],
      "attachments":{
        
      },
      "metadata":{
        
      }
    },
    {
      "cell_type":"code",
      "source":[
        "# pympler"
      ],
      "execution_count":44,
      "outputs":[
        
      ],
      "metadata":{
        
      }
    },
    {
      "cell_type":"code",
      "source":[
        "!pip install pympler"
      ],
      "execution_count":45,
      "outputs":[
        {
          "name":"stdout",
          "text":[
            "Collecting pympler\r\n",
            "  Downloading Pympler-0.9.tar.gz (178 kB)\r\n",
            "\u001b[?25l\r\r     |█▉                              | 10 kB 22.3 MB\/s eta 0:00:01\r     |███▊                            | 20 kB 25.3 MB\/s eta 0:00:01\r     |█████▌                          | 30 kB 18.4 MB\/s eta 0:00:01\r     |███████▍                        | 40 kB 15.6 MB\/s eta 0:00:01\r     |█████████▏                      | 51 kB 5.0 MB\/s eta 0:00:01 \r     |███████████                     | 61 kB 4.9 MB\/s eta 0:00:01 \r     |████████████▉                   | 71 kB 5.5 MB\/s eta 0:00:01 \r     |██████████████▊                 | 81 kB 6.2 MB\/s eta 0:00:01 \r     |████████████████▌               | 92 kB 4.4 MB\/s eta 0:00:01 \r     |██████████████████▍             | 102 kB 4.8 MB\/s eta 0:00:01\r     |████████████████████▏           | 112 kB 4.8 MB\/s eta 0:00:01\r     |██████████████████████          | 122 kB 4.8 MB\/s eta 0:00:01\r     |███████████████████████▉        | 133 kB 4.8 MB\/s eta 0:00:01\r     |█████████████████████████▊      | 143 kB 4.8 MB\/s eta 0:00:01\r     |███████████████████████████▋    | 153 kB 4.8 MB\/s eta 0:00:01\r     |█████████████████████████████▍  | 163 kB 4.8 MB\/s eta 0:00:01\r     |███████████████████████████████▎| 174 kB 4.8 MB\/s eta 0:00:01\r     |████████████████████████████████| 178 kB 4.8 MB\/s            \r\n",
            "\u001b[?25h  Preparing metadata (setup.py) ... \u001b[?25l-\b \bdone\r\n",
            "\u001b[?25hBuilding wheels for collected packages: pympler\r\n",
            "  Building wheel for pympler (setup.py) ... \u001b[?25l-\b \b\\\b \bdone\r\n",
            "\u001b[?25h  Created wheel for pympler: filename=Pympler-0.9-py3-none-any.whl size=164803 sha256=c556a3c5b0707bfb4729b4599fbaa91746fe4610028b0e61d31381aefbdb7629\r\n",
            "  Stored in directory: \/home\/datalore\/.cache\/pip\/wheels\/24\/6f\/0b\/da9f81234859a8741aaea3afcc6ae2daf0efb67e7ff2d3686c\r\n",
            "Successfully built pympler\r\n",
            "Installing collected packages: pympler\r\n",
            "Successfully installed pympler-0.9\r\n"
          ],
          "output_type":"stream"
        }
      ],
      "metadata":{
        
      }
    },
    {
      "cell_type":"code",
      "source":[
        "class SlottedEmployee(object):\n",
        "    __slots__ = ('name', 'surname', 'age', 'status', 'salary')\n",
        "\n",
        "    def __init__(self, name, surname, age, status, salary):\n",
        "        self.name = name\n",
        "        self.surname = surname\n",
        "        self.age = age\n",
        "        self.status = status\n",
        "        self.salary = salary\n",
        "\n",
        "\n",
        "class RegularEmployee(object):\n",
        "    def __init__(self, name, surname, age, status, salary):\n",
        "        self.name = name\n",
        "        self.surname = surname\n",
        "        self.age = age\n",
        "        self.status = status\n",
        "        self.salary = salary"
      ],
      "execution_count":47,
      "outputs":[
        
      ],
      "metadata":{
        
      }
    },
    {
      "cell_type":"code",
      "source":[
        "e1 = SlottedEmployee(\"Andrew\", \"Doerte\", 42, \"FT\", 46000)\n",
        "e2 = RegularEmployee(\"Andrew\", \"Doerte\", 42, \"FT\", 46000)"
      ],
      "execution_count":48,
      "outputs":[
        
      ],
      "metadata":{
        
      }
    },
    {
      "cell_type":"code",
      "source":[
        "from pympler.asizeof import asizeof"
      ],
      "execution_count":49,
      "outputs":[
        
      ],
      "metadata":{
        
      }
    },
    {
      "cell_type":"code",
      "source":[
        "asizeof(e1) # slotted"
      ],
      "execution_count":50,
      "outputs":[
        {
          "data":{
            "text\/plain":[
              "304"
            ]
          },
          "metadata":{
            
          },
          "output_type":"display_data"
        }
      ],
      "metadata":{
        
      }
    },
    {
      "cell_type":"code",
      "source":[
        "asizeof(e2) # regular"
      ],
      "execution_count":51,
      "outputs":[
        {
          "data":{
            "text\/plain":[
              "664"
            ]
          },
          "metadata":{
            
          },
          "output_type":"display_data"
        }
      ],
      "metadata":{
        
      }
    },
    {
      "cell_type":"code",
      "source":[
        "f\"{(304 - 664) \/ 664:.2%}\""
      ],
      "execution_count":53,
      "outputs":[
        {
          "data":{
            "text\/plain":[
              "'-54.22%'"
            ]
          },
          "metadata":{
            
          },
          "output_type":"display_data"
        }
      ],
      "metadata":{
        
      }
    },
    {
      "cell_type":"code",
      "source":[
        "from sys import getsizeof"
      ],
      "execution_count":54,
      "outputs":[
        
      ],
      "metadata":{
        
      }
    },
    {
      "cell_type":"code",
      "source":[
        "getsizeof(e1)"
      ],
      "execution_count":55,
      "outputs":[
        {
          "data":{
            "text\/plain":[
              "72"
            ]
          },
          "metadata":{
            
          },
          "output_type":"display_data"
        }
      ],
      "metadata":{
        
      }
    },
    {
      "cell_type":"code",
      "source":[
        "getsizeof(e2)"
      ],
      "execution_count":56,
      "outputs":[
        {
          "data":{
            "text\/plain":[
              "48"
            ]
          },
          "metadata":{
            
          },
          "output_type":"display_data"
        }
      ],
      "metadata":{
        
      }
    },
    {
      "cell_type":"code",
      "source":[
        "# sys.getsizeof -> does not account for referenced objects!"
      ],
      "execution_count":57,
      "outputs":[
        
      ],
      "metadata":{
        
      }
    },
    {
      "cell_type":"markdown",
      "source":[
        "## `Inheriting Slots`"
      ],
      "attachments":{
        
      },
      "metadata":{
        
      }
    },
    {
      "cell_type":"code",
      "source":[
        "class Employee(object):\n",
        "    __slots__ = ('name', 'surname', 'age', 'status', 'salary')\n",
        "\n",
        "    def __init__(self, name, surname, age, status, salary):\n",
        "        self.name = name\n",
        "        self.surname = surname\n",
        "        self.age = age\n",
        "        self.status = status\n",
        "        self.salary = salary"
      ],
      "execution_count":59,
      "outputs":[
        
      ],
      "metadata":{
        
      }
    },
    {
      "cell_type":"code",
      "source":[
        "class Developer(Employee):\n",
        "    pass"
      ],
      "execution_count":60,
      "outputs":[
        
      ],
      "metadata":{
        
      }
    },
    {
      "cell_type":"code",
      "source":[
        "d = Developer(\"Beverly\", \"Simons\", 24, \"FT\", 79000)"
      ],
      "execution_count":61,
      "outputs":[
        
      ],
      "metadata":{
        
      }
    },
    {
      "cell_type":"code",
      "source":[
        "d.__dict__"
      ],
      "execution_count":62,
      "outputs":[
        {
          "data":{
            "text\/plain":[
              "{}"
            ]
          },
          "metadata":{
            
          },
          "output_type":"display_data"
        }
      ],
      "metadata":{
        
      }
    },
    {
      "cell_type":"code",
      "source":[
        "d.favorite_language = \"python\""
      ],
      "execution_count":63,
      "outputs":[
        
      ],
      "metadata":{
        
      }
    },
    {
      "cell_type":"code",
      "source":[
        "d.__dict__"
      ],
      "execution_count":64,
      "outputs":[
        {
          "data":{
            "text\/plain":[
              "{'favorite_language': 'python'}"
            ]
          },
          "metadata":{
            
          },
          "output_type":"display_data"
        }
      ],
      "metadata":{
        
      }
    },
    {
      "cell_type":"code",
      "source":[
        "class BusinessAnalyst(Employee):\n",
        "    __slots__ = 'experience'"
      ],
      "execution_count":65,
      "outputs":[
        
      ],
      "metadata":{
        
      }
    },
    {
      "cell_type":"code",
      "source":[
        "ba = BusinessAnalyst(\"Vlad\", \"Roberts\", 29, \"PT\", 67200)"
      ],
      "execution_count":66,
      "outputs":[
        
      ],
      "metadata":{
        
      }
    },
    {
      "cell_type":"code",
      "source":[
        "ba.__dict__"
      ],
      "execution_count":67,
      "outputs":[
        {
          "ename":"AttributeError",
          "evalue":"AttributeError: 'BusinessAnalyst' object has no attribute '__dict__'",
          "traceback":[
            "\u001b[0;31m---------------------------------------------------------------------------",
            "Traceback (most recent call last)",
            "    at line 1 in <module>",
            "AttributeError: 'BusinessAnalyst' object has no attribute '__dict__'"
          ],
          "output_type":"error"
        }
      ],
      "metadata":{
        
      }
    },
    {
      "cell_type":"code",
      "source":[
        "ba.favorite_book = \"Thinking Fast And Slow\""
      ],
      "execution_count":68,
      "outputs":[
        {
          "ename":"AttributeError",
          "evalue":"AttributeError: 'BusinessAnalyst' object has no attribute 'favorite_book'",
          "traceback":[
            "\u001b[0;31m---------------------------------------------------------------------------",
            "Traceback (most recent call last)",
            "    at line 1 in <module>",
            "AttributeError: 'BusinessAnalyst' object has no attribute 'favorite_book'"
          ],
          "output_type":"error"
        }
      ],
      "metadata":{
        
      }
    },
    {
      "cell_type":"code",
      "source":[
        "class BusinessAnalyst(Employee):\n",
        "    __slots__ = ('name', 'surname', 'age', 'status', 'salary', 'experience')"
      ],
      "execution_count":69,
      "outputs":[
        
      ],
      "metadata":{
        
      }
    },
    {
      "cell_type":"code",
      "source":[
        "class Employee(object):\n",
        "    # __slots__ = ('name', 'surname', 'age', 'status', 'salary')\n",
        "\n",
        "    def __init__(self, name, surname, age, status, salary):\n",
        "        self.name = name\n",
        "        self.surname = surname\n",
        "        self.age = age\n",
        "        self.status = status\n",
        "        self.salary = salary"
      ],
      "execution_count":70,
      "outputs":[
        
      ],
      "metadata":{
        
      }
    },
    {
      "cell_type":"code",
      "source":[
        "class BusinessAnalyst(Employee):\n",
        "    __slots__ = ('name', 'surname', 'age', 'status', 'salary', 'experience')"
      ],
      "execution_count":71,
      "outputs":[
        
      ],
      "metadata":{
        
      }
    },
    {
      "cell_type":"code",
      "source":[
        "ba = BusinessAnalyst(\"Vlad\", \"Roberts\", 29, \"PT\", 67200)"
      ],
      "execution_count":72,
      "outputs":[
        
      ],
      "metadata":{
        
      }
    },
    {
      "cell_type":"code",
      "source":[
        "ba.__dict__"
      ],
      "execution_count":73,
      "outputs":[
        {
          "data":{
            "text\/plain":[
              "{}"
            ]
          },
          "metadata":{
            
          },
          "output_type":"display_data"
        }
      ],
      "metadata":{
        
      }
    },
    {
      "cell_type":"code",
      "source":[
        "ba.favorite_book = \"Thinking Fast And Slow\""
      ],
      "execution_count":74,
      "outputs":[
        
      ],
      "metadata":{
        
      }
    },
    {
      "cell_type":"code",
      "source":[
        "ba.__dict__"
      ],
      "execution_count":75,
      "outputs":[
        {
          "data":{
            "text\/plain":[
              "{'favorite_book': 'Thinking Fast And Slow'}"
            ]
          },
          "metadata":{
            
          },
          "output_type":"display_data"
        }
      ],
      "metadata":{
        
      }
    },
    {
      "cell_type":"code",
      "source":[
        "BusinessAnalyst.__dict__"
      ],
      "execution_count":76,
      "outputs":[
        {
          "data":{
            "text\/plain":[
              "mappingproxy({'__module__': '__main__',\n",
              "              '__slots__': ('name',\n",
              "               'surname',\n",
              "               'age',\n",
              "               'status',\n",
              "               'salary',\n",
              "               'experience'),\n",
              "              'age': <member 'age' of 'BusinessAnalyst' objects>,\n",
              "              'experience': <member 'experience' of 'BusinessAnalyst' objects>,\n",
              "              'name': <member 'name' of 'BusinessAnalyst' objects>,\n",
              "              'salary': <member 'salary' of 'BusinessAnalyst' objects>,\n",
              "              'status': <member 'status' of 'BusinessAnalyst' objects>,\n",
              "              'surname': <member 'surname' of 'BusinessAnalyst' objects>,\n",
              "              '__doc__': None})"
            ]
          },
          "metadata":{
            
          },
          "output_type":"display_data"
        }
      ],
      "metadata":{
        
      }
    },
    {
      "cell_type":"markdown",
      "source":[
        "## `Something To Avoid`"
      ],
      "attachments":{
        
      },
      "metadata":{
        
      }
    },
    {
      "cell_type":"code",
      "source":[
        "class Employee(object):\n",
        "    __slots__ = ('name', 'surname', 'age', 'status', 'salary', '__dict__')\n",
        "\n",
        "    def __init__(self, name, surname, age, status, salary):\n",
        "        self.name = name\n",
        "        self.surname = surname\n",
        "        self.age = age\n",
        "        self.status = status\n",
        "        self.salary = salary"
      ],
      "execution_count":85,
      "outputs":[
        
      ],
      "metadata":{
        
      }
    },
    {
      "cell_type":"code",
      "source":[
        "e = Employee(\"Andrew\", \"Doerte\", 42, \"FT\", 46000)"
      ],
      "execution_count":86,
      "outputs":[
        
      ],
      "metadata":{
        
      }
    },
    {
      "cell_type":"code",
      "source":[
        "hasattr(e, '__dict__')"
      ],
      "execution_count":87,
      "outputs":[
        {
          "data":{
            "text\/plain":[
              "True"
            ]
          },
          "metadata":{
            
          },
          "output_type":"display_data"
        }
      ],
      "metadata":{
        
      }
    },
    {
      "cell_type":"code",
      "source":[
        "e.nickname = \"Andy\""
      ],
      "execution_count":89,
      "outputs":[
        
      ],
      "metadata":{
        
      }
    },
    {
      "cell_type":"code",
      "source":[
        "e.__dict__"
      ],
      "execution_count":90,
      "outputs":[
        {
          "data":{
            "text\/plain":[
              "{'nickname': 'Andy'}"
            ]
          },
          "metadata":{
            
          },
          "output_type":"display_data"
        }
      ],
      "metadata":{
        
      }
    },
    {
      "cell_type":"markdown",
      "source":[
        "## `Should We Always Use Slots?`"
      ],
      "attachments":{
        
      },
      "metadata":{
        
      }
    },
    {
      "cell_type":"code",
      "source":[
        "# __slots__ -> more lightweight and performance"
      ],
      "execution_count":91,
      "outputs":[
        
      ],
      "metadata":{
        
      }
    },
    {
      "cell_type":"code",
      "source":[
        
      ],
      "execution_count":90,
      "outputs":[
        
      ],
      "metadata":{
        
      }
    },
    {
      "cell_type":"code",
      "source":[
        
      ],
      "execution_count":90,
      "outputs":[
        
      ],
      "metadata":{
        
      }
    },
    {
      "cell_type":"code",
      "source":[
        
      ],
      "execution_count":90,
      "outputs":[
        
      ],
      "metadata":{
        
      }
    },
    {
      "cell_type":"code",
      "source":[
        
      ],
      "execution_count":90,
      "outputs":[
        
      ],
      "metadata":{
        
      }
    },
    {
      "cell_type":"code",
      "source":[
        
      ],
      "execution_count":90,
      "outputs":[
        
      ],
      "metadata":{
        
      }
    },
    {
      "cell_type":"code",
      "source":[
        
      ],
      "execution_count":90,
      "outputs":[
        
      ],
      "metadata":{
        
      }
    },
    {
      "cell_type":"code",
      "source":[
        
      ],
      "execution_count":90,
      "outputs":[
        
      ],
      "metadata":{
        
      }
    },
    {
      "cell_type":"code",
      "source":[
        
      ],
      "execution_count":0,
      "outputs":[
        
      ],
      "metadata":{
        
      }
    }
  ],
  "metadata":{
    
  },
  "nbformat":4,
  "nbformat_minor":0
}