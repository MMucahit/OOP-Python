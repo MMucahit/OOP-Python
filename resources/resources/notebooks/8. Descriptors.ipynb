{
  "cells":[
    {
      "cell_type":"markdown",
      "source":[
        "## `Attribute Lookup Chain Review`"
      ],
      "attachments":{
        
      },
      "metadata":{
        
      }
    },
    {
      "cell_type":"code",
      "source":[
        "class Child:\n",
        "    name = \"Liam\"\n",
        "\n",
        "    def __init__(self, name):\n",
        "        self.name = name"
      ],
      "execution_count":3,
      "outputs":[
        
      ],
      "metadata":{
        
      }
    },
    {
      "cell_type":"code",
      "source":[
        "Child.__dict__"
      ],
      "execution_count":4,
      "outputs":[
        {
          "data":{
            "text\/plain":[
              "mappingproxy({'__module__': '__main__',\n",
              "              'name': 'Liam',\n",
              "              '__init__': <function __main__.Child.__init__(self, name)>,\n",
              "              '__dict__': <attribute '__dict__' of 'Child' objects>,\n",
              "              '__weakref__': <attribute '__weakref__' of 'Child' objects>,\n",
              "              '__doc__': None})"
            ]
          },
          "metadata":{
            
          },
          "output_type":"display_data"
        }
      ],
      "metadata":{
        
      }
    },
    {
      "cell_type":"code",
      "source":[
        "c = Child(\"Anthony\")"
      ],
      "execution_count":5,
      "outputs":[
        
      ],
      "metadata":{
        
      }
    },
    {
      "cell_type":"code",
      "source":[
        "c.__dict__"
      ],
      "execution_count":6,
      "outputs":[
        {
          "data":{
            "text\/plain":[
              "{'name': 'Anthony'}"
            ]
          },
          "metadata":{
            
          },
          "output_type":"display_data"
        }
      ],
      "metadata":{
        
      }
    },
    {
      "cell_type":"code",
      "source":[
        "c.name"
      ],
      "execution_count":7,
      "outputs":[
        {
          "data":{
            "text\/plain":[
              "'Anthony'"
            ]
          },
          "metadata":{
            
          },
          "output_type":"display_data"
        }
      ],
      "metadata":{
        
      }
    },
    {
      "cell_type":"code",
      "source":[
        "class Child:\n",
        "    name = \"Liam\"\n",
        "\n",
        "    def __init__(self, name=None):\n",
        "        if name:\n",
        "            self.name = name\n",
        "\n",
        "\n",
        "c = Child(\"Anthony\")"
      ],
      "execution_count":8,
      "outputs":[
        
      ],
      "metadata":{
        
      }
    },
    {
      "cell_type":"code",
      "source":[
        "c.name"
      ],
      "execution_count":9,
      "outputs":[
        {
          "data":{
            "text\/plain":[
              "'Anthony'"
            ]
          },
          "metadata":{
            
          },
          "output_type":"display_data"
        }
      ],
      "metadata":{
        
      }
    },
    {
      "cell_type":"code",
      "source":[
        "c2 = Child()"
      ],
      "execution_count":10,
      "outputs":[
        
      ],
      "metadata":{
        
      }
    },
    {
      "cell_type":"code",
      "source":[
        "c2.name"
      ],
      "execution_count":11,
      "outputs":[
        {
          "data":{
            "text\/plain":[
              "'Liam'"
            ]
          },
          "metadata":{
            
          },
          "output_type":"display_data"
        }
      ],
      "metadata":{
        
      }
    },
    {
      "cell_type":"code",
      "source":[
        "class GrandParent(object):\n",
        "    # name = \"Robert\"\n",
        "    ...\n",
        "\n",
        "\n",
        "class Parent(GrandParent):\n",
        "    # name = \"James\"\n",
        "    pass\n",
        "\n",
        "\n",
        "class Child(Parent):\n",
        "    # name = \"Liam\"\n",
        "\n",
        "    def __init__(self, name=None):\n",
        "        if name:\n",
        "            self.name = name\n",
        "\n",
        "\n",
        "c = Child()"
      ],
      "execution_count":23,
      "outputs":[
        
      ],
      "metadata":{
        
      }
    },
    {
      "cell_type":"code",
      "source":[
        "c.name"
      ],
      "execution_count":22,
      "outputs":[
        {
          "ename":"AttributeError",
          "evalue":"AttributeError: 'Child' object has no attribute 'name'",
          "traceback":[
            "\u001b[0;31m---------------------------------------------------------------------------",
            "Traceback (most recent call last)",
            "    at line 1 in <module>",
            "AttributeError: 'Child' object has no attribute 'name'"
          ],
          "output_type":"error"
        }
      ],
      "metadata":{
        
      }
    },
    {
      "cell_type":"code",
      "source":[
        "# __getattr__ implemented in object"
      ],
      "execution_count":0,
      "outputs":[
        
      ],
      "metadata":{
        
      }
    },
    {
      "cell_type":"markdown",
      "source":[
        "## `The Descriptor Protocol`"
      ],
      "attachments":{
        
      },
      "metadata":{
        
      }
    },
    {
      "cell_type":"code",
      "source":[
        "class Descriptor:\n",
        "    pass"
      ],
      "execution_count":24,
      "outputs":[
        
      ],
      "metadata":{
        
      }
    },
    {
      "cell_type":"code",
      "source":[
        "# protcols -> contract between our objects and python"
      ],
      "execution_count":25,
      "outputs":[
        
      ],
      "metadata":{
        
      }
    },
    {
      "cell_type":"code",
      "source":[
        "# the descriptor protocol:\n",
        "# __get__()\n",
        "# __set__()\n",
        "# __delete__()"
      ],
      "execution_count":26,
      "outputs":[
        
      ],
      "metadata":{
        
      }
    },
    {
      "cell_type":"code",
      "source":[
        "class Descriptor:\n",
        "    def __get__(self, instance, owner):\n",
        "        pass\n",
        "    \n",
        "    def __set__(self, instance, value):\n",
        "        pass\n",
        "\n",
        "    def __delete__(self, instance):\n",
        "        pass"
      ],
      "execution_count":27,
      "outputs":[
        
      ],
      "metadata":{
        
      }
    },
    {
      "cell_type":"markdown",
      "source":[
        "## `Using A Descriptor`"
      ],
      "attachments":{
        
      },
      "metadata":{
        
      }
    },
    {
      "cell_type":"code",
      "source":[
        "# SQL"
      ],
      "execution_count":1,
      "outputs":[
        
      ],
      "metadata":{
        
      }
    },
    {
      "cell_type":"code",
      "source":[
        "# CREATE TABLE person (first_name varchar(200));"
      ],
      "execution_count":2,
      "outputs":[
        
      ],
      "metadata":{
        
      }
    },
    {
      "cell_type":"code",
      "source":[
        "# ORM -> OO vs SQL"
      ],
      "execution_count":0,
      "outputs":[
        
      ],
      "metadata":{
        
      }
    },
    {
      "cell_type":"code",
      "source":[
        "# target:\n",
        "# > we want to be able to define a PersonTable calss that has a first_name attribute that is text of maximum length 200 "
      ],
      "execution_count":0,
      "outputs":[
        
      ],
      "metadata":{
        
      }
    },
    {
      "cell_type":"code",
      "source":[
        "class TextField:\n",
        "    def __init__(self, length):\n",
        "        self.length = length\n",
        "\n",
        "    def __get__(self, instance, owner):\n",
        "        return self.value\n",
        "\n",
        "    def __set__(self, instance, value):\n",
        "        if not type(value) == str:\n",
        "            raise TypeError(\"Value should be a string\")\n",
        "\n",
        "        if len(value) > self.length:\n",
        "            raise ValueError(f\"Value cannot exceed {self.length} characters\")\n",
        "\n",
        "        self.value = value\n",
        "\n",
        "    def __delete__(self, instance):\n",
        "        pass"
      ],
      "execution_count":17,
      "outputs":[
        
      ],
      "metadata":{
        
      }
    },
    {
      "cell_type":"code",
      "source":[
        "class PersonTable:\n",
        "    first_name = TextField(200)"
      ],
      "execution_count":18,
      "outputs":[
        
      ],
      "metadata":{
        
      }
    },
    {
      "cell_type":"code",
      "source":[
        "p = PersonTable()"
      ],
      "execution_count":19,
      "outputs":[
        
      ],
      "metadata":{
        
      }
    },
    {
      "cell_type":"code",
      "source":[
        "p.first_name = 'a' * 30"
      ],
      "execution_count":20,
      "outputs":[
        
      ],
      "metadata":{
        
      }
    },
    {
      "cell_type":"code",
      "source":[
        "p.first_name"
      ],
      "execution_count":21,
      "outputs":[
        {
          "data":{
            "text\/plain":[
              "'aaaaaaaaaaaaaaaaaaaaaaaaaaaaaa'"
            ]
          },
          "metadata":{
            
          },
          "output_type":"display_data"
        }
      ],
      "metadata":{
        
      }
    },
    {
      "cell_type":"code",
      "source":[
        "# \"binding beahvior\""
      ],
      "execution_count":22,
      "outputs":[
        
      ],
      "metadata":{
        
      }
    },
    {
      "cell_type":"code",
      "source":[
        "class PersonTable:\n",
        "    first_name = TextField(200)\n",
        "\n",
        "    def __init__(self, first_name):\n",
        "        self.__dict__[\"first_name\"] = first_name"
      ],
      "execution_count":23,
      "outputs":[
        
      ],
      "metadata":{
        
      }
    },
    {
      "cell_type":"code",
      "source":[
        "p = PersonTable(\"Robbie\")\n",
        "\n",
        "p.first_name = \"Liam\""
      ],
      "execution_count":25,
      "outputs":[
        
      ],
      "metadata":{
        
      }
    },
    {
      "cell_type":"code",
      "source":[
        "p.__dict__"
      ],
      "execution_count":26,
      "outputs":[
        {
          "data":{
            "text\/plain":[
              "{'first_name': 'Robbie'}"
            ]
          },
          "metadata":{
            
          },
          "output_type":"display_data"
        }
      ],
      "metadata":{
        
      }
    },
    {
      "cell_type":"code",
      "source":[
        "p.first_name"
      ],
      "execution_count":27,
      "outputs":[
        {
          "data":{
            "text\/plain":[
              "'Liam'"
            ]
          },
          "metadata":{
            
          },
          "output_type":"display_data"
        }
      ],
      "metadata":{
        
      }
    },
    {
      "cell_type":"markdown",
      "source":[
        "## `Descriptor Storage`"
      ],
      "attachments":{
        
      },
      "metadata":{
        
      }
    },
    {
      "cell_type":"code",
      "source":[
        "class TextField:\n",
        "    def __init__(self, length):\n",
        "        self.length = length\n",
        "\n",
        "    def __get__(self, instance, owner):\n",
        "        return self.value  \n",
        "\n",
        "    def __set__(self, instance, value):\n",
        "        if not type(value) == str:\n",
        "            raise TypeError(f\"Value should be a string\")\n",
        "            \n",
        "        if len(value) > self.length:\n",
        "            raise ValueError(f\"Value cannot exceed {self.length} characters\")\n",
        "\n",
        "        self.value = value  \n",
        "        \n",
        "    def __delete__(self, instance):\n",
        "        pass\n",
        "\n",
        "\n",
        "class PersonTable:\n",
        "    first_name = TextField(200)"
      ],
      "execution_count":1,
      "outputs":[
        
      ],
      "metadata":{
        
      }
    },
    {
      "cell_type":"code",
      "source":[
        "p1 = PersonTable()\n",
        "p2 = PersonTable()"
      ],
      "execution_count":2,
      "outputs":[
        
      ],
      "metadata":{
        
      }
    },
    {
      "cell_type":"code",
      "source":[
        "p1.first_name = \"Andrew\""
      ],
      "execution_count":3,
      "outputs":[
        
      ],
      "metadata":{
        
      }
    },
    {
      "cell_type":"code",
      "source":[
        "p2.first_name"
      ],
      "execution_count":4,
      "outputs":[
        {
          "data":{
            "text\/plain":[
              "'Andrew'"
            ]
          },
          "metadata":{
            
          },
          "output_type":"display_data"
        }
      ],
      "metadata":{
        
      }
    },
    {
      "cell_type":"code",
      "source":[
        "class TextField:\n",
        "    def __init__(self, length):\n",
        "        self.length = length\n",
        "        self._data = {}\n",
        "\n",
        "    def __get__(self, instance, owner):\n",
        "        # return self.value  \n",
        "        return self._data.get(instance)\n",
        "\n",
        "    def __set__(self, instance, value):\n",
        "        if not type(value) == str:\n",
        "            raise TypeError(f\"Value should be a string\")\n",
        "            \n",
        "        if len(value) > self.length:\n",
        "            raise ValueError(f\"Value cannot exceed {self.length} characters\")\n",
        "\n",
        "        # self.value = value\n",
        "        self._data[instance] = value\n",
        "\n",
        "        \n",
        "    def __delete__(self, instance):\n",
        "        pass\n",
        "\n",
        "\n",
        "class PersonTable:\n",
        "    first_name = TextField(200)\n",
        "\n",
        "p1 = PersonTable()\n",
        "p2 = PersonTable()"
      ],
      "execution_count":7,
      "outputs":[
        
      ],
      "metadata":{
        
      }
    },
    {
      "cell_type":"code",
      "source":[
        "p1.first_name = \"Andrew\"\n",
        "p2.first_name = \"Bonnie\""
      ],
      "execution_count":11,
      "outputs":[
        
      ],
      "metadata":{
        
      }
    },
    {
      "cell_type":"code",
      "source":[
        "p1.first_name, p2.first_name"
      ],
      "execution_count":13,
      "outputs":[
        {
          "data":{
            "text\/plain":[
              "('Andrew', 'Bonnie')"
            ]
          },
          "metadata":{
            
          },
          "output_type":"display_data"
        }
      ],
      "metadata":{
        
      }
    },
    {
      "cell_type":"code",
      "source":[
        "# \"memory leak\""
      ],
      "execution_count":14,
      "outputs":[
        
      ],
      "metadata":{
        
      }
    },
    {
      "cell_type":"code",
      "source":[
        "id(p1)"
      ],
      "execution_count":15,
      "outputs":[
        {
          "data":{
            "text\/plain":[
              "140194722656416"
            ]
          },
          "metadata":{
            
          },
          "output_type":"display_data"
        }
      ],
      "metadata":{
        
      }
    },
    {
      "cell_type":"code",
      "source":[
        "# weakkey opposite of hard references"
      ],
      "execution_count":0,
      "outputs":[
        
      ],
      "metadata":{
        
      }
    },
    {
      "cell_type":"code",
      "source":[
        "from weakref import WeakKeyDictionary"
      ],
      "execution_count":16,
      "outputs":[
        
      ],
      "metadata":{
        
      }
    },
    {
      "cell_type":"markdown",
      "source":[
        "## `Even Better: Instance Storage`"
      ],
      "attachments":{
        
      },
      "metadata":{
        
      }
    },
    {
      "cell_type":"code",
      "source":[
        "class TextField:\n",
        "    def __init__(self, length):\n",
        "        self.length = length\n",
        "        self._data = {}\n",
        "\n",
        "    def __get__(self, instance, owner):\n",
        "        # return self._data.get(instance)\n",
        "        return instance.__dict__.get(\"text_field_value\")\n",
        "\n",
        "    def __set__(self, instance, value):\n",
        "        if not type(value) == str:\n",
        "            raise TypeError(f\"Value should be a string\")\n",
        "\n",
        "        if len(value) > self.length:\n",
        "            raise ValueError(f\"Value cannot exceed {self.length} characters\")\n",
        "\n",
        "        # self._data[instance] = value\n",
        "        instance.__dict__[\"text_field_value\"] = value\n",
        "\n",
        "    def __delete__(self, instance):\n",
        "        pass\n",
        "\n",
        "\n",
        "class PersonTable:\n",
        "    first_name = TextField(200)\n",
        "\n",
        "\n",
        "p1 = PersonTable()\n",
        "p2 = PersonTable()\n",
        "\n",
        "p1.first_name = \"Andrew\"\n",
        "p2.first_name = \"Billy\""
      ],
      "execution_count":27,
      "outputs":[
        
      ],
      "metadata":{
        
      }
    },
    {
      "cell_type":"code",
      "source":[
        "p1.first_name, p2.first_name "
      ],
      "execution_count":28,
      "outputs":[
        {
          "data":{
            "text\/plain":[
              "('Andrew', 'Billy')"
            ]
          },
          "metadata":{
            
          },
          "output_type":"display_data"
        }
      ],
      "metadata":{
        
      }
    },
    {
      "cell_type":"code",
      "source":[
        "p1.__dict__, p2.__dict__"
      ],
      "execution_count":29,
      "outputs":[
        {
          "data":{
            "text\/plain":[
              "({'text_field_value': 'Andrew'}, {'text_field_value': 'Billy'})"
            ]
          },
          "metadata":{
            
          },
          "output_type":"display_data"
        }
      ],
      "metadata":{
        
      }
    },
    {
      "cell_type":"code",
      "source":[
        "class PersonTable:\n",
        "    first_name = TextField(200)\n",
        "    \n",
        "    last_name = TextField(100)"
      ],
      "execution_count":30,
      "outputs":[
        
      ],
      "metadata":{
        
      }
    },
    {
      "cell_type":"code",
      "source":[
        "p1 = PersonTable()"
      ],
      "execution_count":31,
      "outputs":[
        
      ],
      "metadata":{
        
      }
    },
    {
      "cell_type":"code",
      "source":[
        "p1.first_name = \"Andrew\"\n",
        "p1.last_name = \"Greenfield\""
      ],
      "execution_count":32,
      "outputs":[
        
      ],
      "metadata":{
        
      }
    },
    {
      "cell_type":"code",
      "source":[
        "p1.first_name, p1.last_name"
      ],
      "execution_count":34,
      "outputs":[
        {
          "data":{
            "text\/plain":[
              "('Greenfield', 'Greenfield')"
            ]
          },
          "metadata":{
            
          },
          "output_type":"display_data"
        }
      ],
      "metadata":{
        
      }
    },
    {
      "cell_type":"code",
      "source":[
        "p1.__dict__"
      ],
      "execution_count":35,
      "outputs":[
        {
          "data":{
            "text\/plain":[
              "{'text_field_value': 'Greenfield'}"
            ]
          },
          "metadata":{
            
          },
          "output_type":"display_data"
        }
      ],
      "metadata":{
        
      }
    },
    {
      "cell_type":"code",
      "source":[
        "class TextField:\n",
        "    def __init__(self, length, field_name):\n",
        "        self.length = length\n",
        "        self.field_name = field_name\n",
        "\n",
        "    def __get__(self, instance, owner):\n",
        "        return instance.__dict__.get(f\"TextField_{self.field_name}\")\n",
        "\n",
        "    def __set__(self, instance, value):\n",
        "        if not type(value) == str:\n",
        "            raise TypeError(f\"Value should be a string\")\n",
        "\n",
        "        if len(value) > self.length:\n",
        "            raise ValueError(f\"Value cannot exceed {self.length} characters\")\n",
        "\n",
        "        instance.__dict__[f\"TextField_{self.field_name}\"] = value\n",
        "\n",
        "    def __delete__(self, instance):\n",
        "        pass"
      ],
      "execution_count":39,
      "outputs":[
        
      ],
      "metadata":{
        
      }
    },
    {
      "cell_type":"code",
      "source":[
        "class PersonTable:\n",
        "    first_name = TextField(200, \"first_name\")\n",
        "    \n",
        "    last_name = TextField(100, \"last_name\")\n",
        "\n",
        "\n",
        "p1 = PersonTable()\n",
        "\n",
        "p1.first_name = \"Andrew\"\n",
        "p1.last_name = \"Greenfield\"\n",
        "\n",
        "p1.first_name, p1.last_name"
      ],
      "execution_count":42,
      "outputs":[
        {
          "data":{
            "text\/plain":[
              "('Andrew', 'Greenfield')"
            ]
          },
          "metadata":{
            
          },
          "output_type":"display_data"
        }
      ],
      "metadata":{
        
      }
    },
    {
      "cell_type":"markdown",
      "source":[
        "## `Using __set_name__`"
      ],
      "attachments":{
        
      },
      "metadata":{
        
      }
    },
    {
      "cell_type":"code",
      "source":[
        "class TextField:\n",
        "    def __init__(self, length):\n",
        "        self.length = length\n",
        "\n",
        "    def __set_name__(self, owner, name):\n",
        "        self.name = name\n",
        "\n",
        "    def __get__(self, instance, owner):\n",
        "        return instance.__dict__.get(f\"TextField_{self.name}\")\n",
        "\n",
        "    def __set__(self, instance, value):\n",
        "        if not type(value) == str:\n",
        "            raise TypeError(f\"Value should be a string\")\n",
        "\n",
        "        if len(value) > self.length:\n",
        "            raise ValueError(f\"Value cannot exceed {self.length} characters\")\n",
        "\n",
        "        instance.__dict__[f\"TextField_{self.name}\"] = value\n",
        "\n",
        "    def __delete__(self, instance):\n",
        "        pass"
      ],
      "execution_count":52,
      "outputs":[
        
      ],
      "metadata":{
        
      }
    },
    {
      "cell_type":"code",
      "source":[
        "class PersonTable:\n",
        "    first_name = TextField(200)\n",
        "    \n",
        "    last_name = TextField(100)\n",
        "\n",
        "\n",
        "p1 = PersonTable()\n",
        "\n",
        "p1.first_name = \"Andrew\"\n",
        "p1.last_name = \"Greenfield\"\n",
        "\n",
        "p1.first_name, p1.last_name"
      ],
      "execution_count":53,
      "outputs":[
        {
          "data":{
            "text\/plain":[
              "('Andrew', 'Greenfield')"
            ]
          },
          "metadata":{
            
          },
          "output_type":"display_data"
        }
      ],
      "metadata":{
        
      }
    },
    {
      "cell_type":"markdown",
      "source":[
        "## `Tying Up Loose Ends`"
      ],
      "attachments":{
        
      },
      "metadata":{
        
      }
    },
    {
      "cell_type":"code",
      "source":[
        "class TextField:\n",
        "    def __init__(self, length):\n",
        "        self.length = length\n",
        "\n",
        "    def __set_name__(self, owner, name):\n",
        "        self.name = name\n",
        "\n",
        "    def __get__(self, instance, owner):\n",
        "        if instance is None:\n",
        "            return self\n",
        "\n",
        "        return instance.__dict__.get(f\"TextField_{self.name}\")\n",
        "\n",
        "    def __set__(self, instance, value):\n",
        "        if not type(value) == str:\n",
        "            raise TypeError(f\"Value should be a string\")\n",
        "\n",
        "        if len(value) > self.length:\n",
        "            raise ValueError(f\"Value cannot exceed {self.length} characters\")\n",
        "\n",
        "        instance.__dict__[f\"TextField_{self.name}\"] = value\n",
        "\n",
        "    def __delete__(self, instance):\n",
        "        del instance.__dict__[f\"TextField_{self.name}\"]\n",
        "\n",
        "class PersonTable:\n",
        "    first_name = TextField(200)    \n",
        "    last_name = TextField(100)"
      ],
      "execution_count":82,
      "outputs":[
        
      ],
      "metadata":{
        
      }
    },
    {
      "cell_type":"code",
      "source":[
        
      ],
      "execution_count":81,
      "outputs":[
        
      ],
      "metadata":{
        
      }
    },
    {
      "cell_type":"code",
      "source":[
        "PersonTable.__dict__"
      ],
      "execution_count":60,
      "outputs":[
        {
          "data":{
            "text\/plain":[
              "mappingproxy({'__module__': '__main__',\n",
              "              'first_name': <__main__.TextField at 0x7f81a0fcc940>,\n",
              "              'last_name': <__main__.TextField at 0x7f81a0be50a0>,\n",
              "              '__dict__': <attribute '__dict__' of 'PersonTable' objects>,\n",
              "              '__weakref__': <attribute '__weakref__' of 'PersonTable' objects>,\n",
              "              '__doc__': None})"
            ]
          },
          "metadata":{
            
          },
          "output_type":"display_data"
        }
      ],
      "metadata":{
        
      }
    },
    {
      "cell_type":"code",
      "source":[
        "class NonPersonTable:\n",
        "    first_name = TextField(200)    \n",
        "    last_name = TextField(100)"
      ],
      "execution_count":63,
      "outputs":[
        {
          "name":"stdout",
          "text":[
            "<class '__main__.NonPersonTable'>\n",
            "<class '__main__.NonPersonTable'>\n"
          ],
          "output_type":"stream"
        }
      ],
      "metadata":{
        
      }
    },
    {
      "cell_type":"code",
      "source":[
        "PersonTable.first_name"
      ],
      "execution_count":70,
      "outputs":[
        {
          "data":{
            "text\/plain":[
              "<__main__.TextField at 0x7f81a11ac9a0>"
            ]
          },
          "metadata":{
            
          },
          "output_type":"display_data"
        }
      ],
      "metadata":{
        
      }
    },
    {
      "cell_type":"code",
      "source":[
        "p1 = PersonTable()\n",
        "p1.first_name = \"Andy\""
      ],
      "execution_count":83,
      "outputs":[
        
      ],
      "metadata":{
        
      }
    },
    {
      "cell_type":"code",
      "source":[
        "p1.first_name"
      ],
      "execution_count":84,
      "outputs":[
        {
          "data":{
            "text\/plain":[
              "'Andy'"
            ]
          },
          "metadata":{
            
          },
          "output_type":"display_data"
        }
      ],
      "metadata":{
        
      }
    },
    {
      "cell_type":"code",
      "source":[
        "del p1.first_name"
      ],
      "execution_count":85,
      "outputs":[
        
      ],
      "metadata":{
        
      }
    },
    {
      "cell_type":"code",
      "source":[
        "p1.first_name"
      ],
      "execution_count":86,
      "outputs":[
        
      ],
      "metadata":{
        
      }
    },
    {
      "cell_type":"markdown",
      "source":[
        "## `Non-Data Descriptors`"
      ],
      "attachments":{
        
      },
      "metadata":{
        
      }
    },
    {
      "cell_type":"code",
      "source":[
        "class TextField:\n",
        "    def __init__(self, length):\n",
        "        self.length = length\n",
        "\n",
        "    def __set_name__(self, owner, name):\n",
        "        self.name = name\n",
        "\n",
        "    def __get__(self, instance, owner):\n",
        "        if instance is None:\n",
        "            return self\n",
        "\n",
        "        return instance.__dict__.get(f\"TextField_{self.name}\")\n",
        "\n",
        "    def __set__(self, instance, value):\n",
        "        if not type(value) == str:\n",
        "            raise TypeError(f\"Value should be a string\")\n",
        "\n",
        "        if len(value) > self.length:\n",
        "            raise ValueError(f\"Value cannot exceed {self.length} characters\")\n",
        "\n",
        "        instance.__dict__[f\"TextField_{self.name}\"] = value\n",
        "\n",
        "    def __delete__(self, instance):\n",
        "        del instance.__dict__[f\"TextField_{self.name}\"]"
      ],
      "execution_count":87,
      "outputs":[
        
      ],
      "metadata":{
        
      }
    },
    {
      "cell_type":"code",
      "source":[
        "from random import randint\n",
        "\n",
        "class LuckyNumber:\n",
        "    def __get__(self, instance, owner):\n",
        "        return randint(1, 100)\n",
        "\n",
        "    def __set__(self, instance, value):\n",
        "        pass"
      ],
      "execution_count":126,
      "outputs":[
        
      ],
      "metadata":{
        
      }
    },
    {
      "cell_type":"code",
      "source":[
        "class PersonTable:\n",
        "    first_name = TextField(200)    \n",
        "    last_name = TextField(100)\n",
        "    personal_no = LuckyNumber()\n",
        "\n",
        "    def __init__(self, personal_no):\n",
        "        self.personal_no = personal_no\n",
        "\n",
        "\n",
        "p = PersonTable(personal_no=10)\n",
        "\n",
        "p.personal_no"
      ],
      "execution_count":134,
      "outputs":[
        {
          "data":{
            "text\/plain":[
              "74"
            ]
          },
          "metadata":{
            
          },
          "output_type":"display_data"
        }
      ],
      "metadata":{
        
      }
    },
    {
      "cell_type":"code",
      "source":[
        "PersonTable.personal_no"
      ],
      "execution_count":124,
      "outputs":[
        {
          "data":{
            "text\/plain":[
              "66"
            ]
          },
          "metadata":{
            
          },
          "output_type":"display_data"
        }
      ],
      "metadata":{
        
      }
    },
    {
      "cell_type":"markdown",
      "source":[
        "## `Aren't Properties Just Better?`"
      ],
      "attachments":{
        
      },
      "metadata":{
        
      }
    },
    {
      "cell_type":"code",
      "source":[
        "class TextField:\n",
        "    def __init__(self, length):\n",
        "        self.length = length\n",
        "\n",
        "    def __set_name__(self, owner, name):\n",
        "        self.name = name\n",
        "\n",
        "    def __get__(self, instance, owner):\n",
        "        if instance is None:\n",
        "            return self\n",
        "\n",
        "        return instance.__dict__.get(f'TextField_{self.name}')\n",
        "\n",
        "    def __set__(self, instance, value):\n",
        "        if not type(value) == str:\n",
        "            raise TypeError(f\"Value should be a string\")\n",
        "\n",
        "        if len(value) > self.length:\n",
        "            raise ValueError(f\"Value cannot exceed {self.length} characters\")\n",
        "\n",
        "        instance.__dict__[f'TextField_{self.name}'] = value\n",
        "\n",
        "    def __delete__(self, instance):\n",
        "        del instance.__dict__[f'TextField_{self.name}']\n",
        "\n",
        "\n",
        "class PersonTableWithDescriptor:\n",
        "    first_name = TextField(200)"
      ],
      "execution_count":136,
      "outputs":[
        
      ],
      "metadata":{
        
      }
    },
    {
      "cell_type":"code",
      "source":[
        "class PersonTableWithProps:\n",
        "    def __init__(self, first_name_length):\n",
        "        self._TextField_first_name = None\n",
        "        self.first_name_length = first_name_length\n",
        "\n",
        "    @property\n",
        "    def first_name(self):\n",
        "        return self._TextField_first_name\n",
        "\n",
        "    @first_name.setter\n",
        "    def first_name(self, value):\n",
        "        if not type(value) == str:\n",
        "            raise TypeError(f\"Value should be a string\")\n",
        "\n",
        "        if len(value) > self.first_name_length:\n",
        "            raise ValueError(f\"Value cannot exceed {self.first_name_length} characters\")\n",
        "\n",
        "        self._TextField_first_name = value\n",
        "    \n",
        "    @first_name.deleter\n",
        "    def first_name(self):\n",
        "        del self._TextField_first_name"
      ],
      "execution_count":145,
      "outputs":[
        
      ],
      "metadata":{
        
      }
    },
    {
      "cell_type":"code",
      "source":[
        "p = PersonTableWithProps(200)"
      ],
      "execution_count":147,
      "outputs":[
        
      ],
      "metadata":{
        
      }
    },
    {
      "cell_type":"code",
      "source":[
        "p.first_name = 2"
      ],
      "execution_count":148,
      "outputs":[
        {
          "ename":"TypeError",
          "evalue":"TypeError: Value should be a string",
          "traceback":[
            "\u001b[0;31m---------------------------------------------------------------------------",
            "Traceback (most recent call last)",
            "    at line 1 in <module>",
            "    at line 13 in first_name(self, value)",
            "TypeError: Value should be a string"
          ],
          "output_type":"error"
        }
      ],
      "metadata":{
        
      }
    },
    {
      "cell_type":"code",
      "source":[
        "p.first_name = \"a\" * 2000"
      ],
      "execution_count":149,
      "outputs":[
        {
          "ename":"ValueError",
          "evalue":"ValueError: Value cannot exceed 200 characters",
          "traceback":[
            "\u001b[0;31m---------------------------------------------------------------------------",
            "Traceback (most recent call last)",
            "    at line 1 in <module>",
            "    at line 16 in first_name(self, value)",
            "ValueError: Value cannot exceed 200 characters"
          ],
          "output_type":"error"
        }
      ],
      "metadata":{
        
      }
    },
    {
      "cell_type":"code",
      "source":[
        "p.first_name = \"Amadeus\""
      ],
      "execution_count":150,
      "outputs":[
        
      ],
      "metadata":{
        
      }
    },
    {
      "cell_type":"code",
      "source":[
        "p.__dict__[\"first_name\"] = \"won't be able to get here...\""
      ],
      "execution_count":151,
      "outputs":[
        
      ],
      "metadata":{
        
      }
    },
    {
      "cell_type":"code",
      "source":[
        "p.__dict__"
      ],
      "execution_count":152,
      "outputs":[
        {
          "data":{
            "text\/plain":[
              "{'_TextField_first_name': 'Amadeus',\n",
              " 'first_name_length': 200,\n",
              " 'first_name': \"won't be able to get here...\"}"
            ]
          },
          "metadata":{
            
          },
          "output_type":"display_data"
        }
      ],
      "metadata":{
        
      }
    },
    {
      "cell_type":"code",
      "source":[
        "p.first_name"
      ],
      "execution_count":153,
      "outputs":[
        {
          "data":{
            "text\/plain":[
              "'Amadeus'"
            ]
          },
          "metadata":{
            
          },
          "output_type":"display_data"
        }
      ],
      "metadata":{
        
      }
    },
    {
      "cell_type":"code",
      "source":[
        "# add 2 new fields:\n",
        "# * last_name\n",
        "# * occupation"
      ],
      "execution_count":154,
      "outputs":[
        
      ],
      "metadata":{
        
      }
    },
    {
      "cell_type":"code",
      "source":[
        "class PersonTableWithProps:\n",
        "    def __init__(self, first_name_length, last_name_length, occupation_length):\n",
        "        self._TextField_first_name = None\n",
        "        self._TextField_last_name = None\n",
        "        self._TextField_occupation = None\n",
        "\n",
        "        self.first_name_length = first_name_length\n",
        "        self.last_name_length = last_name_length\n",
        "        self.occupation_length = occupation_length\n",
        "\n",
        "    @property\n",
        "    def first_name(self):\n",
        "        return self._TextField_first_name\n",
        "\n",
        "    @first_name.setter\n",
        "    def first_name(self, value):\n",
        "        if not type(value) == str:\n",
        "            raise TypeError(f\"Value should be a string\")\n",
        "\n",
        "        if len(value) > self.first_name_length:\n",
        "            raise ValueError(f\"Value cannot exceed {self.first_name_length} characters\")\n",
        "\n",
        "        self._TextField_first_name = value\n",
        "    \n",
        "    @first_name.deleter\n",
        "    def first_name(self):\n",
        "        del self._TextField_first_name\n",
        "\n",
        "    @property\n",
        "    def first_name(self):\n",
        "        return self._TextField_first_name\n",
        "\n",
        "    @first_name.setter\n",
        "    def first_name(self, value):\n",
        "        if not type(value) == str:\n",
        "            raise TypeError(f\"Value should be a string\")\n",
        "\n",
        "        if len(value) > self.first_name_length:\n",
        "            raise ValueError(f\"Value cannot exceed {self.first_name_length} characters\")\n",
        "\n",
        "        self._TextField_first_name = value\n",
        "    \n",
        "    @first_name.deleter\n",
        "    def first_name(self):\n",
        "        del self._TextField_first_name\n",
        "\n",
        "    @property\n",
        "    def first_name(self):\n",
        "        return self._TextField_first_name\n",
        "\n",
        "    @first_name.setter\n",
        "    def first_name(self, value):\n",
        "        if not type(value) == str:\n",
        "            raise TypeError(f\"Value should be a string\")\n",
        "\n",
        "        if len(value) > self.first_name_length:\n",
        "            raise ValueError(f\"Value cannot exceed {self.first_name_length} characters\")\n",
        "\n",
        "        self._TextField_first_name = value\n",
        "    \n",
        "    @first_name.deleter\n",
        "    def first_name(self):\n",
        "        del self._TextField_first_name"
      ],
      "execution_count":0,
      "outputs":[
        
      ],
      "metadata":{
        
      }
    },
    {
      "cell_type":"code",
      "source":[
        "class PersonTableWithDescriptor:\n",
        "    first_name = TextField(200)\n",
        "    last_name = TextField(50)\n",
        "    occupation = TextField(100)"
      ],
      "execution_count":0,
      "outputs":[
        
      ],
      "metadata":{
        
      }
    },
    {
      "cell_type":"code",
      "source":[
        "# mercedez benz is better than automobiles"
      ],
      "execution_count":155,
      "outputs":[
        
      ],
      "metadata":{
        
      }
    },
    {
      "cell_type":"code",
      "source":[
        "# properties are better than descirptors"
      ],
      "execution_count":156,
      "outputs":[
        
      ],
      "metadata":{
        
      }
    },
    {
      "cell_type":"markdown",
      "source":[
        "## `BONUS: Similar How?`"
      ],
      "attachments":{
        
      },
      "metadata":{
        
      }
    },
    {
      "cell_type":"code",
      "source":[
        "class TextField:\n",
        "    def __init__(self, length):\n",
        "        self.length = length\n",
        "\n",
        "    def __set_name__(self, owner, name):\n",
        "        self.name = name\n",
        "\n",
        "    def __get__(self, instance, owner):\n",
        "        if instance is None:\n",
        "            return self\n",
        "\n",
        "        return instance.__dict__.get(f'TextField_{self.name}')\n",
        "\n",
        "    def __set__(self, instance, value):\n",
        "        if not type(value) == str:\n",
        "            raise TypeError(f\"Value should be a string\")\n",
        "\n",
        "        if len(value) > self.length:\n",
        "            raise ValueError(f\"Value cannot exceed {self.length} characters\")\n",
        "\n",
        "        instance.__dict__[f'TextField_{self.name}'] = value\n",
        "\n",
        "    def __delete__(self, instance):\n",
        "        del instance.__dict__[f'TextField_{self.name}']"
      ],
      "execution_count":157,
      "outputs":[
        
      ],
      "metadata":{
        
      }
    },
    {
      "cell_type":"code",
      "source":[
        "class PersonTableWithProps:\n",
        "    def __init__(self, first_name_length):\n",
        "        self._TextField_first_name = None\n",
        "        self.first_name_length = first_name_length\n",
        "\n",
        "    def get_first_name(self):\n",
        "        return self._TextField_first_name\n",
        "\n",
        "    def set_first_name(self, value):\n",
        "        if not type(value) == str:\n",
        "            raise TypeError(f\"Value should be a string\")\n",
        "\n",
        "        if len(value) > self.first_name_length:\n",
        "            raise ValueError(f\"Value cannot exceed {self.first_name_length} characters\")\n",
        "\n",
        "        self._TextField_first_name = value\n",
        "    \n",
        "    def del_first_name(self):\n",
        "        del self._TextField_first_name\n",
        "\n",
        "    first_name = property(fget=get_first_name, fset=set_first_name, fdel=del_first_name)"
      ],
      "execution_count":159,
      "outputs":[
        
      ],
      "metadata":{
        
      }
    },
    {
      "cell_type":"code",
      "source":[
        "class PersonTable:\n",
        "    first_name = TextField(200)"
      ],
      "execution_count":160,
      "outputs":[
        
      ],
      "metadata":{
        
      }
    },
    {
      "cell_type":"code",
      "source":[
        "# properties\n",
        "# classmethod\n",
        "# staticmethod\n",
        "# __slots__\n",
        "\n",
        "# ...all powered by descirptors under the hood."
      ],
      "execution_count":161,
      "outputs":[
        
      ],
      "metadata":{
        
      }
    },
    {
      "cell_type":"code",
      "source":[
        
      ],
      "execution_count":156,
      "outputs":[
        
      ],
      "metadata":{
        
      }
    },
    {
      "cell_type":"code",
      "source":[
        
      ],
      "execution_count":156,
      "outputs":[
        
      ],
      "metadata":{
        
      }
    },
    {
      "cell_type":"code",
      "source":[
        
      ],
      "execution_count":156,
      "outputs":[
        
      ],
      "metadata":{
        
      }
    },
    {
      "cell_type":"code",
      "source":[
        
      ],
      "execution_count":0,
      "outputs":[
        
      ],
      "metadata":{
        
      }
    },
    {
      "cell_type":"code",
      "source":[
        
      ],
      "execution_count":0,
      "outputs":[
        
      ],
      "metadata":{
        
      }
    },
    {
      "cell_type":"code",
      "source":[
        
      ],
      "execution_count":0,
      "outputs":[
        
      ],
      "metadata":{
        
      }
    },
    {
      "cell_type":"code",
      "source":[
        
      ],
      "execution_count":0,
      "outputs":[
        
      ],
      "metadata":{
        
      }
    },
    {
      "cell_type":"code",
      "source":[
        
      ],
      "execution_count":0,
      "outputs":[
        
      ],
      "metadata":{
        
      }
    },
    {
      "cell_type":"code",
      "source":[
        
      ],
      "execution_count":0,
      "outputs":[
        
      ],
      "metadata":{
        
      }
    },
    {
      "cell_type":"code",
      "source":[
        
      ],
      "execution_count":0,
      "outputs":[
        
      ],
      "metadata":{
        
      }
    },
    {
      "cell_type":"code",
      "source":[
        
      ],
      "execution_count":0,
      "outputs":[
        
      ],
      "metadata":{
        
      }
    },
    {
      "cell_type":"code",
      "source":[
        
      ],
      "execution_count":0,
      "outputs":[
        
      ],
      "metadata":{
        
      }
    },
    {
      "cell_type":"code",
      "source":[
        
      ],
      "execution_count":42,
      "outputs":[
        
      ],
      "metadata":{
        
      }
    },
    {
      "cell_type":"code",
      "source":[
        
      ],
      "execution_count":0,
      "outputs":[
        
      ],
      "metadata":{
        
      }
    },
    {
      "cell_type":"code",
      "source":[
        
      ],
      "execution_count":0,
      "outputs":[
        
      ],
      "metadata":{
        
      }
    },
    {
      "cell_type":"code",
      "source":[
        
      ],
      "execution_count":0,
      "outputs":[
        
      ],
      "metadata":{
        
      }
    },
    {
      "cell_type":"code",
      "source":[
        
      ],
      "execution_count":0,
      "outputs":[
        
      ],
      "metadata":{
        
      }
    },
    {
      "cell_type":"code",
      "source":[
        
      ],
      "execution_count":0,
      "outputs":[
        
      ],
      "metadata":{
        
      }
    },
    {
      "cell_type":"code",
      "source":[
        
      ],
      "execution_count":0,
      "outputs":[
        
      ],
      "metadata":{
        
      }
    },
    {
      "cell_type":"code",
      "source":[
        
      ],
      "execution_count":0,
      "outputs":[
        
      ],
      "metadata":{
        
      }
    },
    {
      "cell_type":"code",
      "source":[
        
      ],
      "execution_count":0,
      "outputs":[
        
      ],
      "metadata":{
        
      }
    },
    {
      "cell_type":"code",
      "source":[
        
      ],
      "execution_count":0,
      "outputs":[
        
      ],
      "metadata":{
        
      }
    },
    {
      "cell_type":"code",
      "source":[
        
      ],
      "execution_count":0,
      "outputs":[
        
      ],
      "metadata":{
        
      }
    },
    {
      "cell_type":"code",
      "source":[
        
      ],
      "execution_count":0,
      "outputs":[
        
      ],
      "metadata":{
        
      }
    },
    {
      "cell_type":"code",
      "source":[
        
      ],
      "execution_count":0,
      "outputs":[
        
      ],
      "metadata":{
        
      }
    },
    {
      "cell_type":"code",
      "source":[
        
      ],
      "execution_count":0,
      "outputs":[
        
      ],
      "metadata":{
        
      }
    },
    {
      "cell_type":"code",
      "source":[
        
      ],
      "execution_count":0,
      "outputs":[
        
      ],
      "metadata":{
        
      }
    }
  ],
  "metadata":{
    
  },
  "nbformat":4,
  "nbformat_minor":0
}