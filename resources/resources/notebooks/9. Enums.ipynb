{
  "cells":[
    {
      "cell_type":"markdown",
      "source":[
        "## `What's The Point?`"
      ],
      "attachments":{
        
      },
      "metadata":{
        
      }
    },
    {
      "cell_type":"code",
      "source":[
        "# static colleciton of values"
      ],
      "execution_count":1,
      "outputs":[
        
      ],
      "metadata":{
        
      }
    },
    {
      "cell_type":"code",
      "source":[
        "# Conservative Party of Canada\n",
        "# Liberal Party of Canada\n",
        "# Bloc Quebeqois\n",
        "# New Democratic Party\n",
        "# Green Party of Canada"
      ],
      "execution_count":3,
      "outputs":[
        
      ],
      "metadata":{
        
      }
    },
    {
      "cell_type":"code",
      "source":[
        "parties = [\"CPC\", \"LPC\", \"BQ\", \"NDP\", \"GPC\"]"
      ],
      "execution_count":4,
      "outputs":[
        
      ],
      "metadata":{
        
      }
    },
    {
      "cell_type":"code",
      "source":[
        "PARTIES = [\"CPC\", \"LPC\", \"BQ\", \"NDP\", \"GPC\"]"
      ],
      "execution_count":5,
      "outputs":[
        
      ],
      "metadata":{
        
      }
    },
    {
      "cell_type":"code",
      "source":[
        "PARTIES = (\"CPC\", \"LPC\", \"BQ\", \"NDP\", \"GPC\")"
      ],
      "execution_count":6,
      "outputs":[
        
      ],
      "metadata":{
        
      }
    },
    {
      "cell_type":"code",
      "source":[
        "PARTIES[2]"
      ],
      "execution_count":7,
      "outputs":[
        {
          "data":{
            "text\/plain":[
              "'BQ'"
            ]
          },
          "metadata":{
            
          },
          "output_type":"display_data"
        }
      ],
      "metadata":{
        
      }
    },
    {
      "cell_type":"code",
      "source":[
        "for party in PARTIES:\n",
        "    print(party)"
      ],
      "execution_count":9,
      "outputs":[
        {
          "name":"stdout",
          "text":[
            "CPC\n",
            "LPC\n",
            "BQ\n",
            "NDP\n",
            "GPC\n"
          ],
          "output_type":"stream"
        }
      ],
      "metadata":{
        
      }
    },
    {
      "cell_type":"code",
      "source":[
        "PARTIES[2] = \"BQ\""
      ],
      "execution_count":10,
      "outputs":[
        {
          "ename":"TypeError",
          "evalue":"TypeError: 'tuple' object does not support item assignment",
          "traceback":[
            "\u001b[0;31m---------------------------------------------------------------------------",
            "Traceback (most recent call last)",
            "    at line 1 in <module>",
            "TypeError: 'tuple' object does not support item assignment"
          ],
          "output_type":"error"
        }
      ],
      "metadata":{
        
      }
    },
    {
      "cell_type":"code",
      "source":[
        "# liberal -> PARTIES[1]\n",
        "# green -> PARTIES5[]\n",
        "# ..."
      ],
      "execution_count":11,
      "outputs":[
        
      ],
      "metadata":{
        
      }
    },
    {
      "cell_type":"code",
      "source":[
        "sorted(PARTIES)[1]"
      ],
      "execution_count":12,
      "outputs":[
        {
          "data":{
            "text\/plain":[
              "'CPC'"
            ]
          },
          "metadata":{
            
          },
          "output_type":"display_data"
        }
      ],
      "metadata":{
        
      }
    },
    {
      "cell_type":"code",
      "source":[
        "# enumeriation -> enum"
      ],
      "execution_count":13,
      "outputs":[
        
      ],
      "metadata":{
        
      }
    },
    {
      "cell_type":"markdown",
      "source":[
        "## `Enumerations`"
      ],
      "attachments":{
        
      },
      "metadata":{
        
      }
    },
    {
      "cell_type":"code",
      "source":[
        "# python 3.4"
      ],
      "execution_count":14,
      "outputs":[
        
      ],
      "metadata":{
        
      }
    },
    {
      "cell_type":"code",
      "source":[
        "from enum import Enum"
      ],
      "execution_count":15,
      "outputs":[
        
      ],
      "metadata":{
        
      }
    },
    {
      "cell_type":"code",
      "source":[
        "class Parties(Enum):\n",
        "    CPC = \"Conservative Party of Canada\"\n",
        "    LPC = \"Liberal Party of Canada\"\n",
        "    BQ = \"Bloc Quebeqois\"\n",
        "    NDP = \"New Democratic Party\"\n",
        "    GBP = \"Green Party of Canada\""
      ],
      "execution_count":16,
      "outputs":[
        
      ],
      "metadata":{
        
      }
    },
    {
      "cell_type":"code",
      "source":[
        "Parties.CPC"
      ],
      "execution_count":17,
      "outputs":[
        {
          "data":{
            "text\/plain":[
              "<Parties.CPC: 'Conservative Party of Canada'>"
            ]
          },
          "metadata":{
            
          },
          "output_type":"display_data"
        }
      ],
      "metadata":{
        
      }
    },
    {
      "cell_type":"code",
      "source":[
        "Parties.BQ"
      ],
      "execution_count":18,
      "outputs":[
        {
          "data":{
            "text\/plain":[
              "<Parties.BQ: 'Bloc Quebeqois'>"
            ]
          },
          "metadata":{
            
          },
          "output_type":"display_data"
        }
      ],
      "metadata":{
        
      }
    },
    {
      "cell_type":"code",
      "source":[
        "for party in Parties:\n",
        "    print(party)"
      ],
      "execution_count":19,
      "outputs":[
        {
          "name":"stdout",
          "text":[
            "Parties.CPC\n",
            "Parties.LPC\n",
            "Parties.BQ\n",
            "Parties.NDP\n",
            "Parties.GBP\n"
          ],
          "output_type":"stream"
        }
      ],
      "metadata":{
        
      }
    },
    {
      "cell_type":"code",
      "source":[
        "sorted(Parties)"
      ],
      "execution_count":21,
      "outputs":[
        {
          "ename":"TypeError",
          "evalue":"TypeError: '<' not supported between instances of 'Parties' and 'Parties'",
          "traceback":[
            "\u001b[0;31m---------------------------------------------------------------------------",
            "Traceback (most recent call last)",
            "    at line 1 in <module>",
            "TypeError: '<' not supported between instances of 'Parties' and 'Parties'"
          ],
          "output_type":"error"
        }
      ],
      "metadata":{
        
      }
    },
    {
      "cell_type":"code",
      "source":[
        "Parties.CPC"
      ],
      "execution_count":22,
      "outputs":[
        {
          "data":{
            "text\/plain":[
              "<Parties.CPC: 'Conservative Party of Canada'>"
            ]
          },
          "metadata":{
            
          },
          "output_type":"display_data"
        }
      ],
      "metadata":{
        
      }
    },
    {
      "cell_type":"code",
      "source":[
        "Parties.CPC  = 2"
      ],
      "execution_count":23,
      "outputs":[
        {
          "ename":"AttributeError",
          "evalue":"AttributeError: Cannot reassign members.",
          "traceback":[
            "\u001b[0;31m---------------------------------------------------------------------------",
            "Traceback (most recent call last)",
            "    at line 1 in <module>",
            "AttributeError: Cannot reassign members."
          ],
          "output_type":"error"
        }
      ],
      "metadata":{
        
      }
    },
    {
      "cell_type":"code",
      "source":[
        "type(Parties.LPC)"
      ],
      "execution_count":24,
      "outputs":[
        {
          "data":{
            "text\/plain":[
              "<enum 'Parties'>"
            ]
          },
          "metadata":{
            
          },
          "output_type":"display_data"
        }
      ],
      "metadata":{
        
      }
    },
    {
      "cell_type":"code",
      "source":[
        "class Parties(Enum):\n",
        "    CPC = \"Conservative Party of Canada\"\n",
        "    LPC = \"Liberal Party of Canada\"\n",
        "    BQ = \"Bloc Quebeqois\"\n",
        "    NDP = \"New Democratic Party\"\n",
        "    GBP = \"Green Party of Canada\""
      ],
      "execution_count":25,
      "outputs":[
        
      ],
      "metadata":{
        
      }
    },
    {
      "cell_type":"code",
      "source":[
        "from dataclasses import dataclass\n",
        "\n",
        "@dataclass\n",
        "class Party:\n",
        "    member_count: int\n",
        "    coalition: bool\n",
        "    seats: int"
      ],
      "execution_count":26,
      "outputs":[
        
      ],
      "metadata":{
        
      }
    },
    {
      "cell_type":"markdown",
      "source":[
        "## `Members`"
      ],
      "attachments":{
        
      },
      "metadata":{
        
      }
    },
    {
      "cell_type":"code",
      "source":[
        "class Parties(Enum):\n",
        "    CPC = \"Conservative Party of Canada\"\n",
        "    LPC = \"Liberal Party of Canada\"\n",
        "    BQ = \"Bloc Quebecois\"\n",
        "    NDP = \"New Democratic Party\"\n",
        "    GPC = \"Green Party of Canada\""
      ],
      "execution_count":42,
      "outputs":[
        
      ],
      "metadata":{
        
      }
    },
    {
      "cell_type":"code",
      "source":[
        "Parties._member_names_"
      ],
      "execution_count":43,
      "outputs":[
        {
          "data":{
            "text\/plain":[
              "['CPC', 'LPC', 'BQ', 'NDP', 'GPC']"
            ]
          },
          "metadata":{
            
          },
          "output_type":"display_data"
        }
      ],
      "metadata":{
        
      }
    },
    {
      "cell_type":"code",
      "source":[
        "Parties.__members__"
      ],
      "execution_count":44,
      "outputs":[
        {
          "data":{
            "text\/plain":[
              "mappingproxy({'CPC': <Parties.CPC: 'Conservative Party of Canada'>,\n",
              "              'LPC': <Parties.LPC: 'Liberal Party of Canada'>,\n",
              "              'BQ': <Parties.BQ: 'Bloc Quebecois'>,\n",
              "              'NDP': <Parties.NDP: 'New Democratic Party'>,\n",
              "              'GPC': <Parties.GPC: 'Green Party of Canada'>})"
            ]
          },
          "metadata":{
            
          },
          "output_type":"display_data"
        }
      ],
      "metadata":{
        
      }
    },
    {
      "cell_type":"code",
      "source":[
        "Parties.CPC"
      ],
      "execution_count":45,
      "outputs":[
        {
          "data":{
            "text\/plain":[
              "<Parties.CPC: 'Conservative Party of Canada'>"
            ]
          },
          "metadata":{
            
          },
          "output_type":"display_data"
        }
      ],
      "metadata":{
        
      }
    },
    {
      "cell_type":"code",
      "source":[
        "Parties('Conservative Party of Canada')"
      ],
      "execution_count":48,
      "outputs":[
        {
          "data":{
            "text\/plain":[
              "<Parties.CPC: 'Conservative Party of Canada'>"
            ]
          },
          "metadata":{
            
          },
          "output_type":"display_data"
        }
      ],
      "metadata":{
        
      }
    },
    {
      "cell_type":"code",
      "source":[
        "Parties.CPC is Parties('Conservative Party of Canada')"
      ],
      "execution_count":49,
      "outputs":[
        {
          "data":{
            "text\/plain":[
              "True"
            ]
          },
          "metadata":{
            
          },
          "output_type":"display_data"
        }
      ],
      "metadata":{
        
      }
    },
    {
      "cell_type":"code",
      "source":[
        "print(Parties.CPC)"
      ],
      "execution_count":47,
      "outputs":[
        {
          "name":"stdout",
          "text":[
            "Parties.CPC\n"
          ],
          "output_type":"stream"
        }
      ],
      "metadata":{
        
      }
    },
    {
      "cell_type":"code",
      "source":[
        "type(Parties.CPC)"
      ],
      "execution_count":46,
      "outputs":[
        {
          "data":{
            "text\/plain":[
              "<enum 'Parties'>"
            ]
          },
          "metadata":{
            
          },
          "output_type":"display_data"
        }
      ],
      "metadata":{
        
      }
    },
    {
      "cell_type":"code",
      "source":[
        "isinstance(Parties.CPC, Parties)"
      ],
      "execution_count":34,
      "outputs":[
        {
          "data":{
            "text\/plain":[
              "True"
            ]
          },
          "metadata":{
            
          },
          "output_type":"display_data"
        }
      ],
      "metadata":{
        
      }
    },
    {
      "cell_type":"code",
      "source":[
        "class RegularParties(object):\n",
        "    CPC = \"Conservative Party of Canada\"\n",
        "    LPC = \"Liberal Party of Canada\"\n",
        "    BQ = \"Bloc Quebecois\"\n",
        "    NDP = \"New Democratic Party\"\n",
        "    GPC = \"Green Party of Canada\""
      ],
      "execution_count":37,
      "outputs":[
        
      ],
      "metadata":{
        
      }
    },
    {
      "cell_type":"code",
      "source":[
        "RegularParties.CPC"
      ],
      "execution_count":39,
      "outputs":[
        {
          "data":{
            "text\/plain":[
              "'Conservative Party of Canada'"
            ]
          },
          "metadata":{
            
          },
          "output_type":"display_data"
        }
      ],
      "metadata":{
        
      }
    },
    {
      "cell_type":"code",
      "source":[
        "type(RegularParties.CPC)"
      ],
      "execution_count":40,
      "outputs":[
        {
          "data":{
            "text\/plain":[
              "str"
            ]
          },
          "metadata":{
            
          },
          "output_type":"display_data"
        }
      ],
      "metadata":{
        
      }
    },
    {
      "cell_type":"code",
      "source":[
        "isinstance(RegularParties.CPC, RegularParties)"
      ],
      "execution_count":41,
      "outputs":[
        {
          "data":{
            "text\/plain":[
              "False"
            ]
          },
          "metadata":{
            
          },
          "output_type":"display_data"
        }
      ],
      "metadata":{
        
      }
    },
    {
      "cell_type":"markdown",
      "source":[
        "## `Aliases vs Masters`"
      ],
      "attachments":{
        
      },
      "metadata":{
        
      }
    },
    {
      "cell_type":"code",
      "source":[
        "class Parties(Enum):\n",
        "    CPC = \"Conservative Party of Canada\"\n",
        "    LPC = \"Liberal Party of Canada\"\n",
        "    BQ = \"Bloc Quebecois\"\n",
        "    NDP = \"New Democratic Party\"\n",
        "    GPC = \"Green Party of Canada\""
      ],
      "execution_count":55,
      "outputs":[
        
      ],
      "metadata":{
        
      }
    },
    {
      "cell_type":"code",
      "source":[
        "class Parties(Enum):\n",
        "    CPC = \"Conservative Party of Canada\"\n",
        "    CPC = \"Conservative Party of Canucks\"\n",
        "    LPC = \"Liberal Party of Canada\"\n",
        "    BQ = \"Bloc Quebecois\"\n",
        "    NDP = \"New Democratic Party\"\n",
        "    GPC = \"Green Party of Canada\""
      ],
      "execution_count":56,
      "outputs":[
        {
          "ename":"TypeError",
          "evalue":"TypeError: Attempted to reuse key: 'CPC'",
          "traceback":[
            "\u001b[0;31m---------------------------------------------------------------------------",
            "Traceback (most recent call last)",
            "    at line 1 in <module>",
            "    at line 3 in Parties()",
            "TypeError: Attempted to reuse key: 'CPC'"
          ],
          "output_type":"error"
        }
      ],
      "metadata":{
        
      }
    },
    {
      "cell_type":"code",
      "source":[
        "class Parties(Enum):\n",
        "    CPC = \"Conservative Party of Canada\" # member\n",
        "    CPoC = \"Conservative Party of Canada\" # alias\n",
        "    LPC = \"Liberal Party of Canada\"\n",
        "    BQ = \"Bloc Quebecois\"\n",
        "    NDP = \"New Democratic Party\"\n",
        "    GPC = \"Green Party of Canada\""
      ],
      "execution_count":58,
      "outputs":[
        
      ],
      "metadata":{
        
      }
    },
    {
      "cell_type":"code",
      "source":[
        "Parties(\"Bloc Quebecois\")"
      ],
      "execution_count":59,
      "outputs":[
        {
          "data":{
            "text\/plain":[
              "<Parties.BQ: 'Bloc Quebecois'>"
            ]
          },
          "metadata":{
            
          },
          "output_type":"display_data"
        }
      ],
      "metadata":{
        
      }
    },
    {
      "cell_type":"code",
      "source":[
        "Parties.BQ"
      ],
      "execution_count":60,
      "outputs":[
        {
          "data":{
            "text\/plain":[
              "<Parties.BQ: 'Bloc Quebecois'>"
            ]
          },
          "metadata":{
            
          },
          "output_type":"display_data"
        }
      ],
      "metadata":{
        
      }
    },
    {
      "cell_type":"code",
      "source":[
        "# - master name\n",
        "# - aliased name\n",
        "# - value"
      ],
      "execution_count":61,
      "outputs":[
        
      ],
      "metadata":{
        
      }
    },
    {
      "cell_type":"code",
      "source":[
        "Parties.CPC is Parties.CPoC is Parties(\"Conservative Party of Canada\")"
      ],
      "execution_count":63,
      "outputs":[
        {
          "data":{
            "text\/plain":[
              "True"
            ]
          },
          "metadata":{
            
          },
          "output_type":"display_data"
        }
      ],
      "metadata":{
        
      }
    },
    {
      "cell_type":"code",
      "source":[
        "Parties.__members__"
      ],
      "execution_count":64,
      "outputs":[
        {
          "data":{
            "text\/plain":[
              "mappingproxy({'CPC': <Parties.CPC: 'Conservative Party of Canada'>,\n",
              "              'CPoC': <Parties.CPC: 'Conservative Party of Canada'>,\n",
              "              'LPC': <Parties.LPC: 'Liberal Party of Canada'>,\n",
              "              'BQ': <Parties.BQ: 'Bloc Quebecois'>,\n",
              "              'NDP': <Parties.NDP: 'New Democratic Party'>,\n",
              "              'GPC': <Parties.GPC: 'Green Party of Canada'>})"
            ]
          },
          "metadata":{
            
          },
          "output_type":"display_data"
        }
      ],
      "metadata":{
        
      }
    },
    {
      "cell_type":"code",
      "source":[
        "Parties._member_names_"
      ],
      "execution_count":65,
      "outputs":[
        {
          "data":{
            "text\/plain":[
              "['CPC', 'LPC', 'BQ', 'NDP', 'GPC']"
            ]
          },
          "metadata":{
            
          },
          "output_type":"display_data"
        }
      ],
      "metadata":{
        
      }
    },
    {
      "cell_type":"code",
      "source":[
        "Parties._value2member_map_"
      ],
      "execution_count":66,
      "outputs":[
        {
          "data":{
            "text\/plain":[
              "{'Conservative Party of Canada': <Parties.CPC: 'Conservative Party of Canada'>,\n",
              " 'Liberal Party of Canada': <Parties.LPC: 'Liberal Party of Canada'>,\n",
              " 'Bloc Quebecois': <Parties.BQ: 'Bloc Quebecois'>,\n",
              " 'New Democratic Party': <Parties.NDP: 'New Democratic Party'>,\n",
              " 'Green Party of Canada': <Parties.GPC: 'Green Party of Canada'>}"
            ]
          },
          "metadata":{
            
          },
          "output_type":"display_data"
        }
      ],
      "metadata":{
        
      }
    },
    {
      "cell_type":"markdown",
      "source":[
        "## `Uniqueness`"
      ],
      "attachments":{
        
      },
      "metadata":{
        
      }
    },
    {
      "cell_type":"code",
      "source":[
        "from enum import unique"
      ],
      "execution_count":5,
      "outputs":[
        
      ],
      "metadata":{
        
      }
    },
    {
      "cell_type":"code",
      "source":[
        "@unique\n",
        "class Parties(Enum):\n",
        "    CPC = \"Conservative Party of Canada\" # master\n",
        "    CPoC = \"Conservative Party of Canada\" # alias\n",
        "    LPC = \"Liberal Party of Canada\"\n",
        "    BQ = \"Bloc Quebecois\"\n",
        "    NDP = \"New Democratic Party\"\n",
        "    GPC = \"Green Party of Canada\""
      ],
      "execution_count":6,
      "outputs":[
        {
          "ename":"ValueError",
          "evalue":"ValueError: duplicate values found in <enum 'Parties'>: CPoC -> CPC",
          "traceback":[
            "\u001b[0;31m---------------------------------------------------------------------------",
            "Traceback (most recent call last)",
            "    at line 2 in <module>",
            "ValueError: duplicate values found in <enum 'Parties'>: CPoC -> CPC"
          ],
          "output_type":"error"
        }
      ],
      "metadata":{
        
      }
    },
    {
      "cell_type":"code",
      "source":[
        "Parties.__members__"
      ],
      "execution_count":8,
      "outputs":[
        {
          "data":{
            "text\/plain":[
              "mappingproxy({'CPC': <Parties.CPC: 'Conservative Party of Canada'>,\n",
              "              'CPoC': <Parties.CPC: 'Conservative Party of Canada'>,\n",
              "              'LPC': <Parties.LPC: 'Liberal Party of Canada'>,\n",
              "              'BQ': <Parties.BQ: 'Bloc Quebecois'>,\n",
              "              'NDP': <Parties.NDP: 'New Democratic Party'>,\n",
              "              'GPC': <Parties.GPC: 'Green Party of Canada'>})"
            ]
          },
          "metadata":{
            
          },
          "output_type":"display_data"
        }
      ],
      "metadata":{
        
      }
    },
    {
      "cell_type":"code",
      "source":[
        "for symbolic_name, member_name in Parties.__members__.items():\n",
        "    print(symbolic_name, member_name.name)"
      ],
      "execution_count":11,
      "outputs":[
        {
          "name":"stdout",
          "text":[
            "CPC CPC\n",
            "CPoC CPC\n",
            "LPC LPC\n",
            "BQ BQ\n",
            "NDP NDP\n",
            "GPC GPC\n"
          ],
          "output_type":"stream"
        }
      ],
      "metadata":{
        
      }
    },
    {
      "cell_type":"code",
      "source":[
        "def should_be_unique(my_enum):\n",
        "    is_unique = True\n",
        "    \n",
        "    for symbolic_name, member_name in my_enum.__members__.items():\n",
        "        if symbolic_name != member_name.name:\n",
        "            is_unique = False\n",
        "\n",
        "    if not is_unique:\n",
        "        raise ValueError(\"Enum contains aliases!!!\")\n",
        "\n",
        "    return my_enum"
      ],
      "execution_count":12,
      "outputs":[
        
      ],
      "metadata":{
        
      }
    },
    {
      "cell_type":"code",
      "source":[
        "@should_be_unique\n",
        "class Parties(Enum):\n",
        "    CPC = \"Conservative Party of Canada\" # master\n",
        "    CPoC = \"Conservative Party of Canada\" # alias\n",
        "    LPC = \"Liberal Party of Canada\"\n",
        "    BQ = \"Bloc Quebecois\"\n",
        "    NDP = \"New Democratic Party\"\n",
        "    GPC = \"Green Party of Canada\""
      ],
      "execution_count":15,
      "outputs":[
        {
          "ename":"ValueError",
          "evalue":"ValueError: Enum contains aliases!!!",
          "traceback":[
            "\u001b[0;31m---------------------------------------------------------------------------",
            "Traceback (most recent call last)",
            "    at line 2 in <module>",
            "    at line 9 in should_be_unique(my_enum)",
            "ValueError: Enum contains aliases!!!"
          ],
          "output_type":"error"
        }
      ],
      "metadata":{
        
      }
    },
    {
      "cell_type":"markdown",
      "source":[
        "## `BONUS: Functional Syntax`"
      ],
      "attachments":{
        
      },
      "metadata":{
        
      }
    },
    {
      "cell_type":"code",
      "source":[
        "from enum import Enum\n",
        "\n",
        "\n",
        "class Parties(Enum):\n",
        "    CPC = \"Conservative Party of Canada\"\n",
        "    LPC = \"Liberal Party of Canada\"\n",
        "    BQ = \"Bloc Quebecois\"\n",
        "    NDP = \"New Democratic Party\"\n",
        "    GPC = \"Green Party of Canada\""
      ],
      "execution_count":47,
      "outputs":[
        
      ],
      "metadata":{
        
      }
    },
    {
      "cell_type":"code",
      "source":[
        "Enum(\"Parties\", [\"CPC\", \"LPC\", \"BQ\", \"NDP\", \"GPC\"])"
      ],
      "execution_count":48,
      "outputs":[
        {
          "data":{
            "text\/plain":[
              "<enum 'Parties'>"
            ]
          },
          "metadata":{
            
          },
          "output_type":"display_data"
        }
      ],
      "metadata":{
        
      }
    },
    {
      "cell_type":"code",
      "source":[
        "Parties = Enum(\"Parties\", \"CPC LPC BQ NDP GPC\")"
      ],
      "execution_count":50,
      "outputs":[
        
      ],
      "metadata":{
        
      }
    },
    {
      "cell_type":"code",
      "source":[
        "Parties.CPC, Parties.LPC, Parties.BQ"
      ],
      "execution_count":52,
      "outputs":[
        {
          "data":{
            "text\/plain":[
              "(<Parties.CPC: 1>, <Parties.LPC: 2>, <Parties.BQ: 3>)"
            ]
          },
          "metadata":{
            
          },
          "output_type":"display_data"
        }
      ],
      "metadata":{
        
      }
    },
    {
      "cell_type":"code",
      "source":[
        "Enum(\"Parties\", [(\"CPC\", \"Conserviatve party\"), (\"LPC\", \"liberal party\")]).CPC"
      ],
      "execution_count":55,
      "outputs":[
        {
          "data":{
            "text\/plain":[
              "<Parties.CPC: 'Conserviatve party'>"
            ]
          },
          "metadata":{
            
          },
          "output_type":"display_data"
        }
      ],
      "metadata":{
        
      }
    },
    {
      "cell_type":"code",
      "source":[
        "Enum(\"Parties\", {\"CPC\": \"Conserviatve party\" ,\"LPC\": \"liberal party\"}).LPC"
      ],
      "execution_count":57,
      "outputs":[
        {
          "data":{
            "text\/plain":[
              "<Parties.LPC: 'liberal party'>"
            ]
          },
          "metadata":{
            
          },
          "output_type":"display_data"
        }
      ],
      "metadata":{
        
      }
    },
    {
      "cell_type":"markdown",
      "source":[
        "## `Automatic Values`"
      ],
      "attachments":{
        
      },
      "metadata":{
        
      }
    },
    {
      "cell_type":"code",
      "source":[
        "class Parties(Enum):\n",
        "    CPC = \"Conservative Party of Canada\"\n",
        "    CPoC = \"Conservative Party of Canada\"\n",
        "    LPC = \"Liberal Party of Canada\"\n",
        "    BQ = \"Bloc Quebecois\"\n",
        "    NDP = \"New Democratic Party\"\n",
        "    GPC = \"Green Party of Canada\""
      ],
      "execution_count":59,
      "outputs":[
        
      ],
      "metadata":{
        
      }
    },
    {
      "cell_type":"code",
      "source":[
        "class Parties(Enum):\n",
        "    CPC \n",
        "    LPC \n",
        "    BQ \n",
        "    NDP \n",
        "    GPC"
      ],
      "execution_count":70,
      "outputs":[
        {
          "ename":"NameError",
          "evalue":"NameError: name 'CPC' is not defined",
          "traceback":[
            "\u001b[0;31m---------------------------------------------------------------------------",
            "Traceback (most recent call last)",
            "    at line 1 in <module>",
            "    at line 2 in Parties()",
            "NameError: name 'CPC' is not defined"
          ],
          "output_type":"error"
        }
      ],
      "metadata":{
        
      }
    },
    {
      "cell_type":"code",
      "source":[
        "id(object())"
      ],
      "execution_count":72,
      "outputs":[
        {
          "data":{
            "text\/plain":[
              "139858149096352"
            ]
          },
          "metadata":{
            
          },
          "output_type":"display_data"
        }
      ],
      "metadata":{
        
      }
    },
    {
      "cell_type":"code",
      "source":[
        "id(object())"
      ],
      "execution_count":73,
      "outputs":[
        {
          "data":{
            "text\/plain":[
              "139858149096272"
            ]
          },
          "metadata":{
            
          },
          "output_type":"display_data"
        }
      ],
      "metadata":{
        
      }
    },
    {
      "cell_type":"code",
      "source":[
        "object() is object()"
      ],
      "execution_count":74,
      "outputs":[
        {
          "data":{
            "text\/plain":[
              "False"
            ]
          },
          "metadata":{
            
          },
          "output_type":"display_data"
        }
      ],
      "metadata":{
        
      }
    },
    {
      "cell_type":"code",
      "source":[
        "class Parties(Enum):\n",
        "    CPC = object()\n",
        "    LPC = object()\n",
        "    BQ = object()\n",
        "    NDP = object()\n",
        "    GPC = object()"
      ],
      "execution_count":76,
      "outputs":[
        
      ],
      "metadata":{
        
      }
    },
    {
      "cell_type":"code",
      "source":[
        "Parties.CPC"
      ],
      "execution_count":77,
      "outputs":[
        {
          "data":{
            "text\/plain":[
              "<Parties.CPC: <object object at 0x7f33434bbb70>>"
            ]
          },
          "metadata":{
            
          },
          "output_type":"display_data"
        }
      ],
      "metadata":{
        
      }
    },
    {
      "cell_type":"code",
      "source":[
        "Parties()"
      ],
      "execution_count":0,
      "outputs":[
        
      ],
      "metadata":{
        
      }
    },
    {
      "cell_type":"code",
      "source":[
        "from enum import auto"
      ],
      "execution_count":78,
      "outputs":[
        
      ],
      "metadata":{
        
      }
    },
    {
      "cell_type":"code",
      "source":[
        "class Parties(Enum):\n",
        "    CPC = auto()\n",
        "    LPC = auto()\n",
        "    BQ = auto()\n",
        "    NDP = auto()\n",
        "    GPC = auto()"
      ],
      "execution_count":79,
      "outputs":[
        
      ],
      "metadata":{
        
      }
    },
    {
      "cell_type":"code",
      "source":[
        "Parties.CPC, Parties.LPC"
      ],
      "execution_count":82,
      "outputs":[
        {
          "data":{
            "text\/plain":[
              "(<Parties.CPC: 1>, <Parties.LPC: 2>)"
            ]
          },
          "metadata":{
            
          },
          "output_type":"display_data"
        }
      ],
      "metadata":{
        
      }
    },
    {
      "cell_type":"code",
      "source":[
        "Parties.__members__"
      ],
      "execution_count":84,
      "outputs":[
        {
          "data":{
            "text\/plain":[
              "mappingproxy({'CPC': <Parties.CPC: 1>,\n",
              "              'LPC': <Parties.LPC: 2>,\n",
              "              'BQ': <Parties.BQ: 3>,\n",
              "              'NDP': <Parties.NDP: 4>,\n",
              "              'GPC': <Parties.GPC: 5>})"
            ]
          },
          "metadata":{
            
          },
          "output_type":"display_data"
        }
      ],
      "metadata":{
        
      }
    },
    {
      "cell_type":"code",
      "source":[
        "class Parties(Enum):\n",
        "    CPC = object()\n",
        "    LPC = auto()\n",
        "    BQ = \"The Block\"\n",
        "    NDP = 1\n",
        "    GPC = 2"
      ],
      "execution_count":85,
      "outputs":[
        
      ],
      "metadata":{
        
      }
    },
    {
      "cell_type":"code",
      "source":[
        "Parties.NDP"
      ],
      "execution_count":86,
      "outputs":[
        {
          "data":{
            "text\/plain":[
              "<Parties.LPC: 1>"
            ]
          },
          "metadata":{
            
          },
          "output_type":"display_data"
        }
      ],
      "metadata":{
        
      }
    },
    {
      "cell_type":"code",
      "source":[
        "Parties.LPC"
      ],
      "execution_count":87,
      "outputs":[
        {
          "data":{
            "text\/plain":[
              "<Parties.LPC: 1>"
            ]
          },
          "metadata":{
            
          },
          "output_type":"display_data"
        }
      ],
      "metadata":{
        
      }
    },
    {
      "cell_type":"code",
      "source":[
        "Parties.NDP is Parties.LPC"
      ],
      "execution_count":88,
      "outputs":[
        {
          "data":{
            "text\/plain":[
              "True"
            ]
          },
          "metadata":{
            
          },
          "output_type":"display_data"
        }
      ],
      "metadata":{
        
      }
    },
    {
      "cell_type":"markdown",
      "source":[
        "## `Customizing Next Values`"
      ],
      "attachments":{
        
      },
      "metadata":{
        
      }
    },
    {
      "cell_type":"code",
      "source":[
        "from enum import Enum, auto\n",
        "\n",
        "\n",
        "class Parties(Enum):\n",
        "    CPC = auto()\n",
        "    LPC = auto()\n",
        "    BQ = auto()\n",
        "    NDP = auto()\n",
        "    GPC = auto()"
      ],
      "execution_count":2,
      "outputs":[
        
      ],
      "metadata":{
        
      }
    },
    {
      "cell_type":"code",
      "source":[
        "Parties.CPC.value, Parties.LPC.value"
      ],
      "execution_count":93,
      "outputs":[
        {
          "data":{
            "text\/plain":[
              "(1, 2)"
            ]
          },
          "metadata":{
            
          },
          "output_type":"display_data"
        }
      ],
      "metadata":{
        
      }
    },
    {
      "cell_type":"code",
      "source":[
        "def get_values_for(this_enum):\n",
        "    return list(this_enum._value2member_map_.keys())"
      ],
      "execution_count":6,
      "outputs":[
        
      ],
      "metadata":{
        
      }
    },
    {
      "cell_type":"code",
      "source":[
        "class Parties(Enum):\n",
        "    def _generate_next_value_(name, start, count, last_values):\n",
        "        print(name, start, count, last_values)\n",
        "        return start + count\n",
        "\n",
        "    CPC = auto()\n",
        "    LPC = auto()\n",
        "    BQ = auto()\n",
        "    NDP = auto()\n",
        "    GPC = auto()"
      ],
      "execution_count":11,
      "outputs":[
        {
          "name":"stdout",
          "text":[
            "CPC 1 0 []\n",
            "LPC 1 1 [1]\n",
            "BQ 1 2 [1, 2]\n",
            "NDP 1 3 [1, 2, 3]\n",
            "GPC 1 4 [1, 2, 3, 4]\n"
          ],
          "output_type":"stream"
        }
      ],
      "metadata":{
        
      }
    },
    {
      "cell_type":"code",
      "source":[
        "get_values_for(Parties)"
      ],
      "execution_count":12,
      "outputs":[
        {
          "data":{
            "text\/plain":[
              "[1, 2, 3, 4, 5]"
            ]
          },
          "metadata":{
            
          },
          "output_type":"display_data"
        }
      ],
      "metadata":{
        
      }
    },
    {
      "cell_type":"code",
      "source":[
        "class Parties(Enum):\n",
        "    def _generate_next_value_(name, start, count, last_values):\n",
        "        return object()\n",
        "\n",
        "    CPC = auto()\n",
        "    LPC = auto()\n",
        "    BQ = auto()\n",
        "    NDP = auto()\n",
        "    GPC = auto()"
      ],
      "execution_count":13,
      "outputs":[
        
      ],
      "metadata":{
        
      }
    },
    {
      "cell_type":"code",
      "source":[
        "get_values_for(Parties)"
      ],
      "execution_count":14,
      "outputs":[
        {
          "data":{
            "text\/plain":[
              "[<object at 0x7f40770cb140>,\n",
              " <object at 0x7f40770cb3c0>,\n",
              " <object at 0x7f40770cb7d0>,\n",
              " <object at 0x7f40770cb3f0>,\n",
              " <object at 0x7f40770cb460>]"
            ]
          },
          "metadata":{
            
          },
          "output_type":"display_data"
        }
      ],
      "metadata":{
        
      }
    },
    {
      "cell_type":"code",
      "source":[
        "class CanadianPoliticalParty:\n",
        "    def __init__(self, name):\n",
        "        self.name = name\n",
        "\n",
        "    def __repr__(self):\n",
        "        return f\"{type(self).__name__}({self.name})\""
      ],
      "execution_count":15,
      "outputs":[
        
      ],
      "metadata":{
        
      }
    },
    {
      "cell_type":"code",
      "source":[
        "class Parties(Enum):\n",
        "    def _generate_next_value_(name, start, count, last_values):\n",
        "        return CanadianPoliticalParty(name)\n",
        "\n",
        "    CPC = auto()\n",
        "    LPC = auto()\n",
        "    BQ = auto()\n",
        "    NDP = auto()\n",
        "    GPC = auto()"
      ],
      "execution_count":16,
      "outputs":[
        
      ],
      "metadata":{
        
      }
    },
    {
      "cell_type":"code",
      "source":[
        "get_values_for(Parties)"
      ],
      "execution_count":17,
      "outputs":[
        {
          "data":{
            "text\/plain":[
              "[CanadianPoliticalParty(CPC),\n",
              " CanadianPoliticalParty(LPC),\n",
              " CanadianPoliticalParty(BQ),\n",
              " CanadianPoliticalParty(NDP),\n",
              " CanadianPoliticalParty(GPC)]"
            ]
          },
          "metadata":{
            
          },
          "output_type":"display_data"
        }
      ],
      "metadata":{
        
      }
    },
    {
      "cell_type":"code",
      "source":[
        "class Parties(Enum):\n",
        "    CPC = auto()\n",
        "    LPC = auto()\n",
        "    BQ = auto()\n",
        "    NDP = auto()\n",
        "    GPC = auto()\n",
        "\n",
        "    def _generate_next_value_(name, start, count, last_values):\n",
        "        return CanadianPoliticalParty(name)"
      ],
      "execution_count":18,
      "outputs":[
        {
          "ename":"TypeError",
          "evalue":"TypeError: _generate_next_value_ must be defined before members",
          "traceback":[
            "\u001b[0;31m---------------------------------------------------------------------------",
            "Traceback (most recent call last)",
            "    at line 1 in <module>",
            "    at line 8 in Parties()",
            "TypeError: _generate_next_value_ must be defined before members"
          ],
          "output_type":"error"
        }
      ],
      "metadata":{
        
      }
    },
    {
      "cell_type":"code",
      "source":[
        "class BasePartyEnum(Enum):\n",
        "    def _generate_next_value_(name, start, count, last_values):\n",
        "        return CanadianPoliticalParty(name)\n",
        "\n",
        "class Parties(BasePartyEnum):\n",
        "    CPC = auto()\n",
        "    LPC = auto()\n",
        "    BQ = auto()\n",
        "    NDP = auto()\n",
        "    GPC = auto()"
      ],
      "execution_count":20,
      "outputs":[
        
      ],
      "metadata":{
        
      }
    },
    {
      "cell_type":"code",
      "source":[
        "get_values_for(Parties)"
      ],
      "execution_count":21,
      "outputs":[
        {
          "data":{
            "text\/plain":[
              "[CanadianPoliticalParty(CPC),\n",
              " CanadianPoliticalParty(LPC),\n",
              " CanadianPoliticalParty(BQ),\n",
              " CanadianPoliticalParty(NDP),\n",
              " CanadianPoliticalParty(GPC)]"
            ]
          },
          "metadata":{
            
          },
          "output_type":"display_data"
        }
      ],
      "metadata":{
        
      }
    },
    {
      "cell_type":"code",
      "source":[
        "Parties.__members__"
      ],
      "execution_count":23,
      "outputs":[
        {
          "data":{
            "text\/plain":[
              "mappingproxy({'CPC': <Parties.CPC: CanadianPoliticalParty(CPC)>,\n",
              "              'LPC': <Parties.LPC: CanadianPoliticalParty(LPC)>,\n",
              "              'BQ': <Parties.BQ: CanadianPoliticalParty(BQ)>,\n",
              "              'NDP': <Parties.NDP: CanadianPoliticalParty(NDP)>,\n",
              "              'GPC': <Parties.GPC: CanadianPoliticalParty(GPC)>})"
            ]
          },
          "metadata":{
            
          },
          "output_type":"display_data"
        }
      ],
      "metadata":{
        
      }
    },
    {
      "cell_type":"markdown",
      "source":[
        "## `Extensibility`"
      ],
      "attachments":{
        
      },
      "metadata":{
        
      }
    },
    {
      "cell_type":"code",
      "source":[
        "class Parties(Enum):\n",
        "    CPC = auto()\n",
        "    LPC = auto()\n",
        "    BQ = auto()\n",
        "    NDP = auto()\n",
        "    GPC = auto()\n",
        "    \n",
        "    @property\n",
        "    def is_left(self):\n",
        "        return self in (Parties.LPC, Parties.NDP)"
      ],
      "execution_count":26,
      "outputs":[
        
      ],
      "metadata":{
        
      }
    },
    {
      "cell_type":"code",
      "source":[
        "# left vs right spectrum"
      ],
      "execution_count":25,
      "outputs":[
        
      ],
      "metadata":{
        
      }
    },
    {
      "cell_type":"code",
      "source":[
        "Parties.CPC.is_left"
      ],
      "execution_count":27,
      "outputs":[
        {
          "data":{
            "text\/plain":[
              "False"
            ]
          },
          "metadata":{
            
          },
          "output_type":"display_data"
        }
      ],
      "metadata":{
        
      }
    },
    {
      "cell_type":"code",
      "source":[
        "Parties.LPC.is_left"
      ],
      "execution_count":28,
      "outputs":[
        {
          "data":{
            "text\/plain":[
              "True"
            ]
          },
          "metadata":{
            
          },
          "output_type":"display_data"
        }
      ],
      "metadata":{
        
      }
    },
    {
      "cell_type":"code",
      "source":[
        "def get_values_for(this_enum):\n",
        "    return list(this_enum._value2member_map_.keys())"
      ],
      "execution_count":29,
      "outputs":[
        
      ],
      "metadata":{
        
      }
    },
    {
      "cell_type":"code",
      "source":[
        "get_values_for(Parties)"
      ],
      "execution_count":30,
      "outputs":[
        {
          "data":{
            "text\/plain":[
              "[1, 2, 3, 4, 5]"
            ]
          },
          "metadata":{
            
          },
          "output_type":"display_data"
        }
      ],
      "metadata":{
        
      }
    },
    {
      "cell_type":"code",
      "source":[
        "Parties.__members__"
      ],
      "execution_count":32,
      "outputs":[
        {
          "data":{
            "text\/plain":[
              "mappingproxy({'CPC': <Parties.CPC: 1>,\n",
              "              'LPC': <Parties.LPC: 2>,\n",
              "              'BQ': <Parties.BQ: 3>,\n",
              "              'NDP': <Parties.NDP: 4>,\n",
              "              'GPC': <Parties.GPC: 5>})"
            ]
          },
          "metadata":{
            
          },
          "output_type":"display_data"
        }
      ],
      "metadata":{
        
      }
    },
    {
      "cell_type":"code",
      "source":[
        "Parties._member_names_"
      ],
      "execution_count":33,
      "outputs":[
        {
          "data":{
            "text\/plain":[
              "['CPC', 'LPC', 'BQ', 'NDP', 'GPC']"
            ]
          },
          "metadata":{
            
          },
          "output_type":"display_data"
        }
      ],
      "metadata":{
        
      }
    },
    {
      "cell_type":"code",
      "source":[
        "Parties.values()"
      ],
      "execution_count":35,
      "outputs":[
        {
          "ename":"AttributeError",
          "evalue":"AttributeError: values",
          "traceback":[
            "\u001b[0;31m---------------------------------------------------------------------------",
            "Traceback (most recent call last)",
            "    at line 1 in <module>",
            "AttributeError: values"
          ],
          "output_type":"error"
        }
      ],
      "metadata":{
        
      }
    },
    {
      "cell_type":"code",
      "source":[
        "class Parties(Enum):\n",
        "    CPC = auto()\n",
        "    LPC = auto()\n",
        "    BQ = auto()\n",
        "    NDP = auto()\n",
        "    GPC = auto()\n",
        "    \n",
        "    @property\n",
        "    def is_left(self):\n",
        "        return self in (Parties.LPC, Parties.NDP)\n",
        "\n",
        "    @classmethod\n",
        "    def values(cls):\n",
        "        return [member.value for member in cls]"
      ],
      "execution_count":36,
      "outputs":[
        
      ],
      "metadata":{
        
      }
    },
    {
      "cell_type":"code",
      "source":[
        "Parties.values()"
      ],
      "execution_count":37,
      "outputs":[
        {
          "data":{
            "text\/plain":[
              "[1, 2, 3, 4, 5]"
            ]
          },
          "metadata":{
            
          },
          "output_type":"display_data"
        }
      ],
      "metadata":{
        
      }
    },
    {
      "cell_type":"code",
      "source":[
        "class ProvincialParty(Parties):\n",
        "    pass"
      ],
      "execution_count":38,
      "outputs":[
        {
          "ename":"TypeError",
          "evalue":"TypeError: ProvincialParty: cannot extend enumeration 'Parties'",
          "traceback":[
            "\u001b[0;31m---------------------------------------------------------------------------",
            "Traceback (most recent call last)",
            "    at line 1 in <module>",
            "TypeError: ProvincialParty: cannot extend enumeration 'Parties'"
          ],
          "output_type":"error"
        }
      ],
      "metadata":{
        
      }
    },
    {
      "cell_type":"code",
      "source":[
        "class BaseParty(Enum):\n",
        "    @classmethod\n",
        "    def values(cls):\n",
        "        return [member.value for member in cls]\n",
        "\n",
        "\n",
        "class Parties(BaseParty):\n",
        "    CPC = auto()\n",
        "    LPC = auto()\n",
        "    BQ = auto()\n",
        "    NDP = auto()\n",
        "    GPC = auto()\n",
        "\n",
        "    @property\n",
        "    def is_left(self):\n",
        "        return self in (Parties.LPC, Parties.NDP)"
      ],
      "execution_count":39,
      "outputs":[
        
      ],
      "metadata":{
        
      }
    },
    {
      "cell_type":"code",
      "source":[
        "Parties.values()"
      ],
      "execution_count":40,
      "outputs":[
        {
          "data":{
            "text\/plain":[
              "[1, 2, 3, 4, 5]"
            ]
          },
          "metadata":{
            
          },
          "output_type":"display_data"
        }
      ],
      "metadata":{
        
      }
    },
    {
      "cell_type":"code",
      "source":[
        "Parties.CPC.is_left"
      ],
      "execution_count":41,
      "outputs":[
        {
          "data":{
            "text\/plain":[
              "False"
            ]
          },
          "metadata":{
            
          },
          "output_type":"display_data"
        }
      ],
      "metadata":{
        
      }
    },
    {
      "cell_type":"markdown",
      "source":[
        "## `Flags`"
      ],
      "attachments":{
        
      },
      "metadata":{
        
      }
    },
    {
      "cell_type":"code",
      "source":[
        "class Parties(Enum):\n",
        "    CPC = auto()\n",
        "    LPC = auto()\n",
        "    BQ = auto()\n",
        "    NDP = auto()\n",
        "    GPC = auto()"
      ],
      "execution_count":42,
      "outputs":[
        
      ],
      "metadata":{
        
      }
    },
    {
      "cell_type":"code",
      "source":[
        "# bitmasks"
      ],
      "execution_count":43,
      "outputs":[
        
      ],
      "metadata":{
        
      }
    },
    {
      "cell_type":"code",
      "source":[
        "from enum import Flag"
      ],
      "execution_count":47,
      "outputs":[
        
      ],
      "metadata":{
        
      }
    },
    {
      "cell_type":"code",
      "source":[
        "class Style(Flag):\n",
        "    ITALIC = auto()\n",
        "    BOLD = auto()\n",
        "    UNDERLINE = auto()\n",
        "    SUPERSCRIPT = auto()\n",
        "    SUBSCRIPT = auto()"
      ],
      "execution_count":48,
      "outputs":[
        
      ],
      "metadata":{
        
      }
    },
    {
      "cell_type":"code",
      "source":[
        "Style._value2member_map_"
      ],
      "execution_count":49,
      "outputs":[
        {
          "data":{
            "text\/plain":[
              "{1: <Style.ITALIC: 1>,\n",
              " 2: <Style.BOLD: 2>,\n",
              " 4: <Style.UNDERLINE: 4>,\n",
              " 8: <Style.SUPERSCRIPT: 8>,\n",
              " 16: <Style.SUBSCRIPT: 16>}"
            ]
          },
          "metadata":{
            
          },
          "output_type":"display_data"
        }
      ],
      "metadata":{
        
      }
    },
    {
      "cell_type":"code",
      "source":[
        "# text_style_state = 10"
      ],
      "execution_count":46,
      "outputs":[
        
      ],
      "metadata":{
        
      }
    },
    {
      "cell_type":"markdown",
      "source":[
        "## `Bitmasks`"
      ],
      "attachments":{
        
      },
      "metadata":{
        
      }
    },
    {
      "cell_type":"code",
      "source":[
        "from enum import Flag, auto\n",
        "\n",
        "class Style(Flag):\n",
        "    ITALIC = auto()\n",
        "    BOLD = auto()\n",
        "    UNDERLINE = auto()\n",
        "    SUPERSCRIPT = auto()\n",
        "    SUBSCRIPT = auto()"
      ],
      "execution_count":3,
      "outputs":[
        
      ],
      "metadata":{
        
      }
    },
    {
      "cell_type":"code",
      "source":[
        "Style._value2member_map_"
      ],
      "execution_count":4,
      "outputs":[
        {
          "data":{
            "text\/plain":[
              "{1: <Style.ITALIC: 1>,\n",
              " 2: <Style.BOLD: 2>,\n",
              " 4: <Style.UNDERLINE: 4>,\n",
              " 8: <Style.SUPERSCRIPT: 8>,\n",
              " 16: <Style.SUBSCRIPT: 16>}"
            ]
          },
          "metadata":{
            
          },
          "output_type":"display_data"
        }
      ],
      "metadata":{
        
      }
    },
    {
      "cell_type":"code",
      "source":[
        "# | (OR)\n",
        "# ~ (NOT)\n",
        "# & (AND)\n",
        "# ^ (XOR)"
      ],
      "execution_count":5,
      "outputs":[
        
      ],
      "metadata":{
        
      }
    },
    {
      "cell_type":"code",
      "source":[
        "1 | 4"
      ],
      "execution_count":6,
      "outputs":[
        {
          "data":{
            "text\/plain":[
              "5"
            ]
          },
          "metadata":{
            
          },
          "output_type":"display_data"
        }
      ],
      "metadata":{
        
      }
    },
    {
      "cell_type":"code",
      "source":[
        "Style.ITALIC | Style.UNDERLINE"
      ],
      "execution_count":7,
      "outputs":[
        {
          "data":{
            "text\/plain":[
              "<Style.UNDERLINE|ITALIC: 5>"
            ]
          },
          "metadata":{
            
          },
          "output_type":"display_data"
        }
      ],
      "metadata":{
        
      }
    },
    {
      "cell_type":"code",
      "source":[
        "~ Style.ITALIC"
      ],
      "execution_count":8,
      "outputs":[
        {
          "data":{
            "text\/plain":[
              "<Style.SUBSCRIPT|SUPERSCRIPT|UNDERLINE|BOLD: 30>"
            ]
          },
          "metadata":{
            
          },
          "output_type":"display_data"
        }
      ],
      "metadata":{
        
      }
    },
    {
      "cell_type":"code",
      "source":[
        "a = Style.ITALIC | Style.UNDERLINE\n",
        "\n",
        "b = Style.UNDERLINE"
      ],
      "execution_count":9,
      "outputs":[
        
      ],
      "metadata":{
        
      }
    },
    {
      "cell_type":"code",
      "source":[
        "a & b"
      ],
      "execution_count":10,
      "outputs":[
        {
          "data":{
            "text\/plain":[
              "<Style.UNDERLINE: 4>"
            ]
          },
          "metadata":{
            
          },
          "output_type":"display_data"
        }
      ],
      "metadata":{
        
      }
    },
    {
      "cell_type":"code",
      "source":[
        "a = Style.ITALIC | Style.UNDERLINE\n",
        "b = Style.UNDERLINE | Style.SUBSCRIPT\n",
        "\n",
        "a ^ b"
      ],
      "execution_count":12,
      "outputs":[
        {
          "data":{
            "text\/plain":[
              "<Style.SUBSCRIPT|ITALIC: 17>"
            ]
          },
          "metadata":{
            
          },
          "output_type":"display_data"
        }
      ],
      "metadata":{
        
      }
    },
    {
      "cell_type":"code",
      "source":[
        "# style set with this interface: +, -, in"
      ],
      "execution_count":15,
      "outputs":[
        
      ],
      "metadata":{
        
      }
    },
    {
      "cell_type":"code",
      "source":[
        "class TextStyleSet:\n",
        "    def __init__(self, *styles):\n",
        "        self._text_styles = Style(0)\n",
        "\n",
        "        for style in styles:\n",
        "            self._text_styles |= style\n",
        "\n",
        "    def __repr__(self):\n",
        "        return f\"{type(self).__name__}({self._text_styles})\"\n",
        "\n",
        "    def __add__(self, other):\n",
        "        if type(other) == Style:\n",
        "            self._text_styles |= other\n",
        "            return self\n",
        "\n",
        "        return NotImplemented\n",
        "\n",
        "    def __sub__(self, other):\n",
        "        if type(other) == Style:\n",
        "            self._text_styles &= ~other\n",
        "            return self\n",
        "\n",
        "        return NotImplemented\n",
        "\n",
        "    def __contains__(self, item):\n",
        "        if type(item) == Style:\n",
        "            return self._text_styles & item"
      ],
      "execution_count":28,
      "outputs":[
        
      ],
      "metadata":{
        
      }
    },
    {
      "cell_type":"code",
      "source":[
        "TextStyleSet(Style.ITALIC)"
      ],
      "execution_count":22,
      "outputs":[
        {
          "data":{
            "text\/plain":[
              "TextStyleSet(Style.ITALIC)"
            ]
          },
          "metadata":{
            
          },
          "output_type":"display_data"
        }
      ],
      "metadata":{
        
      }
    },
    {
      "cell_type":"code",
      "source":[
        "TextStyleSet(Style.ITALIC, Style.BOLD) + Style.UNDERLINE"
      ],
      "execution_count":23,
      "outputs":[
        {
          "data":{
            "text\/plain":[
              "TextStyleSet(Style.UNDERLINE|BOLD|ITALIC)"
            ]
          },
          "metadata":{
            
          },
          "output_type":"display_data"
        }
      ],
      "metadata":{
        
      }
    },
    {
      "cell_type":"code",
      "source":[
        "TextStyleSet(Style.ITALIC, Style.BOLD) + Style.UNDERLINE - Style.ITALIC"
      ],
      "execution_count":26,
      "outputs":[
        {
          "data":{
            "text\/plain":[
              "TextStyleSet(Style.UNDERLINE|BOLD)"
            ]
          },
          "metadata":{
            
          },
          "output_type":"display_data"
        }
      ],
      "metadata":{
        
      }
    },
    {
      "cell_type":"code",
      "source":[
        "Style.BOLD in TextStyleSet(Style.ITALIC)"
      ],
      "execution_count":29,
      "outputs":[
        {
          "data":{
            "text\/plain":[
              "False"
            ]
          },
          "metadata":{
            
          },
          "output_type":"display_data"
        }
      ],
      "metadata":{
        
      }
    },
    {
      "cell_type":"code",
      "source":[
        "Style.BOLD in TextStyleSet(Style.ITALIC, Style.BOLD)"
      ],
      "execution_count":31,
      "outputs":[
        {
          "data":{
            "text\/plain":[
              "True"
            ]
          },
          "metadata":{
            
          },
          "output_type":"display_data"
        }
      ],
      "metadata":{
        
      }
    },
    {
      "cell_type":"markdown",
      "source":[
        "## `BONUS: How Bitwise Works`"
      ],
      "attachments":{
        
      },
      "metadata":{
        
      }
    },
    {
      "cell_type":"code",
      "source":[
        "# bitwise -> operating on bits"
      ],
      "execution_count":32,
      "outputs":[
        
      ],
      "metadata":{
        
      }
    },
    {
      "cell_type":"code",
      "source":[
        "# bits -> 1s and 0s"
      ],
      "execution_count":1,
      "outputs":[
        
      ],
      "metadata":{
        
      }
    },
    {
      "cell_type":"code",
      "source":[
        "# 4 (decimal)"
      ],
      "execution_count":2,
      "outputs":[
        
      ],
      "metadata":{
        
      }
    },
    {
      "cell_type":"code",
      "source":[
        "def get_binary_repr(n):\n",
        "    return f\"{n:08b}\""
      ],
      "execution_count":4,
      "outputs":[
        
      ],
      "metadata":{
        
      }
    },
    {
      "cell_type":"code",
      "source":[
        "get_binary_repr(1), get_binary_repr(4)"
      ],
      "execution_count":7,
      "outputs":[
        {
          "data":{
            "text\/plain":[
              "('00000001', '00000100')"
            ]
          },
          "metadata":{
            
          },
          "output_type":"display_data"
        }
      ],
      "metadata":{
        
      }
    },
    {
      "cell_type":"code",
      "source":[
        "1 & 4"
      ],
      "execution_count":6,
      "outputs":[
        {
          "data":{
            "text\/plain":[
              "0"
            ]
          },
          "metadata":{
            
          },
          "output_type":"display_data"
        }
      ],
      "metadata":{
        
      }
    },
    {
      "cell_type":"code",
      "source":[
        "0 and 1, 0 and 0"
      ],
      "execution_count":9,
      "outputs":[
        {
          "data":{
            "text\/plain":[
              "(0, 0)"
            ]
          },
          "metadata":{
            
          },
          "output_type":"display_data"
        }
      ],
      "metadata":{
        
      }
    },
    {
      "cell_type":"code",
      "source":[
        "# 00000000 -> 0"
      ],
      "execution_count":10,
      "outputs":[
        
      ],
      "metadata":{
        
      }
    },
    {
      "cell_type":"code",
      "source":[
        "import pandas as pd"
      ],
      "execution_count":11,
      "outputs":[
        
      ],
      "metadata":{
        
      }
    },
    {
      "cell_type":"code",
      "source":[
        "def build_table(*nums):\n",
        "    return pd.DataFrame({num: list(get_binary_repr(num)) for num in nums}\n",
        "                , index=sorted(range(8), reverse=True)).transpose()"
      ],
      "execution_count":12,
      "outputs":[
        
      ],
      "metadata":{
        
      }
    },
    {
      "cell_type":"code",
      "source":[
        "build_table(1, 4)"
      ],
      "execution_count":13,
      "outputs":[
        {
          "data":{
            "text\/html":[
              "<div>\n",
              "<style scoped>\n",
              "    .dataframe tbody tr th:only-of-type {\n",
              "        vertical-align: middle;\n",
              "    }\n",
              "\n",
              "    .dataframe tbody tr th {\n",
              "        vertical-align: top;\n",
              "    }\n",
              "\n",
              "    .dataframe thead th {\n",
              "        text-align: right;\n",
              "    }\n",
              "<\/style>\n",
              "<table border=\"1\" class=\"dataframe\">\n",
              "  <thead>\n",
              "    <tr style=\"text-align: right;\">\n",
              "      <th><\/th>\n",
              "      <th>7<\/th>\n",
              "      <th>6<\/th>\n",
              "      <th>5<\/th>\n",
              "      <th>4<\/th>\n",
              "      <th>3<\/th>\n",
              "      <th>2<\/th>\n",
              "      <th>1<\/th>\n",
              "      <th>0<\/th>\n",
              "    <\/tr>\n",
              "  <\/thead>\n",
              "  <tbody>\n",
              "    <tr>\n",
              "      <th>1<\/th>\n",
              "      <td>0<\/td>\n",
              "      <td>0<\/td>\n",
              "      <td>0<\/td>\n",
              "      <td>0<\/td>\n",
              "      <td>0<\/td>\n",
              "      <td>0<\/td>\n",
              "      <td>0<\/td>\n",
              "      <td>1<\/td>\n",
              "    <\/tr>\n",
              "    <tr>\n",
              "      <th>4<\/th>\n",
              "      <td>0<\/td>\n",
              "      <td>0<\/td>\n",
              "      <td>0<\/td>\n",
              "      <td>0<\/td>\n",
              "      <td>0<\/td>\n",
              "      <td>1<\/td>\n",
              "      <td>0<\/td>\n",
              "      <td>0<\/td>\n",
              "    <\/tr>\n",
              "  <\/tbody>\n",
              "<\/table>\n",
              "<\/div>"
            ]
          },
          "metadata":{
            
          },
          "output_type":"display_data"
        }
      ],
      "metadata":{
        
      }
    },
    {
      "cell_type":"code",
      "source":[
        "# 1 & 4 -> 0\n",
        "# 1 | 4 = 2**2 + 2**0 = 5"
      ],
      "execution_count":19,
      "outputs":[
        
      ],
      "metadata":{
        
      }
    },
    {
      "cell_type":"code",
      "source":[
        "2**2 + 2**0 "
      ],
      "execution_count":17,
      "outputs":[
        {
          "data":{
            "text\/plain":[
              "5"
            ]
          },
          "metadata":{
            
          },
          "output_type":"display_data"
        }
      ],
      "metadata":{
        
      }
    },
    {
      "cell_type":"code",
      "source":[
        "build_table(1, 7)"
      ],
      "execution_count":20,
      "outputs":[
        {
          "data":{
            "text\/html":[
              "<div>\n",
              "<style scoped>\n",
              "    .dataframe tbody tr th:only-of-type {\n",
              "        vertical-align: middle;\n",
              "    }\n",
              "\n",
              "    .dataframe tbody tr th {\n",
              "        vertical-align: top;\n",
              "    }\n",
              "\n",
              "    .dataframe thead th {\n",
              "        text-align: right;\n",
              "    }\n",
              "<\/style>\n",
              "<table border=\"1\" class=\"dataframe\">\n",
              "  <thead>\n",
              "    <tr style=\"text-align: right;\">\n",
              "      <th><\/th>\n",
              "      <th>7<\/th>\n",
              "      <th>6<\/th>\n",
              "      <th>5<\/th>\n",
              "      <th>4<\/th>\n",
              "      <th>3<\/th>\n",
              "      <th>2<\/th>\n",
              "      <th>1<\/th>\n",
              "      <th>0<\/th>\n",
              "    <\/tr>\n",
              "  <\/thead>\n",
              "  <tbody>\n",
              "    <tr>\n",
              "      <th>1<\/th>\n",
              "      <td>0<\/td>\n",
              "      <td>0<\/td>\n",
              "      <td>0<\/td>\n",
              "      <td>0<\/td>\n",
              "      <td>0<\/td>\n",
              "      <td>0<\/td>\n",
              "      <td>0<\/td>\n",
              "      <td>1<\/td>\n",
              "    <\/tr>\n",
              "    <tr>\n",
              "      <th>7<\/th>\n",
              "      <td>0<\/td>\n",
              "      <td>0<\/td>\n",
              "      <td>0<\/td>\n",
              "      <td>0<\/td>\n",
              "      <td>0<\/td>\n",
              "      <td>1<\/td>\n",
              "      <td>1<\/td>\n",
              "      <td>1<\/td>\n",
              "    <\/tr>\n",
              "  <\/tbody>\n",
              "<\/table>\n",
              "<\/div>"
            ]
          },
          "metadata":{
            
          },
          "output_type":"display_data"
        }
      ],
      "metadata":{
        
      }
    },
    {
      "cell_type":"code",
      "source":[
        "1 | 7"
      ],
      "execution_count":21,
      "outputs":[
        {
          "data":{
            "text\/plain":[
              "7"
            ]
          },
          "metadata":{
            
          },
          "output_type":"display_data"
        }
      ],
      "metadata":{
        
      }
    },
    {
      "cell_type":"code",
      "source":[
        "1 ^ 7"
      ],
      "execution_count":22,
      "outputs":[
        {
          "data":{
            "text\/plain":[
              "6"
            ]
          },
          "metadata":{
            
          },
          "output_type":"display_data"
        }
      ],
      "metadata":{
        
      }
    },
    {
      "cell_type":"code",
      "source":[
        "2 ** 2 + 2**1 "
      ],
      "execution_count":23,
      "outputs":[
        {
          "data":{
            "text\/plain":[
              "6"
            ]
          },
          "metadata":{
            
          },
          "output_type":"display_data"
        }
      ],
      "metadata":{
        
      }
    },
    {
      "cell_type":"code",
      "source":[
        
      ],
      "execution_count":0,
      "outputs":[
        
      ],
      "metadata":{
        
      }
    },
    {
      "cell_type":"code",
      "source":[
        
      ],
      "execution_count":0,
      "outputs":[
        
      ],
      "metadata":{
        
      }
    },
    {
      "cell_type":"code",
      "source":[
        
      ],
      "execution_count":0,
      "outputs":[
        
      ],
      "metadata":{
        
      }
    },
    {
      "cell_type":"code",
      "source":[
        
      ],
      "execution_count":0,
      "outputs":[
        
      ],
      "metadata":{
        
      }
    },
    {
      "cell_type":"code",
      "source":[
        
      ],
      "execution_count":0,
      "outputs":[
        
      ],
      "metadata":{
        
      }
    },
    {
      "cell_type":"code",
      "source":[
        
      ],
      "execution_count":0,
      "outputs":[
        
      ],
      "metadata":{
        
      }
    },
    {
      "cell_type":"code",
      "source":[
        
      ],
      "execution_count":0,
      "outputs":[
        
      ],
      "metadata":{
        
      }
    },
    {
      "cell_type":"code",
      "source":[
        
      ],
      "execution_count":0,
      "outputs":[
        
      ],
      "metadata":{
        
      }
    },
    {
      "cell_type":"code",
      "source":[
        
      ],
      "execution_count":0,
      "outputs":[
        
      ],
      "metadata":{
        
      }
    },
    {
      "cell_type":"code",
      "source":[
        
      ],
      "execution_count":0,
      "outputs":[
        
      ],
      "metadata":{
        
      }
    },
    {
      "cell_type":"code",
      "source":[
        
      ],
      "execution_count":0,
      "outputs":[
        
      ],
      "metadata":{
        
      }
    },
    {
      "cell_type":"code",
      "source":[
        
      ],
      "execution_count":0,
      "outputs":[
        
      ],
      "metadata":{
        
      }
    },
    {
      "cell_type":"code",
      "source":[
        
      ],
      "execution_count":0,
      "outputs":[
        
      ],
      "metadata":{
        
      }
    },
    {
      "cell_type":"code",
      "source":[
        
      ],
      "execution_count":0,
      "outputs":[
        
      ],
      "metadata":{
        
      }
    },
    {
      "cell_type":"code",
      "source":[
        
      ],
      "execution_count":0,
      "outputs":[
        
      ],
      "metadata":{
        
      }
    },
    {
      "cell_type":"code",
      "source":[
        
      ],
      "execution_count":0,
      "outputs":[
        
      ],
      "metadata":{
        
      }
    },
    {
      "cell_type":"code",
      "source":[
        
      ],
      "execution_count":0,
      "outputs":[
        
      ],
      "metadata":{
        
      }
    },
    {
      "cell_type":"code",
      "source":[
        
      ],
      "execution_count":0,
      "outputs":[
        
      ],
      "metadata":{
        
      }
    },
    {
      "cell_type":"code",
      "source":[
        
      ],
      "execution_count":41,
      "outputs":[
        
      ],
      "metadata":{
        
      }
    },
    {
      "cell_type":"code",
      "source":[
        
      ],
      "execution_count":0,
      "outputs":[
        
      ],
      "metadata":{
        
      }
    }
  ],
  "metadata":{
    
  },
  "nbformat":4,
  "nbformat_minor":0
}